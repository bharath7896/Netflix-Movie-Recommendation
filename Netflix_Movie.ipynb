{
 "cells": [
  {
   "cell_type": "markdown",
   "metadata": {
    "colab_type": "text",
    "id": "4NO_EYqixrjc"
   },
   "source": [
    "<img src='images/netflix-q.jpg'>"
   ]
  },
  {
   "cell_type": "markdown",
   "metadata": {
    "colab_type": "text",
    "id": "1kmagNKcxrjf"
   },
   "source": [
    "<h1>1. Business Problem </h1>"
   ]
  },
  {
   "cell_type": "markdown",
   "metadata": {
    "colab_type": "text",
    "id": "7clD4Lcyxrjg"
   },
   "source": [
    "<h2> 1.1 Problem Description </h2>"
   ]
  },
  {
   "cell_type": "markdown",
   "metadata": {
    "colab_type": "text",
    "id": "0ziEM4YZxrji"
   },
   "source": [
    "<p>\n",
    "Netflix is all about connecting people to the movies they love. To help customers find those movies, they developed world-class movie recommendation system: CinematchSM. Its job is to predict whether someone will enjoy a movie based on how much they liked or disliked other movies. Netflix use those predictions to make personal movie recommendations based on each customer’s unique tastes. And while <b>Cinematch</b> is doing pretty well, it can always be made better.\n",
    "</p>\n",
    "<p>Now there are a lot of interesting alternative approaches to how Cinematch works that netflix haven’t tried. Some are described in the literature, some aren’t. We’re curious whether any of these can beat Cinematch by making better predictions. Because, frankly, if there is a much better approach it could make a big difference to our customers and our business.</p>\n",
    "<p> Credits: https://www.netflixprize.com/rules.html </p>"
   ]
  },
  {
   "cell_type": "markdown",
   "metadata": {
    "colab_type": "text",
    "id": "txuaAQapxrjk"
   },
   "source": [
    "<h2> 1.2 Problem Statement </h2>"
   ]
  },
  {
   "cell_type": "markdown",
   "metadata": {
    "colab_type": "text",
    "id": "5v50M1Zbxrjl"
   },
   "source": [
    "<p>\n",
    "Netflix provided a lot of anonymous rating data, and a prediction accuracy bar that is 10% better than what Cinematch can do on the same training data set. (Accuracy is a measurement of how closely predicted ratings of movies match subsequent actual ratings.) \n",
    "</p>"
   ]
  },
  {
   "cell_type": "markdown",
   "metadata": {
    "colab_type": "text",
    "id": "Na0e6yL_xrjn"
   },
   "source": [
    "<h2> 1.3 Sources </h2>"
   ]
  },
  {
   "cell_type": "markdown",
   "metadata": {
    "colab_type": "text",
    "id": "9FlrEeXhxrjo"
   },
   "source": [
    "<ul>\n",
    "<li> https://www.netflixprize.com/rules.html</li>\n",
    "<li> https://www.kaggle.com/netflix-inc/netflix-prize-data</li>\n",
    "<li> Netflix blog: https://medium.com/netflix-techblog/netflix-recommendations-beyond-the-5-stars-part-1-55838468f429 (very nice blog)</li>\n",
    "<li>surprise library: http://surpriselib.com/ (we use many models from this library)</li>\n",
    "<li>surprise library doc: http://surprise.readthedocs.io/en/stable/getting_started.html (we use many models from this library)</li>\n",
    "<li>installing surprise: https://github.com/NicolasHug/Surprise#installation </li>\n",
    "<li> Research paper: http://courses.ischool.berkeley.edu/i290-dm/s11/SECURE/a1-koren.pdf (most of our work was inspired by this paper)</li>\n",
    "<li> SVD Decomposition : https://www.youtube.com/watch?v=P5mlg91as1c </li>\n",
    "</ul>"
   ]
  },
  {
   "cell_type": "markdown",
   "metadata": {
    "colab_type": "text",
    "id": "7MrYkpDqxrjq"
   },
   "source": [
    "<h2>1.4 Real world/Business Objectives and constraints  </h2>"
   ]
  },
  {
   "cell_type": "markdown",
   "metadata": {
    "colab_type": "text",
    "id": "qU2RiBYSxrjs"
   },
   "source": [
    "Objectives:\n",
    "1. Predict the rating that a user would give to a movie that he ahs not yet rated.\n",
    "2. Minimize the difference between predicted and actual rating (RMSE and MAPE)\n",
    "<br>\n",
    "\n",
    "Constraints:\n",
    "1. Some form of interpretability."
   ]
  },
  {
   "cell_type": "markdown",
   "metadata": {
    "colab_type": "text",
    "id": "OHaMsF48xrju"
   },
   "source": [
    "<h1> 2. Machine Learning Problem </h1>"
   ]
  },
  {
   "cell_type": "markdown",
   "metadata": {
    "colab_type": "text",
    "id": "ZvI3c9Nzxrjv"
   },
   "source": [
    "<h2>2.1 Data </h2>"
   ]
  },
  {
   "cell_type": "markdown",
   "metadata": {
    "colab_type": "text",
    "id": "HumNBQ7Bxrjx"
   },
   "source": [
    "<h3> 2.1.1 Data Overview </h3>"
   ]
  },
  {
   "cell_type": "markdown",
   "metadata": {
    "colab_type": "text",
    "id": "VE1V4-Twxrjz"
   },
   "source": [
    "<p> Get the data from : https://www.kaggle.com/netflix-inc/netflix-prize-data/data </p>\n",
    "<p> Data files : \n",
    "<ul> \n",
    "<li> combined_data_1.txt </li>\n",
    "<li> combined_data_2.txt </li>\n",
    "<li> combined_data_3.txt </li>\n",
    "<li> combined_data_4.txt </li>\n",
    "<li> movie_titles.csv </li>\n",
    "</ul>\n",
    "<pre>  \n",
    "The first line of each file [combined_data_1.txt, combined_data_2.txt, combined_data_3.txt, combined_data_4.txt] contains the movie id followed by a colon. Each subsequent line in the file corresponds to a rating from a customer and its date in the following format:\n",
    "\n",
    "CustomerID,Rating,Date\n",
    "\n",
    "MovieIDs range from 1 to 17770 sequentially.\n",
    "CustomerIDs range from 1 to 2649429, with gaps. There are 480189 users.\n",
    "Ratings are on a five star (integral) scale from 1 to 5.\n",
    "Dates have the format YYYY-MM-DD.\n",
    "</pre>"
   ]
  },
  {
   "cell_type": "markdown",
   "metadata": {
    "colab_type": "text",
    "id": "oyEGal9sxrj0"
   },
   "source": [
    "<h3> 2.1.2 Example Data point </h3>"
   ]
  },
  {
   "cell_type": "markdown",
   "metadata": {
    "colab_type": "text",
    "id": "-7vD4mHyxrj3"
   },
   "source": [
    "<pre>\n",
    "1:\n",
    "1488844,3,2005-09-06\n",
    "822109,5,2005-05-13\n",
    "885013,4,2005-10-19\n",
    "30878,4,2005-12-26\n",
    "823519,3,2004-05-03\n",
    "893988,3,2005-11-17\n",
    "124105,4,2004-08-05\n",
    "1248029,3,2004-04-22\n",
    "1842128,4,2004-05-09\n",
    "2238063,3,2005-05-11\n",
    "1503895,4,2005-05-19\n",
    "2207774,5,2005-06-06\n",
    "2590061,3,2004-08-12\n",
    "2442,3,2004-04-14\n",
    "543865,4,2004-05-28\n",
    "1209119,4,2004-03-23\n",
    "804919,4,2004-06-10\n",
    "1086807,3,2004-12-28\n",
    "1711859,4,2005-05-08\n",
    "372233,5,2005-11-23\n",
    "1080361,3,2005-03-28\n",
    "1245640,3,2005-12-19\n",
    "558634,4,2004-12-14\n",
    "2165002,4,2004-04-06\n",
    "1181550,3,2004-02-01\n",
    "1227322,4,2004-02-06\n",
    "427928,4,2004-02-26\n",
    "814701,5,2005-09-29\n",
    "808731,4,2005-10-31\n",
    "662870,5,2005-08-24\n",
    "337541,5,2005-03-23\n",
    "786312,3,2004-11-16\n",
    "1133214,4,2004-03-07\n",
    "1537427,4,2004-03-29\n",
    "1209954,5,2005-05-09\n",
    "2381599,3,2005-09-12\n",
    "525356,2,2004-07-11\n",
    "1910569,4,2004-04-12\n",
    "2263586,4,2004-08-20\n",
    "2421815,2,2004-02-26\n",
    "1009622,1,2005-01-19\n",
    "1481961,2,2005-05-24\n",
    "401047,4,2005-06-03\n",
    "2179073,3,2004-08-29\n",
    "1434636,3,2004-05-01\n",
    "93986,5,2005-10-06\n",
    "1308744,5,2005-10-29\n",
    "2647871,4,2005-12-30\n",
    "1905581,5,2005-08-16\n",
    "2508819,3,2004-05-18\n",
    "1578279,1,2005-05-19\n",
    "1159695,4,2005-02-15\n",
    "2588432,3,2005-03-31\n",
    "2423091,3,2005-09-12\n",
    "470232,4,2004-04-08\n",
    "2148699,2,2004-06-05\n",
    "1342007,3,2004-07-16\n",
    "466135,4,2004-07-13\n",
    "2472440,3,2005-08-13\n",
    "1283744,3,2004-04-17\n",
    "1927580,4,2004-11-08\n",
    "716874,5,2005-05-06\n",
    "4326,4,2005-10-29\n",
    "</pre>"
   ]
  },
  {
   "cell_type": "markdown",
   "metadata": {
    "colab_type": "text",
    "id": "vJAMqwT0xrj5"
   },
   "source": [
    "<h2>2.2 Mapping the real world problem to a Machine Learning Problem </h2>"
   ]
  },
  {
   "cell_type": "markdown",
   "metadata": {
    "colab_type": "text",
    "id": "SmpWpWWnxrj6"
   },
   "source": [
    "<h3> 2.2.1 Type of Machine Learning Problem </h3>"
   ]
  },
  {
   "cell_type": "markdown",
   "metadata": {
    "colab_type": "text",
    "id": "Cr8wSkj5xrj8"
   },
   "source": [
    "<pre>\n",
    "For a given movie and user we need to predict the rating would be given by him/her to the movie. \n",
    "The given problem is a Recommendation problem \n",
    "It can also seen as a Regression problem \n",
    "</pre>"
   ]
  },
  {
   "cell_type": "markdown",
   "metadata": {
    "colab_type": "text",
    "id": "OTC1X3lZxrj9"
   },
   "source": [
    "<h3> 2.2.2 Performance metric </h3>"
   ]
  },
  {
   "cell_type": "markdown",
   "metadata": {
    "colab_type": "text",
    "id": "2zzpYin-xrj_"
   },
   "source": [
    "<ul>\n",
    "<li> Mean Absolute Percentage Error: https://en.wikipedia.org/wiki/Mean_absolute_percentage_error </li>\n",
    "<li> Root Mean Square Error: https://en.wikipedia.org/wiki/Root-mean-square_deviation </li>\n",
    "</ul>\n"
   ]
  },
  {
   "cell_type": "markdown",
   "metadata": {
    "colab_type": "text",
    "id": "ApZlKG6txrkB"
   },
   "source": [
    "<h3> 2.2.3 Machine Learning Objective and Constraints </h3>"
   ]
  },
  {
   "cell_type": "markdown",
   "metadata": {
    "colab_type": "text",
    "id": "nPmLCDJ3xrkC"
   },
   "source": [
    "1. Minimize RMSE.\n",
    "2. Try to provide some interpretability."
   ]
  },
  {
   "cell_type": "code",
   "execution_count": 223,
   "metadata": {
    "colab": {},
    "colab_type": "code",
    "id": "SOP8G-jbxrkF"
   },
   "outputs": [],
   "source": [
    "# this is just to know how much time will it take to run this entire ipython notebook \n",
    "from datetime import datetime\n",
    "globalstart = datetime.now()\n",
    "import pandas as pd\n",
    "import numpy as np\n",
    "import matplotlib\n",
    "matplotlib.use('nbagg')\n",
    "\n",
    "import matplotlib.pyplot as plt\n",
    "plt.rcParams.update({'figure.max_open_warning': 0})\n",
    "\n",
    "import seaborn as sns\n",
    "sns.set_style('whitegrid')\n",
    "import os\n",
    "from scipy import sparse\n",
    "from scipy.sparse import csr_matrix\n",
    "\n",
    "from sklearn.decomposition import TruncatedSVD\n",
    "from sklearn.metrics.pairwise import cosine_similarity\n",
    "import random"
   ]
  },
  {
   "cell_type": "markdown",
   "metadata": {
    "colab_type": "text",
    "id": "lVyeqDMqxrkO"
   },
   "source": [
    "<h1> 3. Exploratory Data Analysis </h1>"
   ]
  },
  {
   "cell_type": "markdown",
   "metadata": {
    "colab_type": "text",
    "id": "hOBwSU1yxrkP"
   },
   "source": [
    "<h2> 3.1 Preprocessing</h2> "
   ]
  },
  {
   "cell_type": "markdown",
   "metadata": {
    "colab_type": "text",
    "id": "e6rSOBxIxrkR"
   },
   "source": [
    "<h3>3.1.1 Converting / Merging whole data to required format: u_i, m_j, r_ij</h3>"
   ]
  },
  {
   "cell_type": "code",
   "execution_count": 3,
   "metadata": {
    "colab": {},
    "colab_type": "code",
    "id": "ijAmOSzsxrkS",
    "outputId": "70c17ed1-22c7-4938-ccec-26af46e51fa6"
   },
   "outputs": [
    {
     "name": "stdout",
     "output_type": "stream",
     "text": [
      "Time taken : 0:00:00.000302\n"
     ]
    }
   ],
   "source": [
    "start = datetime.now()\n",
    "if not os.path.isfile('data.csv'):\n",
    "    # Create a file 'data.csv' before reading it\n",
    "    # Read all the files in netflix and store them in one big file('data.csv')\n",
    "    # We re reading from each of the four files and appendig each rating to a global file 'train.csv'\n",
    "    data = open('data.csv', mode='w')\n",
    "    \n",
    "    row = list()\n",
    "    files=['data_folder/combined_data_1.txt','data_folder/combined_data_2.txt', \n",
    "           'data_folder/combined_data_3.txt', 'data_folder/combined_data_4.txt']\n",
    "    for file in files:\n",
    "        print(\"Reading ratings from {}...\".format(file))\n",
    "        with open(file) as f:\n",
    "            for line in f: \n",
    "                del row[:] # you don't have to do this.\n",
    "                line = line.strip()\n",
    "                if line.endswith(':'):\n",
    "                    # All below are ratings for this movie, until another movie appears.\n",
    "                    movie_id = line.replace(':', '')\n",
    "                else:\n",
    "                    row = [x for x in line.split(',')]\n",
    "                    row.insert(0, movie_id)\n",
    "                    data.write(','.join(row))\n",
    "                    data.write('\\n')\n",
    "        print(\"Done.\\n\")\n",
    "    data.close()\n",
    "print('Time taken :', datetime.now() - start)"
   ]
  },
  {
   "cell_type": "markdown",
   "metadata": {
    "colab_type": "text",
    "id": "TWny3evQxrkb"
   },
   "source": [
    " "
   ]
  },
  {
   "cell_type": "code",
   "execution_count": 4,
   "metadata": {
    "colab": {},
    "colab_type": "code",
    "id": "HecSc3oXxrkd",
    "outputId": "8a5b70c4-ba43-4ecf-bbb3-e711aa78855a"
   },
   "outputs": [
    {
     "name": "stdout",
     "output_type": "stream",
     "text": [
      "creating the dataframe from data.csv file..\n"
     ]
    },
    {
     "name": "stderr",
     "output_type": "stream",
     "text": [
      "/opt/anaconda3/lib/python3.7/site-packages/IPython/core/interactiveshell.py:3051: DtypeWarning: Columns (0) have mixed types. Specify dtype option on import or set low_memory=False.\n",
      "  interactivity=interactivity, compiler=compiler, result=result)\n"
     ]
    },
    {
     "name": "stdout",
     "output_type": "stream",
     "text": [
      "Done.\n",
      "\n",
      "Sorting the dataframe by date..\n",
      "Done..\n"
     ]
    }
   ],
   "source": [
    "print(\"creating the dataframe from data.csv file..\")\n",
    "df = pd.read_csv('data.csv', sep=',', \n",
    "                       names=['movie', 'user','rating','date'])\n",
    "df.date = pd.to_datetime(df.date)\n",
    "print('Done.\\n')\n",
    "\n",
    "# we are arranging the ratings according to time.\n",
    "print('Sorting the dataframe by date..')\n",
    "df.sort_values(by='date', inplace=True)\n",
    "print('Done..')"
   ]
  },
  {
   "cell_type": "code",
   "execution_count": 5,
   "metadata": {
    "colab": {},
    "colab_type": "code",
    "id": "GkhBmOCoxrkk",
    "outputId": "d4219b8c-ab61-4562-f521-8e7563295d2f"
   },
   "outputs": [
    {
     "data": {
      "text/html": [
       "<div>\n",
       "<style scoped>\n",
       "    .dataframe tbody tr th:only-of-type {\n",
       "        vertical-align: middle;\n",
       "    }\n",
       "\n",
       "    .dataframe tbody tr th {\n",
       "        vertical-align: top;\n",
       "    }\n",
       "\n",
       "    .dataframe thead th {\n",
       "        text-align: right;\n",
       "    }\n",
       "</style>\n",
       "<table border=\"1\" class=\"dataframe\">\n",
       "  <thead>\n",
       "    <tr style=\"text-align: right;\">\n",
       "      <th></th>\n",
       "      <th>movie</th>\n",
       "      <th>user</th>\n",
       "      <th>rating</th>\n",
       "      <th>date</th>\n",
       "    </tr>\n",
       "  </thead>\n",
       "  <tbody>\n",
       "    <tr>\n",
       "      <th>0</th>\n",
       "      <td>9211:</td>\n",
       "      <td>NaN</td>\n",
       "      <td>NaN</td>\n",
       "      <td>NaT</td>\n",
       "    </tr>\n",
       "    <tr>\n",
       "      <th>1</th>\n",
       "      <td>1277134</td>\n",
       "      <td>1.0</td>\n",
       "      <td>2003-12-02</td>\n",
       "      <td>NaT</td>\n",
       "    </tr>\n",
       "    <tr>\n",
       "      <th>2</th>\n",
       "      <td>2435457</td>\n",
       "      <td>2.0</td>\n",
       "      <td>2005-06-01</td>\n",
       "      <td>NaT</td>\n",
       "    </tr>\n",
       "    <tr>\n",
       "      <th>3</th>\n",
       "      <td>2338545</td>\n",
       "      <td>3.0</td>\n",
       "      <td>2001-02-17</td>\n",
       "      <td>NaT</td>\n",
       "    </tr>\n",
       "    <tr>\n",
       "      <th>4</th>\n",
       "      <td>2218269</td>\n",
       "      <td>1.0</td>\n",
       "      <td>2002-12-27</td>\n",
       "      <td>NaT</td>\n",
       "    </tr>\n",
       "  </tbody>\n",
       "</table>\n",
       "</div>"
      ],
      "text/plain": [
       "     movie  user      rating date\n",
       "0    9211:   NaN         NaN  NaT\n",
       "1  1277134   1.0  2003-12-02  NaT\n",
       "2  2435457   2.0  2005-06-01  NaT\n",
       "3  2338545   3.0  2001-02-17  NaT\n",
       "4  2218269   1.0  2002-12-27  NaT"
      ]
     },
     "execution_count": 5,
     "metadata": {},
     "output_type": "execute_result"
    }
   ],
   "source": [
    "df.head()"
   ]
  },
  {
   "cell_type": "code",
   "execution_count": 6,
   "metadata": {},
   "outputs": [],
   "source": [
    "# removing the : in the movie column \n",
    "import regex as re\n",
    "df.movie=df.movie.astype(str).apply(lambda x:re.sub(':','',x))"
   ]
  },
  {
   "cell_type": "code",
   "execution_count": 7,
   "metadata": {
    "colab": {},
    "colab_type": "code",
    "id": "yc3bmsOKxrkr",
    "outputId": "0268fee8-1677-4e0f-c7cf-1c9753ce804c",
    "scrolled": true
   },
   "outputs": [
    {
     "data": {
      "text/plain": [
       "count       22601629\n",
       "unique          2181\n",
       "top       2005-01-19\n",
       "freq          163001\n",
       "Name: rating, dtype: object"
      ]
     },
     "execution_count": 7,
     "metadata": {},
     "output_type": "execute_result"
    }
   ],
   "source": [
    "df['rating'].describe()"
   ]
  },
  {
   "cell_type": "markdown",
   "metadata": {
    "colab_type": "text",
    "id": "O6Jh9hMUxrky"
   },
   "source": [
    "<h3>3.1.2 Checking for NaN values </h3>"
   ]
  },
  {
   "cell_type": "code",
   "execution_count": 8,
   "metadata": {
    "colab": {},
    "colab_type": "code",
    "id": "2RX0XUYGxrkz",
    "outputId": "cbf3cf18-3a40-447b-f212-946b5dac3178",
    "scrolled": false
   },
   "outputs": [
    {
     "name": "stdout",
     "output_type": "stream",
     "text": [
      "No of Nan values in our dataframe :  3\n"
     ]
    }
   ],
   "source": [
    "# just to make sure that all Nan containing rows are deleted..\n",
    "print(\"No of Nan values in our dataframe : \", sum(df.isnull().any()))"
   ]
  },
  {
   "cell_type": "markdown",
   "metadata": {
    "colab_type": "text",
    "id": "x3o4ln-4xrk7"
   },
   "source": [
    " "
   ]
  },
  {
   "cell_type": "markdown",
   "metadata": {
    "colab_type": "text",
    "id": "QofEYR63xrk9"
   },
   "source": [
    "<h3>3.1.3 Removing Duplicates </h3>"
   ]
  },
  {
   "cell_type": "code",
   "execution_count": 9,
   "metadata": {
    "colab": {},
    "colab_type": "code",
    "id": "wDHFQBfCxrlA",
    "outputId": "30c71def-12a3-4030-8106-4c4fe9f45216"
   },
   "outputs": [
    {
     "name": "stdout",
     "output_type": "stream",
     "text": [
      "There are 11222273 duplicate rating entries in the data..\n"
     ]
    }
   ],
   "source": [
    "dup_bool = df.duplicated(['movie','user','rating'])\n",
    "dups = sum(dup_bool) # by considering all columns..( including timestamp)\n",
    "print(\"There are {} duplicate rating entries in the data..\".format(dups))"
   ]
  },
  {
   "cell_type": "markdown",
   "metadata": {
    "colab_type": "text",
    "id": "OhrBQacmxrlM"
   },
   "source": [
    " <h3>3.1.4 Basic Statistics (#Ratings, #Users, and #Movies)</h3>"
   ]
  },
  {
   "cell_type": "code",
   "execution_count": 10,
   "metadata": {
    "colab": {},
    "colab_type": "code",
    "id": "Gq66viptxrlP",
    "outputId": "44fa5c2d-16e1-47e2-afda-cf485ec44d74"
   },
   "outputs": [
    {
     "name": "stdout",
     "output_type": "stream",
     "text": [
      "Total data \n",
      "--------------------------------------------------\n",
      "\n",
      "Total no of ratings : 22605786\n",
      "Total No of Users   : 4162\n",
      "Total No of movies  : 478107\n"
     ]
    }
   ],
   "source": [
    "print(\"Total data \")\n",
    "print(\"-\"*50)\n",
    "print(\"\\nTotal no of ratings :\",df.shape[0])\n",
    "print(\"Total No of Users   :\", len(np.unique(df.user)))\n",
    "print(\"Total No of movies  :\", len(np.unique(df.movie.astype(int))))"
   ]
  },
  {
   "cell_type": "markdown",
   "metadata": {
    "colab_type": "text",
    "id": "FIduSZiexrlW"
   },
   "source": [
    "<h2>3.2 Spliting data into Train and Test(80:20) </h2>"
   ]
  },
  {
   "cell_type": "code",
   "execution_count": 11,
   "metadata": {
    "colab": {},
    "colab_type": "code",
    "id": "jpT2WRQjxrlY"
   },
   "outputs": [],
   "source": [
    "if not os.path.isfile('train.csv'):\n",
    "    # create the dataframe and store it in the disk for offline purposes..\n",
    "    df.iloc[:int(df.shape[0]*0.80)].to_csv(\"train.csv\", index=False)\n",
    "\n",
    "if not os.path.isfile('test.csv'):\n",
    "    # create the dataframe and store it in the disk for offline purposes..\n",
    "    df.iloc[int(df.shape[0]*0.80):].to_csv(\"test.csv\", index=False)\n",
    "\n",
    "train_df = pd.read_csv(\"train.csv\", parse_dates=['date'])\n",
    "test_df = pd.read_csv(\"test.csv\")"
   ]
  },
  {
   "cell_type": "markdown",
   "metadata": {
    "colab_type": "text",
    "id": "SCT91Uw5xrld"
   },
   "source": [
    "<h3>3.2.1 Basic Statistics in Train data (#Ratings, #Users, and #Movies)</h3>"
   ]
  },
  {
   "cell_type": "code",
   "execution_count": 12,
   "metadata": {
    "colab": {},
    "colab_type": "code",
    "id": "Il1yfWfuxrle",
    "outputId": "5a333f53-f3b9-48da-ea4e-3b0e42d1cf4e"
   },
   "outputs": [
    {
     "name": "stdout",
     "output_type": "stream",
     "text": [
      "Training data \n",
      "--------------------------------------------------\n",
      "\n",
      "Total no of ratings : 20096102\n",
      "Total No of Users   : 349312\n",
      "Total No of movies  : 17757\n"
     ]
    }
   ],
   "source": [
    "# movies = train_df.movie.value_counts()\n",
    "# users = train_df.user.value_counts()\n",
    "print(\"Training data \")\n",
    "print(\"-\"*50)\n",
    "print(\"\\nTotal no of ratings :\",train_df.shape[0])\n",
    "print(\"Total No of Users   :\", len(np.unique(train_df.user)))\n",
    "print(\"Total No of movies  :\", len(np.unique(train_df.movie)))"
   ]
  },
  {
   "cell_type": "markdown",
   "metadata": {
    "colab_type": "text",
    "id": "eEVS0juVxrlk"
   },
   "source": [
    "<h3>3.2.2 Basic Statistics in Test data (#Ratings, #Users, and #Movies)</h3>"
   ]
  },
  {
   "cell_type": "code",
   "execution_count": 13,
   "metadata": {
    "colab": {},
    "colab_type": "code",
    "id": "V0SLQlbNxrll",
    "outputId": "43c45676-7abd-4514-ce87-3d3673b2906f"
   },
   "outputs": [
    {
     "name": "stdout",
     "output_type": "stream",
     "text": [
      "Test data \n",
      "--------------------------------------------------\n",
      "\n",
      "Total no of ratings : 20096102\n",
      "Total No of Users   : 349312\n",
      "Total No of movies  : 17757\n"
     ]
    }
   ],
   "source": [
    "print(\"Test data \")\n",
    "print(\"-\"*50)\n",
    "print(\"\\nTotal no of ratings :\",test_df.shape[0])\n",
    "print(\"Total No of Users   :\", len(np.unique(test_df.user)))\n",
    "print(\"Total No of movies  :\", len(np.unique(test_df.movie)))"
   ]
  },
  {
   "cell_type": "markdown",
   "metadata": {
    "colab_type": "text",
    "id": "a_tk9Btvxrlq"
   },
   "source": [
    " <h2> 3.3 Exploratory Data Analysis on Train data </h2>"
   ]
  },
  {
   "cell_type": "markdown",
   "metadata": {
    "colab_type": "text",
    "id": "5zI-MO7Lxrlu"
   },
   "source": [
    " "
   ]
  },
  {
   "cell_type": "code",
   "execution_count": 14,
   "metadata": {
    "colab": {},
    "colab_type": "code",
    "id": "tnjH03rkxrlx"
   },
   "outputs": [],
   "source": [
    "# method to make y-axis more readable\n",
    "def human(num, units = 'M'):\n",
    "    units = units.lower()\n",
    "    num = float(num)\n",
    "    if units == 'k':\n",
    "        return str(num/10**3) + \" K\"\n",
    "    elif units == 'm':\n",
    "        return str(num/10**6) + \" M\"\n",
    "    elif units == 'b':\n",
    "        return str(num/10**9) +  \" B\""
   ]
  },
  {
   "cell_type": "markdown",
   "metadata": {
    "colab_type": "text",
    "id": "m3SE677Jxrl0"
   },
   "source": [
    "<h3> 3.3.1 Distribution of ratings </h3>"
   ]
  },
  {
   "cell_type": "code",
   "execution_count": 15,
   "metadata": {
    "colab": {},
    "colab_type": "code",
    "id": "NRmmEFIAxrl2",
    "outputId": "e4123071-a4a5-47c6-d59d-1c7444850a94",
    "scrolled": false
   },
   "outputs": [
    {
     "data": {
      "image/png": "[encoded data removed]",
      "text/plain": [
       "<Figure size 432x288 with 1 Axes>"
      ]
     },
     "metadata": {
      "needs_background": "light"
     },
     "output_type": "display_data"
    }
   ],
   "source": [
    "%matplotlib inline\n",
    "fig, ax = plt.subplots()\n",
    "plt.title('Distribution of ratings over Training dataset', fontsize=15)\n",
    "sns.countplot(train_df.rating)\n",
    "ax.set_yticklabels([human(item, 'M') for item in ax.get_yticks()])\n",
    "ax.set_ylabel('No. of Ratings(Millions)')\n",
    "\n",
    "plt.show()"
   ]
  },
  {
   "cell_type": "markdown",
   "metadata": {
    "colab_type": "text",
    "id": "iuHfNIS7xrl9"
   },
   "source": [
    "<p style=\"font-size:13px\"> <b>Add new column (week day) to the data set  for analysis.</b></p>"
   ]
  },
  {
   "cell_type": "code",
   "execution_count": 16,
   "metadata": {
    "colab": {},
    "colab_type": "code",
    "id": "IUeYMtbtxrl-",
    "outputId": "90de208b-33c4-48bd-9ee2-70796b2fc47a",
    "scrolled": true
   },
   "outputs": [
    {
     "data": {
      "text/html": [
       "<div>\n",
       "<style scoped>\n",
       "    .dataframe tbody tr th:only-of-type {\n",
       "        vertical-align: middle;\n",
       "    }\n",
       "\n",
       "    .dataframe tbody tr th {\n",
       "        vertical-align: top;\n",
       "    }\n",
       "\n",
       "    .dataframe thead th {\n",
       "        text-align: right;\n",
       "    }\n",
       "</style>\n",
       "<table border=\"1\" class=\"dataframe\">\n",
       "  <thead>\n",
       "    <tr style=\"text-align: right;\">\n",
       "      <th></th>\n",
       "      <th>movie</th>\n",
       "      <th>user</th>\n",
       "      <th>rating</th>\n",
       "      <th>date</th>\n",
       "      <th>day_of_week</th>\n",
       "    </tr>\n",
       "  </thead>\n",
       "  <tbody>\n",
       "    <tr>\n",
       "      <th>20096097</th>\n",
       "      <td>8993</td>\n",
       "      <td>2183787</td>\n",
       "      <td>4</td>\n",
       "      <td>2005-12-31</td>\n",
       "      <td>Saturday</td>\n",
       "    </tr>\n",
       "    <tr>\n",
       "      <th>20096098</th>\n",
       "      <td>7430</td>\n",
       "      <td>258170</td>\n",
       "      <td>4</td>\n",
       "      <td>2005-12-31</td>\n",
       "      <td>Saturday</td>\n",
       "    </tr>\n",
       "    <tr>\n",
       "      <th>20096099</th>\n",
       "      <td>8467</td>\n",
       "      <td>1534359</td>\n",
       "      <td>5</td>\n",
       "      <td>2005-12-31</td>\n",
       "      <td>Saturday</td>\n",
       "    </tr>\n",
       "    <tr>\n",
       "      <th>20096100</th>\n",
       "      <td>10168</td>\n",
       "      <td>2543295</td>\n",
       "      <td>2</td>\n",
       "      <td>2005-12-31</td>\n",
       "      <td>Saturday</td>\n",
       "    </tr>\n",
       "    <tr>\n",
       "      <th>20096101</th>\n",
       "      <td>4736</td>\n",
       "      <td>1346243</td>\n",
       "      <td>5</td>\n",
       "      <td>2005-12-31</td>\n",
       "      <td>Saturday</td>\n",
       "    </tr>\n",
       "  </tbody>\n",
       "</table>\n",
       "</div>"
      ],
      "text/plain": [
       "          movie     user  rating       date day_of_week\n",
       "20096097   8993  2183787       4 2005-12-31    Saturday\n",
       "20096098   7430   258170       4 2005-12-31    Saturday\n",
       "20096099   8467  1534359       5 2005-12-31    Saturday\n",
       "20096100  10168  2543295       2 2005-12-31    Saturday\n",
       "20096101   4736  1346243       5 2005-12-31    Saturday"
      ]
     },
     "execution_count": 16,
     "metadata": {},
     "output_type": "execute_result"
    }
   ],
   "source": [
    "# It is used to skip the warning ''SettingWithCopyWarning''.. \n",
    "pd.options.mode.chained_assignment = None  # default='warn'\n",
    "\n",
    "train_df['day_of_week'] = train_df.date.dt.weekday_name\n",
    "\n",
    "train_df.tail()"
   ]
  },
  {
   "cell_type": "markdown",
   "metadata": {
    "colab_type": "text",
    "id": "uLqBOfOkxrmE"
   },
   "source": [
    "<h3> 3.3.2 Number of Ratings per a month </h3>"
   ]
  },
  {
   "cell_type": "code",
   "execution_count": 17,
   "metadata": {
    "colab": {},
    "colab_type": "code",
    "id": "4XoUFEM2xrmF",
    "outputId": "c344e4a0-4aa3-4631-b05f-e4e114ea86cd",
    "scrolled": false
   },
   "outputs": [
    {
     "data": {
      "image/png": "[encoded data removed]",
      "text/plain": [
       "<Figure size 432x288 with 1 Axes>"
      ]
     },
     "metadata": {
      "needs_background": "light"
     },
     "output_type": "display_data"
    }
   ],
   "source": [
    "\n",
    "ax = train_df.resample('m', on='date')['rating'].count().plot()\n",
    "ax.set_title('No of ratings per month (Training data)')\n",
    "plt.xlabel('Month')\n",
    "plt.ylabel('No of ratings(per month)')\n",
    "ax.set_yticklabels([human(item, 'M') for item in ax.get_yticks()])\n",
    "plt.show()"
   ]
  },
  {
   "cell_type": "markdown",
   "metadata": {
    "colab_type": "text",
    "id": "RvdwgaXUxrmL"
   },
   "source": [
    " "
   ]
  },
  {
   "cell_type": "markdown",
   "metadata": {
    "colab_type": "text",
    "id": "Rm4JZhKixrmN"
   },
   "source": [
    "<h3> 3.3.3 Analysis on the Ratings given by user </h3>"
   ]
  },
  {
   "cell_type": "code",
   "execution_count": 18,
   "metadata": {
    "colab": {},
    "colab_type": "code",
    "id": "MT495cdNxrmO",
    "outputId": "d98658da-825f-473a-fe4f-acb8a7f6a544",
    "scrolled": true
   },
   "outputs": [
    {
     "data": {
      "text/plain": [
       "user\n",
       "1664010    15813\n",
       "2118461    14831\n",
       "1473980     6790\n",
       "1710658     5533\n",
       "2147527     5357\n",
       "Name: rating, dtype: int64"
      ]
     },
     "execution_count": 18,
     "metadata": {},
     "output_type": "execute_result"
    }
   ],
   "source": [
    "no_of_rated_movies_per_user = train_df.groupby(by='user')['rating'].count().sort_values(ascending=False)\n",
    "\n",
    "no_of_rated_movies_per_user.head()"
   ]
  },
  {
   "cell_type": "code",
   "execution_count": 19,
   "metadata": {
    "colab": {},
    "colab_type": "code",
    "id": "j3TQq_DJxrmT",
    "outputId": "1babadf7-7111-40cb-b682-811dffbaac40"
   },
   "outputs": [
    {
     "data": {
      "image/png": "[encoded data removed]",
      "text/plain": [
       "<Figure size 576x288 with 2 Axes>"
      ]
     },
     "metadata": {
      "needs_background": "light"
     },
     "output_type": "display_data"
    }
   ],
   "source": [
    "fig = plt.figure(figsize=plt.figaspect(.5))\n",
    "\n",
    "ax1 = plt.subplot(121)\n",
    "sns.kdeplot(no_of_rated_movies_per_user, shade=True, ax=ax1)\n",
    "plt.xlabel('No of ratings by user')\n",
    "plt.title(\"PDF\")\n",
    "\n",
    "ax2 = plt.subplot(122)\n",
    "sns.kdeplot(no_of_rated_movies_per_user, shade=True, cumulative=True,ax=ax2)\n",
    "plt.xlabel('No of ratings by user')\n",
    "plt.title('CDF')\n",
    "\n",
    "plt.show()"
   ]
  },
  {
   "cell_type": "code",
   "execution_count": 20,
   "metadata": {
    "colab": {},
    "colab_type": "code",
    "id": "WPYD3A0ZxrmY",
    "outputId": "f3f6a9f3-d599-429f-afa6-1b4580b2affb",
    "scrolled": false
   },
   "outputs": [
    {
     "data": {
      "text/plain": [
       "count    349312.000000\n",
       "mean         57.530523\n",
       "std         117.498700\n",
       "min           1.000000\n",
       "25%           7.000000\n",
       "50%          25.000000\n",
       "75%          59.000000\n",
       "max       15813.000000\n",
       "Name: rating, dtype: float64"
      ]
     },
     "execution_count": 20,
     "metadata": {},
     "output_type": "execute_result"
    }
   ],
   "source": [
    "no_of_rated_movies_per_user.describe()"
   ]
  },
  {
   "cell_type": "markdown",
   "metadata": {
    "colab_type": "text",
    "id": "_HGU2IKuxrmd"
   },
   "source": [
    "> _There,  is something interesting going on with the quantiles.._"
   ]
  },
  {
   "cell_type": "code",
   "execution_count": 21,
   "metadata": {
    "colab": {},
    "colab_type": "code",
    "id": "1FJkU6DNxrmf"
   },
   "outputs": [],
   "source": [
    "quantiles = no_of_rated_movies_per_user.quantile(np.arange(0,1.01,0.01), interpolation='higher')"
   ]
  },
  {
   "cell_type": "code",
   "execution_count": 22,
   "metadata": {
    "colab": {},
    "colab_type": "code",
    "id": "moUrxKoVxrmj",
    "outputId": "6a7ef012-2612-40b9-8516-43637e338b1f",
    "scrolled": false
   },
   "outputs": [
    {
     "data": {
      "image/png": "[encoded data removed]",
      "text/plain": [
       "<Figure size 432x288 with 1 Axes>"
      ]
     },
     "metadata": {
      "needs_background": "light"
     },
     "output_type": "display_data"
    }
   ],
   "source": [
    "plt.title(\"Quantiles and their Values\")\n",
    "quantiles.plot()\n",
    "# quantiles with 0.05 difference\n",
    "plt.scatter(x=quantiles.index[::5], y=quantiles.values[::5], c='orange', label=\"quantiles with 0.05 intervals\")\n",
    "# quantiles with 0.25 difference\n",
    "plt.scatter(x=quantiles.index[::25], y=quantiles.values[::25], c='m', label = \"quantiles with 0.25 intervals\")\n",
    "plt.ylabel('No of ratings by user')\n",
    "plt.xlabel('Value at the quantile')\n",
    "plt.legend(loc='best')\n",
    "\n",
    "# annotate the 25th, 50th, 75th and 100th percentile values....\n",
    "for x,y in zip(quantiles.index[::25], quantiles[::25]):\n",
    "    plt.annotate(s=\"({} , {})\".format(x,y), xy=(x,y), xytext=(x-0.05, y+500)\n",
    "                ,fontweight='bold')\n",
    "\n",
    "\n",
    "plt.show()"
   ]
  },
  {
   "cell_type": "code",
   "execution_count": 23,
   "metadata": {
    "colab": {},
    "colab_type": "code",
    "id": "YjWhUIoUxrmr",
    "outputId": "9fb24bb8-f60d-4361-c834-1e2ff0cfd469",
    "scrolled": false
   },
   "outputs": [
    {
     "data": {
      "text/plain": [
       "0.00        1\n",
       "0.05        1\n",
       "0.10        2\n",
       "0.15        3\n",
       "0.20        4\n",
       "0.25        7\n",
       "0.30       10\n",
       "0.35       13\n",
       "0.40       17\n",
       "0.45       20\n",
       "0.50       25\n",
       "0.55       29\n",
       "0.60       35\n",
       "0.65       41\n",
       "0.70       49\n",
       "0.75       59\n",
       "0.80       73\n",
       "0.85       97\n",
       "0.90      137\n",
       "0.95      227\n",
       "1.00    15813\n",
       "Name: rating, dtype: int64"
      ]
     },
     "execution_count": 23,
     "metadata": {},
     "output_type": "execute_result"
    }
   ],
   "source": [
    "quantiles[::5]"
   ]
  },
  {
   "cell_type": "markdown",
   "metadata": {
    "colab_type": "text",
    "id": "_evJBswjxrm2"
   },
   "source": [
    "__how many ratings at the last 5% of all ratings__??"
   ]
  },
  {
   "cell_type": "code",
   "execution_count": 24,
   "metadata": {
    "colab": {},
    "colab_type": "code",
    "id": "x6Ofcbc5xrm3",
    "outputId": "c7f1eab1-d5ad-4381-d9f2-0a0e11a38ab6"
   },
   "outputs": [
    {
     "name": "stdout",
     "output_type": "stream",
     "text": [
      "\n",
      " No of ratings at last 5 percentile : 1415\n",
      "\n"
     ]
    }
   ],
   "source": [
    "print('\\n No of ratings at last 5 percentile : {}\\n'.format(sum(no_of_rated_movies_per_user>= 749)) )"
   ]
  },
  {
   "cell_type": "markdown",
   "metadata": {
    "colab_type": "text",
    "id": "uhqHW352xrm9"
   },
   "source": [
    "<h3> 3.3.4 Analysis of ratings of a movie given by a user </h3>"
   ]
  },
  {
   "cell_type": "code",
   "execution_count": 25,
   "metadata": {
    "colab": {},
    "colab_type": "code",
    "id": "rfRBkAYUxrm_",
    "outputId": "f9e2f900-fc75-48a6-98c5-378f9711552e"
   },
   "outputs": [
    {
     "data": {
      "image/png": "[encoded data removed]",
      "text/plain": [
       "<Figure size 576x288 with 1 Axes>"
      ]
     },
     "metadata": {
      "needs_background": "light"
     },
     "output_type": "display_data"
    }
   ],
   "source": [
    "no_of_ratings_per_movie = train_df.groupby(by='movie')['rating'].count().sort_values(ascending=False)\n",
    "\n",
    "fig = plt.figure(figsize=plt.figaspect(.5))\n",
    "ax = plt.gca()\n",
    "plt.plot(no_of_ratings_per_movie.values)\n",
    "plt.title('# RATINGS per Movie')\n",
    "plt.xlabel('Movie')\n",
    "plt.ylabel('No of Users who rated a movie')\n",
    "ax.set_xticklabels([])\n",
    "\n",
    "plt.show()"
   ]
  },
  {
   "cell_type": "markdown",
   "metadata": {
    "colab_type": "text",
    "id": "Wpq4_qXOxrnF"
   },
   "source": [
    "- __It is very skewed.. just like nunmber of ratings given per user.__\n",
    "    \n",
    "    \n",
    "    - There are some movies (which are very popular) which are rated by huge number of users.\n",
    "    \n",
    "    - But most of the movies(like 90%) got some hundereds of ratings."
   ]
  },
  {
   "cell_type": "markdown",
   "metadata": {
    "colab_type": "text",
    "id": "F6ZrsYiIxrnH"
   },
   "source": [
    "<h3> 3.3.5 Number of ratings on each day of the week</h3>"
   ]
  },
  {
   "cell_type": "code",
   "execution_count": 26,
   "metadata": {
    "colab": {},
    "colab_type": "code",
    "id": "SGGpqq23xrnH",
    "outputId": "f2b2b524-96cb-4edc-ce04-006380c7cd3f",
    "scrolled": false
   },
   "outputs": [
    {
     "data": {
      "image/png": "[encoded data removed]",
      "text/plain": [
       "<Figure size 432x288 with 1 Axes>"
      ]
     },
     "metadata": {
      "needs_background": "light"
     },
     "output_type": "display_data"
    }
   ],
   "source": [
    "fig, ax = plt.subplots()\n",
    "sns.countplot(x='day_of_week', data=train_df, ax=ax)\n",
    "plt.title('No of ratings on each day...')\n",
    "plt.ylabel('Total no of ratings')\n",
    "plt.xlabel('')\n",
    "ax.set_yticklabels([human(item, 'M') for item in ax.get_yticks()])\n",
    "plt.show()"
   ]
  },
  {
   "cell_type": "code",
   "execution_count": 27,
   "metadata": {
    "colab": {},
    "colab_type": "code",
    "id": "nNhOQY9cxrnL",
    "outputId": "7038fd53-fe53-4eed-f34b-40f13a718bbf",
    "scrolled": false
   },
   "outputs": [
    {
     "data": {
      "image/png": "[encoded data removed]",
      "text/plain": [
       "<Figure size 640x288 with 1 Axes>"
      ]
     },
     "metadata": {
      "needs_background": "light"
     },
     "output_type": "display_data"
    },
    {
     "name": "stdout",
     "output_type": "stream",
     "text": [
      "0:00:17.633996\n"
     ]
    }
   ],
   "source": [
    "start = datetime.now()\n",
    "fig = plt.figure(figsize=plt.figaspect(.45))\n",
    "sns.boxplot(y='rating', x='day_of_week', data=train_df)\n",
    "plt.show()\n",
    "print(datetime.now() - start)"
   ]
  },
  {
   "cell_type": "code",
   "execution_count": 28,
   "metadata": {
    "colab": {},
    "colab_type": "code",
    "id": "YU5UuCpHxrnR",
    "outputId": "e9bd9666-b045-41bf-d5c9-6fff7c8d7c9f",
    "scrolled": false
   },
   "outputs": [
    {
     "name": "stdout",
     "output_type": "stream",
     "text": [
      " AVerage ratings\n",
      "------------------------------\n",
      "day_of_week\n",
      "Friday       3.687586\n",
      "Monday       3.678614\n",
      "Saturday     3.703333\n",
      "Sunday       3.698910\n",
      "Thursday     3.693734\n",
      "Tuesday      3.681093\n",
      "Wednesday    3.695524\n",
      "Name: rating, dtype: float64\n",
      "\n",
      "\n"
     ]
    }
   ],
   "source": [
    "avg_week_df = train_df.groupby(by=['day_of_week'])['rating'].mean()\n",
    "print(\" AVerage ratings\")\n",
    "print(\"-\"*30)\n",
    "print(avg_week_df)\n",
    "print(\"\\n\")"
   ]
  },
  {
   "cell_type": "markdown",
   "metadata": {
    "colab_type": "text",
    "id": "qsOhDvfUxrnW"
   },
   "source": [
    " "
   ]
  },
  {
   "cell_type": "markdown",
   "metadata": {
    "colab_type": "text",
    "collapsed": true,
    "id": "Cd1Mv38GxrnX"
   },
   "source": [
    "<h3> 3.3.6 Creating sparse matrix from data frame </h3>"
   ]
  },
  {
   "cell_type": "markdown",
   "metadata": {
    "colab_type": "text",
    "id": "MxfhsyW5xrnY"
   },
   "source": [
    "<table>\n",
    "<tr>\n",
    "<td>\n",
    "<img src='images/data_c.jpg' width='250px' align=left/>\n",
    "</td>\n",
    "<td>\n",
    "<img src='images/arrow.jpg' width='60px' align=left/>\n",
    "</td>\n",
    "<td>\n",
    "<img src='images/data_sparse_c.jpg' width='400px' align=left/>\n",
    "</td>\n",
    "</tr>\n",
    "</table>"
   ]
  },
  {
   "cell_type": "markdown",
   "metadata": {
    "colab_type": "text",
    "id": "KJhTXsCVxrnZ"
   },
   "source": [
    "<h4> 3.3.6.1 Creating sparse matrix from train data frame </h4>"
   ]
  },
  {
   "cell_type": "code",
   "execution_count": 35,
   "metadata": {
    "colab": {},
    "colab_type": "code",
    "id": "tj6TVYrRxrna",
    "outputId": "56d8b6c0-0915-495f-c346-e3f8cb00a72c",
    "scrolled": false
   },
   "outputs": [
    {
     "name": "stdout",
     "output_type": "stream",
     "text": [
      "We are creating sparse_matrix from the dataframe..\n",
      "Done. It's shape is : (user, movie) :  (2649430, 17771)\n",
      "Saving it into disk for furthur usage..\n",
      "Done..\n",
      "\n",
      "0:00:18.158348\n"
     ]
    }
   ],
   "source": [
    "start = datetime.now()\n",
    "if os.path.isfile('train_sparse_matrix.npz'):\n",
    "    print(\"It is present in your pwd, getting it from disk....\")\n",
    "    # just get it from the disk instead of computing it\n",
    "    train_sparse_matrix = sparse.load_npz('train_sparse_matrix.npz')\n",
    "    print(\"DONE..\")\n",
    "else: \n",
    "    print(\"We are creating sparse_matrix from the dataframe..\")\n",
    "    # create sparse_matrix and store it for after usage.\n",
    "    # csr_matrix(data_values, (row_index, col_index), shape_of_matrix)\n",
    "    # It should be in such a way that, MATRIX[row, col] = data\n",
    "    train_sparse_matrix = sparse.csr_matrix((train_df.rating.values, (train_df.user.values,\n",
    "                                               train_df.movie.values)),)\n",
    "    \n",
    "    print('Done. It\\'s shape is : (user, movie) : ',train_sparse_matrix.shape)\n",
    "    print('Saving it into disk for furthur usage..')\n",
    "    # save it into disk\n",
    "    sparse.save_npz(\"train_sparse_matrix.npz\", train_sparse_matrix)\n",
    "    print('Done..\\n')\n",
    "\n",
    "print(datetime.now() - start)"
   ]
  },
  {
   "cell_type": "markdown",
   "metadata": {
    "colab_type": "text",
    "id": "pC3exGbRxrne"
   },
   "source": [
    "<p><b>The Sparsity of Train Sparse Matrix</b></p>"
   ]
  },
  {
   "cell_type": "code",
   "execution_count": 36,
   "metadata": {
    "colab": {},
    "colab_type": "code",
    "id": "oXQkR5Xhxrng",
    "outputId": "03d9e4d1-ad92-4691-c526-52bd19bd3fae"
   },
   "outputs": [
    {
     "name": "stdout",
     "output_type": "stream",
     "text": [
      "Sparsity Of Train matrix : 99.95731772988694 % \n"
     ]
    }
   ],
   "source": [
    "us,mv = train_sparse_matrix.shape\n",
    "elem = train_sparse_matrix.count_nonzero()\n",
    "\n",
    "print(\"Sparsity Of Train matrix : {} % \".format(  (1-(elem/(us*mv))) * 100) )"
   ]
  },
  {
   "cell_type": "markdown",
   "metadata": {
    "colab_type": "text",
    "id": "SYOctHZ2xrnn"
   },
   "source": [
    "<h4> 3.3.6.2 Creating sparse matrix from test data frame </h4>"
   ]
  },
  {
   "cell_type": "code",
   "execution_count": 37,
   "metadata": {
    "colab": {},
    "colab_type": "code",
    "id": "WZl8EAedxrnq",
    "outputId": "7acb091e-98d5-4412-bed4-b77db5a359f1"
   },
   "outputs": [
    {
     "name": "stdout",
     "output_type": "stream",
     "text": [
      "We are creating sparse_matrix from the dataframe..\n",
      "Done. It's shape is : (user, movie) :  (2649430, 17771)\n",
      "Saving it into disk for furthur usage..\n",
      "Done..\n",
      "\n",
      "0:00:17.929615\n"
     ]
    }
   ],
   "source": [
    "start = datetime.now()\n",
    "if os.path.isfile('test_sparse_matrix.npz'):\n",
    "    print(\"It is present in your pwd, getting it from disk....\")\n",
    "    # just get it from the disk instead of computing it\n",
    "    test_sparse_matrix = sparse.load_npz('test_sparse_matrix.npz')\n",
    "    print(\"DONE..\")\n",
    "else: \n",
    "    print(\"We are creating sparse_matrix from the dataframe..\")\n",
    "    # create sparse_matrix and store it for after usage.\n",
    "    # csr_matrix(data_values, (row_index, col_index), shape_of_matrix)\n",
    "    # It should be in such a way that, MATRIX[row, col] = data\n",
    "    test_sparse_matrix = sparse.csr_matrix((test_df.rating.values, (test_df.user.values,\n",
    "                                               test_df.movie.values)))\n",
    "    \n",
    "    print('Done. It\\'s shape is : (user, movie) : ',test_sparse_matrix.shape)\n",
    "    print('Saving it into disk for furthur usage..')\n",
    "    # save it into disk\n",
    "    sparse.save_npz(\"test_sparse_matrix.npz\", test_sparse_matrix)\n",
    "    print('Done..\\n')\n",
    "    \n",
    "print(datetime.now() - start)"
   ]
  },
  {
   "cell_type": "markdown",
   "metadata": {
    "colab_type": "text",
    "id": "p9J75aRtxrnu"
   },
   "source": [
    "<p><b>The Sparsity of Test data Matrix</b></p>"
   ]
  },
  {
   "cell_type": "code",
   "execution_count": 38,
   "metadata": {
    "colab": {},
    "colab_type": "code",
    "id": "RzgJhjorxrnz",
    "outputId": "a9e067b5-cc41-4931-af2a-ba366cf857a2"
   },
   "outputs": [
    {
     "name": "stdout",
     "output_type": "stream",
     "text": [
      "Sparsity Of Test matrix : 99.95731772988694 % \n"
     ]
    }
   ],
   "source": [
    "us,mv = test_sparse_matrix.shape\n",
    "elem = test_sparse_matrix.count_nonzero()\n",
    "\n",
    "print(\"Sparsity Of Test matrix : {} % \".format(  (1-(elem/(us*mv))) * 100) )"
   ]
  },
  {
   "cell_type": "markdown",
   "metadata": {
    "colab_type": "text",
    "id": "uk90Yucuxrn3"
   },
   "source": [
    "<h3>3.3.7 Finding Global average of all movie ratings, Average rating per user, and Average rating per movie</h3>"
   ]
  },
  {
   "cell_type": "code",
   "execution_count": 39,
   "metadata": {
    "colab": {},
    "colab_type": "code",
    "id": "vJehxyKexrn7"
   },
   "outputs": [],
   "source": [
    "# get the user averages in dictionary (key: user_id/movie_id, value: avg rating)\n",
    "\n",
    "def get_average_ratings(sparse_matrix, of_users):\n",
    "    \n",
    "    # average ratings of user/axes\n",
    "    ax = 1 if of_users else 0 # 1 - User axes,0 - Movie axes\n",
    "\n",
    "    # \".A1\" is for converting Column_Matrix to 1-D numpy array \n",
    "    sum_of_ratings = sparse_matrix.sum(axis=ax).A1\n",
    "    # Boolean matrix of ratings ( whether a user rated that movie or not)\n",
    "    is_rated = sparse_matrix!=0\n",
    "    # no of ratings that each user OR movie..\n",
    "    no_of_ratings = is_rated.sum(axis=ax).A1\n",
    "    \n",
    "    # max_user  and max_movie ids in sparse matrix \n",
    "    u,m = sparse_matrix.shape\n",
    "    # creae a dictonary of users and their average ratigns..\n",
    "    average_ratings = { i : sum_of_ratings[i]/no_of_ratings[i]\n",
    "                                 for i in range(u if of_users else m) \n",
    "                                    if no_of_ratings[i] !=0}\n",
    "\n",
    "    # return that dictionary of average ratings\n",
    "    return average_ratings"
   ]
  },
  {
   "cell_type": "markdown",
   "metadata": {
    "colab_type": "text",
    "id": "BHO3sF5zxrn-"
   },
   "source": [
    "<h4> 3.3.7.1 finding global average of all movie ratings </h4>"
   ]
  },
  {
   "cell_type": "code",
   "execution_count": 40,
   "metadata": {
    "colab": {},
    "colab_type": "code",
    "id": "tVpUl-ZfxroB",
    "outputId": "258c3fa2-3cdc-428f-9864-a0a875ff8ed0",
    "scrolled": false
   },
   "outputs": [
    {
     "data": {
      "text/plain": [
       "{'global': 3.689887073622536}"
      ]
     },
     "execution_count": 40,
     "metadata": {},
     "output_type": "execute_result"
    }
   ],
   "source": [
    "train_averages = dict()\n",
    "# get the global average of ratings in our train set.\n",
    "train_global_average = train_sparse_matrix.sum()/train_sparse_matrix.count_nonzero()\n",
    "train_averages['global'] = train_global_average\n",
    "train_averages"
   ]
  },
  {
   "cell_type": "markdown",
   "metadata": {
    "colab_type": "text",
    "id": "NZICFv1fxroF"
   },
   "source": [
    "<h4> 3.3.7.2 finding average rating per user</h4>"
   ]
  },
  {
   "cell_type": "code",
   "execution_count": 41,
   "metadata": {
    "colab": {},
    "colab_type": "code",
    "id": "J1fOjIi4xroF",
    "outputId": "35a50f88-d956-46dd-9a85-054a290e0c60",
    "scrolled": true
   },
   "outputs": [
    {
     "name": "stdout",
     "output_type": "stream",
     "text": [
      "\n",
      "Average rating of user 10 : 3.440677966101695\n"
     ]
    }
   ],
   "source": [
    "train_averages['user'] = get_average_ratings(train_sparse_matrix, of_users=True)\n",
    "print('\\nAverage rating of user 10 :',train_averages['user'][10])"
   ]
  },
  {
   "cell_type": "markdown",
   "metadata": {
    "colab_type": "text",
    "id": "6CAv2kHHxroJ"
   },
   "source": [
    "<h4> 3.3.7.3 finding average rating per movie</h4>"
   ]
  },
  {
   "cell_type": "code",
   "execution_count": 42,
   "metadata": {
    "colab": {},
    "colab_type": "code",
    "id": "Azt21nAGxroJ",
    "outputId": "b6927c32-9c7f-4080-d25f-bdb34f10775f",
    "scrolled": true
   },
   "outputs": [
    {
     "name": "stdout",
     "output_type": "stream",
     "text": [
      "\n",
      " AVerage rating of movie 15 : 3.1333333333333333\n"
     ]
    }
   ],
   "source": [
    "train_averages['movie'] =  get_average_ratings(train_sparse_matrix, of_users=False)\n",
    "print('\\n AVerage rating of movie 15 :',train_averages['movie'][15])"
   ]
  },
  {
   "cell_type": "markdown",
   "metadata": {
    "colab_type": "text",
    "id": "hZtFXddTxroP"
   },
   "source": [
    " "
   ]
  },
  {
   "cell_type": "markdown",
   "metadata": {
    "colab_type": "text",
    "id": "FKLbra7FxroQ"
   },
   "source": [
    "<h4> 3.3.7.4 PDF's & CDF's of Avg.Ratings of Users & Movies (In Train Data)</h4>"
   ]
  },
  {
   "cell_type": "code",
   "execution_count": 43,
   "metadata": {
    "colab": {},
    "colab_type": "code",
    "id": "6ZBOnhTVxroR",
    "outputId": "0062e436-1d88-4932-e32e-1e1131373404",
    "scrolled": false
   },
   "outputs": [
    {
     "data": {
      "image/png": "[encoded data removed]",
      "text/plain": [
       "<Figure size 576x288 with 2 Axes>"
      ]
     },
     "metadata": {
      "needs_background": "light"
     },
     "output_type": "display_data"
    },
    {
     "name": "stdout",
     "output_type": "stream",
     "text": [
      "0:00:30.260287\n"
     ]
    }
   ],
   "source": [
    "start = datetime.now()\n",
    "# draw pdfs for average rating per user and average\n",
    "fig, (ax1, ax2) = plt.subplots(nrows=1, ncols=2, figsize=plt.figaspect(.5))\n",
    "fig.suptitle('Avg Ratings per User and per Movie', fontsize=15)\n",
    "\n",
    "ax1.set_title('Users-Avg-Ratings')\n",
    "# get the list of average user ratings from the averages dictionary..\n",
    "user_averages = [rat for rat in train_averages['user'].values()]\n",
    "sns.distplot(user_averages, ax=ax1, hist=False, \n",
    "             kde_kws=dict(cumulative=True), label='Cdf')\n",
    "sns.distplot(user_averages, ax=ax1, hist=False,label='Pdf')\n",
    "\n",
    "ax2.set_title('Movies-Avg-Rating')\n",
    "# get the list of movie_average_ratings from the dictionary..\n",
    "movie_averages = [rat for rat in train_averages['movie'].values()]\n",
    "sns.distplot(movie_averages, ax=ax2, hist=False, \n",
    "             kde_kws=dict(cumulative=True), label='Cdf')\n",
    "sns.distplot(movie_averages, ax=ax2, hist=False, label='Pdf')\n",
    "\n",
    "plt.show()\n",
    "print(datetime.now() - start)"
   ]
  },
  {
   "cell_type": "markdown",
   "metadata": {
    "colab_type": "text",
    "id": "4GD_Wv3jxroX"
   },
   "source": [
    "<h3> 3.3.8 Cold Start problem </h3>"
   ]
  },
  {
   "cell_type": "markdown",
   "metadata": {
    "colab_type": "text",
    "id": "nZcVtFdFxroY"
   },
   "source": [
    "<h4> 3.3.8.1 Cold Start problem with Users</h4>"
   ]
  },
  {
   "cell_type": "code",
   "execution_count": 44,
   "metadata": {
    "colab": {},
    "colab_type": "code",
    "id": "RHuIbxaWxroZ",
    "outputId": "dfe1438c-6717-4cb3-bba3-dff0f65e0e49"
   },
   "outputs": [
    {
     "name": "stdout",
     "output_type": "stream",
     "text": [
      "\n",
      "Total number of Users  : 4162\n",
      "\n",
      "Number of Users in Train data : 349312\n",
      "\n",
      "No of Users that didn't appear in train data: -345150(-8292.89 %) \n",
      " \n"
     ]
    }
   ],
   "source": [
    "total_users = len(np.unique(df.user))\n",
    "users_train = len(train_averages['user'])\n",
    "new_users = total_users - users_train\n",
    "\n",
    "print('\\nTotal number of Users  :', total_users)\n",
    "print('\\nNumber of Users in Train data :', users_train)\n",
    "print(\"\\nNo of Users that didn't appear in train data: {}({} %) \\n \".format(new_users,\n",
    "                                                                        np.round((new_users/total_users)*100, 2)))"
   ]
  },
  {
   "cell_type": "markdown",
   "metadata": {
    "colab_type": "text",
    "id": "NcSQjhBhxroc"
   },
   "source": [
    "> We might have to handle __new users__ ( ___75148___ ) who didn't appear in train data."
   ]
  },
  {
   "cell_type": "markdown",
   "metadata": {
    "colab_type": "text",
    "id": "CXXLI7nKxrod"
   },
   "source": [
    "<h4> 3.3.8.2 Cold Start problem with Movies</h4>"
   ]
  },
  {
   "cell_type": "code",
   "execution_count": 45,
   "metadata": {
    "colab": {},
    "colab_type": "code",
    "id": "lXNwDgeSxroe",
    "outputId": "e7ec447d-f40a-4d62-d2c7-14f06806ad9e"
   },
   "outputs": [
    {
     "name": "stdout",
     "output_type": "stream",
     "text": [
      "\n",
      "Total number of Movies  : 478107\n",
      "\n",
      "Number of Users in Train data : 17757\n",
      "\n",
      "No of Movies that didn't appear in train data: 460350(96.29 %) \n",
      " \n"
     ]
    }
   ],
   "source": [
    "total_movies = len(np.unique(df.movie))\n",
    "movies_train = len(train_averages['movie'])\n",
    "new_movies = total_movies - movies_train\n",
    "\n",
    "print('\\nTotal number of Movies  :', total_movies)\n",
    "print('\\nNumber of Users in Train data :', movies_train)\n",
    "print(\"\\nNo of Movies that didn't appear in train data: {}({} %) \\n \".format(new_movies,\n",
    "                                                                        np.round((new_movies/total_movies)*100, 2)))"
   ]
  },
  {
   "cell_type": "markdown",
   "metadata": {
    "colab_type": "text",
    "id": "CegdvJEKxrog"
   },
   "source": [
    "> We might have to handle __346 movies__ (small comparatively) in test data"
   ]
  },
  {
   "cell_type": "markdown",
   "metadata": {
    "colab_type": "text",
    "id": "jHybEKyrxroi"
   },
   "source": [
    " "
   ]
  },
  {
   "cell_type": "markdown",
   "metadata": {
    "colab_type": "text",
    "id": "PmM8S6yaxroi"
   },
   "source": [
    "<h2> 3.4 Computing Similarity matrices </h2>"
   ]
  },
  {
   "cell_type": "markdown",
   "metadata": {
    "colab_type": "text",
    "id": "ipdAdhb3xrok"
   },
   "source": [
    "<h3> 3.4.1 Computing User-User Similarity matrix </h3>"
   ]
  },
  {
   "cell_type": "markdown",
   "metadata": {
    "colab_type": "text",
    "collapsed": true,
    "id": "CzaXbFY2xrol"
   },
   "source": [
    "1. Calculating User User Similarity_Matrix is __not very easy__(_unless you have huge Computing Power and lots of time_) because of number of. usersbeing lare.\n",
    "\n",
    "    * You can try if you want to. Your system could crash or the program stops with **Memory Error**\n"
   ]
  },
  {
   "cell_type": "markdown",
   "metadata": {
    "colab_type": "text",
    "id": "o21mlVQ-xrom"
   },
   "source": [
    "<h4> 3.4.1.1 Trying with all dimensions (17k dimensions per user) </h4>"
   ]
  },
  {
   "cell_type": "code",
   "execution_count": 46,
   "metadata": {
    "colab": {},
    "colab_type": "code",
    "id": "tzc_pANsxron"
   },
   "outputs": [],
   "source": [
    "from sklearn.metrics.pairwise import cosine_similarity\n",
    "\n",
    "\n",
    "def compute_user_similarity(sparse_matrix, compute_for_few=False, top = 100, verbose=False, verb_for_n_rows = 20,\n",
    "                            draw_time_taken=True):\n",
    "    no_of_users, _ = sparse_matrix.shape\n",
    "    # get the indices of  non zero rows(users) from our sparse matrix\n",
    "    row_ind, col_ind = sparse_matrix.nonzero()\n",
    "    row_ind = sorted(set(row_ind)) # we don't have to\n",
    "    time_taken = list() #  time taken for finding similar users for an user..\n",
    "    \n",
    "    # we create rows, cols, and data lists.., which can be used to create sparse matrices\n",
    "    rows, cols, data = list(), list(), list()\n",
    "    if verbose: print(\"Computing top\",top,\"similarities for each user..\")\n",
    "    \n",
    "    start = datetime.now()\n",
    "    temp = 0\n",
    "    \n",
    "    for row in row_ind[:top] if compute_for_few else row_ind:\n",
    "        temp = temp+1\n",
    "        prev = datetime.now()\n",
    "        \n",
    "        # get the similarity row for this user with all other users\n",
    "        sim = cosine_similarity(sparse_matrix.getrow(row), sparse_matrix).ravel()\n",
    "        # We will get only the top ''top'' most similar users and ignore rest of them..\n",
    "        top_sim_ind = sim.argsort()[-top:]\n",
    "        top_sim_val = sim[top_sim_ind]\n",
    "        \n",
    "        # add them to our rows, cols and data\n",
    "        rows.extend([row]*top)\n",
    "        cols.extend(top_sim_ind)\n",
    "        data.extend(top_sim_val)\n",
    "        time_taken.append(datetime.now().timestamp() - prev.timestamp())\n",
    "        if verbose:\n",
    "            if temp%verb_for_n_rows == 0:\n",
    "                print(\"computing done for {} users [  time elapsed : {}  ]\"\n",
    "                      .format(temp, datetime.now()-start))\n",
    "            \n",
    "        \n",
    "    # lets create sparse matrix out of these and return it\n",
    "    if verbose: print('Creating Sparse matrix from the computed similarities')\n",
    "    #return rows, cols, data\n",
    "    \n",
    "    if draw_time_taken:\n",
    "        plt.plot(time_taken, label = 'time taken for each user')\n",
    "        plt.plot(np.cumsum(time_taken), label='Total time')\n",
    "        plt.legend(loc='best')\n",
    "        plt.xlabel('User')\n",
    "        plt.ylabel('Time (seconds)')\n",
    "        plt.show()\n",
    "        \n",
    "    return sparse.csr_matrix((data, (rows, cols)), shape=(no_of_users, no_of_users)), time_taken      "
   ]
  },
  {
   "cell_type": "code",
   "execution_count": 47,
   "metadata": {
    "colab": {},
    "colab_type": "code",
    "id": "CZgRmOS_xrop",
    "outputId": "ae9244a0-cda4-49f6-f14d-d0a9ee958d6e",
    "scrolled": false
   },
   "outputs": [
    {
     "name": "stdout",
     "output_type": "stream",
     "text": [
      "Computing top 100 similarities for each user..\n",
      "computing done for 20 users [  time elapsed : 0:00:27.459177  ]\n",
      "computing done for 40 users [  time elapsed : 0:00:54.545491  ]\n",
      "computing done for 60 users [  time elapsed : 0:01:21.930028  ]\n",
      "computing done for 80 users [  time elapsed : 0:01:49.031488  ]\n",
      "computing done for 100 users [  time elapsed : 0:02:16.023078  ]\n",
      "Creating Sparse matrix from the computed similarities\n"
     ]
    },
    {
     "data": {
      "image/png": "[encoded data removed]",
      "text/plain": [
       "<Figure size 432x288 with 1 Axes>"
      ]
     },
     "metadata": {
      "needs_background": "light"
     },
     "output_type": "display_data"
    },
    {
     "name": "stdout",
     "output_type": "stream",
     "text": [
      "----------------------------------------------------------------------------------------------------\n",
      "Time taken : 0:02:18.512668\n"
     ]
    }
   ],
   "source": [
    "start = datetime.now()\n",
    "u_u_sim_sparse, _ = compute_user_similarity(train_sparse_matrix, compute_for_few=True, top = 100,\n",
    "                                                     verbose=True)\n",
    "print(\"-\"*100)\n",
    "print(\"Time taken :\",datetime.now()-start)"
   ]
  },
  {
   "cell_type": "markdown",
   "metadata": {
    "colab_type": "text",
    "id": "BqzQHJkqxros"
   },
   "source": [
    "<h4> 3.4.1.2 Trying with reduced dimensions (Using TruncatedSVD for dimensionality reduction of user vector)</h4>"
   ]
  },
  {
   "cell_type": "markdown",
   "metadata": {
    "colab_type": "text",
    "id": "e6HscIstxrot"
   },
   "source": [
    " "
   ]
  },
  {
   "cell_type": "markdown",
   "metadata": {
    "colab_type": "text",
    "id": "slAk4ivQxrou"
   },
   "source": [
    "* We have  **405,041 users** in out training set and computing similarities between them..( **17K dimensional vector..**) is time consuming..\n",
    "\n",
    "\n",
    "- From above plot, It took roughly __8.88 sec__ for computing simlilar users for __one user__\n",
    "    \n",
    "    \n",
    "- We have __405,041 users__ with us in training set.\n",
    "\n",
    "\n",
    "- ${ 405041 \\times 8.88 = 3596764.08  \\sec } =  59946.068 \\min = 999.101133333 \\text{ hours}\n",
    "= 41.629213889 \\text{ days}...$\n",
    "\n",
    "    - Even if we run on 4 cores parallelly (a typical system now a days), It will still take almost __10 and 1/2__ days.\n",
    "    \n",
    " IDEA:  Instead, we will try to reduce the dimentsions using SVD, so that __it might__ speed up the process..."
   ]
  },
  {
   "cell_type": "code",
   "execution_count": 48,
   "metadata": {
    "colab": {},
    "colab_type": "code",
    "id": "4Vf4cD_Exrov",
    "outputId": "bf53b3a5-828f-457c-d354-4d52b6559767"
   },
   "outputs": [
    {
     "name": "stdout",
     "output_type": "stream",
     "text": [
      "0:12:07.294217\n"
     ]
    }
   ],
   "source": [
    "from datetime import datetime\n",
    "from sklearn.decomposition import TruncatedSVD\n",
    "\n",
    "start = datetime.now()\n",
    "\n",
    "# initilaize the algorithm with some parameters..\n",
    "# All of them are default except n_components. n_itr is for Randomized SVD solver.\n",
    "netflix_svd = TruncatedSVD(n_components=500, algorithm='randomized', random_state=15)\n",
    "trunc_svd = netflix_svd.fit_transform(train_sparse_matrix)\n",
    "\n",
    "print(datetime.now()-start)"
   ]
  },
  {
   "cell_type": "markdown",
   "metadata": {
    "colab_type": "text",
    "id": "JVvrBnpmxroy"
   },
   "source": [
    "Here,\n",
    "\n",
    "\n",
    "- $\\sum \\longleftarrow$ (netflix\\_svd.**singular\\_values\\_** )\n",
    "\n",
    "\n",
    "- $\\bigvee^T \\longleftarrow$ (netflix\\_svd.**components_**)\n",
    "\n",
    "\n",
    "- $\\bigcup$ is not returned. instead **Projection_of_X** onto the new vectorspace is returned. \n",
    "\n",
    "\n",
    "- It uses **randomized svd** internally, which returns **All 3 of them saperately**. Use that instead.. "
   ]
  },
  {
   "cell_type": "code",
   "execution_count": 49,
   "metadata": {
    "colab": {},
    "colab_type": "code",
    "id": "-cJHgpAtxroy"
   },
   "outputs": [],
   "source": [
    "expl_var = np.cumsum(netflix_svd.explained_variance_ratio_)"
   ]
  },
  {
   "cell_type": "code",
   "execution_count": 50,
   "metadata": {
    "colab": {},
    "colab_type": "code",
    "id": "0YptAx89xro4",
    "outputId": "237de9aa-848a-47b8-ffcf-e7ebacce3905",
    "scrolled": false
   },
   "outputs": [
    {
     "data": {
      "image/png": "[encoded data removed]",
      "text/plain": [
       "<Figure size 576x288 with 2 Axes>"
      ]
     },
     "metadata": {
      "needs_background": "light"
     },
     "output_type": "display_data"
    }
   ],
   "source": [
    "fig, (ax1, ax2) = plt.subplots(nrows=1, ncols=2, figsize=plt.figaspect(.5))\n",
    "\n",
    "ax1.set_ylabel(\"Variance Explained\", fontsize=15)\n",
    "ax1.set_xlabel(\"# Latent Facors\", fontsize=15)\n",
    "ax1.plot(expl_var)\n",
    "# annote some (latentfactors, expl_var) to make it clear\n",
    "ind = [1, 2,4,8,20, 60, 100, 200, 300, 400, 500]\n",
    "ax1.scatter(x = [i-1 for i in ind], y = expl_var[[i-1 for i in ind]], c='#ff3300')\n",
    "for i in ind:\n",
    "    ax1.annotate(s =\"({}, {})\".format(i,  np.round(expl_var[i-1], 2)), xy=(i-1, expl_var[i-1]),\n",
    "                xytext = ( i+20, expl_var[i-1] - 0.01), fontweight='bold')\n",
    "\n",
    "change_in_expl_var = [expl_var[i+1] - expl_var[i] for i in range(len(expl_var)-1)]\n",
    "ax2.plot(change_in_expl_var)\n",
    "\n",
    "\n",
    "\n",
    "ax2.set_ylabel(\"Gain in Var_Expl with One Additional LF\", fontsize=10)\n",
    "ax2.yaxis.set_label_position(\"right\")\n",
    "ax2.set_xlabel(\"# Latent Facors\", fontsize=20)\n",
    "\n",
    "plt.show()"
   ]
  },
  {
   "cell_type": "code",
   "execution_count": 51,
   "metadata": {
    "colab": {},
    "colab_type": "code",
    "id": "3kI-9jQ7xro9",
    "outputId": "2f18f097-5405-42ff-9a09-20b8ea1e559e",
    "scrolled": true
   },
   "outputs": [
    {
     "name": "stdout",
     "output_type": "stream",
     "text": [
      "(1, 0.13)\n",
      "(2, 0.15)\n",
      "(4, 0.18)\n",
      "(8, 0.22)\n",
      "(20, 0.26)\n",
      "(60, 0.33)\n",
      "(100, 0.37)\n",
      "(200, 0.45)\n",
      "(300, 0.51)\n",
      "(400, 0.55)\n",
      "(500, 0.59)\n"
     ]
    }
   ],
   "source": [
    "for i in ind:\n",
    "    print(\"({}, {})\".format(i, np.round(expl_var[i-1], 2)))"
   ]
  },
  {
   "cell_type": "markdown",
   "metadata": {
    "colab_type": "text",
    "id": "urHM6UzrxrpC"
   },
   "source": [
    " \n",
    "> I think 500 dimensions is good enough \n",
    "\n",
    "---------\n",
    "\n",
    "-  By just taking __(20 to 30)__ latent factors, explained variance that we could get is __20 %__. \n",
    "\n",
    "- To take it to __60%__, we have to take  __almost 400 latent factors__. It is not fare.\n",
    "\n",
    "\n",
    "\n",
    "- It basically is the __gain of variance explained__, if we ___add one additional latent factor to it.___\n",
    "\n",
    "\n",
    "- By adding one by one latent factore too it, the ___gain in expained variance__ with that addition is decreasing. (Obviously, because they are sorted that way).\n",
    "- ___LHS Graph___:\n",
    "    - __x__ --- ( No of latent factos ),\n",
    "    - __y__ --- ( The variance explained by taking x latent factors)\n",
    "\n",
    "\n",
    "\n",
    "- __More decrease in the line (RHS graph) __:\n",
    "    - We  are getting more expained variance than before.\n",
    "- __Less decrease in that line (RHS graph)__  :\n",
    "    - We are not getting benifitted from adding latent factor furthur. This is what is shown in the plots.\n",
    "\n",
    "\n",
    "- ___RHS Graph___:\n",
    "    - __x__ --- ( No of latent factors ),\n",
    "    - __y__ --- ( Gain n Expl_Var by taking one additional latent factor) "
   ]
  },
  {
   "cell_type": "code",
   "execution_count": 52,
   "metadata": {
    "colab": {},
    "colab_type": "code",
    "id": "1oeIcSxYxrpD",
    "outputId": "5f7de336-1593-41ee-8d5e-522ed4b6555d",
    "scrolled": true
   },
   "outputs": [
    {
     "name": "stdout",
     "output_type": "stream",
     "text": [
      "0:00:12.970803\n"
     ]
    }
   ],
   "source": [
    "# Let's project our Original U_M matrix into into 500 Dimensional space...\n",
    "start = datetime.now()\n",
    "trunc_matrix = train_sparse_matrix.dot(netflix_svd.components_.T)\n",
    "print(datetime.now()- start)"
   ]
  },
  {
   "cell_type": "code",
   "execution_count": 53,
   "metadata": {
    "colab": {},
    "colab_type": "code",
    "id": "MAwRD5AwxrpG",
    "outputId": "a5194761-c6da-4f25-a31e-89cc55033f45",
    "scrolled": true
   },
   "outputs": [
    {
     "data": {
      "text/plain": [
       "(numpy.ndarray, (2649430, 500))"
      ]
     },
     "execution_count": 53,
     "metadata": {},
     "output_type": "execute_result"
    }
   ],
   "source": [
    "type(trunc_matrix), trunc_matrix.shape"
   ]
  },
  {
   "cell_type": "markdown",
   "metadata": {
    "colab_type": "text",
    "id": "1J2zqArKxrpL"
   },
   "source": [
    "* Let's convert this to actual sparse matrix and store it for future purposes"
   ]
  },
  {
   "cell_type": "code",
   "execution_count": 54,
   "metadata": {
    "colab": {},
    "colab_type": "code",
    "id": "zikAa8pkxrpM"
   },
   "outputs": [],
   "source": [
    "if not os.path.isfile('trunc_sparse_matrix.npz'):\n",
    "    # create that sparse sparse matrix\n",
    "    trunc_sparse_matrix = sparse.csr_matrix(trunc_matrix)\n",
    "    # Save this truncated sparse matrix for later usage..\n",
    "    sparse.save_npz('trunc_sparse_matrix', trunc_sparse_matrix)\n",
    "else:\n",
    "    trunc_sparse_matrix = sparse.load_npz('trunc_sparse_matrix.npz')"
   ]
  },
  {
   "cell_type": "code",
   "execution_count": 55,
   "metadata": {
    "colab": {},
    "colab_type": "code",
    "id": "TR9TF1rVxrpP",
    "outputId": "39b44fd5-3fc5-43ca-c804-a93496356bce"
   },
   "outputs": [
    {
     "data": {
      "text/plain": [
       "(2649430, 500)"
      ]
     },
     "execution_count": 55,
     "metadata": {},
     "output_type": "execute_result"
    }
   ],
   "source": [
    "trunc_sparse_matrix.shape"
   ]
  },
  {
   "cell_type": "code",
   "execution_count": 56,
   "metadata": {
    "colab": {},
    "colab_type": "code",
    "id": "Nq6-WQa3xrpR",
    "outputId": "b3a387d8-3fb5-4a3d-e0de-9a5f02a7926f"
   },
   "outputs": [
    {
     "name": "stdout",
     "output_type": "stream",
     "text": [
      "Computing top 50 similarities for each user..\n",
      "computing done for 10 users [  time elapsed : 0:01:18.204412  ]\n",
      "computing done for 20 users [  time elapsed : 0:02:35.670267  ]\n",
      "computing done for 30 users [  time elapsed : 0:03:52.767811  ]\n",
      "computing done for 40 users [  time elapsed : 0:05:09.869585  ]\n",
      "computing done for 50 users [  time elapsed : 0:06:27.973059  ]\n",
      "Creating Sparse matrix from the computed similarities\n"
     ]
    },
    {
     "data": {
      "image/png": "[encoded data removed]",
      "text/plain": [
       "<Figure size 432x288 with 1 Axes>"
      ]
     },
     "metadata": {
      "needs_background": "light"
     },
     "output_type": "display_data"
    },
    {
     "name": "stdout",
     "output_type": "stream",
     "text": [
      "--------------------------------------------------\n",
      "time: 0:06:46.604198\n"
     ]
    }
   ],
   "source": [
    "start = datetime.now()\n",
    "trunc_u_u_sim_matrix, _ = compute_user_similarity(trunc_sparse_matrix, compute_for_few=True, top=50, verbose=True, \n",
    "                                                 verb_for_n_rows=10)\n",
    "print(\"-\"*50)\n",
    "print(\"time:\",datetime.now()-start)"
   ]
  },
  {
   "cell_type": "markdown",
   "metadata": {
    "colab_type": "text",
    "id": "xccLgInHxrpZ"
   },
   "source": [
    "**: This is taking more time for each user than Original one.**"
   ]
  },
  {
   "cell_type": "markdown",
   "metadata": {
    "colab_type": "text",
    "id": "vz0YrbXuxrpd"
   },
   "source": [
    "- from above plot, It took almost __12.18__ for computing simlilar users for __one user__\n",
    "    \n",
    "    \n",
    "- We have __405041 users__ with us in training set.\n",
    "\n",
    "\n",
    "- ${ 405041 \\times 12.18 ==== 4933399.38 \\sec } ====  82223.323 \\min ==== 1370.388716667 \\text{ hours}\n",
    "==== 57.099529861 \\text{ days}...$\n",
    "\n",
    "    - Even we run on 4 cores parallelly (a typical system now a days), It will still take almost __(14 - 15) __ days.\n"
   ]
  },
  {
   "cell_type": "markdown",
   "metadata": {
    "colab_type": "text",
    "id": "Sq-8XYXjxrpd"
   },
   "source": [
    "- __Why did this happen...??__\n",
    "\n",
    "\n",
    "    - Just think about it. It's not that difficult.\n",
    "\n",
    "---------------------------------_( sparse & dense..................get it ?? )_-----------------------------------"
   ]
  },
  {
   "cell_type": "markdown",
   "metadata": {
    "colab_type": "text",
    "id": "U4Zj4YuXxrpf"
   },
   "source": [
    "__Is there any other way to compute user user similarity..??__"
   ]
  },
  {
   "cell_type": "markdown",
   "metadata": {
    "colab_type": "text",
    "id": "QfiKDgY0xrpg"
   },
   "source": [
    "-An alternative is to compute similar users for a particular user,  whenenver required (**ie., Run time**)\n",
    "    - We maintain a binary Vector for users, which tells us whether we already computed or not..\n",
    "    - ***If not*** : \n",
    "        - Compute top (let's just say, 1000) most similar users for this given user, and add this to our datastructure, so that we can just access it(similar users) without recomputing it again.\n",
    "        - \n",
    "    - ***If It is already Computed***:\n",
    "        - Just get it directly from our datastructure, which has that information.\n",
    "        - In production time, We might have to recompute similarities, if it is computed a long time ago. Because user preferences changes over time. If we could maintain some kind of Timer, which when expires, we have to update it ( recompute it ). \n",
    "        - \n",
    "    - ***Which datastructure to use:***\n",
    "        - It is purely implementation dependant. \n",
    "        - One simple method is to maintain a **Dictionary Of Dictionaries**.\n",
    "            - \n",
    "            - **key    :** _userid_ \n",
    "            - __value__: _Again a dictionary_\n",
    "                - __key__  : _Similar User_\n",
    "                - __value__: _Similarity Value_"
   ]
  },
  {
   "cell_type": "markdown",
   "metadata": {
    "colab_type": "text",
    "collapsed": true,
    "id": "kb9Yk2f5xrpg"
   },
   "source": [
    "<h3> 3.4.2 Computing Movie-Movie Similarity matrix </h3>"
   ]
  },
  {
   "cell_type": "code",
   "execution_count": 57,
   "metadata": {
    "colab": {},
    "colab_type": "code",
    "id": "xX24qLe3xrph",
    "outputId": "e6923c6a-ace5-44a2-f724-84c4b0e307a7"
   },
   "outputs": [
    {
     "name": "stdout",
     "output_type": "stream",
     "text": [
      "It seems you don't have that file. Computing movie_movie similarity...\n",
      "Done..\n",
      "Saving it to disk without the need of re-computing it again.. \n",
      "Done..\n",
      "It's a  (17771, 17771)  dimensional matrix\n",
      "0:05:52.738955\n"
     ]
    }
   ],
   "source": [
    "start = datetime.now()\n",
    "if not os.path.isfile('m_m_sim_sparse.npz'):\n",
    "    print(\"It seems you don't have that file. Computing movie_movie similarity...\")\n",
    "    start = datetime.now()\n",
    "    m_m_sim_sparse = cosine_similarity(X=train_sparse_matrix.T, dense_output=False)\n",
    "    print(\"Done..\")\n",
    "    # store this sparse matrix in disk before using it. For future purposes.\n",
    "    print(\"Saving it to disk without the need of re-computing it again.. \")\n",
    "    sparse.save_npz(\"m_m_sim_sparse.npz\", m_m_sim_sparse)\n",
    "    print(\"Done..\")\n",
    "else:\n",
    "    print(\"It is there, We will get it.\")\n",
    "    m_m_sim_sparse = sparse.load_npz(\"m_m_sim_sparse.npz\")\n",
    "    print(\"Done ...\")\n",
    "\n",
    "print(\"It's a \",m_m_sim_sparse.shape,\" dimensional matrix\")\n",
    "\n",
    "print(datetime.now() - start)"
   ]
  },
  {
   "cell_type": "code",
   "execution_count": 58,
   "metadata": {
    "colab": {},
    "colab_type": "code",
    "id": "zwbIOuozxrpn",
    "outputId": "cd481df2-f6ea-4f01-d4d1-b500ab74f838"
   },
   "outputs": [
    {
     "data": {
      "text/plain": [
       "(17771, 17771)"
      ]
     },
     "execution_count": 58,
     "metadata": {},
     "output_type": "execute_result"
    }
   ],
   "source": [
    "m_m_sim_sparse.shape"
   ]
  },
  {
   "cell_type": "markdown",
   "metadata": {
    "colab_type": "text",
    "id": "wjGcfeyFxrpp"
   },
   "source": [
    "- Even though we have similarity measure of each movie, with all other movies, We generally don't care much about least similar movies.\n",
    "\n",
    "\n",
    "- Most of the times, only top_xxx similar items matters. It may be 10 or 100.\n",
    "\n",
    "\n",
    "- We take only those top similar movie ratings and store them  in a saperate dictionary."
   ]
  },
  {
   "cell_type": "code",
   "execution_count": 59,
   "metadata": {
    "colab": {},
    "colab_type": "code",
    "id": "zg3aFVclxrpp"
   },
   "outputs": [],
   "source": [
    "movie_ids = np.unique(m_m_sim_sparse.nonzero()[1])"
   ]
  },
  {
   "cell_type": "code",
   "execution_count": 60,
   "metadata": {
    "colab": {},
    "colab_type": "code",
    "id": "JB_LiDL5xrps",
    "outputId": "7e9d1c69-1ceb-4c26-e81f-83291f44aaa5"
   },
   "outputs": [
    {
     "name": "stdout",
     "output_type": "stream",
     "text": [
      "0:00:31.018688\n"
     ]
    },
    {
     "data": {
      "text/plain": [
       "array([14893, 10220, 13000,  8532, 10400,  6933, 17731, 17545,   219,\n",
       "        1368,    99, 16761,   415, 17566,   218,   882,   464,  1864,\n",
       "       15056,  7458,  7012,  8899,  6116, 16625, 15439, 12705, 16684,\n",
       "       13156,  5370,  2541, 13395,  1003, 11809, 10544,  6986, 10862,\n",
       "        6838,   669, 10332, 15050,  8692, 15878, 11539, 11943,  1383,\n",
       "        3261, 14956,  8309,  9221, 15789,  8222,  4997, 15589,  4332,\n",
       "       15763, 15910,  1474,  9956, 16528,  2818,  6410,  8374, 11016,\n",
       "        8291, 15391,  6217, 17542, 12199,  4734, 15030,  1910,  6209,\n",
       "        8153,  9050, 10687,  1900,  8279, 10652, 13631, 10323, 10258,\n",
       "       15448, 13525,  9372, 14679, 11742,  4236, 17477, 10427, 10974,\n",
       "        1949, 12700, 11115, 13183,  1671, 16817, 10753,  1772,  4391,\n",
       "        9358])"
      ]
     },
     "execution_count": 60,
     "metadata": {},
     "output_type": "execute_result"
    }
   ],
   "source": [
    "start = datetime.now()\n",
    "similar_movies = dict()\n",
    "for movie in movie_ids:\n",
    "    # get the top similar movies and store them in the dictionary\n",
    "    sim_movies = m_m_sim_sparse[movie].toarray().ravel().argsort()[::-1][1:]\n",
    "    similar_movies[movie] = sim_movies[:100]\n",
    "print(datetime.now() - start)\n",
    "\n",
    "# just testing similar movies for movie_15\n",
    "similar_movies[15]"
   ]
  },
  {
   "cell_type": "markdown",
   "metadata": {
    "colab_type": "text",
    "id": "NA1SHx6Oxrpv"
   },
   "source": [
    " "
   ]
  },
  {
   "cell_type": "markdown",
   "metadata": {
    "colab_type": "text",
    "id": "eJIAvNB9xrpv"
   },
   "source": [
    "<h3> 3.4.3 Finding most similar movies using similarity matrix </h3>"
   ]
  },
  {
   "cell_type": "markdown",
   "metadata": {
    "colab_type": "text",
    "id": "FPlIy7uTxrpw"
   },
   "source": [
    "__ Does Similarity really works as the way we expected...? __ <br>\n",
    "_Let's pick some random movie and check for its similar movies...._"
   ]
  },
  {
   "cell_type": "code",
   "execution_count": 62,
   "metadata": {
    "colab": {},
    "colab_type": "code",
    "id": "SM7gPvCSxrpx",
    "outputId": "2d737e9e-a444-4ec5-aba0-6ad6363aa24d"
   },
   "outputs": [
    {
     "name": "stdout",
     "output_type": "stream",
     "text": [
      "Tokenization took: 312.66 ms\n",
      "Type conversion took: 108.75 ms\n",
      "Parser memory cleanup took: 0.01 ms\n",
      "Tokenization took: 80.88 ms\n",
      "Type conversion took: 114.27 ms\n",
      "Parser memory cleanup took: 0.01 ms\n",
      "Tokenization took: 63.43 ms\n",
      "Type conversion took: 128.45 ms\n",
      "Parser memory cleanup took: 0.01 ms\n",
      "Tokenization took: 103.08 ms\n",
      "Type conversion took: 110.95 ms\n",
      "Parser memory cleanup took: 0.01 ms\n",
      "Tokenization took: 146.25 ms\n",
      "Type conversion took: 118.42 ms\n",
      "Parser memory cleanup took: 0.01 ms\n",
      "Tokenization took: 57.15 ms\n",
      "Type conversion took: 105.70 ms\n",
      "Parser memory cleanup took: 0.02 ms\n",
      "Tokenization took: 62.61 ms\n",
      "Type conversion took: 109.03 ms\n",
      "Parser memory cleanup took: 0.01 ms\n",
      "Tokenization took: 73.14 ms\n",
      "Type conversion took: 121.58 ms\n",
      "Parser memory cleanup took: 0.01 ms\n",
      "Tokenization took: 70.34 ms\n",
      "Type conversion took: 109.48 ms\n",
      "Parser memory cleanup took: 0.01 ms\n",
      "Tokenization took: 143.47 ms\n",
      "Type conversion took: 116.38 ms\n",
      "Parser memory cleanup took: 0.01 ms\n",
      "Tokenization took: 103.35 ms\n",
      "Type conversion took: 109.09 ms\n",
      "Parser memory cleanup took: 0.01 ms\n",
      "Tokenization took: 113.91 ms\n",
      "Type conversion took: 101.16 ms\n",
      "Parser memory cleanup took: 0.01 ms\n",
      "Tokenization took: 80.96 ms\n",
      "Type conversion took: 101.06 ms\n",
      "Parser memory cleanup took: 0.01 ms\n",
      "Tokenization took: 100.10 ms\n",
      "Type conversion took: 110.02 ms\n",
      "Parser memory cleanup took: 0.01 ms\n",
      "Tokenization took: 92.13 ms\n",
      "Type conversion took: 102.26 ms\n",
      "Parser memory cleanup took: 0.01 ms\n",
      "Tokenization took: 67.23 ms\n",
      "Type conversion took: 110.04 ms\n",
      "Parser memory cleanup took: 0.01 ms\n",
      "Tokenization took: 68.63 ms\n",
      "Type conversion took: 103.48 ms\n",
      "Parser memory cleanup took: 0.01 ms\n",
      "Tokenization took: 99.02 ms\n",
      "Type conversion took: 114.71 ms\n",
      "Parser memory cleanup took: 0.01 ms\n",
      "Tokenization took: 69.55 ms\n",
      "Type conversion took: 111.28 ms\n",
      "Parser memory cleanup took: 0.01 ms\n",
      "Tokenization took: 116.10 ms\n",
      "Type conversion took: 97.18 ms\n",
      "Parser memory cleanup took: 0.01 ms\n",
      "Tokenization took: 68.64 ms\n",
      "Type conversion took: 106.51 ms\n",
      "Parser memory cleanup took: 0.01 ms\n",
      "Tokenization took: 108.45 ms\n",
      "Type conversion took: 112.42 ms\n",
      "Parser memory cleanup took: 0.01 ms\n",
      "Tokenization took: 78.68 ms\n",
      "Type conversion took: 113.47 ms\n",
      "Parser memory cleanup took: 0.01 ms\n",
      "Tokenization took: 128.36 ms\n",
      "Type conversion took: 108.92 ms\n",
      "Parser memory cleanup took: 0.01 ms\n",
      "Tokenization took: 135.06 ms\n",
      "Type conversion took: 109.54 ms\n",
      "Parser memory cleanup took: 0.01 ms\n",
      "Tokenization took: 50.52 ms\n",
      "Type conversion took: 124.33 ms\n",
      "Parser memory cleanup took: 0.01 ms\n",
      "Tokenization took: 148.62 ms\n",
      "Type conversion took: 117.80 ms\n",
      "Parser memory cleanup took: 0.01 ms\n",
      "Tokenization took: 66.75 ms\n",
      "Type conversion took: 109.91 ms\n",
      "Parser memory cleanup took: 0.06 ms\n",
      "Tokenization took: 119.64 ms\n",
      "Type conversion took: 121.28 ms\n",
      "Parser memory cleanup took: 0.01 ms\n",
      "Tokenization took: 70.69 ms\n",
      "Type conversion took: 123.07 ms\n",
      "Parser memory cleanup took: 0.01 ms\n",
      "Tokenization took: 77.53 ms\n",
      "Type conversion took: 108.73 ms\n",
      "Parser memory cleanup took: 0.01 ms\n",
      "Tokenization took: 155.85 ms\n",
      "Type conversion took: 118.29 ms\n",
      "Parser memory cleanup took: 0.01 ms\n",
      "Tokenization took: 115.72 ms\n",
      "Type conversion took: 118.35 ms\n",
      "Parser memory cleanup took: 0.01 ms\n",
      "Tokenization took: 64.61 ms\n",
      "Type conversion took: 114.13 ms\n",
      "Parser memory cleanup took: 0.01 ms\n",
      "Tokenization took: 164.05 ms\n",
      "Type conversion took: 114.68 ms\n",
      "Parser memory cleanup took: 0.01 ms\n",
      "Tokenization took: 131.39 ms\n",
      "Type conversion took: 150.68 ms\n",
      "Parser memory cleanup took: 0.01 ms\n",
      "Tokenization took: 58.43 ms\n",
      "Type conversion took: 113.13 ms\n",
      "Parser memory cleanup took: 0.01 ms\n",
      "Tokenization took: 155.28 ms\n",
      "Type conversion took: 122.35 ms\n",
      "Parser memory cleanup took: 0.01 ms\n",
      "Tokenization took: 104.22 ms\n",
      "Type conversion took: 111.91 ms\n",
      "Parser memory cleanup took: 0.01 ms\n",
      "Tokenization took: 138.93 ms\n",
      "Type conversion took: 110.88 ms\n",
      "Parser memory cleanup took: 0.01 ms\n",
      "Tokenization took: 149.09 ms\n",
      "Type conversion took: 106.52 ms\n",
      "Parser memory cleanup took: 0.01 ms\n",
      "Tokenization took: 93.09 ms\n",
      "Type conversion took: 113.51 ms\n",
      "Parser memory cleanup took: 0.01 ms\n",
      "Tokenization took: 73.82 ms\n",
      "Type conversion took: 137.71 ms\n",
      "Parser memory cleanup took: 0.01 ms\n",
      "Tokenization took: 68.75 ms\n",
      "Type conversion took: 119.16 ms\n",
      "Parser memory cleanup took: 0.01 ms\n",
      "Tokenization took: 75.65 ms\n",
      "Type conversion took: 112.17 ms\n",
      "Parser memory cleanup took: 0.01 ms\n",
      "Tokenization took: 97.22 ms\n",
      "Type conversion took: 121.53 ms\n",
      "Parser memory cleanup took: 0.01 ms\n",
      "Tokenization took: 75.21 ms\n",
      "Type conversion took: 120.92 ms\n",
      "Parser memory cleanup took: 0.01 ms\n",
      "Tokenization took: 129.60 ms\n",
      "Type conversion took: 116.84 ms\n",
      "Parser memory cleanup took: 0.02 ms\n",
      "Tokenization took: 170.74 ms\n",
      "Type conversion took: 114.54 ms\n",
      "Parser memory cleanup took: 0.01 ms\n",
      "Tokenization took: 88.98 ms\n",
      "Type conversion took: 123.31 ms\n",
      "Parser memory cleanup took: 0.01 ms\n",
      "Tokenization took: 87.57 ms\n",
      "Type conversion took: 109.69 ms\n",
      "Parser memory cleanup took: 0.01 ms\n",
      "Tokenization took: 78.44 ms\n",
      "Type conversion took: 118.05 ms\n",
      "Parser memory cleanup took: 0.01 ms\n",
      "Tokenization took: 197.99 ms\n",
      "Type conversion took: 123.43 ms\n",
      "Parser memory cleanup took: 0.01 ms\n",
      "Tokenization took: 212.12 ms\n",
      "Type conversion took: 106.81 ms\n",
      "Parser memory cleanup took: 0.01 ms\n",
      "Tokenization took: 113.06 ms\n",
      "Type conversion took: 108.42 ms\n",
      "Parser memory cleanup took: 0.01 ms\n",
      "Tokenization took: 94.43 ms\n",
      "Type conversion took: 111.50 ms\n",
      "Parser memory cleanup took: 0.01 ms\n",
      "Tokenization took: 164.11 ms\n",
      "Type conversion took: 113.31 ms\n",
      "Parser memory cleanup took: 0.01 ms\n",
      "Tokenization took: 95.28 ms\n",
      "Type conversion took: 116.63 ms\n",
      "Parser memory cleanup took: 0.01 ms\n",
      "Tokenization took: 103.04 ms\n",
      "Type conversion took: 117.99 ms\n",
      "Parser memory cleanup took: 0.01 ms\n",
      "Tokenization took: 154.12 ms\n",
      "Type conversion took: 127.17 ms\n",
      "Parser memory cleanup took: 0.01 ms\n",
      "Tokenization took: 82.28 ms\n",
      "Type conversion took: 117.69 ms\n",
      "Parser memory cleanup took: 0.01 ms\n",
      "Tokenization took: 81.39 ms\n",
      "Type conversion took: 127.72 ms\n",
      "Parser memory cleanup took: 0.01 ms\n",
      "Tokenization took: 83.64 ms\n",
      "Type conversion took: 128.91 ms\n",
      "Parser memory cleanup took: 0.01 ms\n",
      "Tokenization took: 82.70 ms\n",
      "Type conversion took: 130.38 ms\n",
      "Parser memory cleanup took: 0.01 ms\n",
      "Tokenization took: 165.54 ms\n",
      "Type conversion took: 127.54 ms\n",
      "Parser memory cleanup took: 0.01 ms\n",
      "Tokenization took: 60.94 ms\n",
      "Type conversion took: 105.33 ms\n",
      "Parser memory cleanup took: 0.01 ms\n",
      "Tokenization took: 102.93 ms\n",
      "Type conversion took: 119.39 ms\n",
      "Parser memory cleanup took: 0.01 ms\n",
      "Tokenization took: 159.22 ms\n",
      "Type conversion took: 123.15 ms\n",
      "Parser memory cleanup took: 0.01 ms\n",
      "Tokenization took: 76.98 ms\n",
      "Type conversion took: 115.51 ms\n",
      "Parser memory cleanup took: 0.01 ms\n",
      "Tokenization took: 169.89 ms\n",
      "Type conversion took: 107.42 ms\n",
      "Parser memory cleanup took: 0.01 ms\n",
      "Tokenization took: 158.57 ms\n",
      "Type conversion took: 128.76 ms\n",
      "Parser memory cleanup took: 0.01 ms\n",
      "Tokenization took: 93.32 ms\n",
      "Type conversion took: 114.60 ms\n",
      "Parser memory cleanup took: 0.01 ms\n",
      "Tokenization took: 150.83 ms\n",
      "Type conversion took: 114.28 ms\n",
      "Parser memory cleanup took: 0.01 ms\n",
      "Tokenization took: 93.61 ms\n",
      "Type conversion took: 108.97 ms\n",
      "Parser memory cleanup took: 0.01 ms\n",
      "Tokenization took: 103.62 ms\n",
      "Type conversion took: 110.18 ms\n",
      "Parser memory cleanup took: 0.01 ms\n",
      "Tokenization took: 77.49 ms\n",
      "Type conversion took: 107.20 ms\n",
      "Parser memory cleanup took: 0.01 ms\n",
      "Tokenization took: 110.01 ms\n",
      "Type conversion took: 112.47 ms\n",
      "Parser memory cleanup took: 0.01 ms\n",
      "Tokenization took: 105.79 ms\n",
      "Type conversion took: 161.40 ms\n",
      "Parser memory cleanup took: 0.01 ms\n",
      "Tokenization took: 142.01 ms\n",
      "Type conversion took: 115.31 ms\n",
      "Parser memory cleanup took: 0.01 ms\n",
      "Tokenization took: 111.44 ms\n",
      "Type conversion took: 111.90 ms\n",
      "Parser memory cleanup took: 0.01 ms\n",
      "Tokenization took: 101.76 ms\n",
      "Type conversion took: 129.28 ms\n",
      "Parser memory cleanup took: 0.01 ms\n",
      "Tokenization took: 79.17 ms\n",
      "Type conversion took: 130.72 ms\n",
      "Parser memory cleanup took: 0.01 ms\n",
      "Tokenization took: 103.72 ms\n",
      "Type conversion took: 119.89 ms\n",
      "Parser memory cleanup took: 0.01 ms\n",
      "Tokenization took: 123.05 ms\n",
      "Type conversion took: 119.42 ms\n",
      "Parser memory cleanup took: 0.01 ms\n",
      "Tokenization took: 78.21 ms\n",
      "Type conversion took: 122.71 ms\n",
      "Parser memory cleanup took: 0.01 ms\n",
      "Tokenization took: 179.04 ms\n",
      "Type conversion took: 117.92 ms\n",
      "Parser memory cleanup took: 0.01 ms\n",
      "Tokenization took: 15.55 ms\n",
      "Type conversion took: 35.07 ms\n",
      "Parser memory cleanup took: 0.01 ms\n"
     ]
    },
    {
     "data": {
      "text/html": [
       "<div>\n",
       "<style scoped>\n",
       "    .dataframe tbody tr th:only-of-type {\n",
       "        vertical-align: middle;\n",
       "    }\n",
       "\n",
       "    .dataframe tbody tr th {\n",
       "        vertical-align: top;\n",
       "    }\n",
       "\n",
       "    .dataframe thead th {\n",
       "        text-align: right;\n",
       "    }\n",
       "</style>\n",
       "<table border=\"1\" class=\"dataframe\">\n",
       "  <thead>\n",
       "    <tr style=\"text-align: right;\">\n",
       "      <th></th>\n",
       "      <th>year_of_release</th>\n",
       "      <th>title</th>\n",
       "    </tr>\n",
       "    <tr>\n",
       "      <th>movie_id</th>\n",
       "      <th></th>\n",
       "      <th></th>\n",
       "    </tr>\n",
       "  </thead>\n",
       "  <tbody>\n",
       "    <tr>\n",
       "      <th>9211:</th>\n",
       "      <td>NaN</td>\n",
       "      <td>NaN</td>\n",
       "    </tr>\n",
       "    <tr>\n",
       "      <th>1277134</th>\n",
       "      <td>1.0</td>\n",
       "      <td>2003-12-02</td>\n",
       "    </tr>\n",
       "    <tr>\n",
       "      <th>2435457</th>\n",
       "      <td>2.0</td>\n",
       "      <td>2005-06-01</td>\n",
       "    </tr>\n",
       "    <tr>\n",
       "      <th>2338545</th>\n",
       "      <td>3.0</td>\n",
       "      <td>2001-02-17</td>\n",
       "    </tr>\n",
       "    <tr>\n",
       "      <th>2218269</th>\n",
       "      <td>1.0</td>\n",
       "      <td>2002-12-27</td>\n",
       "    </tr>\n",
       "  </tbody>\n",
       "</table>\n",
       "</div>"
      ],
      "text/plain": [
       "          year_of_release       title\n",
       "movie_id                             \n",
       "9211:                 NaN         NaN\n",
       "1277134               1.0  2003-12-02\n",
       "2435457               2.0  2005-06-01\n",
       "2338545               3.0  2001-02-17\n",
       "2218269               1.0  2002-12-27"
      ]
     },
     "execution_count": 62,
     "metadata": {},
     "output_type": "execute_result"
    }
   ],
   "source": [
    "# First Let's load the movie details into soe dataframe..\n",
    "# movie details are in 'netflix/movie_titles.csv'\n",
    "\n",
    "movie_titles = pd.read_csv(\"movie_titles.csv\", sep=',', header = None,\n",
    "                           names=['movie_id', 'year_of_release', 'title'], verbose=True,\n",
    "                      index_col = 'movie_id', encoding = \"ISO-8859-1\")\n",
    "\n",
    "movie_titles.head()"
   ]
  },
  {
   "cell_type": "markdown",
   "metadata": {
    "colab_type": "text",
    "id": "sUT8MvZlxrpz"
   },
   "source": [
    "<p style='font-size:15px'><b>Similar Movies for 'Vampire Journals'</b></p>"
   ]
  },
  {
   "cell_type": "code",
   "execution_count": 67,
   "metadata": {
    "colab": {},
    "colab_type": "code",
    "id": "amTIWwyqxrpz",
    "outputId": "1665280e-124d-4e73-f508-808853ebba2d"
   },
   "outputs": [
    {
     "name": "stdout",
     "output_type": "stream",
     "text": [
      "\n",
      "It has 19 Ratings from users.\n",
      "\n",
      "We have 16537 movies which are similarto this  and we will get only top most..\n"
     ]
    }
   ],
   "source": [
    "mv_id = 67\n",
    "\n",
    "print(\"\\nIt has {} Ratings from users.\".format(train_sparse_matrix[:,mv_id].getnnz()))\n",
    "\n",
    "print(\"\\nWe have {} movies which are similarto this  and we will get only top most..\".format(m_m_sim_sparse[:,mv_id].getnnz()))"
   ]
  },
  {
   "cell_type": "code",
   "execution_count": 68,
   "metadata": {
    "colab": {},
    "colab_type": "code",
    "id": "qGKTUo41xrp1"
   },
   "outputs": [],
   "source": [
    "similarities = m_m_sim_sparse[mv_id].toarray().ravel()\n",
    "\n",
    "similar_indices = similarities.argsort()[::-1][1:]\n",
    "\n",
    "similarities[similar_indices]\n",
    "\n",
    "sim_indices = similarities.argsort()[::-1][1:] # It will sort and reverse the array and ignore its similarity (ie.,1)\n",
    "                                               # and return its indices(movie_ids)"
   ]
  },
  {
   "cell_type": "code",
   "execution_count": 69,
   "metadata": {
    "colab": {},
    "colab_type": "code",
    "id": "LkmEthwOxrp3",
    "outputId": "2e929724-0612-4d54-cab4-e8a4b6081b37"
   },
   "outputs": [
    {
     "data": {
      "image/png": "[encoded data removed]",
      "text/plain": [
       "<Figure size 432x288 with 1 Axes>"
      ]
     },
     "metadata": {
      "needs_background": "light"
     },
     "output_type": "display_data"
    }
   ],
   "source": [
    "plt.plot(similarities[sim_indices], label='All the ratings')\n",
    "plt.plot(similarities[sim_indices[:100]], label='top 100 similar movies')\n",
    "plt.title(\"Similar Movies of {}(movie_id)\".format(mv_id), fontsize=20)\n",
    "plt.xlabel(\"Movies (Not Movie_Ids)\", fontsize=15)\n",
    "plt.ylabel(\"Cosine Similarity\",fontsize=15)\n",
    "plt.legend()\n",
    "plt.show()"
   ]
  },
  {
   "cell_type": "markdown",
   "metadata": {
    "colab_type": "text",
    "id": "oO-wNdcAxrp7"
   },
   "source": [
    " "
   ]
  },
  {
   "cell_type": "markdown",
   "metadata": {
    "colab_type": "text",
    "id": "k7lxhEAgxrp7"
   },
   "source": [
    " "
   ]
  },
  {
   "cell_type": "markdown",
   "metadata": {
    "colab_type": "text",
    "id": "myQr_h7Lxrp8"
   },
   "source": [
    "__Top 10 similar movies__"
   ]
  },
  {
   "cell_type": "code",
   "execution_count": 75,
   "metadata": {
    "colab": {},
    "colab_type": "code",
    "id": "4PrIew0Pxrp8",
    "outputId": "eaebe922-cee7-4ef5-a41a-c7f6de5732d6",
    "scrolled": true
   },
   "outputs": [
    {
     "data": {
      "text/html": [
       "<div>\n",
       "<style scoped>\n",
       "    .dataframe tbody tr th:only-of-type {\n",
       "        vertical-align: middle;\n",
       "    }\n",
       "\n",
       "    .dataframe tbody tr th {\n",
       "        vertical-align: top;\n",
       "    }\n",
       "\n",
       "    .dataframe thead th {\n",
       "        text-align: right;\n",
       "    }\n",
       "</style>\n",
       "<table border=\"1\" class=\"dataframe\">\n",
       "  <thead>\n",
       "    <tr style=\"text-align: right;\">\n",
       "      <th></th>\n",
       "      <th>year_of_release</th>\n",
       "      <th>title</th>\n",
       "    </tr>\n",
       "    <tr>\n",
       "      <th>movie_id</th>\n",
       "      <th></th>\n",
       "      <th></th>\n",
       "    </tr>\n",
       "  </thead>\n",
       "  <tbody>\n",
       "    <tr>\n",
       "      <th>107338</th>\n",
       "      <td>3.0</td>\n",
       "      <td>2005-10-03</td>\n",
       "    </tr>\n",
       "    <tr>\n",
       "      <th>127401</th>\n",
       "      <td>5.0</td>\n",
       "      <td>2005-03-17</td>\n",
       "    </tr>\n",
       "    <tr>\n",
       "      <th>1654464</th>\n",
       "      <td>3.0</td>\n",
       "      <td>2004-01-16</td>\n",
       "    </tr>\n",
       "    <tr>\n",
       "      <th>425898</th>\n",
       "      <td>3.0</td>\n",
       "      <td>2005-08-25</td>\n",
       "    </tr>\n",
       "    <tr>\n",
       "      <th>67658</th>\n",
       "      <td>3.0</td>\n",
       "      <td>2004-05-03</td>\n",
       "    </tr>\n",
       "    <tr>\n",
       "      <th>1279971</th>\n",
       "      <td>4.0</td>\n",
       "      <td>2003-07-18</td>\n",
       "    </tr>\n",
       "    <tr>\n",
       "      <th>293360</th>\n",
       "      <td>3.0</td>\n",
       "      <td>2005-01-19</td>\n",
       "    </tr>\n",
       "    <tr>\n",
       "      <th>2264752</th>\n",
       "      <td>4.0</td>\n",
       "      <td>2003-09-12</td>\n",
       "    </tr>\n",
       "    <tr>\n",
       "      <th>760211</th>\n",
       "      <td>3.0</td>\n",
       "      <td>2004-06-25</td>\n",
       "    </tr>\n",
       "    <tr>\n",
       "      <th>1558907</th>\n",
       "      <td>3.0</td>\n",
       "      <td>2004-12-18</td>\n",
       "    </tr>\n",
       "  </tbody>\n",
       "</table>\n",
       "</div>"
      ],
      "text/plain": [
       "          year_of_release       title\n",
       "movie_id                             \n",
       "107338                3.0  2005-10-03\n",
       "127401                5.0  2005-03-17\n",
       "1654464               3.0  2004-01-16\n",
       "425898                3.0  2005-08-25\n",
       "67658                 3.0  2004-05-03\n",
       "1279971               4.0  2003-07-18\n",
       "293360                3.0  2005-01-19\n",
       "2264752               4.0  2003-09-12\n",
       "760211                3.0  2004-06-25\n",
       "1558907               3.0  2004-12-18"
      ]
     },
     "execution_count": 75,
     "metadata": {},
     "output_type": "execute_result"
    }
   ],
   "source": [
    "movie_titles.iloc[sim_indices[:10]]"
   ]
  },
  {
   "cell_type": "markdown",
   "metadata": {
    "colab_type": "text",
    "id": "PnfBBmdgxrp_"
   },
   "source": [
    " > Similarly, we can ___find similar users___ and compare how similar they are. "
   ]
  },
  {
   "cell_type": "markdown",
   "metadata": {
    "colab_type": "text",
    "id": "5W-89x3Hxrp_"
   },
   "source": [
    " "
   ]
  },
  {
   "cell_type": "markdown",
   "metadata": {
    "colab_type": "text",
    "id": "eBDg55WVxrqA"
   },
   "source": [
    " "
   ]
  },
  {
   "cell_type": "markdown",
   "metadata": {
    "colab_type": "text",
    "id": "4Tro44QZxrqB"
   },
   "source": [
    " <h1> 4.  Machine Learning Models </h1>"
   ]
  },
  {
   "cell_type": "markdown",
   "metadata": {
    "colab_type": "text",
    "id": "5fGHBTmfxrqC"
   },
   "source": [
    "<img src='images/models.jpg' width=500px>"
   ]
  },
  {
   "cell_type": "code",
   "execution_count": 76,
   "metadata": {
    "colab": {},
    "colab_type": "code",
    "id": "oBOQj4nmxrqD"
   },
   "outputs": [],
   "source": [
    "def get_sample_sparse_matrix(sparse_matrix, no_users, no_movies, path, verbose = True):\n",
    "    \"\"\"\n",
    "        It will get it from the ''path'' if it is present  or It will create \n",
    "        and store the sampled sparse matrix in the path specified.\n",
    "    \"\"\"\n",
    "\n",
    "    # get (row, col) and (rating) tuple from sparse_matrix...\n",
    "    row_ind, col_ind, ratings = sparse.find(sparse_matrix)\n",
    "    users = np.unique(row_ind)\n",
    "    movies = np.unique(col_ind)\n",
    "\n",
    "    print(\"Original Matrix : (users, movies) -- ({} {})\".format(len(users), len(movies)))\n",
    "    print(\"Original Matrix : Ratings -- {}\\n\".format(len(ratings)))\n",
    "\n",
    "    # It just to make sure to get same sample everytime we run this program..\n",
    "    # and pick without replacement....\n",
    "    np.random.seed(15)\n",
    "    sample_users = np.random.choice(users, no_users, replace=False)\n",
    "    sample_movies = np.random.choice(movies, no_movies, replace=False)\n",
    "    # get the boolean mask or these sampled_items in originl row/col_inds..\n",
    "    mask = np.logical_and( np.isin(row_ind, sample_users),\n",
    "                      np.isin(col_ind, sample_movies) )\n",
    "    \n",
    "    sample_sparse_matrix = sparse.csr_matrix((ratings[mask], (row_ind[mask], col_ind[mask])),\n",
    "                                             shape=(max(sample_users)+1, max(sample_movies)+1))\n",
    "\n",
    "    if verbose:\n",
    "        print(\"Sampled Matrix : (users, movies) -- ({} {})\".format(len(sample_users), len(sample_movies)))\n",
    "        print(\"Sampled Matrix : Ratings --\", format(ratings[mask].shape[0]))\n",
    "\n",
    "    print('Saving it into disk for furthur usage..')\n",
    "    # save it into disk\n",
    "    sparse.save_npz(path, sample_sparse_matrix)\n",
    "    if verbose:\n",
    "            print('Done..\\n')\n",
    "    \n",
    "    return sample_sparse_matrix"
   ]
  },
  {
   "cell_type": "markdown",
   "metadata": {
    "colab_type": "text",
    "id": "qKFfQ0bgxrqF"
   },
   "source": [
    "<h2> 4.1 Sampling Data </h2>"
   ]
  },
  {
   "cell_type": "markdown",
   "metadata": {
    "colab_type": "text",
    "id": "0jLFR-p1xrqG"
   },
   "source": [
    "<h3>4.1.1 Build sample train data from the train data</h3>"
   ]
  },
  {
   "cell_type": "code",
   "execution_count": 78,
   "metadata": {
    "colab": {},
    "colab_type": "code",
    "id": "l5dJ4yzVxrqH",
    "outputId": "acd9a972-167a-43d3-b5b5-59da9ee954b8"
   },
   "outputs": [
    {
     "name": "stdout",
     "output_type": "stream",
     "text": [
      "Original Matrix : (users, movies) -- (349312 17757)\n",
      "Original Matrix : Ratings -- 20096102\n",
      "\n",
      "Sampled Matrix : (users, movies) -- (10000 1000)\n",
      "Sampled Matrix : Ratings -- 36017\n",
      "Saving it into disk for furthur usage..\n",
      "Done..\n",
      "\n",
      "0:00:17.869007\n"
     ]
    }
   ],
   "source": [
    "start = datetime.now()\n",
    "path = \"sample_train_sparse_matrix.npz\"\n",
    "if os.path.isfile(path):\n",
    "    print(\"It is present in your pwd, getting it from disk....\")\n",
    "    # just get it from the disk instead of computing it\n",
    "    sample_train_sparse_matrix = sparse.load_npz(path)\n",
    "    print(\"DONE..\")\n",
    "else: \n",
    "    # get 10k users and 1k movies from available data \n",
    "    sample_train_sparse_matrix = get_sample_sparse_matrix(train_sparse_matrix, no_users=10000, no_movies=1000,\n",
    "                                             path = path)\n",
    "\n",
    "print(datetime.now() - start)"
   ]
  },
  {
   "cell_type": "markdown",
   "metadata": {
    "colab_type": "text",
    "id": "fQJ8BE0IxrqJ"
   },
   "source": [
    "<h3>4.1.2 Build sample test data from the test data</h3>"
   ]
  },
  {
   "cell_type": "code",
   "execution_count": 81,
   "metadata": {
    "colab": {},
    "colab_type": "code",
    "id": "8tPszXJ1xrqJ",
    "outputId": "1bba0063-64bc-4393-d14b-2eb0ddfccf7e"
   },
   "outputs": [
    {
     "name": "stdout",
     "output_type": "stream",
     "text": [
      "Original Matrix : (users, movies) -- (349312 17757)\n",
      "Original Matrix : Ratings -- 20096102\n",
      "\n",
      "Sampled Matrix : (users, movies) -- (5000 500)\n",
      "Sampled Matrix : Ratings -- 7333\n",
      "Saving it into disk for furthur usage..\n",
      "Done..\n",
      "\n",
      "0:00:17.960582\n"
     ]
    }
   ],
   "source": [
    "start = datetime.now()\n",
    "\n",
    "path = \"sample_test_sparse_matrix.npz\"\n",
    "if os.path.isfile(path):\n",
    "    print(\"It is present in your pwd, getting it from disk....\")\n",
    "    # just get it from the disk instead of computing it\n",
    "    sample_test_sparse_matrix = sparse.load_npz(path)\n",
    "    print(\"DONE..\")\n",
    "else:\n",
    "    # get 5k users and 500 movies from available data \n",
    "    sample_test_sparse_matrix = get_sample_sparse_matrix(test_sparse_matrix, no_users=5000, no_movies=500,\n",
    "                                                 path = \"sample_test_sparse_matrix.npz\")\n",
    "print(datetime.now() - start)"
   ]
  },
  {
   "cell_type": "markdown",
   "metadata": {
    "colab_type": "text",
    "id": "tzF6Hwx0xrqL"
   },
   "source": [
    " "
   ]
  },
  {
   "cell_type": "markdown",
   "metadata": {
    "colab_type": "text",
    "id": "BgTx-m-cxrqM"
   },
   "source": [
    "<h2>4.2 Finding Global Average of all movie ratings, Average rating per User, and Average rating per Movie (from sampled train)</h2>"
   ]
  },
  {
   "cell_type": "code",
   "execution_count": 82,
   "metadata": {
    "colab": {},
    "colab_type": "code",
    "id": "Af8rljDExrqN"
   },
   "outputs": [],
   "source": [
    "sample_train_averages = dict()"
   ]
  },
  {
   "cell_type": "markdown",
   "metadata": {
    "colab_type": "text",
    "id": "ZNMVuqWHxrqP"
   },
   "source": [
    "<h3>4.2.1 Finding Global Average of all movie ratings</h3>"
   ]
  },
  {
   "cell_type": "code",
   "execution_count": 83,
   "metadata": {
    "colab": {},
    "colab_type": "code",
    "id": "eJN92jujxrqQ",
    "outputId": "bfce9a93-dfa0-4c96-fbf4-fb597a2e336d"
   },
   "outputs": [
    {
     "data": {
      "text/plain": [
       "{'global': 3.6071854957381237}"
      ]
     },
     "execution_count": 83,
     "metadata": {},
     "output_type": "execute_result"
    }
   ],
   "source": [
    "# get the global average of ratings in our train set.\n",
    "global_average = sample_train_sparse_matrix.sum()/sample_train_sparse_matrix.count_nonzero()\n",
    "sample_train_averages['global'] = global_average\n",
    "sample_train_averages"
   ]
  },
  {
   "cell_type": "markdown",
   "metadata": {
    "colab_type": "text",
    "id": "A3ldVasnxrqS"
   },
   "source": [
    "<h3>4.2.2 Finding Average rating per User</h3>"
   ]
  },
  {
   "cell_type": "code",
   "execution_count": 100,
   "metadata": {
    "colab": {},
    "colab_type": "code",
    "id": "iLBPu2ObxrqT",
    "outputId": "85af4594-80f1-4dc9-9588-6372e62db396",
    "scrolled": true
   },
   "outputs": [
    {
     "name": "stdout",
     "output_type": "stream",
     "text": [
      "\n",
      "Average rating of user  : {7: 5.0, 126: 4.6, 268: 4.333333333333333, 1475: 3.0, 1809: 3.8095238095238093, 2040: 5.0, 2050: 3.090909090909091, 2975: 4.0, 3300: 3.625, 3321: 2.185567010309278, 3952: 3.0, 3959: 4.25, 4016: 3.5, 4422: 3.6, 4580: 4.5, 4752: 4.0, 4796: 4.5, 4882: 2.0, 5454: 4.0, 5474: 4.0, 5827: 4.375, 5851: 5.0, 6181: 4.5, 7419: 3.0, 7851: 4.5, 7921: 4.833333333333333, 8043: 4.0, 8367: 3.2, 8427: 3.6666666666666665, 8439: 4.0, 8623: 2.0, 10380: 2.625, 10670: 3.0, 10897: 3.6363636363636362, 11310: 3.0, 11452: 2.0, 11676: 3.0714285714285716, 12217: 4.0, 13717: 3.6666666666666665, 14060: 4.5, 14158: 4.5, 14179: 2.0, 14204: 3.3448275862068964, 14326: 3.5, 14793: 4.0, 15314: 4.0, 16168: 2.0, 17189: 4.25, 17330: 2.0, 17872: 4.5, 18309: 3.0, 19117: 3.5517241379310347, 19832: 2.0, 19917: 2.923076923076923, 20295: 1.6666666666666667, 20607: 4.0, 21229: 3.0, 21271: 4.0, 21851: 2.0, 21923: 3.5, 22338: 3.5, 22964: 3.6666666666666665, 23354: 4.0, 23404: 4.0, 24811: 4.0, 27242: 2.0, 28572: 3.5, 28668: 3.0, 29719: 3.8947368421052633, 29777: 3.0, 30666: 3.0, 30976: 3.0, 31164: 3.0, 31458: 4.4, 31829: 4.5, 32037: 3.0, 32243: 2.75, 32389: 5.0, 32426: 2.6666666666666665, 32668: 3.6666666666666665, 33484: 4.0, 34211: 4.0, 34910: 3.0, 35315: 3.0, 35898: 3.3333333333333335, 35994: 3.3333333333333335, 36123: 3.1666666666666665, 36646: 2.0, 36950: 2.8333333333333335, 37098: 3.789473684210526, 37533: 3.0, 38043: 4.25, 38264: 1.0, 39158: 2.8, 39329: 3.0, 39692: 3.7777777777777777, 39694: 2.0, 39939: 4.029411764705882, 41376: 3.4545454545454546, 41482: 3.9047619047619047, 41914: 4.166666666666667, 42128: 3.3333333333333335, 42598: 4.333333333333333, 42791: 3.0, 43520: 3.0, 43564: 4.666666666666667, 44397: 1.0, 44434: 2.1666666666666665, 44734: 3.25, 45117: 4.357142857142857, 45849: 3.4, 45856: 5.0, 45934: 1.0, 46103: 2.0, 46285: 3.5, 46519: 1.0, 46544: 5.0, 46679: 3.6153846153846154, 46903: 3.0, 47021: 5.0, 47953: 4.0, 48558: 2.6666666666666665, 48943: 3.586206896551724, 50114: 4.0, 50405: 4.0, 51010: 5.0, 51552: 4.666666666666667, 52869: 3.75, 53075: 2.0, 53938: 3.55, 55126: 3.5, 55572: 4.142857142857143, 55736: 3.0, 56371: 2.0, 56428: 3.0, 56620: 1.3333333333333333, 56649: 1.8333333333333333, 57289: 4.4, 57778: 3.357142857142857, 58704: 4.0, 59115: 3.8181818181818183, 60852: 3.75, 60856: 4.2, 61144: 4.666666666666667, 62060: 3.0, 62625: 3.5, 62682: 4.0, 62694: 3.75, 62732: 1.0, 62871: 4.142857142857143, 62874: 3.6666666666666665, 63164: 2.3333333333333335, 63220: 1.0, 63623: 3.5, 64178: 4.333333333333333, 64203: 3.5714285714285716, 64311: 4.333333333333333, 64573: 4.0, 65618: 3.6666666666666665, 65619: 5.0, 65807: 4.333333333333333, 65846: 5.0, 66062: 4.25, 66187: 3.2291666666666665, 66875: 5.0, 66942: 3.0, 67188: 5.0, 67516: 3.0, 67517: 4.0, 68114: 5.0, 68985: 3.5294117647058822, 69863: 4.4, 71435: 5.0, 71903: 4.5, 71923: 5.0, 72087: 3.0, 72320: 4.25, 72543: 5.0, 72958: 2.3333333333333335, 74020: 3.4545454545454546, 74404: 3.5, 75200: 3.5454545454545454, 75385: 4.0, 75410: 4.0, 75641: 4.0, 75691: 3.0, 76235: 5.0, 76549: 2.5, 77803: 5.0, 78022: 5.0, 78120: 3.0, 78165: 3.6666666666666665, 78494: 2.3333333333333335, 78526: 4.0, 78584: 5.0, 78601: 4.0, 79655: 5.0, 80140: 2.0, 81007: 3.0, 81040: 4.0, 81227: 4.0, 82371: 2.3333333333333335, 83076: 4.0, 85701: 3.0, 86082: 4.285714285714286, 86107: 3.5714285714285716, 86959: 3.4, 87580: 4.0, 87880: 4.0, 88891: 3.0, 89748: 3.5, 90724: 3.5714285714285716, 90894: 4.0, 90927: 3.0, 92259: 3.0, 92646: 3.5, 92903: 3.6, 93321: 3.5, 93473: 3.111111111111111, 93997: 3.857142857142857, 94112: 3.0, 94704: 2.0, 96386: 5.0, 96601: 4.0, 96666: 4.0, 97213: 4.0, 97547: 2.8, 97892: 4.0, 98586: 4.111111111111111, 98601: 4.25, 99051: 3.5, 99208: 5.0, 99639: 4.142857142857143, 99920: 3.5, 100035: 4.111111111111111, 101069: 3.0, 101713: 4.333333333333333, 103005: 3.6666666666666665, 103185: 3.0, 103506: 3.0, 104432: 3.769230769230769, 104494: 5.0, 104604: 2.0, 104821: 3.0, 104917: 4.0, 105089: 4.0, 105260: 4.0, 106239: 3.1666666666666665, 106515: 4.0, 107276: 3.5, 107445: 3.96, 107876: 4.0, 107931: 3.5384615384615383, 107969: 4.0, 108046: 3.5, 109084: 2.3333333333333335, 109377: 4.166666666666667, 110173: 3.0, 111025: 3.857142857142857, 111200: 3.6666666666666665, 111942: 5.0, 112008: 3.5, 112039: 3.9166666666666665, 112320: 4.444444444444445, 113068: 3.4, 113348: 3.4, 113366: 5.0, 113414: 3.3333333333333335, 113828: 4.142857142857143, 114327: 3.3333333333333335, 116681: 5.0, 116767: 3.3333333333333335, 117108: 4.0, 117329: 4.0, 117617: 4.2592592592592595, 118792: 3.6666666666666665, 118995: 3.0, 119566: 3.0, 119605: 4.27027027027027, 121182: 3.3333333333333335, 121420: 3.8, 121606: 3.5, 122948: 3.75, 123895: 2.5, 123913: 2.6666666666666665, 124189: 3.6666666666666665, 124603: 3.5, 124742: 3.75, 124946: 4.0, 125307: 4.166666666666667, 125501: 4.0, 126721: 4.0, 127275: 5.0, 127427: 4.166666666666667, 127746: 4.555555555555555, 127920: 4.0, 128065: 3.857142857142857, 128241: 4.166666666666667, 129000: 3.5833333333333335, 129773: 1.0, 129839: 2.75, 130061: 4.333333333333333, 130288: 3.3333333333333335, 130890: 5.0, 130969: 4.0, 131704: 3.0, 131846: 4.0, 132170: 4.111111111111111, 132588: 4.6, 132669: 4.333333333333333, 132734: 4.461538461538462, 134450: 2.6666666666666665, 134712: 3.888888888888889, 135962: 4.25, 136608: 1.0, 136617: 3.230769230769231, 137362: 4.0, 137487: 3.0, 137690: 1.0, 138945: 3.0, 139120: 3.0, 139129: 4.0, 139269: 3.0, 139858: 3.0, 140069: 2.0, 140208: 2.5, 141436: 4.166666666666667, 141510: 2.6666666666666665, 141649: 3.6, 141745: 3.5, 142373: 2.5, 142729: 2.0, 143821: 3.0, 143944: 3.95, 144086: 3.8461538461538463, 144265: 3.0, 145476: 3.0, 145920: 4.0, 146070: 3.25, 146307: 3.5, 146656: 4.0, 146986: 3.0, 147089: 5.0, 147386: 3.34375, 147477: 4.166666666666667, 148166: 2.6666666666666665, 148271: 4.5, 148350: 3.4, 148774: 3.5, 149087: 4.666666666666667, 149707: 4.0, 150469: 4.142857142857143, 151050: 4.0, 151228: 4.0, 151732: 4.0, 152875: 3.5, 153322: 3.25, 154005: 4.0, 154149: 3.6666666666666665, 154203: 3.0, 154844: 2.5, 154951: 3.0, 154995: 5.0, 155064: 3.0, 155254: 5.0, 155758: 1.5, 156132: 5.0, 156591: 3.0, 157122: 3.1666666666666665, 158738: 3.0, 158989: 3.8461538461538463, 159236: 4.0, 159424: 4.5, 159934: 3.4545454545454546, 160407: 3.0, 161103: 4.0, 161363: 4.428571428571429, 161804: 5.0, 161822: 3.0, 162513: 5.0, 162635: 3.3333333333333335, 163085: 5.0, 163166: 4.8, 163261: 3.142857142857143, 163578: 2.6666666666666665, 164288: 3.3333333333333335, 165446: 2.3333333333333335, 165504: 4.0, 165651: 3.3333333333333335, 166932: 3.0, 167347: 3.2142857142857144, 167517: 2.0, 167849: 4.0, 168133: 3.5, 168263: 2.6666666666666665, 168269: 3.0, 168351: 5.0, 168877: 3.5, 168971: 4.666666666666667, 169148: 5.0, 169288: 3.0, 169463: 4.166666666666667, 170400: 3.0, 171689: 4.0, 171840: 3.8181818181818183, 171945: 3.0, 172058: 4.5, 172598: 4.0, 173128: 3.3333333333333335, 174705: 3.3333333333333335, 176167: 2.0, 176300: 3.75, 176530: 3.0, 176543: 4.0, 177100: 2.0, 177984: 4.666666666666667, 178028: 4.625, 179801: 3.8, 179858: 4.0, 180117: 3.6, 180515: 3.6666666666666665, 180643: 3.3333333333333335, 181516: 4.0, 182118: 4.5, 182567: 3.0, 183129: 4.0, 183265: 3.0, 183339: 5.0, 185178: 3.0, 185231: 3.0, 185473: 2.9047619047619047, 185708: 4.0, 185873: 4.0, 186209: 3.142857142857143, 186371: 2.0, 186642: 3.5, 186915: 3.0, 187038: 4.0, 187288: 2.6, 187344: 3.6666666666666665, 187479: 4.0, 187668: 3.5, 187884: 3.75, 188162: 2.0, 189036: 3.5555555555555554, 189474: 5.0, 189719: 1.0, 190603: 3.0, 191479: 4.0, 191577: 3.3333333333333335, 191777: 3.5, 192213: 3.0, 192375: 5.0, 192939: 3.4, 193470: 3.5, 194693: 4.363636363636363, 195723: 3.5185185185185186, 195742: 3.6666666666666665, 195745: 5.0, 195854: 4.0, 196442: 3.0, 196726: 5.0, 197118: 4.5, 197435: 3.625, 197463: 5.0, 197903: 3.0, 197958: 3.0, 198253: 2.6666666666666665, 198613: 4.0, 198831: 2.8, 199323: 3.2777777777777777, 199435: 2.6, 199585: 4.0, 201320: 3.6, 201988: 4.25, 202909: 3.2, 202983: 2.6666666666666665, 203106: 3.5, 203216: 4.0, 204499: 4.5, 205085: 2.0, 205174: 4.25, 205745: 4.2, 206222: 3.586206896551724, 206477: 4.5, 207196: 5.0, 207285: 3.6666666666666665, 207423: 5.0, 207798: 4.166666666666667, 207858: 3.25, 208133: 1.0, 209030: 3.875, 209180: 3.4, 210286: 2.0, 210743: 3.8333333333333335, 211244: 3.0, 211399: 1.5, 211613: 3.5, 211889: 3.0, 211906: 3.5, 211976: 3.4, 212329: 3.473684210526316, 212652: 4.5, 213782: 1.0, 213844: 3.0, 214950: 4.0, 215084: 1.6666666666666667, 215555: 3.25, 217419: 4.0, 217706: 4.0, 217858: 4.714285714285714, 217982: 3.0, 218296: 4.0, 218648: 3.8, 219375: 3.75, 219863: 3.6666666666666665, 220001: 4.0, 220002: 4.0, 220487: 3.0, 220589: 3.4, 220757: 3.4545454545454546, 220823: 4.333333333333333, 221408: 3.0, 222635: 3.4375, 222946: 4.0, 223169: 4.0, 223317: 5.0, 223464: 4.0, 224109: 1.75, 224252: 3.8333333333333335, 224384: 2.0, 225067: 5.0, 225267: 5.0, 226137: 4.0, 226428: 5.0, 228431: 3.0, 229047: 3.0, 229255: 3.0, 229972: 3.4, 230122: 4.0, 231100: 4.0, 231401: 2.0, 231413: 5.0, 231505: 4.0, 231976: 2.0, 232379: 5.0, 232421: 2.8, 232623: 3.0, 232629: 4.0, 232994: 3.3333333333333335, 233562: 4.0, 233767: 2.909090909090909, 234487: 4.0, 235258: 3.0, 235511: 3.75, 235728: 3.0, 235838: 4.333333333333333, 236629: 5.0, 236678: 5.0, 237279: 3.2857142857142856, 237427: 4.0, 237684: 4.5, 237725: 4.0, 237798: 2.0, 238407: 3.5, 238647: 4.5, 238682: 3.5, 238767: 3.8, 239735: 4.0, 240363: 4.0, 240399: 3.1538461538461537, 240517: 4.1, 241781: 4.0, 243529: 4.0, 243727: 3.4054054054054053, 243739: 3.9, 243800: 2.5, 243840: 4.0, 244196: 4.0, 244252: 4.0, 244371: 3.5, 244484: 4.6, 244852: 4.0, 244994: 3.8, 245709: 3.5, 245944: 3.5, 246107: 4.0, 246570: 4.0, 246880: 3.5, 247529: 2.75, 247660: 2.8, 248151: 4.285714285714286, 250256: 3.3333333333333335, 250269: 4.857142857142857, 250528: 4.5, 250539: 5.0, 251530: 4.0, 251595: 4.111111111111111, 252307: 3.5, 252325: 4.333333333333333, 252560: 3.8461538461538463, 253684: 3.0, 254142: 3.0, 254895: 3.8, 255120: 3.5714285714285716, 255177: 4.0, 255570: 3.95, 255631: 3.3333333333333335, 255746: 5.0, 255836: 4.0, 256242: 2.0, 256474: 4.142857142857143, 256535: 4.666666666666667, 256601: 4.166666666666667, 256620: 3.0, 256632: 4.0, 257294: 3.75, 258007: 4.0, 258840: 4.4, 259242: 4.0, 260855: 3.0, 262036: 4.0, 262059: 3.0, 262463: 4.0, 262583: 3.6666666666666665, 262854: 4.0, 262862: 3.2857142857142856, 262926: 3.5, 262997: 4.0, 263146: 4.5, 263215: 4.5, 264772: 4.428571428571429, 265634: 3.3529411764705883, 265690: 4.0, 266086: 2.0, 266115: 4.333333333333333, 266325: 3.3333333333333335, 266398: 3.75, 267529: 3.0, 267852: 3.0, 268074: 2.0, 268210: 4.0, 268580: 3.6666666666666665, 268601: 4.0, 268682: 4.5, 269162: 2.6666666666666665, 269236: 5.0, 269574: 3.0, 269981: 1.3333333333333333, 270905: 2.75, 271563: 2.0, 271570: 2.3333333333333335, 271996: 3.5, 273564: 2.8333333333333335, 274212: 4.5, 274495: 4.0, 275753: 2.0, 275844: 3.95, 275974: 1.6666666666666667, 276227: 4.0, 276405: 1.0, 276422: 3.0, 276589: 4.0, 276827: 4.222222222222222, 276885: 3.6315789473684212, 277601: 3.625, 278886: 4.0, 280137: 3.3333333333333335, 280167: 2.3333333333333335, 280547: 2.75, 280590: 3.4166666666666665, 280674: 4.0, 280844: 3.5, 281019: 2.4, 281109: 3.6666666666666665, 281338: 4.0, 281779: 4.0, 281815: 4.0, 282156: 3.5, 282362: 3.3333333333333335, 282486: 4.0, 284111: 3.3333333333333335, 284819: 3.1538461538461537, 284960: 5.0, 285218: 3.0, 286319: 3.3, 286773: 4.125, 286832: 2.0, 287006: 4.0, 287470: 3.2, 288219: 2.85, 289045: 4.0, 289212: 1.0, 289227: 4.0, 289365: 3.3333333333333335, 289644: 3.0, 289776: 4.333333333333333, 290497: 4.5, 290505: 2.5, 291443: 4.0, 291654: 5.0, 291676: 3.0, 291773: 5.0, 293660: 3.0, 294052: 4.5, 294639: 4.0, 295232: 4.5, 295369: 3.5, 295512: 3.838709677419355, 295925: 4.0, 296452: 4.0, 296816: 5.0, 297177: 5.0, 297546: 3.0, 297780: 4.0, 298045: 3.4285714285714284, 298473: 3.0, 298716: 3.0, 298945: 5.0, 299153: 2.0, 299851: 3.0, 300282: 5.0, 301059: 1.0, 301336: 4.0, 301553: 5.0, 301726: 3.0, 301961: 3.5, 303641: 4.0, 303821: 3.0, 303901: 3.625, 303937: 3.0, 304942: 3.6666666666666665, 305224: 2.0, 306350: 4.0, 306354: 3.25, 306395: 5.0, 306633: 3.0, 307248: 3.6666666666666665, 307767: 3.5, 307811: 4.333333333333333, 307975: 3.7142857142857144, 309524: 3.6363636363636362, 310689: 4.5, 310712: 3.625, 310887: 3.6516129032258067, 311027: 3.6, 311293: 3.9, 311400: 5.0, 311881: 4.0, 312110: 3.0, 312549: 3.1578947368421053, 312770: 5.0, 313962: 2.5, 314092: 3.0, 315054: 3.0, 315484: 4.0, 316162: 3.5, 316240: 4.0, 316972: 4.0, 317600: 3.0, 318001: 3.6666666666666665, 318754: 3.0, 319539: 4.5, 320266: 4.0, 321195: 3.5, 321519: 3.5, 321623: 4.0, 322070: 5.0, 322909: 3.6470588235294117, 323177: 4.5, 323454: 5.0, 323593: 3.0, 323697: 4.0, 323835: 3.0, 324249: 3.5, 324534: 3.75, 324800: 4.0, 324915: 3.0, 325327: 4.333333333333333, 325332: 2.75, 325414: 3.0, 325581: 4.222222222222222, 326328: 3.5, 326534: 3.0, 327122: 3.0, 328718: 4.0, 329518: 3.75, 330079: 1.0, 330430: 4.7272727272727275, 330897: 3.0, 331165: 4.0, 331243: 3.8, 331483: 2.6666666666666665, 331501: 3.4864864864864864, 332186: 5.0, 333080: 3.5, 333379: 2.5, 333392: 4.0, 333406: 4.0, 333618: 3.0, 333883: 3.6666666666666665, 333986: 2.0, 334365: 4.0, 334443: 3.5, 334587: 5.0, 334957: 4.0, 335651: 5.0, 336501: 2.5, 336588: 4.25, 336804: 4.0, 336842: 3.25, 337357: 5.0, 337681: 3.857142857142857, 338144: 3.789473684210526, 338150: 5.0, 338330: 3.0, 338633: 3.967741935483871, 339560: 3.5, 339619: 4.0, 340357: 4.4, 340541: 2.0, 340736: 2.5, 340799: 2.6666666666666665, 341055: 3.0, 341108: 4.0, 341933: 3.4, 342272: 3.888888888888889, 342274: 3.7, 342454: 4.0, 342593: 3.6666666666666665, 343987: 3.411764705882353, 343999: 3.0, 344205: 5.0, 344394: 3.0, 344666: 4.5, 344832: 4.0, 345502: 2.0, 345568: 4.0, 346299: 3.875, 346500: 4.333333333333333, 347101: 3.0, 347393: 4.25, 347834: 4.0, 349185: 2.5, 350055: 4.333333333333333, 350875: 2.0, 351359: 3.0, 351435: 4.0, 351738: 4.0, 352002: 5.0, 352116: 3.5, 352144: 2.875, 352178: 5.0, 354013: 4.0, 354326: 3.875, 354991: 5.0, 355816: 5.0, 356035: 2.875, 357048: 3.590909090909091, 357146: 5.0, 357192: 4.0, 357632: 4.0, 357808: 4.2, 358736: 2.0, 358876: 4.0, 361330: 3.3333333333333335, 362398: 4.0, 362410: 3.0, 362534: 2.0, 363047: 2.6666666666666665, 363192: 3.8, 363450: 3.0, 363822: 3.0, 364143: 2.4, 364190: 3.0, 364547: 4.5, 364740: 4.25, 364780: 4.0, 365119: 3.125, 365566: 3.5714285714285716, 365733: 2.0, 365795: 2.0, 365853: 3.3333333333333335, 365855: 4.25, 366511: 4.0, 366815: 4.285714285714286, 367025: 4.166666666666667, 367089: 2.0, 367191: 3.25, 368457: 3.4, 368751: 3.5, 368978: 3.75, 369164: 3.75, 369501: 3.0, 369706: 1.5, 369748: 5.0, 370575: 5.0, 371300: 2.6, 371567: 4.0, 372233: 2.0, 372602: 3.0, 372791: 3.0, 372874: 3.857142857142857, 373125: 3.5, 373542: 2.0, 374245: 3.75, 375230: 3.3333333333333335, 375341: 3.3333333333333335, 375770: 2.4, 376234: 4.214285714285714, 376253: 5.0, 376309: 5.0, 376627: 2.0, 376682: 2.5, 376704: 3.9047619047619047, 377504: 3.7142857142857144, 377508: 4.5, 379136: 2.0, 379215: 4.090909090909091, 380044: 4.125, 380577: 2.0, 382041: 3.5833333333333335, 382649: 4.25, 383349: 4.0, 383631: 3.0, 384107: 5.0, 384216: 3.5454545454545454, 384378: 4.0, 385457: 2.75, 385913: 4.0, 386510: 3.8260869565217392, 386693: 2.0, 386715: 4.0, 386766: 3.6666666666666665, 386953: 4.8, 387555: 4.0, 388462: 3.0, 388469: 3.6363636363636362, 389439: 3.8666666666666667, 389668: 3.7142857142857144, 390008: 4.142857142857143, 390755: 3.5, 391028: 4.0, 391370: 2.5, 391372: 3.5, 391666: 3.9615384615384617, 392685: 2.3333333333333335, 392768: 3.3333333333333335, 393116: 2.0, 393411: 4.0, 393414: 3.2, 393773: 2.0, 394074: 4.0, 394409: 2.5, 394584: 2.0, 395073: 4.666666666666667, 395409: 3.0, 395520: 4.333333333333333, 396358: 5.0, 397212: 3.933333333333333, 397753: 4.5, 397815: 3.3333333333333335, 397948: 4.0, 398054: 4.0, 399218: 3.0, 399305: 3.896551724137931, 399409: 3.3333333333333335, 399543: 3.4, 399567: 2.0, 399647: 4.75, 399713: 4.0, 399761: 2.0, 399927: 3.6363636363636362, 400064: 4.0, 400368: 3.6666666666666665, 400799: 3.0, 400831: 3.0, 400981: 2.75, 401081: 3.6363636363636362, 401283: 3.0, 402564: 3.5, 404060: 5.0, 405009: 5.0, 405682: 4.0, 406219: 3.0, 406306: 4.142857142857143, 406789: 3.8666666666666667, 406814: 5.0, 406992: 3.642857142857143, 407016: 4.0, 407161: 3.6666666666666665, 407414: 4.625, 407450: 2.0, 407528: 3.263157894736842, 407738: 4.666666666666667, 407965: 4.0, 408282: 4.333333333333333, 408712: 4.333333333333333, 408854: 2.0, 408860: 3.4444444444444446, 408869: 5.0, 409332: 5.0, 409460: 3.4375, 409516: 4.5, 409613: 5.0, 409968: 3.25, 410004: 5.0, 410206: 3.0, 410926: 5.0, 410963: 2.5, 411053: 2.0, 411471: 3.0, 411684: 4.0, 412177: 3.0, 412935: 3.0, 413308: 1.5, 413505: 3.0, 414392: 5.0, 414769: 3.2857142857142856, 415585: 4.0, 415667: 2.6666666666666665, 416156: 1.5, 416565: 3.090909090909091, 416698: 4.0, 416817: 2.0, 418609: 5.0, 419129: 3.5, 419250: 4.666666666666667, 419357: 3.5757575757575757, 419809: 3.4615384615384617, 420020: 3.0, 420026: 4.0, 420525: 3.5, 420537: 5.0, 420655: 3.0, 421573: 2.0, 421926: 3.2857142857142856, 422107: 3.6666666666666665, 422144: 3.0, 422234: 2.0, 422243: 4.444444444444445, 422699: 3.0, 422918: 3.3333333333333335, 423591: 4.0, 423697: 5.0, 424309: 3.2, 424610: 4.266666666666667, 424727: 4.0, 424964: 3.0, 425567: 2.0, 425781: 5.0, 426777: 1.5, 427178: 4.0, 427262: 3.0, 427339: 3.5, 427818: 4.5, 427967: 3.0, 428101: 1.5, 428246: 1.0, 428325: 3.2857142857142856, 428331: 1.6666666666666667, 428867: 3.0, 429025: 3.0, 429072: 3.0, 429097: 3.1333333333333333, 429208: 4.5, 429393: 4.083333333333333, 431400: 3.0, 431513: 3.8947368421052633, 432327: 4.0, 432534: 2.0, 432934: 4.0, 433268: 4.0, 433474: 3.5, 434271: 2.6666666666666665, 434577: 3.0, 434796: 5.0, 436276: 4.2368421052631575, 436841: 2.8, 437313: 3.3333333333333335, 437831: 5.0, 438263: 3.5, 438496: 4.0, 438512: 5.0, 438699: 3.2, 439199: 3.0, 440007: 3.6666666666666665, 440836: 2.0, 441257: 3.25, 441277: 4.0, 442034: 4.0, 442134: 3.0, 442262: 2.5, 443183: 4.0, 443353: 3.625, 443512: 3.823529411764706, 443863: 2.75, 443951: 3.0, 444860: 4.0, 445003: 4.0, 445775: 4.0, 446268: 4.222222222222222, 446342: 3.0, 447530: 2.6666666666666665, 447708: 2.5, 447764: 4.0, 447867: 4.0, 449231: 3.0, 449556: 3.257142857142857, 449597: 3.875, 450194: 4.0, 450207: 3.1538461538461537, 450217: 3.6666666666666665, 451270: 3.875, 451289: 2.0, 451776: 4.0, 452146: 5.0, 452516: 2.0, 452724: 4.666666666666667, 453137: 4.5, 453686: 4.5, 453992: 3.0, 454753: 2.0, 455154: 4.428571428571429, 456254: 5.0, 457292: 5.0, 457618: 3.25, 457685: 4.0, 457747: 4.333333333333333, 458287: 3.4285714285714284, 458594: 2.0, 458734: 4.0, 458766: 3.0, 459180: 5.0, 460264: 5.0, 460678: 4.5, 460982: 2.0, 461246: 5.0, 461311: 3.3333333333333335, 461721: 4.0, 462528: 4.0, 462628: 4.5, 462656: 3.4444444444444446, 462953: 4.0, 463090: 4.5, 463286: 4.0, 463920: 4.0, 464091: 3.5, 464178: 3.5714285714285716, 464451: 5.0, 464539: 4.666666666666667, 464683: 4.0, 464751: 3.5, 464891: 5.0, 465178: 4.4, 465206: 2.0, 465566: 3.0, 465856: 3.7142857142857144, 466151: 4.066666666666666, 466157: 3.5, 467292: 3.6666666666666665, 467380: 4.0, 468126: 3.5652173913043477, 468837: 2.7142857142857144, 469654: 5.0, 469815: 4.0, 470369: 3.0, 470500: 4.0, 470702: 4.0, 471086: 3.0, 471173: 3.0, 471266: 4.714285714285714, 471384: 4.5, 471414: 3.625, 471422: 5.0, 471524: 4.0, 471621: 3.75, 471809: 4.0, 472027: 4.0, 472058: 2.7142857142857144, 472147: 3.1666666666666665, 472149: 1.0, 473650: 4.0, 473955: 3.5, 474678: 4.0, 475739: 1.0, 475784: 2.0, 476043: 3.5555555555555554, 476470: 4.0, 477063: 3.6666666666666665, 477388: 4.0, 478183: 3.3333333333333335, 478227: 3.0, 478458: 3.5, 479779: 2.0, 479898: 4.5, 480150: 3.0, 480335: 5.0, 480347: 4.0, 480507: 3.0, 480544: 3.6, 482332: 4.0, 483240: 3.5, 483303: 3.5, 483494: 4.0, 483599: 4.5, 483709: 3.0, 486258: 2.227272727272727, 486272: 4.0, 487133: 3.7419354838709675, 487334: 3.0, 487574: 4.0, 487790: 3.4146341463414633, 488271: 4.833333333333333, 488494: 4.5, 489013: 4.142857142857143, 489091: 4.0, 489925: 4.0, 489927: 2.6666666666666665, 490043: 4.5, 490223: 4.5, 491163: 4.352941176470588, 491297: 5.0, 491462: 3.347826086956522, 492280: 4.0, 492597: 4.052631578947368, 492706: 3.375, 492893: 3.0, 493171: 4.25, 493355: 3.9565217391304346, 493413: 3.0, 493835: 2.1, 493883: 4.333333333333333, 494040: 1.0, 494153: 1.5, 494363: 4.0, 494440: 4.619047619047619, 494494: 5.0, 494946: 2.3333333333333335, 495021: 2.75, 495265: 3.0, 495549: 3.5, 496517: 3.0, 496524: 3.0, 496561: 5.0, 496576: 2.75, 497078: 4.75, 497206: 4.0, 498744: 3.0, 499349: 1.0, 499394: 3.0, 499538: 4.2, 500932: 3.533333333333333, 500998: 4.0, 501309: 5.0, 501612: 3.0, 501656: 4.0, 502914: 3.0, 502916: 4.176470588235294, 503853: 2.75, 503936: 3.625, 504059: 4.0, 504843: 4.142857142857143, 506377: 3.6666666666666665, 506769: 5.0, 506970: 3.3333333333333335, 507235: 2.0, 507499: 4.0, 507586: 4.166666666666667, 508288: 5.0, 508355: 5.0, 508584: 3.0, 508924: 5.0, 509009: 4.0, 509277: 3.8205128205128207, 510355: 2.3333333333333335, 511141: 4.0, 511289: 4.5, 511298: 2.0, 512117: 3.0, 512598: 3.0, 512604: 3.0, 512793: 3.6666666666666665, 513590: 4.0, 514640: 4.0, 514728: 4.0, 515303: 4.0, 515758: 3.5, 515824: 4.0, 516060: 3.0, 516355: 4.0, 516547: 3.25, 516926: 3.6, 517500: 3.6666666666666665, 517530: 3.0, 517557: 2.5, 517592: 4.142857142857143, 518125: 4.25, 518137: 3.5128205128205128, 518363: 5.0, 518439: 4.0, 519221: 4.857142857142857, 519226: 4.0, 519693: 3.5, 519791: 4.0, 520645: 3.6666666666666665, 520909: 2.6666666666666665, 521205: 4.666666666666667, 521364: 4.5, 521405: 4.8, 521443: 4.333333333333333, 521464: 5.0, 521569: 3.4, 521793: 4.0, 522578: 4.1, 523144: 3.5, 523658: 4.222222222222222, 524610: 3.5, 524995: 3.6666666666666665, 525387: 1.0, 525835: 5.0, 527392: 3.0, 527592: 4.0, 527863: 4.0, 528725: 2.6666666666666665, 529753: 3.4615384615384617, 530862: 3.8333333333333335, 531798: 3.0, 531836: 3.75, 532089: 2.5, 532679: 3.6666666666666665, 532713: 4.5, 532926: 5.0, 533270: 3.4, 533802: 1.0, 535156: 3.7777777777777777, 535261: 2.0, 535358: 3.0, 535419: 2.6153846153846154, 535958: 4.090909090909091, 536429: 4.5, 536797: 4.25, 536930: 2.0, 537462: 3.0, 537693: 4.5, 537695: 4.0, 538160: 3.5, 538406: 4.5, 538609: 4.0, 539037: 3.090909090909091, 539345: 4.5, 539743: 3.52, 539938: 4.4, 540322: 4.0, 540894: 3.5, 542373: 3.0, 542405: 4.0, 542499: 1.0, 543019: 4.5, 543507: 4.666666666666667, 543618: 5.0, 545046: 4.5, 545374: 2.75, 545432: 5.0, 545523: 3.7755102040816326, 545569: 4.0, 545915: 3.6666666666666665, 546063: 3.5, 546397: 3.0, 546439: 2.0, 546495: 3.0, 546847: 4.0, 548578: 3.0, 549248: 1.0, 549725: 3.0, 550367: 5.0, 550655: 2.75, 550802: 5.0, 551154: 2.75, 551362: 3.4615384615384617, 551386: 3.0, 552407: 3.0, 552856: 4.0, 553784: 3.3333333333333335, 554053: 4.5, 554811: 4.5, 554932: 5.0, 555098: 4.0, 555753: 5.0, 556163: 4.0, 556181: 4.0, 556633: 3.8, 556719: 3.45, 556798: 4.029411764705882, 557042: 3.0, 557101: 3.3333333333333335, 557219: 4.0, 557240: 3.0, 557292: 4.5, 557502: 3.8, 557607: 1.0, 558159: 4.0, 558262: 3.7142857142857144, 558543: 3.0, 558658: 4.0, 559066: 4.0, 559105: 2.857142857142857, 559128: 4.0, 559645: 3.5, 559664: 3.0, 559906: 3.0, 560047: 3.823529411764706, 560116: 2.6666666666666665, 561665: 3.3333333333333335, 562621: 3.230769230769231, 563019: 2.8214285714285716, 563292: 4.071428571428571, 565035: 4.0, 565127: 5.0, 565504: 3.0, 565700: 3.5, 566890: 2.5, 567239: 4.0, 567279: 2.0, 567495: 3.0, 567591: 3.25, 568436: 3.8333333333333335, 568964: 4.0, 569359: 2.6666666666666665, 569377: 5.0, 569694: 3.4285714285714284, 569755: 3.5, 570159: 4.555555555555555, 570187: 5.0, 570428: 3.0833333333333335, 570730: 4.666666666666667, 571157: 4.0, 571229: 3.5, 571304: 5.0, 572618: 4.5, 573259: 2.0, 573325: 2.9, 573364: 3.5, 573858: 5.0, 573980: 3.3333333333333335, 574135: 4.333333333333333, 574416: 4.181818181818182, 574582: 4.285714285714286, 574922: 4.0, 575171: 4.0, 576019: 3.6666666666666665, 576107: 4.0, 576432: 3.6842105263157894, 576855: 4.4, 577359: 4.0, 579344: 3.4, 579781: 3.4285714285714284, 580146: 3.0, 580716: 5.0, 581403: 3.3333333333333335, 581616: 3.375, 581735: 3.0, 582052: 3.0, 582466: 4.333333333333333, 584217: 4.0, 584264: 2.0, 585095: 4.0, 585300: 2.0, 585837: 4.25, 586026: 4.666666666666667, 586162: 3.75, 586234: 2.8, 586257: 3.022222222222222, 587219: 3.75, 587444: 3.0, 587518: 3.25, 587947: 3.1666666666666665, 588381: 3.6470588235294117, 588399: 2.0, 589103: 5.0, 589531: 3.5, 589922: 4.0, 590217: 4.5, 590593: 4.75, 591070: 4.0, 591622: 3.0, 592297: 4.285714285714286, 592351: 5.0, 592495: 3.0, 592817: 1.0, 592822: 3.6315789473684212, 593351: 4.0, 593674: 3.6666666666666665, 593783: 4.0, 593997: 3.8076923076923075, 594157: 4.0, 594286: 1.0, 594673: 3.0, 594958: 3.9, 595111: 3.5, 595279: 3.0, 595396: 3.0, 595466: 3.5, 595641: 3.0, 596120: 3.3333333333333335, 596254: 3.606060606060606, 596694: 2.5, 597198: 2.5, 597591: 2.6, 597871: 3.6666666666666665, 598026: 2.5, 598058: 4.0, 598155: 4.0, 598261: 3.0, 598385: 3.0, 598549: 3.7142857142857144, 598672: 3.0, 599561: 5.0, 599585: 3.5294117647058822, 600033: 3.0, 602018: 3.5, 602978: 3.4285714285714284, 603890: 4.0, 604489: 4.0, 604568: 3.3333333333333335, 604834: 3.7037037037037037, 605372: 4.142857142857143, 607204: 4.0, 607272: 4.1, 607615: 3.5, 608980: 4.1875, 609007: 3.5, 609243: 3.6470588235294117, 609564: 5.0, 610374: 5.0, 610584: 3.0, 610615: 5.0, 610686: 3.5, 610891: 4.5, 611315: 4.0, 611333: 3.0, 611505: 5.0, 611626: 2.0, 611724: 2.25, 612526: 2.5, 613588: 4.0, 613651: 2.789473684210526, 615064: 3.3333333333333335, 615352: 3.8, 616402: 5.0, 616521: 5.0, 617054: 4.125, 617075: 4.076923076923077, 617080: 3.95, 618475: 4.25, 618673: 4.0, 618691: 2.6, 618697: 3.3333333333333335, 618778: 4.0, 619070: 3.0, 619455: 1.0, 621290: 3.5789473684210527, 621640: 3.789473684210526, 622515: 3.4, 623324: 3.0, 623404: 3.0, 623920: 5.0, 625417: 3.5, 626241: 1.0, 626466: 3.0, 626602: 3.8333333333333335, 627360: 4.166666666666667, 628251: 3.1, 628364: 2.0, 628712: 3.3333333333333335, 628905: 3.5, 628932: 2.857142857142857, 629721: 5.0, 630208: 5.0, 630320: 3.0, 630670: 4.0, 630964: 3.3333333333333335, 631047: 3.923076923076923, 633303: 4.744186046511628, 633505: 2.8, 633647: 3.625, 634174: 3.0, 634268: 3.4, 634278: 3.0, 634564: 3.611111111111111, 634741: 4.0, 634883: 3.6315789473684212, 635429: 5.0, 636369: 1.0, 636718: 3.6666666666666665, 636769: 3.0, 636777: 4.0, 637037: 3.0, 637257: 4.0, 637428: 3.0, 638189: 3.0, 638762: 4.4, 638952: 4.0, 640113: 3.0, 640209: 4.0, 640679: 3.5, 640956: 4.75, 641263: 3.1666666666666665, 641348: 4.0, 641930: 1.0, 642071: 2.5, 642478: 4.5, 643114: 4.5, 643115: 3.857142857142857, 643186: 3.2857142857142856, 643630: 4.0, 644653: 4.285714285714286, 644790: 3.6666666666666665, 647018: 5.0, 647293: 3.8461538461538463, 647747: 3.0, 648308: 4.217391304347826, 648389: 4.0, 648476: 2.0, 648868: 4.0, 649704: 4.0, 649745: 3.5833333333333335, 650038: 5.0, 650084: 3.2, 650330: 1.0, 650713: 5.0, 650898: 3.8, 650940: 3.3333333333333335, 652848: 3.25, 653102: 5.0, 653909: 4.333333333333333, 654630: 4.6, 655111: 4.454545454545454, 656232: 3.0, 657343: 3.5, 657465: 4.0, 657838: 4.0, 658236: 3.5, 658833: 4.05, 659076: 3.8333333333333335, 660072: 3.5, 662001: 2.0, 662158: 5.0, 662388: 3.0, 662407: 3.59375, 663206: 3.5555555555555554, 665653: 3.6666666666666665, 666290: 3.75, 666416: 3.0, 666558: 3.0, 666706: 4.0, 666708: 4.0, 667272: 4.0, 667471: 4.5, 668219: 4.0, 669673: 3.0, 670188: 2.9696969696969697, 670288: 4.0, 671071: 2.5, 671159: 3.357142857142857, 671526: 1.0, 671620: 3.625, 672037: 5.0, 672334: 4.0, 672489: 4.0, 672735: 3.1, 673322: 4.3, 673413: 3.0, 673863: 1.0, 674226: 3.6666666666666665, 674530: 3.0, 674739: 3.0, 674938: 3.0, 675262: 3.4545454545454546, 675826: 3.0, 676124: 4.0, 676193: 4.333333333333333, 679196: 3.888888888888889, 679457: 3.5, 679640: 4.25, 680029: 3.6666666666666665, 680554: 3.6666666666666665, 680700: 4.0, 681179: 4.571428571428571, 681198: 4.0, 681229: 4.0, 681249: 3.619047619047619, 681762: 3.25, 682161: 5.0, 682173: 5.0, 682393: 3.1666666666666665, 682665: 3.5, 682873: 2.0, 683998: 3.6666666666666665, 684326: 3.875, 684683: 4.176470588235294, 685041: 3.857142857142857, 685095: 3.875, 685488: 4.0, 685770: 3.4545454545454546, 685849: 1.0, 685947: 4.5, 686241: 3.5, 686925: 4.333333333333333, 687352: 3.0, 688474: 4.333333333333333, 688496: 3.25, 688599: 5.0, 689091: 3.3333333333333335, 689594: 3.0, 689877: 4.166666666666667, 690024: 3.8, 690304: 5.0, 690585: 3.0, 690615: 3.3815789473684212, 690892: 5.0, 691321: 4.4, 691531: 3.3333333333333335, 692789: 2.4, 692814: 3.5, 693758: 5.0, 694153: 3.75, 695042: 2.3333333333333335, 695349: 3.6, 695763: 4.5, 695959: 3.814814814814815, 696211: 3.5, 696450: 3.6666666666666665, 697153: 3.8333333333333335, 697310: 2.0, 697600: 3.2, 698063: 2.9166666666666665, 698104: 1.6666666666666667, 698669: 2.6666666666666665, 699258: 2.0, 699509: 3.0, 700327: 2.875, 700726: 4.0, 700832: 5.0, 701730: 3.547169811320755, 701867: 3.0, 701885: 4.75, 702110: 4.0, 702281: 3.5, 702936: 4.833333333333333, 703191: 3.0, 703527: 4.5, 703841: 5.0, 704223: 3.391304347826087, 704909: 3.6666666666666665, 705246: 5.0, 705296: 3.7777777777777777, 705375: 2.0, 705996: 3.5555555555555554, 706087: 4.0, 706280: 5.0, 706456: 5.0, 706665: 2.5, 707088: 3.8, 707124: 3.5, 707875: 3.2857142857142856, 707987: 3.5, 708329: 3.0, 708465: 2.8, 709135: 3.0, 709714: 4.0, 710005: 3.875, 710362: 4.0, 710816: 5.0, 711215: 3.6842105263157894, 712151: 4.1, 713435: 5.0, 713535: 3.3333333333333335, 713561: 5.0, 714459: 3.142857142857143, 714674: 1.0, 716751: 4.0, 716874: 3.466666666666667, 717084: 4.666666666666667, 717313: 3.2857142857142856, 717678: 3.0, 717743: 2.3333333333333335, 718158: 3.0, 718165: 3.9166666666666665, 718270: 3.8, 718546: 5.0, 718774: 3.0, 719024: 4.083333333333333, 719070: 3.0, 719473: 4.0, 720221: 3.0, 720769: 3.4285714285714284, 720958: 4.0, 721025: 1.0, 721443: 2.6666666666666665, 721448: 3.0, 721571: 3.5, 721996: 4.0, 722109: 3.2, 723027: 3.5, 723030: 3.0, 723597: 5.0, 723605: 3.0, 723997: 4.0, 724340: 4.0, 724421: 3.0, 724906: 4.076923076923077, 725248: 3.5, 725609: 1.0, 725728: 3.5, 725770: 5.0, 725862: 5.0, 725915: 3.0, 725940: 3.0, 726372: 4.0, 726441: 3.0, 726505: 1.0, 727559: 2.0, 728288: 3.6666666666666665, 728686: 4.0, 729294: 5.0, 729775: 4.083333333333333, 730045: 4.666666666666667, 730440: 4.0, 731279: 5.0, 731295: 2.5, 731941: 3.8333333333333335, 732147: 3.5, 732654: 3.3636363636363638, 733212: 3.3333333333333335, 733746: 2.909090909090909, 733911: 3.0, 734341: 3.8, 734412: 4.0, 734911: 3.0, 735417: 1.8, 736528: 3.6666666666666665, 737233: 4.0, 738249: 3.5, 738292: 4.0, 738379: 2.75, 738534: 3.9411764705882355, 739512: 3.5, 740291: 4.538461538461538, 740891: 3.272727272727273, 740936: 1.6666666666666667, 741208: 2.0, 741312: 4.0, 741377: 4.5, 741629: 3.0, 741708: 3.6666666666666665, 742766: 3.0, 742879: 3.2, 742888: 4.0, 743322: 3.0, 743376: 3.0, 743734: 3.59375, 744465: 2.0, 744740: 5.0, 744757: 3.6, 745510: 3.8, 745527: 3.0, 745718: 3.0, 745822: 5.0, 745855: 2.6666666666666665, 745872: 3.375, 745982: 4.714285714285714, 746083: 3.25, 746419: 3.1666666666666665, 747111: 3.0, 747312: 4.0, 747341: 3.5, 747892: 2.5, 748667: 4.0, 748869: 4.0, 748995: 4.333333333333333, 749120: 2.0, 749379: 3.6, 750015: 3.6363636363636362, 750089: 2.0, 752064: 3.0, 752513: 4.111111111111111, 752867: 3.0, 753745: 2.0, 754620: 4.181818181818182, 755895: 3.0, 756924: 2.0, 757124: 4.0, 757420: 3.0, 757813: 3.0, 757871: 3.0, 758378: 2.888888888888889, 758850: 3.5675675675675675, 759062: 3.0, 759612: 4.0, 759702: 4.0, 759967: 4.2, 760236: 4.571428571428571, 760755: 1.0, 760857: 4.0, 760924: 3.3333333333333335, 761260: 3.5, 761378: 3.0, 761733: 3.5, 762145: 4.0, 762572: 4.0, 763924: 3.5, 764613: 1.0, 764750: 3.0, 764851: 3.0, 765159: 4.0, 765304: 2.5, 765328: 4.0, 765582: 5.0, 766988: 2.5, 767041: 5.0, 767591: 5.0, 767886: 3.5, 768702: 3.5, 768904: 3.4285714285714284, 769193: 4.0, 769982: 3.3333333333333335, 769995: 5.0, 770344: 4.0, 770762: 4.0, 771406: 4.0, 771508: 4.0, 771855: 2.0, 772094: 3.0, 772851: 3.411764705882353, 772898: 3.0, 773388: 3.0, 773510: 4.125, 773717: 5.0, 773921: 5.0, 773969: 4.0, 773978: 4.0, 775034: 3.25, 775344: 3.5, 775650: 2.6666666666666665, 776073: 4.0, 776288: 3.8333333333333335, 776714: 3.0, 777446: 3.8333333333333335, 777762: 3.5, 778016: 4.029411764705882, 778806: 4.0, 779133: 4.428571428571429, 780054: 4.0, 780659: 3.5, 780764: 4.0, 781582: 3.375, 781678: 5.0, 781810: 3.2982456140350878, 781963: 4.0, 781974: 5.0, 782128: 5.0, 782236: 3.0, 782261: 5.0, 782498: 4.0, 783612: 5.0, 783825: 3.2, 783828: 5.0, 785110: 2.0, 785587: 2.5, 785633: 5.0, 785794: 3.6363636363636362, 786423: 3.0, 786434: 4.25, 786498: 3.5, 786950: 3.4, 786955: 4.0, 788384: 4.0, 788419: 3.2, 788425: 3.0, 789006: 4.0, 789026: 4.090909090909091, 789100: 3.0, 789410: 3.25, 789843: 4.0, 789966: 2.0, 790627: 3.5, 790728: 4.0, 790811: 3.5, 791687: 4.5, 792277: 4.0, 793031: 4.0, 793549: 4.0, 794237: 4.405405405405405, 794510: 4.25, 794667: 2.3333333333333335, 794805: 3.0, 795152: 3.75, 795256: 2.75, 795457: 3.4, 795467: 3.3333333333333335, 795811: 4.0, 795897: 2.0, 796542: 4.0, 797174: 3.5, 797525: 3.0, 797775: 3.0, 798483: 3.6666666666666665, 798507: 2.0, 798577: 4.5, 798745: 3.0, 799515: 3.0, 799614: 3.4166666666666665, 800270: 3.2, 800559: 5.0, 800921: 4.0, 801612: 3.0, 802013: 1.6666666666666667, 803339: 3.736842105263158, 803473: 4.0, 803947: 3.9285714285714284, 804335: 4.0, 804785: 3.5714285714285716, 804899: 3.6, 804929: 3.2, 805031: 3.0, 805435: 3.2, 805937: 4.5, 807714: 4.6, 807979: 3.0, 807994: 3.0, 808026: 3.6666666666666665, 808635: 3.75, 808651: 3.0, 808873: 3.3333333333333335, 809722: 4.0, 809898: 3.6666666666666665, 809956: 4.0, 810634: 4.0, 810762: 3.0, 811381: 4.166666666666667, 812311: 2.0, 812378: 4.666666666666667, 812433: 3.6666666666666665, 812822: 3.2, 813166: 3.0, 813472: 3.0, 813744: 3.4444444444444446, 813811: 3.6666666666666665, 813956: 1.0, 814369: 3.0, 814476: 4.777777777777778, 814700: 3.8, 814772: 3.0, 814957: 3.5, 815292: 3.8, 815418: 2.6666666666666665, 815424: 3.5, 816205: 4.0, 816452: 4.25, 817216: 4.25, 817463: 4.0, 817916: 2.857142857142857, 817930: 3.0, 818021: 3.6666666666666665, 818784: 3.925925925925926, 818987: 3.0, 819338: 3.6470588235294117, 819349: 5.0, 820345: 3.5, 820449: 5.0, 820500: 2.9411764705882355, 820878: 3.5, 820954: 1.0, 821026: 3.0, 821315: 5.0, 821480: 3.0, 821738: 3.4285714285714284, 823010: 3.6, 823095: 4.625, 823385: 4.5, 824031: 4.25, 824332: 4.071428571428571, 824505: 3.9411764705882355, 826195: 5.0, 826355: 4.0, 827099: 2.75, 827342: 3.0, 827503: 1.6666666666666667, 827712: 4.0, 828724: 3.5384615384615383, 828918: 5.0, 829032: 4.0, 829075: 3.0, 829287: 4.0, 829479: 4.0, 829544: 5.0, 829911: 2.0, 830323: 5.0, 830631: 5.0, 831206: 3.8333333333333335, 831346: 3.4, 831907: 4.0, 832570: 2.7857142857142856, 833305: 4.0, 833463: 3.75, 834128: 4.0, 834541: 4.75, 834797: 4.0, 835035: 3.0, 836298: 3.75, 836952: 3.0, 837258: 3.024390243902439, 837578: 3.0, 837934: 5.0, 838665: 2.6666666666666665, 838679: 3.3733333333333335, 838768: 3.0, 838856: 4.166666666666667, 839476: 3.6923076923076925, 839955: 1.0, 839992: 5.0, 840102: 3.5, 840197: 4.166666666666667, 840218: 3.6666666666666665, 841050: 2.75, 841202: 2.3333333333333335, 841243: 3.0, 841553: 3.8, 841654: 3.076923076923077, 841764: 3.5, 842374: 3.0, 842546: 4.6, 842634: 3.0, 842927: 3.0, 843915: 4.0, 844184: 3.0, 844391: 3.4285714285714284, 844597: 1.6666666666666667, 844626: 2.0, 844777: 4.0, 844927: 3.6666666666666665, 845660: 3.2222222222222223, 845914: 3.923076923076923, 846356: 1.0, 846395: 3.466666666666667, 846452: 3.5, 846574: 3.6666666666666665, 847157: 4.333333333333333, 847225: 2.8, 847611: 5.0, 848126: 4.0, 848883: 3.8, 849938: 3.5, 850506: 5.0, 850864: 3.5, 851883: 4.2, 851979: 3.0, 852088: 3.0, 852452: 4.666666666666667, 852457: 5.0, 854420: 3.0, 854460: 2.6666666666666665, 856134: 2.75, 856315: 3.6315789473684212, 856918: 3.1666666666666665, 857021: 4.0, 857039: 3.6666666666666665, 857320: 4.0, 858204: 4.0, 858496: 5.0, 858883: 3.5454545454545454, 859502: 4.0, 860449: 3.8, 860525: 2.0, 861237: 4.4, 861361: 4.428571428571429, 861459: 3.7586206896551726, 861597: 4.0, 862584: 4.6, 863143: 1.0, 863956: 4.625, 865552: 5.0, 865622: 3.5, 865902: 4.0, 866264: 2.0, 866756: 2.6666666666666665, 866842: 4.375, 866886: 4.0, 867176: 5.0, 867609: 3.5, 867676: 2.5, 867759: 4.0, 868324: 3.5, 868720: 4.25, 869024: 4.0, 869240: 4.0, 869310: 2.0, 869615: 4.333333333333333, 869834: 2.5, 870333: 3.0, 870669: 4.0, 870817: 4.0, 871528: 4.5, 871983: 4.2, 872218: 2.3333333333333335, 872528: 4.0, 872758: 3.6666666666666665, 872826: 4.0, 873396: 2.75, 873485: 3.1666666666666665, 874450: 3.125, 874923: 4.0, 874940: 3.0, 875379: 4.0, 875428: 3.0, 875592: 4.5, 875605: 3.857142857142857, 875754: 2.909090909090909, 875884: 3.6, 876046: 3.272727272727273, 876202: 3.5, 876739: 4.6, 878374: 3.25, 878630: 5.0, 879521: 3.8, 879801: 5.0, 880338: 3.0, 881004: 3.5, 881049: 3.2857142857142856, 881062: 5.0, 881161: 5.0, 881198: 3.793103448275862, 881329: 4.0, 881409: 3.6666666666666665, 881457: 4.0, 881702: 4.0, 882623: 4.142857142857143, 882643: 4.5, 883348: 4.0, 883400: 3.0, 884249: 3.5, 884924: 3.2222222222222223, 885381: 4.0, 885930: 4.0, 886036: 3.8333333333333335, 887195: 4.0, 887433: 5.0, 887469: 2.5, 887473: 4.0, 887488: 3.7777777777777777, 888380: 3.6, 888565: 4.5, 889070: 4.0, 889118: 4.0, 889327: 4.0, 889598: 4.357142857142857, 889886: 3.210526315789474, 889928: 3.5, 891356: 3.0, 891926: 3.6, 892792: 3.125, 892826: 3.5, 893701: 3.0, 893803: 3.0, 893900: 3.2222222222222223, 894519: 2.5714285714285716, 894795: 3.0, 895741: 3.3333333333333335, 895805: 4.0, 897016: 4.5, 897102: 2.6666666666666665, 897539: 3.0, 897732: 3.4358974358974357, 897768: 5.0, 898203: 4.051282051282051, 898278: 1.6666666666666667, 898730: 3.1333333333333333, 898920: 4.75, 899799: 4.0, 900977: 1.5, 901042: 3.5, 901168: 2.0, 901252: 4.0, 901273: 4.0, 901738: 2.75, 902047: 3.0, 902051: 3.0, 902348: 5.0, 902457: 3.7777777777777777, 902529: 4.0, 902589: 3.0, 902685: 2.0, 903428: 4.0, 903561: 4.0, 903648: 2.0, 904046: 4.0, 904396: 4.0, 905085: 5.0, 905468: 4.0, 905529: 2.9, 905590: 3.111111111111111, 907361: 3.5, 907430: 4.0, 908086: 3.0, 908325: 4.176470588235294, 909077: 4.0, 909164: 2.375, 909281: 4.0, 909346: 1.0, 909921: 4.416666666666667, 909948: 4.0, 910131: 4.333333333333333, 910198: 3.25, 910356: 4.0, 910390: 4.0, 910663: 2.25, 910961: 4.0, 911520: 3.3333333333333335, 911525: 3.0, 912122: 3.6666666666666665, 913053: 4.5, 913388: 2.0, 913544: 3.0, 913872: 3.25, 914374: 4.5, 914445: 2.9166666666666665, 914861: 3.5714285714285716, 915311: 4.0, 915379: 2.5, 915553: 3.0, 917190: 3.6666666666666665, 918173: 3.0, 918964: 3.0, 919164: 3.875, 919218: 3.5, 919429: 3.2, 919820: 2.0, 919940: 4.0, 920024: 1.0, 920502: 5.0, 920946: 3.7777777777777777, 921057: 3.0, 921739: 3.4, 922764: 2.3333333333333335, 923213: 4.333333333333333, 924034: 4.0, 924469: 3.375, 924540: 4.0, 924906: 3.3333333333333335, 924967: 5.0, 926126: 3.0, 926131: 2.5, 926643: 2.6666666666666665, 926645: 2.0, 926890: 4.0, 926987: 2.5, 927003: 3.6666666666666665, 927129: 5.0, 927240: 4.0, 927365: 4.0, 927634: 4.111111111111111, 928658: 4.333333333333333, 929815: 4.25, 930095: 3.6, 930550: 4.0, 930657: 4.714285714285714, 931298: 3.75, 931475: 3.25, 931506: 3.0, 932405: 3.0, 933153: 3.2, 933356: 3.0, 933434: 2.6666666666666665, 934656: 4.0, 934861: 3.5714285714285716, 934909: 3.8666666666666667, 935066: 5.0, 935402: 4.0, 935482: 3.8, 935581: 4.074074074074074, 936355: 3.5, 936619: 3.5, 937764: 3.0, 938667: 4.0, 939582: 3.189189189189189, 940130: 2.5, 940188: 3.3333333333333335, 940492: 4.0, 940556: 4.25, 940806: 2.75, 941270: 4.0, 941866: 4.5, 942784: 4.0, 943661: 4.0, 943667: 3.75, 943920: 1.6666666666666667, 944397: 3.75, 944696: 3.5, 944938: 1.5, 946076: 2.857142857142857, 946200: 3.6363636363636362, 946299: 4.0, 947142: 5.0, 947439: 4.666666666666667, 947488: 3.75, 947754: 2.0, 948120: 3.0, 948284: 4.5, 948481: 2.0, 948572: 3.3333333333333335, 948702: 3.5434782608695654, 949077: 2.0, 949660: 4.2, 950078: 3.0, 950309: 3.5454545454545454, 951816: 3.2857142857142856, 952036: 3.625, 952340: 2.0, 953010: 4.5, 953484: 4.333333333333333, 953661: 3.625, 954131: 4.0, 955253: 3.75, 955480: 3.6, 955812: 5.0, 956121: 1.5, 956138: 3.5, 956199: 3.0, 956429: 5.0, 956431: 3.5, 956561: 4.0, 956839: 4.333333333333333, 957036: 3.6, 957152: 5.0, 957642: 2.0, 958121: 3.3846153846153846, 958623: 3.5, 958682: 3.0, 958856: 1.5, 959291: 2.0, 959523: 5.0, 959685: 1.6666666666666667, 960282: 3.5, 960830: 3.5, 961271: 3.5, 962224: 3.7142857142857144, 963048: 2.0, 963253: 4.333333333333333, 964001: 3.6666666666666665, 964302: 4.5, 964731: 3.5, 964794: 2.0, 964929: 4.1, 965070: 4.0, 965587: 5.0, 965898: 4.0, 966964: 4.0, 966965: 3.0, 967997: 2.75, 968461: 2.8333333333333335, 969764: 3.2, 970174: 2.6666666666666665, 970278: 3.5, 970661: 4.5, 971819: 4.0, 971833: 3.0, 972561: 2.5, 973202: 4.0, 973422: 4.166666666666667, 973487: 3.5217391304347827, 973773: 5.0, 974000: 3.5, 974062: 2.0, 975339: 3.0, 976367: 4.117647058823529, 976380: 3.0, 976527: 3.4, 977944: 2.0, 977960: 3.5, 978201: 3.3333333333333335, 978227: 2.6666666666666665, 978339: 3.7435897435897436, 978448: 3.7142857142857144, 979111: 3.0, 979363: 4.0, 980091: 3.142857142857143, 980340: 3.7, 981995: 4.428571428571429, 982951: 3.142857142857143, 983323: 5.0, 983951: 3.5, 984290: 4.333333333333333, 985063: 5.0, 985093: 3.6666666666666665, 985113: 4.0, 985946: 3.9555555555555557, 986015: 3.1176470588235294, 986252: 2.5555555555555554, 987009: 4.0, 987299: 3.3333333333333335, 987337: 3.0, 988383: 3.0, 989098: 1.0, 990379: 3.5, 990617: 3.0, 991363: 3.0, 991671: 3.8333333333333335, 991926: 4.777777777777778, 991954: 5.0, 992365: 3.0, 994370: 2.5, 994544: 3.0, 994811: 3.5, 994877: 4.0, 995169: 3.5, 995677: 3.5, 995782: 4.25, 995856: 3.5, 997280: 4.333333333333333, 997632: 5.0, 998048: 4.0, 998059: 2.25, 998147: 1.0, 998506: 2.909090909090909, 998510: 3.28, 998620: 4.333333333333333, 1000140: 4.0, 1000331: 3.4285714285714284, 1000380: 3.6666666666666665, 1000406: 3.3333333333333335, 1001173: 4.5, 1001898: 3.0, 1002025: 3.75, 1002286: 2.5, 1002575: 3.0, 1003746: 2.0, 1003773: 4.0, 1004003: 5.0, 1004750: 4.791666666666667, 1005226: 4.333333333333333, 1005337: 3.5, 1005679: 4.0, 1005800: 4.1875, 1005873: 2.0, 1006027: 1.0, 1006045: 3.8076923076923075, 1006355: 3.5, 1006439: 4.0, 1006546: 4.222222222222222, 1006765: 3.0, 1006937: 5.0, 1007274: 5.0, 1007515: 3.4285714285714284, 1007557: 4.0, 1008230: 3.5, 1008281: 3.5714285714285716, 1008290: 4.888888888888889, 1008483: 3.4444444444444446, 1008576: 2.6, 1008968: 1.0, 1009633: 3.0, 1009967: 4.0, 1010143: 3.75, 1010182: 3.0, 1012139: 4.25, 1012513: 4.6, 1012546: 2.0, 1013320: 4.0, 1013782: 3.25, 1014546: 4.0, 1015290: 4.75, 1015552: 3.0, 1015677: 4.666666666666667, 1016087: 3.5, 1016381: 3.5, 1016673: 5.0, 1016977: 3.5, 1017602: 4.666666666666667, 1017728: 3.3333333333333335, 1018038: 4.0, 1018392: 2.5, 1018915: 2.0, 1019134: 4.0, 1019670: 4.0, 1020173: 4.5, 1020661: 4.0, 1021232: 3.3, 1022330: 3.0, 1022689: 4.782608695652174, 1023132: 5.0, 1023235: 3.0, 1023456: 3.7777777777777777, 1023505: 3.0, 1024718: 3.0, 1025073: 4.0, 1027374: 4.0, 1027403: 4.8, 1027434: 3.0, 1028035: 3.6666666666666665, 1028151: 3.4, 1029026: 4.0, 1029030: 4.0, 1029872: 4.0, 1029887: 3.25, 1030186: 3.8333333333333335, 1030229: 4.0, 1030520: 3.8333333333333335, 1030812: 3.6153846153846154, 1031103: 3.4, 1031214: 4.0, 1031640: 2.2, 1032072: 4.0, 1032533: 3.3333333333333335, 1033463: 2.7142857142857144, 1034115: 4.666666666666667, 1034316: 3.6, 1034542: 2.0, 1035005: 4.166666666666667, 1035057: 4.0, 1035155: 4.333333333333333, 1035583: 3.8, 1035619: 2.0, 1036142: 3.0, 1037299: 4.0, 1037347: 4.5, 1037617: 4.0, 1037857: 4.375, 1037957: 1.0, 1038049: 4.0, 1038321: 3.3333333333333335, 1038347: 5.0, 1039033: 2.625, 1039128: 4.0, 1039832: 4.333333333333333, 1042718: 4.0, 1042805: 4.0, 1042853: 5.0, 1043410: 3.5714285714285716, 1043815: 4.4, 1044009: 4.0, 1044179: 3.6, 1044346: 3.3333333333333335, 1044425: 3.9444444444444446, 1044474: 4.0, 1044571: 5.0, 1044669: 3.142857142857143, 1044709: 3.6666666666666665, 1045579: 3.5, 1046036: 4.3, 1046839: 4.0, 1046918: 4.0, 1048377: 4.166666666666667, 1048958: 3.3333333333333335, 1049467: 4.0, 1049643: 3.5, 1049744: 4.0, 1051084: 4.428571428571429, 1051156: 4.0, 1051197: 3.5, 1051713: 2.0, 1051900: 3.3333333333333335, 1052076: 3.9215686274509802, 1052311: 2.0, 1052984: 5.0, 1053048: 4.0, 1053681: 2.0, 1054013: 3.0, 1054804: 5.0, 1057577: 4.035714285714286, 1058918: 4.0, 1060197: 3.8666666666666667, 1060208: 3.5, 1060860: 4.333333333333333, 1061109: 3.0, 1061220: 3.0, 1061891: 2.6666666666666665, 1062016: 3.0, 1062170: 5.0, 1062190: 4.5, 1062427: 3.0, 1062707: 3.0, 1063064: 1.0, 1063082: 3.75, 1063391: 3.5, 1063492: 3.1176470588235294, 1063815: 3.6666666666666665, 1064002: 5.0, 1065334: 4.25, 1065949: 3.6666666666666665, 1066543: 3.317073170731707, 1066813: 3.1, 1067767: 1.0, 1067815: 3.75, 1067860: 3.230769230769231, 1068178: 5.0, 1071524: 3.5, 1072095: 3.3636363636363638, 1073230: 4.5, 1073278: 2.0, 1074378: 3.6, 1074827: 4.0, 1075233: 4.0, 1075565: 4.0, 1075793: 3.4545454545454546, 1075797: 5.0, 1075893: 3.5, 1076815: 4.0, 1077011: 3.4, 1077103: 4.0, 1079033: 4.6, 1079179: 2.0, 1079521: 2.0, 1079598: 4.0, 1079618: 3.3333333333333335, 1080062: 3.5, 1080188: 2.0, 1080431: 4.090909090909091, 1080998: 5.0, 1081218: 3.25, 1081219: 4.235294117647059, 1081481: 4.875, 1081948: 4.0, 1082706: 2.6666666666666665, 1082719: 3.5, 1083033: 3.5, 1083425: 3.25, 1083502: 4.5, 1083599: 4.0, 1084964: 4.0, 1085053: 4.0, 1085406: 1.5, 1085544: 4.181818181818182, 1085566: 3.6363636363636362, 1085817: 5.0, 1085864: 3.5, 1086022: 4.6, 1087196: 4.125, 1088530: 3.5, 1088781: 3.3333333333333335, 1089176: 4.125, 1089949: 4.0, 1090319: 2.933333333333333, 1091169: 5.0, 1091530: 2.4, 1091615: 4.0, 1091629: 3.5, 1091770: 4.0, 1091912: 3.0, 1092039: 3.5, 1093947: 3.0, 1096070: 3.8, 1096841: 2.3333333333333335, 1096867: 4.0, 1096917: 3.6666666666666665, 1097324: 3.0, 1097350: 3.8333333333333335, 1097932: 5.0, 1098091: 3.0, 1098907: 3.0, 1099140: 4.0, 1099181: 4.5, 1099246: 2.0, 1099798: 2.0, 1099810: 3.0, 1100183: 3.5, 1100273: 3.0606060606060606, 1102237: 1.0, 1102270: 3.2, 1102291: 3.0, 1102322: 4.0, 1102662: 3.3333333333333335, 1102798: 4.125, 1103045: 5.0, 1103501: 2.0, 1103596: 3.8, 1104128: 5.0, 1104313: 5.0, 1104937: 3.347826086956522, 1105396: 3.0, 1105548: 5.0, 1105578: 4.0, 1105770: 3.5, 1105861: 2.5, 1106138: 4.5, 1107012: 3.761904761904762, 1107475: 3.0, 1107482: 5.0, 1107752: 3.6, 1108128: 3.0, 1108344: 2.0, 1108412: 5.0, 1108934: 2.0, 1109809: 4.0, 1109948: 2.5, 1109978: 4.0, 1109998: 3.2666666666666666, 1110444: 3.8, 1110693: 4.666666666666667, 1110818: 4.666666666666667, 1111037: 3.0, 1112207: 3.5555555555555554, 1112365: 2.090909090909091, 1112564: 4.0, 1112856: 1.0, 1112953: 3.0, 1113930: 3.9473684210526314, 1114063: 3.4, 1114228: 2.3333333333333335, 1114840: 3.5, 1114910: 4.285714285714286, 1114964: 5.0, 1116337: 3.0, 1116748: 3.3333333333333335, 1116948: 2.3333333333333335, 1117062: 3.0, 1117065: 3.25, 1117189: 3.0, 1117752: 1.0, 1118053: 4.333333333333333, 1118096: 4.0, 1119018: 2.0, 1119113: 3.2222222222222223, 1119817: 4.428571428571429, 1120308: 5.0, 1121922: 4.0, 1122018: 4.0, 1122220: 2.0, 1122889: 5.0, 1122900: 2.8333333333333335, 1123111: 3.5, 1124242: 3.5714285714285716, 1124599: 4.5, 1125433: 2.75, 1125538: 4.333333333333333, 1125803: 4.0, 1126252: 3.0, 1126510: 3.5, 1126987: 5.0, 1127630: 4.0, 1127812: 3.0, 1128485: 3.6666666666666665, 1128779: 3.3333333333333335, 1129235: 3.6363636363636362, 1129525: 4.0, 1129831: 3.6, 1130012: 3.0, 1130055: 2.0, 1130385: 4.0, 1130912: 5.0, 1130961: 4.5, 1131895: 5.0, 1132329: 3.12, 1133295: 2.75, 1135473: 4.363636363636363, 1135743: 3.6, 1136275: 4.5, 1136599: 3.0, 1136939: 4.0, 1137639: 2.5, 1137719: 3.566666666666667, 1137956: 4.0, 1138584: 3.5, 1138991: 3.0, 1139131: 4.0, 1139570: 3.1666666666666665, 1139946: 3.5, 1140449: 4.0, 1140609: 2.8, 1141479: 3.5, 1141705: 4.0, 1142223: 4.6, 1142356: 3.625, 1142564: 4.0, 1142673: 4.0, 1142811: 3.6666666666666665, 1143192: 4.0, 1143329: 4.0, 1143391: 3.0, 1143846: 3.2857142857142856, 1144448: 4.0, 1145179: 4.0, 1145802: 2.3333333333333335, 1146483: 4.363636363636363, 1146560: 3.875, 1146596: 4.333333333333333, 1146632: 2.0, 1146746: 2.0, 1147018: 3.8333333333333335, 1147088: 3.25, 1147262: 4.0, 1147839: 3.25, 1147876: 5.0, 1147963: 2.5, 1148739: 2.5, 1150196: 3.75, 1150428: 4.0, 1150526: 3.6666666666666665, 1150530: 4.25, 1150749: 1.5, 1151569: 3.0, 1152114: 5.0, 1152380: 4.25, 1152463: 3.0, 1153477: 3.5, 1153993: 4.333333333333333, 1154500: 3.3333333333333335, 1154507: 3.6666666666666665, 1154537: 5.0, 1155004: 4.0, 1155129: 3.2, 1155602: 3.0, 1156424: 3.0, 1156928: 4.0, 1157288: 3.1714285714285713, 1157553: 4.0, 1157606: 5.0, 1157646: 3.5, 1157810: 4.0, 1158233: 5.0, 1158305: 3.0, 1158880: 2.5, 1158921: 4.0, 1159241: 3.6666666666666665, 1159506: 2.5, 1159580: 4.0, 1159739: 3.5, 1160924: 1.0, 1161884: 4.25, 1162058: 4.5, 1162249: 4.571428571428571, 1162532: 3.0, 1162787: 3.75, 1163108: 5.0, 1163135: 3.4, 1163325: 3.6666666666666665, 1163400: 3.0, 1164365: 2.0, 1164425: 2.6666666666666665, 1164972: 3.6666666666666665, 1166058: 4.0, 1166140: 5.0, 1166250: 3.0, 1166848: 4.0, 1167143: 4.0, 1167386: 3.8627450980392157, 1167579: 3.9583333333333335, 1167774: 3.3461538461538463, 1168960: 3.8333333333333335, 1170366: 3.857142857142857, 1170481: 5.0, 1170801: 3.3333333333333335, 1171073: 2.0, 1172841: 3.5, 1172911: 3.3333333333333335, 1173396: 2.0, 1173399: 4.5, 1173996: 3.0, 1174054: 4.0, 1174786: 4.0, 1174820: 4.153846153846154, 1174941: 3.0, 1175389: 2.6, 1175717: 4.0, 1175781: 4.4, 1175796: 3.5, 1176000: 2.75, 1176326: 4.428571428571429, 1176402: 4.0, 1176549: 3.6666666666666665, 1176763: 2.25, 1176926: 5.0, 1177805: 3.111111111111111, 1177874: 3.75, 1178404: 5.0, 1178642: 4.5, 1178872: 2.75, 1178915: 3.8, 1180828: 3.6, 1180971: 3.0, 1181129: 4.285714285714286, 1181304: 5.0, 1181651: 3.0, 1182086: 2.6666666666666665, 1182575: 4.4, 1183014: 3.9565217391304346, 1183179: 3.0, 1183424: 3.0, 1183580: 2.0, 1184958: 2.0, 1185499: 3.5384615384615383, 1186184: 3.6, 1186910: 3.5, 1187368: 2.0, 1187524: 3.0, 1187906: 4.0, 1188563: 2.0, 1188824: 4.0, 1189272: 4.0, 1189290: 4.233333333333333, 1189972: 3.8, 1190899: 4.25, 1191020: 2.0, 1191031: 3.4, 1191408: 2.5, 1191528: 4.0, 1191845: 3.0, 1191974: 4.0, 1192035: 3.0, 1192320: 4.0, 1192630: 5.0, 1192634: 4.25, 1192770: 3.7142857142857144, 1193708: 3.0, 1193922: 4.666666666666667, 1195490: 2.0, 1196060: 3.5, 1196216: 3.4285714285714284, 1196269: 2.75, 1196978: 4.0, 1197547: 4.25, 1197950: 5.0, 1198207: 3.411764705882353, 1198397: 2.857142857142857, 1198484: 1.5, 1198567: 4.333333333333333, 1198704: 4.1, 1199101: 2.5, 1199235: 4.117647058823529, 1200217: 4.0, 1200469: 3.2857142857142856, 1200886: 3.8, 1201178: 3.0, 1201530: 4.5, 1202073: 2.0, 1202467: 3.4285714285714284, 1202670: 3.0, 1203135: 3.6666666666666665, 1203368: 4.0, 1203467: 2.0, 1203684: 3.909090909090909, 1203788: 3.5, 1204975: 5.0, 1205074: 3.5, 1205075: 3.433333333333333, 1205201: 4.0, 1205450: 5.0, 1205547: 3.0, 1205890: 4.5, 1205988: 4.0, 1206193: 5.0, 1206924: 5.0, 1206971: 3.6, 1207214: 3.4, 1207348: 3.263157894736842, 1207657: 5.0, 1208836: 4.0, 1208952: 3.0, 1208965: 3.3333333333333335, 1209220: 2.2857142857142856, 1210125: 3.0, 1210181: 4.230769230769231, 1210199: 4.25, 1210622: 4.0, 1210948: 3.789473684210526, 1211405: 4.0, 1211576: 1.0, 1211704: 4.5, 1212266: 3.5, 1212414: 4.0, 1212435: 3.0, 1212565: 3.4285714285714284, 1213234: 4.0, 1213486: 4.0, 1213778: 5.0, 1213827: 3.0, 1213837: 3.066666666666667, 1214244: 4.0, 1214640: 3.75, 1214983: 3.5, 1215225: 4.0, 1215294: 3.8, 1215339: 4.0, 1217025: 3.3333333333333335, 1217291: 3.0, 1217341: 4.0, 1217403: 3.0, 1217849: 5.0, 1218250: 3.25, 1218412: 4.4375, 1218721: 3.0, 1220205: 3.2, 1220247: 3.8333333333333335, 1222005: 3.0, 1222180: 3.6216216216216215, 1222903: 3.0, 1222999: 4.0, 1223114: 4.166666666666667, 1223966: 3.3529411764705883, 1224581: 3.0, 1225348: 4.0, 1226124: 2.5, 1227140: 3.75, 1227391: 4.0, 1228034: 3.3333333333333335, 1228066: 3.6666666666666665, 1228374: 4.5, 1228442: 3.0, 1229045: 4.0, 1229586: 3.3333333333333335, 1229986: 2.8, 1230047: 5.0, 1230191: 3.0, 1231601: 5.0, 1232562: 4.793103448275862, 1232647: 3.6666666666666665, 1232675: 2.7115384615384617, 1232722: 3.3333333333333335, 1233658: 2.5, 1234014: 3.4285714285714284, 1234392: 3.75, 1234518: 3.75, 1235306: 5.0, 1236122: 3.0, 1236489: 3.6, 1236791: 4.0, 1237190: 2.0, 1237337: 2.75, 1239226: 3.8333333333333335, 1240314: 3.3333333333333335, 1241056: 3.0, 1241102: 4.0, 1242529: 2.4814814814814814, 1242589: 5.0, 1242794: 4.588235294117647, 1242912: 2.5, 1243615: 3.0, 1244237: 4.434782608695652, 1244918: 2.3333333333333335, 1245281: 4.0, 1245709: 3.0, 1245765: 3.2, 1246398: 4.333333333333333, 1246548: 2.6666666666666665, 1246729: 3.5135135135135136, 1246869: 3.0, 1247322: 3.0, 1247489: 2.5, 1247835: 1.0, 1248342: 5.0, 1248452: 3.75, 1248626: 4.0, 1248672: 3.0, 1248726: 4.0, 1249238: 3.5384615384615383, 1249572: 4.0, 1249735: 4.0, 1249765: 3.4545454545454546, 1249798: 2.6666666666666665, 1249802: 3.0, 1250700: 4.0, 1251336: 3.3, 1252510: 3.5, 1252836: 3.6, 1253024: 4.032258064516129, 1253210: 3.6, 1253254: 3.3846153846153846, 1253749: 4.0, 1253878: 3.0, 1254259: 3.5, 1254663: 3.0, 1254711: 1.0, 1254743: 1.0, 1255073: 3.0, 1256034: 3.5, 1256286: 3.6, 1256783: 3.0, 1256998: 3.8333333333333335, 1257291: 4.0, 1257323: 3.5, 1257450: 3.0, 1257934: 4.333333333333333, 1258517: 2.0, 1258667: 3.5, 1259208: 3.0, 1259241: 3.6666666666666665, 1259467: 4.2, 1260542: 3.6666666666666665, 1260622: 4.615384615384615, 1260894: 4.2, 1261176: 2.0, 1261893: 5.0, 1262145: 3.5, 1262467: 3.4705882352941178, 1262489: 3.0, 1263048: 4.0, 1263197: 4.0, 1263525: 3.3333333333333335, 1263640: 4.2, 1263888: 3.0, 1263996: 3.0, 1264611: 4.0, 1264818: 3.3333333333333335, 1265217: 3.6666666666666665, 1265488: 4.0, 1266208: 3.625, 1266230: 3.5, 1266374: 4.0, 1267158: 3.6666666666666665, 1267250: 3.6666666666666665, 1267927: 4.0, 1268760: 4.166666666666667, 1269069: 4.0, 1269287: 3.5, 1269608: 4.166666666666667, 1269771: 5.0, 1270183: 4.0, 1270295: 4.2, 1270613: 3.5, 1271026: 2.0, 1271465: 2.3333333333333335, 1272177: 2.125, 1272920: 4.0, 1273146: 4.4, 1273304: 3.6666666666666665, 1273651: 4.0, 1274049: 4.818181818181818, 1274144: 5.0, 1274768: 4.0, 1276913: 4.8, 1277047: 1.0, 1277334: 3.6666666666666665, 1277662: 3.92, 1278490: 5.0, 1278543: 3.526315789473684, 1278739: 2.5, 1278826: 5.0, 1278832: 2.6, 1279001: 3.0, 1279131: 4.0, 1279821: 4.0, 1279960: 3.0, 1280020: 4.0, 1280144: 3.0, 1280563: 3.0, 1280640: 4.0, 1280761: 3.090909090909091, 1281151: 3.25, 1281235: 3.3333333333333335, 1281533: 2.0, 1281565: 3.4444444444444446, 1282724: 3.5, 1282811: 3.4285714285714284, 1282822: 5.0, 1283171: 3.0, 1283709: 3.870967741935484, 1283827: 4.25, 1283908: 3.125, 1284254: 5.0, 1284427: 4.333333333333333, 1284549: 4.0, 1285118: 3.5, 1285379: 4.0, 1287228: 2.0, 1288326: 4.0, 1288651: 4.3, 1288907: 3.25, 1289309: 3.0, 1289344: 3.5, 1289449: 4.0, 1290156: 3.8205128205128207, 1290313: 4.0, 1290753: 5.0, 1290772: 4.25, 1290883: 5.0, 1291186: 4.0, 1292387: 5.0, 1292486: 3.0, 1292631: 5.0, 1292941: 1.0, 1293126: 3.6666666666666665, 1293423: 3.3333333333333335, 1294108: 3.5, 1294533: 4.3, 1294745: 3.5, 1294833: 3.0, 1294931: 5.0, 1294960: 4.0, 1295056: 3.6666666666666665, 1295115: 3.0, 1295362: 3.7142857142857144, 1295591: 4.333333333333333, 1295898: 3.090909090909091, 1296127: 4.0, 1296651: 3.9615384615384617, 1297398: 4.285714285714286, 1298062: 3.0, 1298232: 5.0, 1299117: 4.076923076923077, 1299265: 3.2857142857142856, 1299437: 4.0, 1300256: 3.0, 1300304: 4.0, 1300380: 3.625, 1300759: 3.888888888888889, 1300976: 4.5, 1301236: 4.217391304347826, 1301642: 4.0, 1301844: 4.0, 1303121: 3.4, 1303963: 4.0, 1304096: 4.571428571428571, 1304807: 4.333333333333333, 1304810: 4.5, 1304925: 3.8, 1305473: 2.6666666666666665, 1305668: 3.7777777777777777, 1306430: 4.0, 1306465: 2.0, 1306758: 3.0, 1306989: 2.0, 1307100: 3.25, 1307938: 2.75, 1308673: 2.5, 1308864: 5.0, 1308922: 3.8, 1309115: 3.3333333333333335, 1309119: 3.0, 1309495: 4.666666666666667, 1309672: 3.111111111111111, 1311580: 4.181818181818182, 1311756: 2.0, 1312511: 4.0, 1313052: 3.3333333333333335, 1313977: 4.666666666666667, 1314098: 4.538461538461538, 1314197: 4.6, 1314490: 1.5, 1314655: 4.5, 1314702: 2.0, 1315201: 3.0, 1315670: 4.7, 1316050: 3.3333333333333335, 1316605: 3.6666666666666665, 1316647: 4.333333333333333, 1316915: 4.0, 1316994: 3.0, 1317349: 5.0, 1317471: 4.0, 1318142: 1.0, 1318638: 1.0, 1318672: 3.75, 1319420: 3.6666666666666665, 1319562: 4.928571428571429, 1320185: 3.789473684210526, 1320603: 3.8333333333333335, 1321453: 3.0, 1321733: 3.75, 1322443: 4.0, 1322572: 3.9583333333333335, 1322960: 4.666666666666667, 1322987: 3.3333333333333335, 1323070: 3.0, 1323193: 3.0, 1323361: 4.0, 1323736: 5.0, 1323855: 3.0, 1323985: 3.6666666666666665, 1324038: 3.4, 1324041: 4.0, 1325790: 5.0, 1325809: 5.0, 1325878: 4.857142857142857, 1326168: 3.25, 1326648: 5.0, 1326731: 4.466666666666667, 1326892: 3.3333333333333335, 1327176: 5.0, 1327492: 3.0, 1327781: 4.0, 1327793: 5.0, 1328022: 3.4285714285714284, 1328748: 4.5, 1328970: 4.090909090909091, 1330398: 4.181818181818182, 1331255: 3.5, 1331407: 5.0, 1331827: 4.0, 1332396: 5.0, 1332830: 3.5, 1333196: 3.0, 1333317: 2.5, 1334256: 3.0, 1334376: 3.857142857142857, 1334520: 4.375, 1334648: 3.0, 1334791: 4.7272727272727275, 1334792: 5.0, 1335524: 3.0, 1335801: 3.0, 1336324: 3.5714285714285716, 1336528: 4.4, 1336769: 3.9375, 1336898: 5.0, 1336936: 4.5, 1336946: 2.0, 1337763: 3.739130434782609, 1338038: 4.0, 1338089: 3.0, 1338092: 2.0, 1338370: 1.0, 1338917: 3.0, 1339126: 3.5, 1339254: 3.5, 1339449: 3.6666666666666665, 1340457: 5.0, 1340906: 2.0, 1342463: 4.0, 1342971: 1.0, 1343145: 4.0, 1343182: 3.1818181818181817, 1343400: 3.0, 1344273: 2.0, 1344436: 3.8, 1344552: 4.0, 1344646: 4.0, 1344816: 5.0, 1346301: 2.3333333333333335, 1346841: 5.0, 1346990: 3.5, 1348837: 3.8, 1349173: 3.176470588235294, 1349391: 3.1666666666666665, 1349634: 4.0, 1349670: 3.0, 1349773: 3.642857142857143, 1350077: 4.0, 1350312: 3.5, 1350955: 4.0, 1351454: 3.0, 1352038: 3.5, 1352370: 4.0, 1352493: 4.0, 1352502: 2.25, 1352503: 4.0, 1353212: 2.0, 1354470: 3.5714285714285716, 1355281: 3.75, 1356057: 4.5, 1356516: 4.0, 1356695: 4.5, 1356962: 3.75, 1357072: 2.25, 1357761: 3.5, 1359115: 4.0, 1359432: 3.0, 1359453: 2.0, 1359694: 4.0, 1359953: 3.0, 1360249: 4.0, 1361400: 4.0, 1364197: 5.0, 1364926: 3.5, 1365052: 2.0, 1365170: 3.1538461538461537, 1365881: 4.0, 1365941: 4.666666666666667, 1366589: 2.9047619047619047, 1366603: 4.0, 1366770: 4.375, 1367096: 3.0, 1367166: 2.0, 1367773: 4.090909090909091, 1368013: 3.75, 1368287: 4.142857142857143, 1368446: 4.666666666666667, 1368672: 5.0, 1368681: 3.259259259259259, 1368905: 3.966666666666667, 1369829: 5.0, 1370022: 3.5, 1370036: 2.0, 1370065: 3.0, 1370157: 4.285714285714286, 1370416: 4.0, 1370925: 4.0, 1371083: 3.0, 1371302: 3.6, 1371337: 4.0, 1371544: 3.6666666666666665, 1371687: 3.6666666666666665, 1371995: 4.0, 1372681: 3.3333333333333335, 1373963: 3.5, 1374049: 2.6666666666666665, 1374257: 4.0, 1374792: 5.0, 1374870: 4.5, 1377693: 3.6666666666666665, 1377949: 2.0, 1378691: 3.75, 1378860: 4.0, 1378998: 3.75, 1379294: 2.3333333333333335, 1379981: 2.75, 1380689: 3.0, 1380930: 4.0, 1381402: 3.7, 1381717: 3.0, 1382057: 3.5, 1382751: 3.3333333333333335, 1384252: 4.0, 1384429: 1.25, 1384658: 2.5, 1384789: 2.5, 1384836: 3.3333333333333335, 1384837: 4.0, 1384924: 3.6363636363636362, 1385316: 4.0, 1385857: 4.0, 1385981: 4.0, 1386925: 3.1875, 1386992: 3.6666666666666665, 1387031: 3.5, 1387472: 3.0, 1388093: 4.0, 1388741: 5.0, 1388783: 3.0, 1389565: 3.6, 1390064: 4.8, 1391092: 3.888888888888889, 1391137: 3.0, 1391647: 2.0, 1391796: 3.3333333333333335, 1392893: 3.0, 1393214: 3.0, 1393244: 3.0, 1393576: 4.0, 1393732: 4.545454545454546, 1394108: 4.777777777777778, 1394516: 2.75, 1394973: 5.0, 1395040: 5.0, 1395997: 2.0, 1396166: 3.75, 1396228: 4.0, 1396259: 4.0, 1396493: 3.6666666666666665, 1396995: 4.0, 1397583: 3.5, 1398454: 3.6666666666666665, 1399042: 1.5, 1399675: 3.0, 1399904: 4.0, 1399939: 3.25, 1400146: 2.6666666666666665, 1400312: 4.071428571428571, 1401023: 3.0, 1401362: 3.0, 1401630: 3.0, 1401895: 4.0, 1402231: 3.6153846153846154, 1402430: 4.666666666666667, 1402868: 3.5, 1403694: 2.6666666666666665, 1404357: 3.5, 1404873: 3.8, 1405244: 2.0, 1405409: 4.857142857142857, 1405485: 3.3333333333333335, 1405645: 3.4444444444444446, 1407007: 4.0, 1407289: 4.0, 1407689: 3.0, 1407699: 4.0, 1407813: 3.0, 1409438: 3.75, 1409455: 4.0, 1409583: 4.333333333333333, 1409665: 5.0, 1410283: 3.7142857142857144, 1410712: 4.142857142857143, 1411238: 3.0, 1412679: 3.5, 1412709: 4.0, 1413868: 3.5, 1413895: 1.0, 1414147: 4.75, 1414451: 3.0, 1414816: 3.0, 1416301: 4.5, 1417575: 5.0, 1418063: 3.1666666666666665, 1418242: 3.0, 1418514: 2.0, 1418653: 3.5, 1418782: 3.0, 1420316: 2.0, 1420817: 3.9545454545454546, 1420973: 4.0, 1421792: 3.75, 1422370: 4.2, 1422462: 4.75, 1423249: 3.25, 1424050: 3.0, 1424176: 4.0, 1424177: 3.0, 1424310: 4.25, 1424534: 3.0, 1424679: 4.0, 1425719: 4.0, 1425869: 3.5, 1426031: 4.0, 1426519: 4.0, 1426839: 3.5, 1427149: 4.1875, 1427734: 2.0, 1428336: 4.0, 1428431: 3.5, 1428520: 3.625, 1429733: 4.142857142857143, 1430667: 5.0, 1430690: 3.6470588235294117, 1431124: 4.0, 1431330: 3.75, 1431636: 2.6666666666666665, 1432316: 4.0, 1432751: 1.0, 1433558: 3.4444444444444446, 1433573: 2.5, 1434103: 2.0, 1434107: 2.0, 1434491: 4.5, 1434640: 3.0, 1434798: 3.2, 1434856: 4.0, 1435216: 2.5, 1435546: 3.25, 1435661: 3.4285714285714284, 1436275: 4.5, 1436498: 3.3, 1436807: 4.0, 1437652: 4.125, 1438992: 3.4166666666666665, 1441444: 3.0, 1441638: 1.0, 1442032: 3.9166666666666665, 1442131: 4.25, 1442187: 3.625, 1442666: 3.0, 1442797: 3.0, 1442803: 3.5, 1443091: 4.0588235294117645, 1443633: 3.0, 1443782: 3.3333333333333335, 1444287: 4.4, 1444312: 4.0, 1444338: 3.5555555555555554, 1444508: 3.0, 1444854: 5.0, 1445374: 1.5, 1445648: 4.0, 1446510: 3.0, 1447067: 4.0, 1447281: 3.6, 1447766: 4.0, 1448233: 2.0, 1448640: 4.0, 1448774: 2.7142857142857144, 1450389: 4.5, 1450762: 4.5, 1451243: 2.823529411764706, 1451258: 4.0, 1451898: 5.0, 1452969: 2.0, 1453149: 3.3333333333333335, 1453623: 3.736842105263158, 1454023: 4.0, 1454209: 3.125, 1454460: 2.878787878787879, 1454608: 2.5, 1454621: 3.0, 1454892: 3.6, 1455644: 4.133333333333334, 1456270: 3.0, 1456324: 3.3076923076923075, 1456757: 4.5, 1457069: 3.0, 1457264: 4.8, 1457393: 3.5, 1457486: 3.8, 1457594: 2.0, 1458348: 3.0, 1458749: 3.0, 1458809: 3.3333333333333335, 1458961: 3.5, 1459027: 3.5, 1460630: 3.0, 1460835: 3.6, 1461182: 4.3125, 1461237: 3.0, 1461619: 4.0, 1462488: 3.1538461538461537, 1462845: 5.0, 1463037: 3.0, 1463282: 3.533333333333333, 1463625: 4.0, 1463746: 5.0, 1463885: 3.727272727272727, 1464000: 2.7142857142857144, 1464441: 4.0, 1464525: 5.0, 1464823: 3.3333333333333335, 1466291: 4.0, 1466529: 4.75, 1467436: 5.0, 1467506: 3.3333333333333335, 1467684: 4.0, 1468619: 5.0, 1468702: 2.7142857142857144, 1469085: 4.0, 1469776: 3.838709677419355, 1470031: 4.0, 1470113: 2.4285714285714284, 1470838: 2.9, 1470918: 3.5, 1471267: 3.6, 1472068: 4.0, 1472172: 5.0, 1473070: 3.0, 1473334: 4.0, 1473372: 3.0, 1473472: 4.166666666666667, 1473541: 2.5, 1474059: 4.0, 1474647: 2.0, 1475407: 4.0, 1475727: 2.0, 1476735: 5.0, 1476972: 3.3333333333333335, 1477160: 4.333333333333333, 1477802: 4.0, 1477970: 3.0, 1478371: 3.0, 1478505: 3.5, 1478737: 3.533333333333333, 1479207: 4.25, 1479452: 3.7142857142857144, 1479623: 4.214285714285714, 1480443: 3.4375, 1481080: 4.0, 1481138: 3.5714285714285716, 1481942: 3.6666666666666665, 1481961: 2.8620689655172415, 1482103: 3.7142857142857144, 1482420: 4.333333333333333, 1482434: 5.0, 1482932: 5.0, 1483139: 3.0, 1483466: 4.0, 1483914: 3.5, 1484872: 4.6, 1484891: 5.0, 1485009: 2.0, 1485744: 3.0, 1486736: 4.0, 1487270: 3.5714285714285716, 1487599: 3.5, 1487621: 2.0, 1487780: 3.3076923076923075, 1488177: 4.0, 1488292: 2.0, 1488746: 4.0, 1489939: 4.333333333333333, 1490469: 4.0, 1490582: 2.0, 1490725: 4.0, 1491121: 5.0, 1491275: 3.2857142857142856, 1491373: 3.1666666666666665, 1491674: 4.125, 1491835: 4.051282051282051, 1492140: 3.0, 1492395: 3.909090909090909, 1492513: 3.0, 1493615: 2.7142857142857144, 1493697: 1.8, 1493791: 4.0, 1494142: 3.0, 1494347: 4.0, 1494429: 4.0, 1494481: 4.0, 1494699: 4.0, 1494823: 3.3076923076923075, 1495528: 5.0, 1495617: 3.5, 1495626: 3.7142857142857144, 1495704: 5.0, 1495877: 4.0, 1495930: 4.2, 1496013: 3.0, 1496483: 3.3333333333333335, 1496801: 2.0, 1497352: 1.5, 1497505: 3.230769230769231, 1497679: 3.7333333333333334, 1497750: 4.0, 1497845: 3.6666666666666665, 1498110: 4.0, 1498425: 3.5, 1499608: 3.0, 1499947: 2.0, 1500454: 4.5, 1500478: 4.333333333333333, 1500730: 4.25, 1501121: 3.5, 1501560: 4.0, 1501564: 4.5, 1501567: 2.0, 1502431: 3.3636363636363638, 1503097: 1.0, 1503174: 3.625, 1503704: 3.0, 1503790: 3.5, 1503794: 3.5555555555555554, 1503965: 3.0, 1504154: 3.25, 1504176: 4.0, 1504194: 3.0, 1504323: 4.0, 1504525: 2.0, 1504570: 4.0, 1505221: 3.3333333333333335, 1505272: 4.875, 1505927: 4.0, 1505953: 3.0, 1506421: 3.6666666666666665, 1507842: 4.0, 1508382: 5.0, 1508574: 4.0, 1509630: 3.375, 1510464: 4.75, 1510803: 3.0, 1511474: 3.0, 1511475: 4.0, 1511724: 1.0, 1511780: 3.4615384615384617, 1511839: 3.3333333333333335, 1511882: 3.0, 1512406: 5.0, 1512712: 3.0, 1514611: 4.666666666666667, 1515066: 3.090909090909091, 1516466: 3.466666666666667, 1516678: 4.5, 1516815: 3.7142857142857144, 1516888: 4.0, 1516936: 3.8, 1517389: 3.04, 1517436: 3.0, 1517745: 3.0, 1518493: 3.3333333333333335, 1518875: 2.5, 1518915: 4.0, 1519308: 4.0, 1519556: 3.6, 1519994: 4.25, 1520482: 3.6666666666666665, 1521532: 4.0, 1522707: 3.5, 1523669: 4.2, 1523719: 3.75, 1524025: 3.6666666666666665, 1524343: 2.5, 1524808: 4.0, 1524853: 2.6666666666666665, 1524936: 3.0, 1525021: 3.0, 1525764: 4.0, 1526295: 4.5, 1526379: 2.6666666666666665, 1526490: 4.0, 1526491: 3.0, 1527164: 2.0, 1527368: 5.0, 1528435: 3.6666666666666665, 1528574: 4.0, 1528903: 3.5, 1529546: 3.5714285714285716, 1529715: 4.4, 1529728: 3.5, 1529741: 3.0, 1529787: 4.0, 1530075: 3.0, 1530129: 3.25, 1530500: 4.5, 1530549: 3.272727272727273, 1530772: 5.0, 1531171: 4.0, 1531296: 2.2, 1531403: 4.333333333333333, 1531691: 4.833333333333333, 1531751: 4.0, 1532163: 2.8461538461538463, 1532551: 3.0, 1532563: 4.0, 1532697: 4.0, 1533564: 3.5, 1534200: 4.0, 1534640: 3.0, 1536029: 4.0, 1536711: 3.0, 1536923: 4.5, 1537001: 3.9, 1537949: 3.5833333333333335, 1538018: 4.5, 1538686: 4.0, 1538698: 4.0, 1539091: 4.5, 1539341: 3.0, 1539925: 3.6666666666666665, 1540315: 3.6666666666666665, 1540320: 3.5, 1540854: 5.0, 1541097: 2.0, 1542288: 4.0, 1542354: 3.25, 1542510: 3.2, 1543126: 3.6, 1543351: 3.2, 1543505: 3.6666666666666665, 1544339: 4.0, 1544909: 3.0, 1545512: 3.6, 1545908: 4.5, 1546138: 3.642857142857143, 1546401: 3.0, 1546641: 3.5, 1546689: 3.0, 1547571: 2.0, 1547670: 1.0, 1547672: 5.0, 1547810: 5.0, 1547861: 3.4, 1548025: 3.0, 1548649: 5.0, 1548756: 2.5, 1548834: 3.5, 1548987: 4.0, 1549970: 2.3333333333333335, 1550524: 3.75, 1550569: 3.3333333333333335, 1551218: 2.5, 1551634: 2.0, 1552026: 3.75, 1552333: 3.0, 1552485: 3.1333333333333333, 1553361: 2.0, 1553636: 4.0, 1554343: 3.5, 1554479: 5.0, 1554977: 3.8333333333333335, 1555029: 5.0, 1555416: 1.0, 1556244: 4.0, 1556746: 5.0, 1556911: 3.5, 1557611: 4.4, 1557694: 3.875, 1558587: 5.0, 1558674: 2.6666666666666665, 1559156: 3.142857142857143, 1559172: 2.6666666666666665, 1559301: 3.0, 1560222: 3.5, 1560367: 3.8, 1560856: 4.0, 1561387: 3.0, 1561664: 4.0, 1562696: 4.333333333333333, 1563010: 3.6923076923076925, 1564179: 4.0, 1564196: 3.0, 1564435: 4.28125, 1565115: 3.8, 1566183: 3.8333333333333335, 1566628: 3.0, 1566688: 4.125, 1567064: 3.5, 1567458: 4.333333333333333, 1567617: 4.125, 1567980: 4.0, 1568197: 4.0, 1568275: 2.1666666666666665, 1568605: 4.090909090909091, 1568775: 3.5, 1569426: 4.0, 1570455: 4.285714285714286, 1570833: 4.5, 1570999: 4.2, 1571975: 3.8, 1572848: 3.3333333333333335, 1573017: 5.0, 1573083: 2.75, 1573491: 4.0, 1573865: 2.0, 1574272: 2.6, 1574825: 3.4444444444444446, 1575181: 3.1818181818181817, 1575329: 4.0, 1575739: 3.6666666666666665, 1576440: 4.0, 1577387: 3.0, 1577820: 3.2, 1578315: 3.5, 1579032: 3.967741935483871, 1579357: 3.0, 1580078: 4.0, 1580779: 4.0, 1582050: 5.0, 1582641: 3.0, 1583124: 2.5, 1583173: 3.8, 1583619: 1.0, 1583656: 3.3636363636363638, 1584055: 3.0, 1584056: 3.3333333333333335, 1584383: 3.625, 1584470: 1.0, 1584615: 4.076923076923077, 1584657: 3.3333333333333335, 1584921: 3.0, 1585371: 3.5, 1585662: 3.5, 1587324: 2.0, 1587838: 2.6666666666666665, 1588207: 2.6666666666666665, 1588745: 3.6666666666666665, 1589208: 2.0, 1589271: 4.666666666666667, 1589284: 2.5, 1589400: 3.5, 1589539: 3.813953488372093, 1590270: 1.0, 1590635: 3.7142857142857144, 1591418: 3.5, 1591751: 2.8333333333333335, 1591803: 4.166666666666667, 1592186: 5.0, 1592350: 3.125, 1592426: 4.0, 1592790: 4.4, 1592891: 1.0, 1593033: 3.0, 1593251: 4.0, 1593356: 3.6666666666666665, 1593456: 4.0, 1594064: 5.0, 1594538: 3.0, 1594651: 2.0, 1595556: 3.6666666666666665, 1595560: 2.3333333333333335, 1595621: 3.0, 1595708: 3.0, 1596031: 4.142857142857143, 1596727: 4.0, 1596868: 3.5, 1597381: 3.6666666666666665, 1597630: 3.0, 1598949: 4.333333333333333, 1599873: 2.3333333333333335, 1599946: 5.0, 1600505: 1.0, 1600527: 5.0, 1601299: 4.0, 1601496: 3.2, 1601700: 3.5, 1601855: 4.142857142857143, 1601901: 3.3333333333333335, 1602412: 3.0, 1602806: 2.5, 1602857: 4.0, 1602923: 3.5, 1603061: 3.888888888888889, 1604160: 4.5, 1605425: 4.0, 1605577: 3.0, 1605696: 5.0, 1605745: 3.5, 1605768: 3.0, 1606036: 5.0, 1606204: 5.0, 1606417: 3.5294117647058822, 1606473: 3.7777777777777777, 1607389: 3.3333333333333335, 1608183: 3.6666666666666665, 1608445: 4.0, 1608466: 3.6666666666666665, 1608797: 3.8, 1608821: 2.5, 1609099: 5.0, 1609273: 4.4, 1609338: 3.2, 1609838: 3.5, 1610055: 5.0, 1610270: 3.2857142857142856, 1610456: 5.0, 1611486: 4.0, 1612505: 3.5, 1613260: 4.5, 1613289: 5.0, 1614198: 4.5, 1614350: 5.0, 1614455: 3.0, 1614474: 5.0, 1614979: 5.0, 1615706: 3.8333333333333335, 1616871: 4.142857142857143, 1616890: 4.090909090909091, 1618364: 3.0, 1618595: 2.0, 1618889: 2.6666666666666665, 1619394: 3.0, 1619680: 2.5, 1620821: 3.2857142857142856, 1621713: 3.425, 1623594: 4.1, 1623667: 3.5, 1623723: 3.6666666666666665, 1624609: 3.5, 1625329: 4.882352941176471, 1625446: 5.0, 1625483: 3.0, 1626928: 3.3333333333333335, 1627309: 3.5, 1627662: 2.0, 1627744: 3.3333333333333335, 1628654: 3.6666666666666665, 1629401: 4.0, 1629797: 3.5, 1629801: 3.2962962962962963, 1629950: 4.5, 1630367: 4.25, 1631353: 5.0, 1632957: 5.0, 1633007: 3.5, 1633136: 5.0, 1633197: 3.125, 1634492: 3.6666666666666665, 1635414: 4.8, 1635579: 4.142857142857143, 1635782: 4.0, 1636559: 3.5, 1637011: 4.0, 1637246: 3.0, 1637905: 3.2, 1637970: 4.5, 1638026: 2.0, 1638098: 3.8, 1638392: 3.6666666666666665, 1638748: 3.4, 1638789: 4.111111111111111, 1638955: 3.0, 1639093: 3.6875, 1639568: 4.0, 1639831: 2.0, 1639896: 4.0, 1640023: 3.75, 1640759: 4.0, 1640805: 4.2, 1641267: 3.2, 1642678: 3.9615384615384617, 1642760: 4.166666666666667, 1643270: 3.1666666666666665, 1643770: 5.0, 1644226: 4.0, 1644280: 4.5, 1644420: 3.8333333333333335, 1644472: 3.0, 1644531: 3.5, 1644750: 3.0, 1644977: 4.0, 1645426: 3.0, 1646852: 3.3333333333333335, 1646865: 3.6363636363636362, 1646899: 4.166666666666667, 1647702: 3.6, 1647925: 4.666666666666667, 1648188: 4.0, 1648352: 3.3, 1650500: 5.0, 1650899: 4.5, 1651210: 3.0, 1651524: 3.0, 1652167: 3.3333333333333335, 1652703: 4.0, 1652770: 4.0, 1652819: 4.0, 1653937: 2.5, 1654790: 2.0, 1655003: 3.0, 1655379: 4.6, 1655738: 5.0, 1657568: 1.0, 1659386: 3.0, 1659478: 3.6666666666666665, 1659792: 3.8, 1660327: 3.090909090909091, 1660390: 4.0, 1660952: 2.2, 1660996: 3.8333333333333335, 1661099: 5.0, 1661398: 3.9, 1661469: 2.6, 1661485: 1.3333333333333333, 1662751: 4.125, 1662848: 3.5714285714285716, 1662940: 4.0, 1663140: 3.0, 1663379: 3.0, 1663418: 4.0, 1664944: 4.0, 1665152: 4.5, 1665288: 3.176470588235294, 1665456: 3.642857142857143, 1666072: 4.0, 1666084: 4.333333333333333, 1666594: 3.0, 1667171: 3.5, 1668220: 4.0, 1668468: 4.0, 1668662: 3.6666666666666665, 1669183: 3.0, 1669693: 3.411764705882353, 1669747: 4.0, 1670951: 5.0, 1671085: 3.0, 1671775: 3.75, 1671896: 4.5, 1672264: 3.0, 1673053: 4.0, 1673300: 1.0, 1673514: 5.0, 1673875: 4.0, 1674099: 3.3333333333333335, 1674408: 2.8, 1674787: 3.4, 1674868: 3.6, 1675006: 3.5294117647058822, 1675269: 3.35, 1675864: 4.0, 1676424: 2.3333333333333335, 1676685: 4.0, 1677035: 4.333333333333333, 1677464: 4.333333333333333, 1677483: 4.5, 1678100: 5.0, 1678141: 4.0, 1679418: 4.25, 1680408: 3.5, 1680767: 3.5, 1680877: 2.75, 1681124: 4.5, 1681209: 3.8, 1681907: 2.0, 1682666: 4.0, 1683048: 4.0, 1683189: 1.0, 1684811: 3.5, 1684845: 5.0, 1684953: 3.0, 1685068: 4.25, 1685140: 5.0, 1686134: 4.0, 1686464: 3.5, 1686841: 3.875, 1687863: 2.5, 1688222: 3.0, 1688299: 3.4146341463414633, 1688360: 3.0, 1688544: 3.5555555555555554, 1688654: 3.0, 1689153: 5.0, 1689407: 2.0, 1690007: 4.166666666666667, 1690557: 3.6666666666666665, 1690832: 3.8, 1692253: 3.0, 1693417: 3.6666666666666665, 1694062: 3.53125, 1694649: 4.0, 1694745: 4.142857142857143, 1695093: 3.6, 1696440: 1.3333333333333333, 1696576: 3.25, 1696723: 5.0, 1696754: 4.5, 1696925: 3.0, 1696950: 4.0, 1697642: 3.6666666666666665, 1698030: 2.5, 1698802: 3.4545454545454546, 1699241: 3.3529411764705883, 1699833: 4.428571428571429, 1700253: 2.0, 1700421: 1.0, 1700559: 3.0, 1700666: 3.5, 1701074: 4.0, 1701717: 4.0, 1701767: 3.0, 1702093: 4.0, 1702278: 3.0, 1702662: 1.0, 1703084: 3.4705882352941178, 1703680: 3.7, 1704316: 4.666666666666667, 1704597: 3.3333333333333335, 1704833: 5.0, 1704968: 3.0833333333333335, 1705538: 5.0, 1705595: 4.0625, 1705759: 4.333333333333333, 1706289: 1.0, 1707310: 4.3125, 1708026: 3.0, 1708295: 3.1666666666666665, 1708312: 2.5, 1708504: 3.6666666666666665, 1709049: 4.25, 1709218: 4.666666666666667, 1709289: 3.25, 1710243: 3.75, 1710416: 5.0, 1710433: 3.5, 1711099: 3.6, 1711196: 4.0, 1712153: 4.4, 1712767: 1.0, 1712940: 3.6666666666666665, 1712996: 3.0, 1713004: 3.0, 1714678: 3.0, 1714743: 3.0, 1715269: 4.0, 1715557: 4.0, 1716683: 4.6, 1717532: 3.3333333333333335, 1718189: 4.0, 1718499: 3.5714285714285716, 1719590: 4.0, 1720578: 4.0, 1720671: 3.0, 1721666: 4.166666666666667, 1721853: 2.0, 1721930: 3.0, 1722258: 2.8, 1722329: 3.2, 1722468: 3.0, 1722562: 3.0, 1723086: 4.0, 1723101: 3.0, 1723170: 3.8333333333333335, 1723196: 3.5, 1723474: 4.0, 1725009: 2.6, 1725259: 4.0, 1726877: 3.857142857142857, 1727118: 5.0, 1727134: 2.6666666666666665, 1727808: 3.25, 1727812: 4.0, 1728140: 4.5, 1728586: 3.5, 1728699: 5.0, 1728806: 5.0, 1729452: 4.0, 1730631: 3.1666666666666665, 1730677: 4.0, 1731449: 4.0, 1731858: 4.25, 1731876: 3.75, 1731963: 4.333333333333333, 1732656: 4.0, 1733194: 4.0, 1733289: 4.4, 1733305: 4.25, 1733541: 4.0, 1733780: 4.333333333333333, 1734032: 4.0, 1734130: 3.0, 1734314: 3.6666666666666665, 1735400: 2.3333333333333335, 1735941: 3.6666666666666665, 1736784: 4.0, 1736791: 1.0, 1737055: 4.333333333333333, 1737535: 3.0, 1737539: 3.0, 1737549: 3.6666666666666665, 1737808: 3.0, 1737912: 3.0, 1738046: 4.333333333333333, 1738226: 3.0, 1738913: 2.75, 1738971: 4.0, 1739008: 4.0, 1739048: 3.8333333333333335, 1741623: 3.5, 1741728: 3.6666666666666665, 1742035: 3.4, 1742339: 4.666666666666667, 1742454: 3.0, 1742718: 4.0, 1742958: 4.0, 1743029: 4.0, 1744307: 3.4615384615384617, 1744863: 3.0, 1745278: 4.0, 1745711: 4.333333333333333, 1745749: 4.0, 1746067: 1.3333333333333333, 1746220: 3.6666666666666665, 1747111: 3.0, 1747795: 3.0, 1747954: 2.5, 1748702: 4.0, 1749787: 3.6153846153846154, 1750406: 4.0, 1751508: 4.0, 1753010: 5.0, 1753825: 3.6666666666666665, 1753886: 2.5, 1754005: 3.0, 1754115: 3.611111111111111, 1754253: 4.0, 1754574: 3.75, 1755815: 1.6666666666666667, 1756195: 3.8181818181818183, 1756375: 3.5, 1756798: 4.0, 1757328: 3.158273381294964, 1757401: 3.0, 1758378: 3.0, 1758676: 3.0, 1759143: 3.5, 1759349: 3.5, 1759376: 2.5, 1759444: 3.789473684210526, 1759881: 2.0, 1760752: 5.0, 1760874: 4.076923076923077, 1760926: 4.0, 1760980: 5.0, 1761255: 3.0, 1761913: 2.0, 1762488: 4.333333333333333, 1763048: 2.0, 1763553: 3.25, 1763997: 3.3333333333333335, 1764246: 4.666666666666667, 1764648: 5.0, 1765117: 4.0, 1765397: 3.5, 1765645: 4.0, 1766118: 5.0, 1766487: 4.0, 1767066: 4.0, 1767403: 5.0, 1767550: 3.3333333333333335, 1767609: 3.4166666666666665, 1767871: 3.6666666666666665, 1767905: 3.25, 1767969: 3.5, 1767981: 3.0, 1768383: 4.6, 1769229: 2.0, 1769663: 2.75, 1770196: 3.0, 1771195: 3.0, 1771967: 3.142857142857143, 1772383: 4.25, 1772647: 3.5, 1773304: 4.0, 1773915: 3.0, 1774131: 3.625, 1774590: 2.0, 1774618: 3.5, 1775008: 4.4, 1776059: 5.0, 1776514: 4.052631578947368, 1777144: 4.0, 1777229: 5.0, 1777724: 4.5, 1779329: 3.3333333333333335, 1779766: 5.0, 1779793: 5.0, 1780120: 2.3333333333333335, 1780230: 4.0, 1780399: 3.625, 1780870: 4.0, 1782035: 5.0, 1782381: 3.0, 1782514: 4.0, 1782606: 2.5, 1783105: 3.0, 1783115: 3.0, 1783376: 3.25, 1784582: 4.2, 1784723: 2.0, 1784971: 5.0, 1785134: 2.8, 1785359: 4.666666666666667, 1785367: 3.6666666666666665, 1785578: 3.0, 1785823: 3.0, 1785845: 3.75, 1785862: 2.3333333333333335, 1786244: 5.0, 1786570: 4.0, 1786613: 3.1666666666666665, 1787018: 4.333333333333333, 1787125: 3.6, 1787317: 2.0, 1787515: 3.0, 1787567: 3.4, 1787759: 4.333333333333333, 1788305: 4.5, 1788627: 2.0, 1789442: 3.5714285714285716, 1790369: 3.5, 1790522: 3.4, 1790627: 2.0, 1791113: 4.333333333333333, 1791599: 3.0, 1791615: 2.5, 1791945: 2.0, 1792308: 3.0, 1792384: 3.0, 1792460: 4.0, 1792874: 3.0, 1793225: 2.5, 1793809: 4.0, 1794144: 4.0, 1794671: 3.0, 1795259: 2.3333333333333335, 1795714: 5.0, 1796768: 3.25, 1797268: 5.0, 1797532: 5.0, 1797641: 4.5, 1797987: 4.5, 1798588: 4.0, 1798754: 3.0, 1799325: 3.3333333333333335, 1799442: 4.0, 1799930: 5.0, 1800176: 3.5, 1801014: 2.0, 1801092: 5.0, 1801164: 3.857142857142857, 1801396: 3.0, 1801986: 4.333333333333333, 1802419: 2.0, 1802546: 3.6666666666666665, 1802901: 3.0, 1803278: 3.0, 1804010: 3.6666666666666665, 1804824: 1.0, 1805500: 2.3333333333333335, 1805594: 5.0, 1806265: 3.0, 1806708: 2.0, 1806724: 4.0, 1807033: 4.0, 1807501: 4.5, 1807973: 4.333333333333333, 1808328: 4.0, 1808985: 4.0, 1809385: 3.0, 1809404: 5.0, 1809686: 3.8, 1809758: 2.0, 1810074: 3.7096774193548385, 1810509: 2.75, 1810544: 3.857142857142857, 1811237: 3.5, 1811238: 3.6, 1811456: 3.5, 1812019: 3.75, 1812117: 3.0, 1812227: 4.0, 1812498: 4.0, 1812602: 3.0, 1813821: 3.5, 1813884: 5.0, 1814098: 4.0, 1815130: 3.6, 1815381: 4.0, 1816210: 3.6, 1816681: 3.5, 1817318: 4.0, 1817405: 3.4, 1817517: 4.142857142857143, 1817539: 3.0, 1817612: 4.0, 1817630: 4.0, 1817745: 3.0, 1817868: 2.7777777777777777, 1818424: 3.789473684210526, 1818562: 3.6, 1818981: 3.4, 1820004: 3.8333333333333335, 1820247: 4.0, 1820641: 4.666666666666667, 1821974: 4.0, 1821998: 4.0, 1822384: 2.6666666666666665, 1823414: 3.0, 1824040: 5.0, 1824144: 3.5, 1824297: 4.0, 1824692: 4.5, 1824902: 2.25, 1825268: 3.5, 1825741: 5.0, 1825873: 3.65, 1825907: 3.4, 1826063: 3.111111111111111, 1826418: 4.333333333333333, 1826515: 2.6875, 1826670: 4.0, 1826785: 1.0, 1827256: 5.0, 1827788: 4.0, 1828007: 2.5, 1828124: 4.0, 1828719: 4.0, 1829347: 5.0, 1829390: 3.1666666666666665, 1829787: 3.0, 1829927: 3.0, 1830320: 5.0, 1830682: 3.9555555555555557, 1831413: 3.75, 1832478: 3.142857142857143, 1832489: 5.0, 1832497: 4.0, 1832871: 4.666666666666667, 1834181: 3.0, 1834225: 4.25, 1834826: 2.0, 1836481: 4.0, 1836502: 3.7142857142857144, 1836939: 4.0, 1837058: 2.5714285714285716, 1837202: 3.25, 1837337: 3.6666666666666665, 1837525: 3.6, 1838798: 4.666666666666667, 1839453: 3.111111111111111, 1839575: 3.0, 1839937: 3.0, 1840435: 3.3333333333333335, 1840439: 3.5, 1840498: 1.0, 1840690: 4.384615384615385, 1840967: 3.888888888888889, 1841897: 3.0, 1841987: 1.0, 1842484: 3.75, 1842549: 2.0, 1842613: 4.0, 1843884: 3.6666666666666665, 1844411: 5.0, 1844517: 2.6666666666666665, 1845137: 3.5555555555555554, 1845184: 3.3333333333333335, 1845245: 3.6666666666666665, 1845970: 5.0, 1846321: 2.5, 1846995: 3.5, 1847260: 3.0, 1847295: 3.9285714285714284, 1847946: 3.25, 1847955: 3.5, 1848781: 3.0, 1849204: 4.0, 1849272: 2.75, 1851033: 4.0, 1852164: 3.25, 1852282: 3.0, 1853215: 3.7857142857142856, 1853765: 3.0, 1853838: 3.0, 1855156: 3.0, 1855291: 2.25, 1855452: 3.0, 1855466: 4.0, 1855513: 3.5, 1856275: 3.3333333333333335, 1856530: 2.5, 1856532: 3.1818181818181817, 1856804: 3.25, 1857731: 3.0, 1858094: 3.8947368421052633, 1858464: 3.0, 1858594: 5.0, 1858686: 3.272727272727273, 1858867: 5.0, 1859026: 4.2, 1859317: 3.4, 1859650: 3.0, 1859754: 4.0, 1860384: 3.857142857142857, 1860661: 4.0, 1861247: 3.25, 1861449: 4.0, 1861774: 3.4545454545454546, 1861822: 2.909090909090909, 1862554: 3.0, 1862561: 3.0, 1863032: 3.0, 1864142: 4.0, 1864188: 2.0, 1864503: 3.5384615384615383, 1864580: 3.6666666666666665, 1864617: 4.666666666666667, 1864774: 4.5, 1865422: 3.5, 1865568: 4.5, 1865681: 4.0, 1866580: 5.0, 1866591: 3.5, 1866799: 3.0, 1866871: 3.5, 1867200: 2.0, 1867405: 3.0, 1867863: 3.5, 1867885: 3.75, 1867994: 3.142857142857143, 1868599: 3.0, 1869112: 3.0, 1869307: 4.4, 1869498: 3.5, 1869548: 3.0, 1869897: 3.6666666666666665, 1869918: 3.0, 1870497: 4.0, 1870645: 3.0, 1871026: 3.0, 1871066: 3.0, 1871466: 4.0, 1871659: 3.5, 1872649: 4.0, 1872822: 3.0, 1873162: 3.5, 1873469: 4.333333333333333, 1873470: 4.0, 1874535: 4.0, 1875113: 3.75, 1876267: 4.0, 1876647: 4.666666666666667, 1877062: 4.266666666666667, 1877128: 3.6875, 1877345: 4.5, 1877475: 3.3333333333333335, 1878883: 5.0, 1879000: 3.6666666666666665, 1879187: 4.0, 1880064: 3.8, 1880691: 4.5, 1881382: 4.5, 1881407: 5.0, 1881889: 3.1333333333333333, 1881915: 4.0, 1881994: 4.333333333333333, 1882157: 4.0, 1882347: 4.0, 1882678: 5.0, 1883039: 3.3333333333333335, 1883324: 3.0, 1883356: 3.8125, 1883736: 2.0, 1884871: 5.0, 1885210: 2.8636363636363638, 1885881: 3.0, 1885888: 2.5, 1886302: 2.7142857142857144, 1886773: 4.5, 1887234: 4.333333333333333, 1887262: 4.666666666666667, 1888260: 2.75, 1888991: 2.2, 1889146: 3.5, 1889550: 5.0, 1890717: 4.4, 1890864: 3.0, 1891998: 3.5, 1892319: 3.0, 1893197: 3.3333333333333335, 1893719: 3.9130434782608696, 1893924: 4.0, 1894456: 4.3125, 1894458: 3.0, 1894534: 4.214285714285714, 1894639: 2.0, 1894839: 5.0, 1895172: 3.230769230769231, 1895326: 4.0, 1895417: 4.0, 1895429: 3.1333333333333333, 1895495: 3.25, 1895750: 4.2, 1897626: 3.0, 1897737: 3.6666666666666665, 1897879: 3.5, 1898074: 2.0, 1898714: 3.5, 1898937: 4.0, 1899111: 4.5, 1899265: 1.0, 1899305: 4.166666666666667, 1899902: 4.666666666666667, 1899931: 3.0, 1900738: 4.2, 1901352: 4.375, 1901879: 1.0, 1902220: 4.061224489795919, 1902434: 2.7777777777777777, 1902674: 3.0, 1903210: 4.0, 1903369: 4.0, 1903518: 3.450980392156863, 1904282: 2.0, 1905393: 2.0, 1905622: 5.0, 1906750: 3.0, 1906986: 3.7857142857142856, 1907113: 2.909090909090909, 1907263: 3.0, 1907504: 4.0, 1907623: 4.0, 1909283: 4.125, 1910363: 3.347826086956522, 1910437: 3.625, 1910453: 4.333333333333333, 1910569: 4.5, 1910590: 5.0, 1910693: 2.625, 1911006: 3.4782608695652173, 1911682: 4.333333333333333, 1911743: 3.25, 1911975: 3.5, 1912082: 3.9473684210526314, 1912161: 2.0, 1912182: 2.0, 1912207: 5.0, 1912542: 1.0, 1912971: 3.769230769230769, 1913156: 3.5555555555555554, 1913494: 3.0, 1913993: 4.222222222222222, 1914703: 5.0, 1916203: 4.0, 1916666: 2.8333333333333335, 1917154: 3.3333333333333335, 1918126: 4.0, 1918196: 4.0, 1918514: 4.0, 1918676: 3.0, 1919108: 3.6666666666666665, 1919978: 3.5, 1920056: 2.0, 1920266: 2.6666666666666665, 1920484: 4.666666666666667, 1920758: 4.5, 1920832: 1.0, 1921157: 3.0, 1921272: 3.6875, 1921444: 5.0, 1921577: 3.0, 1921696: 3.642857142857143, 1921972: 2.7333333333333334, 1921993: 3.8, 1922478: 5.0, 1922799: 3.6, 1922883: 3.6, 1923464: 1.0, 1924244: 2.0, 1924401: 4.0, 1924957: 2.6666666666666665, 1925728: 4.0, 1926720: 4.2, 1927008: 4.25, 1927051: 4.0, 1927521: 4.0, 1927929: 4.333333333333333, 1928669: 3.5, 1928851: 3.875, 1929150: 4.333333333333333, 1929310: 4.666666666666667, 1929968: 2.5, 1930357: 4.0, 1930407: 2.0, 1930446: 2.75, 1930463: 3.0, 1931131: 3.0, 1931171: 4.333333333333333, 1932248: 4.5, 1933022: 4.0, 1933193: 3.0, 1933526: 3.6666666666666665, 1934112: 5.0, 1934464: 3.0, 1934687: 3.4, 1935729: 2.0, 1935890: 3.75, 1936057: 3.0, 1936716: 5.0, 1936905: 3.0, 1937013: 3.0, 1937171: 4.75, 1937449: 3.764705882352941, 1938178: 3.5, 1939036: 3.5, 1939542: 3.5, 1939585: 5.0, 1940460: 3.3333333333333335, 1940669: 3.5454545454545454, 1940801: 3.5714285714285716, 1941388: 5.0, 1941660: 3.0, 1941775: 2.3333333333333335, 1942288: 4.714285714285714, 1942404: 5.0, 1942590: 3.8, 1942689: 2.3333333333333335, 1942777: 5.0, 1943917: 2.25, 1943948: 2.75, 1944528: 3.25, 1944995: 5.0, 1945847: 3.6666666666666665, 1946478: 3.0, 1946687: 4.2, 1947105: 2.0, 1948238: 5.0, 1948443: 3.5, 1948594: 3.0, 1949394: 3.5, 1950714: 4.333333333333333, 1950842: 3.4, 1951144: 3.0, 1951577: 4.0, 1952500: 3.25, 1953616: 4.0, 1953709: 4.0, 1954004: 3.1666666666666665, 1954553: 5.0, 1954621: 2.0, 1955252: 3.5, 1956205: 3.4444444444444446, 1957476: 3.5, 1957784: 2.0, 1957922: 4.0, 1959439: 3.4, 1959832: 4.0, 1959868: 4.0, 1959907: 3.5833333333333335, 1959952: 3.5, 1960248: 3.0, 1960840: 4.083333333333333, 1961987: 3.5, 1962305: 2.0, 1962471: 4.5, 1962698: 2.5, 1963003: 3.857142857142857, 1963508: 2.3333333333333335, 1963815: 3.0, 1964404: 1.0, 1964626: 3.0, 1964888: 4.333333333333333, 1964889: 3.6666666666666665, 1965731: 3.5, 1966534: 4.666666666666667, 1967098: 4.25, 1968540: 5.0, 1968931: 3.0, 1968939: 4.0, 1969303: 3.272727272727273, 1970144: 4.0, 1970273: 4.0, 1970306: 4.714285714285714, 1970527: 3.0, 1970957: 4.071428571428571, 1971924: 3.0, 1972072: 5.0, 1972137: 4.0, 1973594: 5.0, 1973852: 4.75, 1973978: 2.0, 1974302: 3.0, 1974527: 3.5, 1974656: 3.3846153846153846, 1975300: 4.0, 1975489: 3.576923076923077, 1975981: 4.2, 1978440: 4.083333333333333, 1978988: 4.333333333333333, 1979167: 4.0, 1979536: 5.0, 1979843: 3.0, 1980139: 4.5, 1980567: 2.75, 1980597: 4.6, 1980668: 4.0, 1981295: 4.75, 1981869: 2.0, 1981904: 5.0, 1982259: 3.6666666666666665, 1982879: 4.0, 1982915: 4.5, 1984003: 2.0, 1984118: 4.5, 1984237: 4.666666666666667, 1984238: 2.6666666666666665, 1985003: 4.5, 1985404: 4.666666666666667, 1985407: 4.5, 1985425: 3.3333333333333335, 1986058: 3.6666666666666665, 1986732: 4.0, 1986924: 3.75, 1987037: 2.0, 1988524: 3.5, 1988585: 3.6, 1989553: 1.0, 1989989: 4.75, 1990113: 4.0, 1990391: 2.0, 1990451: 4.714285714285714, 1990552: 3.4444444444444446, 1991448: 3.6666666666666665, 1992091: 4.428571428571429, 1992227: 2.0, 1992430: 5.0, 1992578: 2.5, 1992642: 4.0, 1992962: 5.0, 1993384: 3.0, 1993568: 3.0, 1994266: 3.0, 1994986: 3.2, 1995228: 4.857142857142857, 1995348: 3.9166666666666665, 1995967: 4.0, 1996271: 3.2, 1996310: 2.5, 1996765: 5.0, 1996860: 5.0, 1998128: 4.0, 2000527: 3.75, 2000775: 3.6363636363636362, 2001061: 3.56, 2001144: 4.5, 2001447: 4.125, 2001498: 3.6, 2001586: 4.0, 2001615: 2.8181818181818183, 2002026: 3.0, 2002421: 3.0, 2002452: 3.6666666666666665, 2003693: 2.6666666666666665, 2004413: 4.5, 2004666: 3.0, 2004777: 4.0, 2004869: 3.5, 2005065: 3.0, 2005812: 3.0, 2006107: 4.0, 2006534: 5.0, 2007052: 3.0, 2008259: 3.5, 2008642: 4.333333333333333, 2009440: 4.25, 2010363: 3.0, 2010935: 4.0, 2011085: 4.0, 2011157: 3.5, 2011187: 3.0, 2011220: 2.625, 2011391: 4.0, 2011929: 3.0, 2012459: 5.0, 2013305: 4.0, 2013314: 3.0, 2013670: 4.0, 2013913: 4.6, 2013918: 3.0, 2013939: 3.3333333333333335, 2014141: 3.0, 2014400: 4.4, 2014761: 4.0, 2014772: 3.75, 2014864: 3.1578947368421053, 2015117: 3.6666666666666665, 2015315: 3.0, 2015401: 4.0, 2016169: 3.0, 2017248: 4.0, 2017697: 3.6, 2017847: 3.0, 2019316: 3.0, 2019927: 4.0, 2020781: 4.166666666666667, 2021466: 4.0, 2021740: 4.0, 2022008: 4.0, 2022154: 1.0, 2022263: 3.5, 2022436: 3.0, 2022773: 5.0, 2023144: 2.0, 2023360: 4.333333333333333, 2023518: 2.6875, 2024558: 3.0, 2024933: 3.8076923076923075, 2025073: 2.3333333333333335, 2025338: 3.0, 2025574: 2.0, 2026156: 3.0, 2026647: 2.5, 2027516: 4.0, 2028085: 2.888888888888889, 2028131: 4.428571428571429, 2030523: 4.25, 2031463: 4.333333333333333, 2031603: 2.5, 2031887: 3.25, 2031891: 5.0, 2031931: 3.5, 2031992: 3.6666666666666665, 2032398: 4.5, 2032643: 5.0, 2032706: 3.727272727272727, 2032768: 2.5, 2032785: 2.0, 2033036: 4.5, 2033085: 4.5, 2033618: 3.3, 2035049: 3.5, 2035151: 3.0, 2035310: 5.0, 2035834: 3.0, 2037272: 4.0, 2037687: 4.222222222222222, 2039736: 3.25, 2040916: 2.0, 2041221: 4.333333333333333, 2041234: 3.0384615384615383, 2041407: 3.1904761904761907, 2041583: 4.666666666666667, 2041595: 3.0, 2041711: 2.857142857142857, 2041722: 4.0, 2042538: 5.0, 2042893: 5.0, 2042924: 4.333333333333333, 2043149: 3.3, 2043278: 4.0625, 2043675: 4.142857142857143, 2044473: 5.0, 2044878: 3.78125, 2044911: 4.0, 2045436: 3.75, 2045554: 5.0, 2045733: 3.0, 2046045: 1.5, 2046138: 5.0, 2046739: 4.166666666666667, 2046911: 4.333333333333333, 2047204: 3.75, 2047395: 4.5, 2047434: 2.0, 2048158: 3.5, 2049867: 2.5, 2050590: 3.25, 2050977: 5.0, 2051022: 3.1666666666666665, 2051116: 4.071428571428571, 2051433: 4.25, 2051504: 4.333333333333333, 2052004: 2.4545454545454546, 2053602: 3.3448275862068964, 2053641: 5.0, 2053710: 3.5, 2054641: 3.0, 2055425: 2.0, 2055826: 2.0, 2055917: 4.5, 2056309: 5.0, 2056360: 4.0, 2056411: 2.0, 2056549: 2.8, 2056705: 4.666666666666667, 2057104: 3.95, 2057514: 3.0, 2057841: 2.8181818181818183, 2058164: 3.8, 2058571: 1.5, 2059327: 5.0, 2059929: 4.0, 2060108: 2.25, 2060176: 2.3333333333333335, 2060327: 3.0, 2060723: 5.0, 2061224: 3.25, 2061240: 5.0, 2061336: 4.0, 2061557: 3.923076923076923, 2061632: 4.0, 2061821: 4.0, 2062214: 2.5, 2062610: 2.5, 2063450: 5.0, 2063514: 4.470588235294118, 2063563: 3.5, 2063679: 2.0, 2064002: 4.071428571428571, 2064058: 3.0, 2064219: 4.2, 2065422: 4.333333333333333, 2065515: 4.5, 2065531: 5.0, 2066211: 3.0, 2066276: 4.131578947368421, 2066338: 3.142857142857143, 2066745: 4.0, 2066918: 4.0, 2067344: 5.0, 2067617: 3.6666666666666665, 2068271: 4.0, 2068582: 3.0, 2069531: 4.0, 2069615: 3.0, 2069625: 3.25, 2070044: 4.25, 2070563: 3.0, 2071267: 4.0, 2071274: 3.6666666666666665, 2071552: 4.0, 2071769: 5.0, 2072194: 2.75, 2072811: 3.7704918032786887, 2073136: 2.75, 2073309: 4.551724137931035, 2073569: 4.0, 2073589: 3.5, 2073922: 4.0, 2074375: 3.0, 2074416: 3.857142857142857, 2074665: 3.0, 2075034: 2.9166666666666665, 2075682: 3.6666666666666665, 2075733: 2.0, 2076387: 3.4047619047619047, 2076827: 5.0, 2076955: 3.0, 2077168: 3.9411764705882355, 2077278: 2.6666666666666665, 2077338: 3.4, 2077809: 4.352941176470588, 2078057: 4.25, 2078392: 3.0, 2078434: 5.0, 2078704: 5.0, 2078812: 3.6666666666666665, 2078942: 4.0, 2078945: 4.0, 2079646: 4.0, 2079714: 3.8333333333333335, 2079983: 2.3333333333333335, 2080212: 3.5, 2080801: 3.5, 2081109: 4.0, 2082297: 4.0, 2082811: 3.75, 2083076: 2.5, 2083197: 4.0, 2083314: 3.4, 2083666: 3.7142857142857144, 2084242: 4.0, 2084748: 3.0, 2085053: 4.666666666666667, 2085173: 1.0, 2085250: 2.923076923076923, 2085411: 2.0, 2085688: 1.0, 2086089: 3.0, 2086262: 4.0, 2086349: 3.5555555555555554, 2086789: 4.0, 2087319: 3.3636363636363638, 2088685: 4.5, 2088834: 3.25, 2089257: 4.75, 2090012: 3.0, 2090313: 2.0, 2090850: 2.8, 2092323: 3.0, 2092946: 5.0, 2093103: 3.3333333333333335, 2093215: 2.2857142857142856, 2093277: 5.0, 2093289: 4.05, 2093522: 3.0, 2095898: 2.7142857142857144, 2097022: 5.0, 2097388: 4.0, 2097894: 3.7, 2098011: 4.666666666666667, 2098045: 4.0, 2098068: 5.0, 2098084: 4.0, 2098361: 2.5, 2099413: 3.8333333333333335, 2099899: 3.0, 2100576: 5.0, 2101881: 4.5, 2102098: 2.0, 2103246: 3.6666666666666665, 2103280: 4.5, 2103689: 4.5, 2104245: 3.8461538461538463, 2105262: 2.5, 2106304: 1.0, 2106446: 4.0, 2106620: 2.5, 2106687: 3.2222222222222223, 2107500: 3.75, 2107939: 4.0, 2108509: 3.5714285714285716, 2108582: 4.0, 2108832: 2.7142857142857144, 2109646: 5.0, 2109881: 2.9166666666666665, 2110223: 3.0, 2110296: 4.0, 2111005: 3.0, 2111147: 5.0, 2111755: 3.5, 2113989: 4.0, 2114751: 5.0, 2115240: 5.0, 2115402: 3.7142857142857144, 2116018: 2.4, 2116042: 4.666666666666667, 2116230: 3.0, 2116751: 4.0, 2116843: 3.5, 2116940: 3.7142857142857144, 2117215: 3.2857142857142856, 2118456: 3.0, 2118540: 3.857142857142857, 2118594: 3.5, 2118858: 4.333333333333333, 2118932: 3.7777777777777777, 2119257: 4.0, 2119464: 4.5, 2119471: 3.0, 2119539: 3.4, 2119708: 5.0, 2120945: 4.0, 2121061: 3.0, 2121517: 3.6666666666666665, 2122178: 2.25, 2122473: 4.285714285714286, 2122854: 4.875, 2122859: 3.7142857142857144, 2123290: 2.3333333333333335, 2123674: 3.0, 2123794: 4.5, 2123856: 3.5, 2124069: 1.5, 2124138: 2.6, 2124220: 5.0, 2124880: 3.0, 2125196: 4.333333333333333, 2125368: 4.076923076923077, 2125448: 3.0, 2126407: 3.0, 2126471: 1.0, 2126692: 3.0, 2127496: 4.3, 2129069: 4.333333333333333, 2129563: 3.5, 2129609: 5.0, 2130203: 4.0, 2130348: 2.6666666666666665, 2130373: 5.0, 2130621: 4.333333333333333, 2131120: 3.7142857142857144, 2131373: 4.0, 2131605: 4.0, 2132124: 2.4545454545454546, 2132617: 3.0, 2132888: 3.0, 2133614: 3.0, 2133899: 3.1666666666666665, 2135015: 5.0, 2136067: 3.7058823529411766, 2136463: 4.333333333333333, 2136527: 4.3, 2136765: 3.4, 2136927: 3.1875, 2137077: 3.0, 2137145: 5.0, 2137649: 3.75, 2138113: 4.0, 2138332: 5.0, 2138429: 2.5, 2139645: 4.25, 2139774: 1.5, 2139894: 2.0, 2140372: 4.288888888888889, 2140471: 3.7, 2141661: 2.5, 2141765: 4.5, 2141976: 3.2857142857142856, 2143140: 4.25, 2143518: 3.2941176470588234, 2143821: 4.25, 2144238: 3.857142857142857, 2145278: 3.142857142857143, 2145994: 3.8, 2146297: 4.0, 2146461: 3.7, 2146715: 3.0, 2146869: 3.0, 2147575: 4.5, 2147704: 2.0, 2148643: 3.25, 2149133: 3.85, 2149144: 3.0, 2149224: 3.0, 2149295: 5.0, 2149447: 3.5, 2149728: 4.0, 2149985: 3.75, 2150779: 4.363636363636363, 2151215: 5.0, 2152129: 3.5, 2152390: 3.0, 2153113: 3.0, 2153371: 3.1, 2153441: 4.0, 2153590: 5.0, 2154453: 3.0, 2155282: 3.1818181818181817, 2155537: 4.0, 2155606: 3.8461538461538463, 2156085: 2.6666666666666665, 2156198: 2.4, 2157763: 4.0, 2157935: 2.0, 2158427: 2.6666666666666665, 2158726: 3.8333333333333335, 2158861: 3.5, 2159267: 4.642857142857143, 2159315: 2.6666666666666665, 2159652: 5.0, 2159733: 5.0, 2160027: 3.0, 2160083: 4.0, 2160684: 3.6, 2160744: 3.0, 2161176: 3.0, 2161353: 4.0, 2161401: 4.666666666666667, 2161997: 3.8, 2162729: 4.363636363636363, 2162855: 3.0, 2163421: 3.0, 2163903: 4.0, 2164636: 4.166666666666667, 2165090: 5.0, 2165608: 5.0, 2165686: 3.6666666666666665, 2166175: 2.0, 2166233: 3.0, 2166353: 4.8, 2166450: 3.7857142857142856, 2166579: 2.2, 2167863: 2.75, 2167957: 5.0, 2168070: 3.375, 2168365: 4.142857142857143, 2168594: 3.6666666666666665, 2169063: 4.2, 2169270: 2.5, 2169666: 3.933333333333333, 2169777: 1.0, 2170086: 3.6956521739130435, 2170142: 3.6666666666666665, 2170172: 3.8333333333333335, 2171102: 4.0, 2171571: 4.0, 2171936: 4.5, 2172892: 3.5, 2173027: 2.0, 2173030: 2.5, 2173877: 3.6666666666666665, 2174060: 3.8666666666666667, 2175263: 3.0, 2175542: 3.6666666666666665, 2175785: 3.4166666666666665, 2176092: 3.6666666666666665, 2176304: 4.0, 2176465: 2.6, 2176808: 4.142857142857143, 2177183: 2.857142857142857, 2177347: 4.333333333333333, 2177989: 4.0, 2179085: 3.5, 2179618: 3.6666666666666665, 2180241: 3.0, 2181212: 3.5, 2181228: 3.5833333333333335, 2181388: 5.0, 2181691: 5.0, 2181759: 3.8, 2181865: 3.8333333333333335, 2181879: 2.0, 2182030: 3.0, 2182280: 4.714285714285714, 2182351: 2.0, 2182412: 3.2666666666666666, 2182419: 3.0, 2183063: 2.0, 2183547: 3.888888888888889, 2184736: 3.0, 2184965: 1.0, 2185149: 3.5714285714285716, 2185411: 3.7142857142857144, 2185614: 2.8333333333333335, 2185838: 2.0, 2185997: 4.0, 2186141: 3.6666666666666665, 2186857: 4.0, 2187243: 3.8333333333333335, 2188048: 5.0, 2188887: 3.6666666666666665, 2188932: 3.0, 2189901: 2.0, 2190070: 5.0, 2190418: 3.9, 2190466: 3.5, 2190552: 1.0, 2190583: 2.3333333333333335, 2190782: 3.6, 2190787: 4.0, 2190984: 2.6785714285714284, 2191077: 4.0, 2191340: 3.6, 2191583: 3.0, 2191884: 2.5, 2193646: 3.0, 2193744: 2.8333333333333335, 2194044: 5.0, 2194693: 5.0, 2194935: 3.0, 2194993: 4.0, 2195265: 4.5, 2196500: 5.0, 2196602: 2.6666666666666665, 2197420: 5.0, 2198187: 4.0, 2198443: 3.0, 2198650: 4.0, 2199556: 4.166666666666667, 2199698: 3.5, 2200010: 3.2857142857142856, 2200054: 3.5, 2200246: 4.0, 2201487: 4.0, 2201601: 4.0, 2201940: 5.0, 2202941: 4.0, 2203737: 3.0, 2203749: 4.0, 2204601: 3.0, 2204615: 4.0, 2205294: 5.0, 2205594: 2.5714285714285716, 2205813: 5.0, 2206123: 3.5, 2206158: 3.6666666666666665, 2206376: 3.1666666666666665, 2206706: 3.3636363636363638, 2206721: 3.0, 2206777: 3.5555555555555554, 2206870: 3.3333333333333335, 2206943: 4.0, 2207444: 3.3333333333333335, 2207501: 3.0, 2207644: 3.0, 2207817: 3.5, 2207853: 3.0, 2208067: 3.25, 2208869: 3.0, 2210104: 3.0, 2210153: 2.5, 2210381: 4.0, 2210395: 4.0, 2210464: 3.1, 2210638: 1.5, 2210727: 3.4, 2212124: 3.0, 2214251: 3.6, 2215015: 5.0, 2215881: 3.357142857142857, 2217099: 2.0, 2217232: 2.0, 2217687: 2.0, 2218160: 3.0, 2218357: 3.0, 2218423: 4.5, 2218884: 3.0, 2219191: 4.0, 2219467: 5.0, 2219920: 3.6666666666666665, 2220966: 4.8, 2220999: 2.2, 2221136: 1.0, 2222600: 3.0, 2222974: 3.0, 2223112: 3.0, 2223268: 4.0, 2223831: 3.5, 2224235: 1.0, 2224333: 3.375, 2224701: 4.25, 2224759: 5.0, 2225206: 2.0, 2225779: 3.5, 2226388: 3.5, 2226424: 3.3333333333333335, 2226615: 3.3333333333333335, 2226926: 4.0, 2227197: 5.0, 2227850: 3.8, 2228585: 5.0, 2229294: 4.0, 2229695: 3.5, 2230216: 3.4523809523809526, 2230416: 3.25, 2231851: 3.5, 2232375: 5.0, 2232841: 4.0, 2233555: 3.0, 2233782: 3.8461538461538463, 2233845: 5.0, 2234205: 3.0, 2235183: 2.791044776119403, 2235843: 3.0, 2235865: 3.0, 2236597: 3.0, 2236766: 3.0, 2237228: 3.875, 2238036: 2.6666666666666665, 2238409: 3.0, 2238667: 3.0, 2238887: 4.666666666666667, 2239073: 4.095238095238095, 2239518: 4.5, 2239612: 3.0, 2239736: 5.0, 2239825: 3.5, 2240607: 4.0, 2241090: 3.727272727272727, 2241247: 3.8333333333333335, 2241988: 3.2, 2242203: 3.0, 2242333: 3.0, 2242472: 5.0, 2242744: 2.5, 2242973: 4.75, 2243110: 3.0, 2243551: 3.25, 2244891: 3.0, 2245901: 3.0, 2246055: 2.8, 2246707: 4.0, 2247096: 5.0, 2247940: 3.6666666666666665, 2248902: 5.0, 2249534: 2.6666666666666665, 2249716: 3.6666666666666665, 2249816: 3.25, 2250628: 1.5, 2250881: 3.5555555555555554, 2252039: 4.0, 2252936: 4.5, 2253018: 3.6, 2253124: 4.333333333333333, 2253275: 2.5, 2253745: 4.0, 2253855: 5.0, 2253928: 3.0, 2254073: 4.333333333333333, 2254491: 4.0, 2255193: 3.689655172413793, 2255563: 3.5, 2255735: 5.0, 2255880: 2.6875, 2256017: 4.666666666666667, 2256474: 4.0, 2257444: 4.5, 2257890: 3.6216216216216215, 2258269: 5.0, 2258463: 4.0, 2259248: 4.0, 2259263: 3.875, 2259288: 2.8, 2259693: 3.0, 2260096: 3.4, 2260738: 2.0, 2261096: 2.0, 2261642: 4.333333333333333, 2261959: 3.25, 2262114: 3.5185185185185186, 2262490: 3.0, 2262506: 3.0, 2263441: 3.4, 2263639: 3.6666666666666665, 2263789: 4.0, 2265054: 3.980392156862745, 2265415: 5.0, 2265729: 4.0, 2265920: 2.6666666666666665, 2266549: 3.4, 2266900: 4.0, 2267156: 1.0, 2267650: 4.285714285714286, 2268152: 4.0, 2268182: 4.5, 2268557: 3.5, 2269524: 5.0, 2270334: 2.0, 2270830: 3.0, 2271249: 3.875, 2271587: 3.75, 2271935: 2.7, 2272233: 3.0, 2273479: 4.0, 2273532: 4.0, 2274015: 3.3076923076923075, 2274750: 4.0, 2275422: 3.3333333333333335, 2276352: 3.5, 2276375: 5.0, 2276969: 5.0, 2277678: 5.0, 2277919: 3.3333333333333335, 2277932: 4.0, 2278163: 4.0, 2279695: 4.0, 2280507: 2.2, 2281472: 3.0, 2281599: 3.6666666666666665, 2281753: 5.0, 2281848: 3.0, 2282703: 5.0, 2283256: 4.2, 2283527: 3.25, 2283558: 4.0, 2285463: 3.6666666666666665, 2285836: 4.0, 2285993: 4.333333333333333, 2286435: 2.25, 2286916: 4.5, 2286924: 3.3333333333333335, 2287206: 3.6875, 2287502: 4.0, 2287987: 3.0, 2288005: 2.0, 2288010: 3.25, 2288214: 4.0, 2288776: 3.1666666666666665, 2288859: 3.0, 2289856: 2.5, 2290341: 3.4, 2292688: 4.666666666666667, 2292853: 1.0, 2292886: 3.5, 2294362: 4.0, 2294433: 4.333333333333333, 2295883: 3.1739130434782608, 2295967: 3.0, 2296078: 3.0, 2296486: 3.5, 2296531: 4.5, 2298082: 3.6666666666666665, 2298300: 3.0, 2298505: 1.0, 2298506: 2.6666666666666665, 2299320: 3.6666666666666665, 2300478: 3.75, 2301057: 3.0, 2302027: 3.8, 2302121: 4.0, 2302235: 3.914285714285714, 2302259: 3.0, 2302417: 3.5, 2302438: 3.8333333333333335, 2302650: 4.0, 2303572: 5.0, 2303773: 3.5, 2304494: 4.6, 2305082: 3.0, 2306660: 4.0, 2306822: 4.666666666666667, 2307585: 4.5, 2308114: 4.0, 2308574: 3.6666666666666665, 2308967: 2.25, 2309102: 2.0, 2309490: 5.0, 2309544: 5.0, 2309581: 4.0, 2311444: 5.0, 2311452: 3.0, 2311491: 1.0, 2312101: 2.0, 2313357: 3.6666666666666665, 2314268: 5.0, 2315703: 4.0, 2315986: 3.6666666666666665, 2316098: 4.0, 2316960: 4.333333333333333, 2317177: 4.0, 2317215: 3.6666666666666665, 2317854: 3.3636363636363638, 2318212: 4.333333333333333, 2318506: 4.0, 2318884: 3.0, 2319442: 3.5714285714285716, 2319608: 3.1, 2319768: 4.25, 2319883: 2.6, 2319997: 4.0, 2320617: 3.6363636363636362, 2320808: 3.727272727272727, 2321326: 2.0, 2321379: 3.0, 2321810: 3.967741935483871, 2321861: 3.0, 2322049: 4.947368421052632, 2322326: 4.0, 2322416: 2.0, 2322895: 3.375, 2323714: 4.0, 2323999: 3.0, 2324423: 3.3333333333333335, 2324574: 3.0, 2324737: 3.0, 2325455: 3.6666666666666665, 2325595: 3.142857142857143, 2325598: 4.0, 2325887: 3.0, 2326311: 3.25, 2326482: 3.5, 2326623: 3.0, 2327577: 3.6666666666666665, 2327895: 4.0, 2328536: 4.75, 2328930: 5.0, 2329182: 2.0, 2329196: 3.0, 2330315: 4.75, 2330468: 3.909090909090909, 2330934: 4.0, 2331649: 4.0, 2332235: 5.0, 2332339: 4.25, 2333211: 3.0, 2333692: 5.0, 2333948: 4.0, 2334301: 3.5833333333333335, 2335189: 1.0, 2335650: 2.2222222222222223, 2335667: 3.0, 2335812: 4.333333333333333, 2335937: 2.75, 2336731: 2.3333333333333335, 2339129: 3.3333333333333335, 2340041: 4.0, 2340294: 4.0, 2340390: 3.0, 2341862: 3.5, 2342179: 3.0, 2342388: 4.0, 2342631: 4.0, 2342774: 3.0, 2342940: 3.5, 2342991: 3.0, 2343212: 3.75, 2343699: 3.6346153846153846, 2343706: 5.0, 2343784: 4.5, 2344141: 4.6, 2344460: 3.0, 2344564: 4.0, 2344603: 4.105263157894737, 2345757: 3.5416666666666665, 2345764: 3.5625, 2346027: 5.0, 2346314: 4.0, 2346326: 5.0, 2346373: 2.75, 2346811: 3.0, 2347324: 3.8, 2348437: 4.0, 2348479: 4.625, 2348716: 3.4545454545454546, 2349212: 3.0, 2349764: 4.75, 2349866: 4.0, 2351376: 3.0, 2351523: 5.0, 2351622: 3.5, 2351742: 3.5, 2351962: 3.75, 2352111: 3.2666666666666666, 2352140: 3.0, 2352371: 3.3333333333333335, 2353338: 5.0, 2354135: 3.857142857142857, 2354939: 4.2, 2355112: 3.5, 2355270: 3.5, 2356142: 2.6666666666666665, 2356670: 4.357142857142857, 2356964: 3.25, 2357210: 3.0, 2357353: 3.0, 2357407: 4.75, 2357591: 3.6666666666666665, 2357910: 4.0, 2357985: 3.5, 2358321: 5.0, 2358685: 2.0, 2359229: 3.0, 2359881: 4.0, 2359991: 3.3333333333333335, 2360858: 3.0, 2360891: 3.25, 2360947: 3.0, 2361621: 2.5, 2361742: 4.75, 2361936: 5.0, 2362834: 4.0, 2363191: 2.0, 2363452: 3.5, 2363877: 2.5, 2365034: 4.5, 2365116: 4.0, 2366709: 4.0, 2366746: 4.0, 2367250: 3.3333333333333335, 2368042: 2.642857142857143, 2368477: 2.0, 2368531: 4.0, 2368747: 3.909090909090909, 2368789: 4.0, 2368895: 1.75, 2369285: 2.6, 2370596: 4.0, 2371277: 2.5, 2371888: 3.0, 2371948: 4.142857142857143, 2371971: 2.0, 2372197: 2.0, 2372200: 3.6923076923076925, 2372638: 3.5, 2373691: 3.5, 2373856: 4.0, 2373920: 4.0, 2374013: 3.3333333333333335, 2374115: 3.0, 2374726: 2.8333333333333335, 2376081: 4.333333333333333, 2377734: 4.0, 2377750: 4.285714285714286, 2378868: 2.3333333333333335, 2379120: 3.3333333333333335, 2379635: 3.0, 2380730: 2.0, 2380844: 5.0, 2381156: 3.4285714285714284, 2381188: 3.111111111111111, 2382319: 3.3333333333333335, 2382641: 3.75, 2383877: 4.0, 2384004: 4.0, 2384511: 3.8333333333333335, 2384534: 2.0, 2384895: 4.0, 2385715: 1.0, 2386132: 3.0, 2387311: 3.0, 2388228: 3.625, 2388648: 2.6666666666666665, 2388831: 4.0, 2389357: 4.0, 2389424: 2.8, 2390094: 5.0, 2391073: 5.0, 2391126: 3.75, 2391305: 4.5, 2391423: 3.6666666666666665, 2391470: 3.75, 2392072: 4.25, 2392694: 4.0, 2392962: 4.333333333333333, 2393074: 3.823529411764706, 2393587: 3.5384615384615383, 2393880: 5.0, 2394112: 2.3333333333333335, 2394665: 2.0, 2394732: 3.5, 2395214: 4.333333333333333, 2395674: 3.5, 2395732: 3.0, 2395800: 3.272727272727273, 2396101: 3.5, 2396597: 3.8461538461538463, 2396631: 3.8333333333333335, 2397189: 2.6, 2397875: 4.4, 2398794: 4.0, 2398894: 2.0588235294117645, 2398967: 3.25, 2399270: 4.0, 2399376: 3.4583333333333335, 2399709: 3.0, 2399894: 2.5625, 2400538: 3.9038461538461537, 2400720: 4.142857142857143, 2401173: 2.3333333333333335, 2401187: 4.0, 2401666: 4.0, 2402062: 5.0, 2402572: 4.0, 2402629: 3.6666666666666665, 2402937: 5.0, 2403342: 3.375, 2403917: 3.3333333333333335, 2404155: 4.0, 2404235: 3.0, 2404442: 1.0, 2405049: 3.0, 2405423: 3.0, 2405956: 2.5, 2406224: 4.0, 2407458: 3.96, 2407464: 3.3333333333333335, 2407468: 3.84, 2408348: 4.0, 2408654: 3.0, 2409051: 3.0, 2409698: 3.5, 2409816: 3.272727272727273, 2410448: 4.0, 2411597: 5.0, 2412209: 4.0, 2412229: 4.0, 2412485: 3.0, 2413568: 3.730769230769231, 2415289: 2.5714285714285716, 2415379: 4.0, 2415530: 4.0, 2415691: 2.0, 2416621: 3.75, 2416701: 2.5, 2416706: 4.111111111111111, 2417042: 3.4285714285714284, 2417718: 3.8, 2417784: 4.25, 2418368: 2.5714285714285716, 2419437: 3.8, 2419668: 4.444444444444445, 2419795: 4.0, 2419805: 3.3333333333333335, 2420001: 3.3529411764705883, 2420030: 3.6666666666666665, 2420262: 4.0, 2420862: 4.0, 2420872: 3.1666666666666665, 2420875: 4.5, 2421031: 3.0, 2421473: 5.0, 2421668: 5.0, 2421958: 4.222222222222222, 2422084: 3.0, 2422147: 4.0, 2422842: 3.4285714285714284, 2423144: 4.0, 2424161: 4.0, 2424473: 4.0, 2424545: 2.3333333333333335, 2424905: 3.0, 2425147: 3.0, 2425444: 3.7142857142857144, 2425662: 3.3076923076923075, 2425709: 3.2, 2426106: 3.6666666666666665, 2426710: 1.5, 2429449: 4.0, 2429513: 2.5, 2430277: 3.1666666666666665, 2430599: 3.75, 2430805: 3.0, 2431438: 3.4166666666666665, 2431540: 4.0, 2431768: 3.0, 2432078: 3.257142857142857, 2432091: 2.0, 2432155: 4.5, 2432498: 2.0, 2432901: 2.8, 2433191: 4.0, 2433667: 3.4583333333333335, 2433729: 4.0, 2434253: 3.375, 2434742: 1.0, 2434974: 3.64, 2435266: 3.75, 2435478: 2.8, 2436933: 2.6666666666666665, 2437304: 4.538461538461538, 2437427: 2.9743589743589745, 2438028: 4.0, 2439170: 3.0, 2440474: 3.5, 2440507: 4.333333333333333, 2440934: 3.5, 2440994: 3.0, 2441507: 3.0, 2441600: 5.0, 2442063: 5.0, 2442133: 4.2, 2442223: 3.4285714285714284, 2442338: 2.5, 2442571: 3.2, 2443214: 3.0, 2443405: 4.0, 2443848: 3.6666666666666665, 2444455: 5.0, 2444691: 4.166666666666667, 2444892: 3.0, 2445801: 3.0, 2445855: 2.0, 2446813: 4.0, 2446828: 3.6666666666666665, 2447375: 3.3333333333333335, 2447858: 4.25, 2447861: 3.9166666666666665, 2448929: 2.2, 2449117: 3.3333333333333335, 2449477: 3.6666666666666665, 2449881: 3.625, 2450255: 4.0, 2451917: 4.857142857142857, 2453496: 4.5, 2454087: 3.0, 2454683: 4.0, 2454712: 3.0, 2454969: 2.7777777777777777, 2455019: 3.3333333333333335, 2455256: 3.55, 2455928: 3.0, 2456545: 4.0, 2457015: 2.0, 2457315: 3.6666666666666665, 2457651: 4.0, 2457697: 3.142857142857143, 2457732: 3.5, 2457845: 4.333333333333333, 2457967: 3.0, 2458294: 3.4, 2459096: 4.0, 2459246: 3.0, 2460819: 3.5714285714285716, 2461699: 2.5, 2461740: 3.375, 2462119: 3.2, 2462764: 3.6, 2464133: 3.0, 2464343: 4.5, 2465495: 3.6666666666666665, 2467275: 1.0, 2467279: 4.142857142857143, 2468339: 3.75, 2468406: 3.5, 2468521: 3.6315789473684212, 2470315: 2.6666666666666665, 2470616: 3.6666666666666665, 2471164: 3.740740740740741, 2471176: 3.588235294117647, 2471782: 1.0, 2472657: 3.0, 2472726: 4.5, 2473867: 3.5, 2473958: 4.285714285714286, 2474218: 4.0, 2474900: 4.142857142857143, 2475129: 4.076923076923077, 2475405: 4.166666666666667, 2475916: 3.3333333333333335, 2476982: 4.75, 2477370: 2.8, 2477451: 3.6, 2477529: 3.3333333333333335, 2477590: 2.0, 2477677: 3.1875, 2478193: 4.428571428571429, 2478524: 4.0, 2479267: 3.5454545454545454, 2479276: 3.75, 2479509: 3.0, 2479886: 4.4, 2479893: 3.55, 2481386: 4.333333333333333, 2481529: 4.115384615384615, 2481945: 1.0, 2481958: 3.891891891891892, 2482091: 3.0, 2482920: 4.0, 2484624: 3.6666666666666665, 2484991: 3.0, 2485018: 5.0, 2485158: 3.4, 2485195: 2.176470588235294, 2485612: 3.0, 2485803: 3.3333333333333335, 2485805: 2.0, 2486076: 2.0, 2486651: 2.3333333333333335, 2486803: 4.0, 2487288: 3.4444444444444446, 2487300: 3.6666666666666665, 2487480: 2.6666666666666665, 2487903: 4.733333333333333, 2488079: 3.0, 2488440: 2.5, 2488843: 3.6666666666666665, 2489783: 3.0, 2490960: 4.0, 2491400: 4.0, 2491739: 5.0, 2491788: 3.7142857142857144, 2492673: 5.0, 2493466: 4.142857142857143, 2493614: 3.0, 2493713: 2.0, 2493781: 3.5, 2493901: 3.875, 2493903: 3.0, 2494473: 3.0, 2494616: 4.0, 2494705: 5.0, 2495012: 4.4, 2495043: 4.0, 2495104: 3.5, 2495332: 5.0, 2495393: 3.5714285714285716, 2495612: 5.0, 2495650: 3.5, 2496543: 5.0, 2497498: 2.58974358974359, 2497571: 4.0, 2498976: 4.666666666666667, 2499522: 4.0, 2499766: 4.6, 2499838: 4.0, 2500021: 4.0, 2500574: 4.666666666666667, 2500818: 4.25, 2501358: 5.0, 2501691: 4.076923076923077, 2501837: 3.3333333333333335, 2502251: 3.0, 2502310: 4.5, 2502480: 3.75, 2503749: 3.75, 2503905: 2.5, 2504372: 4.0, 2505902: 4.5, 2506012: 4.0, 2506185: 4.0, 2506300: 3.75, 2506368: 3.4444444444444446, 2506477: 5.0, 2506541: 4.25, 2506798: 2.857142857142857, 2506879: 4.571428571428571, 2506908: 5.0, 2507046: 2.7, 2507129: 3.6666666666666665, 2507585: 2.25, 2507709: 4.333333333333333, 2507981: 4.086956521739131, 2508135: 3.0, 2508172: 5.0, 2508315: 2.5555555555555554, 2508925: 3.6666666666666665, 2509180: 4.0, 2509302: 3.0, 2511310: 2.0, 2511560: 3.0, 2512254: 4.25, 2514148: 3.5, 2514202: 3.5, 2514625: 5.0, 2514662: 2.0, 2514766: 4.5, 2515276: 4.0, 2515816: 3.8333333333333335, 2516004: 5.0, 2516168: 4.0, 2516562: 3.0, 2517184: 3.6666666666666665, 2517330: 4.0, 2517852: 3.3333333333333335, 2517938: 3.0, 2518825: 3.051282051282051, 2518870: 3.75, 2519816: 3.8461538461538463, 2520896: 3.8, 2521027: 3.739130434782609, 2521204: 4.0, 2522393: 3.142857142857143, 2522429: 3.6923076923076925, 2522808: 4.0, 2522932: 3.5, 2523436: 3.075, 2523749: 2.6666666666666665, 2523897: 4.545454545454546, 2523996: 2.0, 2524354: 3.40625, 2524470: 4.285714285714286, 2524744: 5.0, 2525824: 4.0, 2526317: 3.0, 2526533: 3.5, 2526668: 4.333333333333333, 2527499: 3.090909090909091, 2527847: 3.5, 2528534: 3.4444444444444446, 2528750: 5.0, 2529607: 4.0, 2530249: 3.6666666666666665, 2530578: 3.0, 2530993: 4.0, 2531303: 2.590909090909091, 2532671: 4.0, 2533336: 3.5, 2533700: 4.0, 2533857: 3.0, 2534058: 3.3333333333333335, 2534512: 3.5, 2534672: 2.75, 2534796: 4.363636363636363, 2535244: 3.6666666666666665, 2535639: 4.0, 2535916: 2.5, 2536118: 3.8636363636363638, 2537989: 4.0, 2538238: 4.25, 2538383: 2.5, 2538389: 3.0, 2538537: 5.0, 2538881: 3.0, 2539017: 5.0, 2539090: 3.75, 2539190: 3.8, 2539486: 5.0, 2539625: 4.0, 2540225: 3.0, 2540559: 2.0, 2540684: 3.0, 2540969: 3.9696969696969697, 2541203: 4.0, 2541378: 3.0, 2543491: 4.571428571428571, 2544051: 4.0, 2544488: 3.4545454545454546, 2544829: 3.6666666666666665, 2545113: 4.0, 2546570: 3.0, 2547207: 4.5, 2547231: 4.0, 2547684: 3.0, 2547839: 2.0, 2547993: 4.0, 2548071: 3.5, 2548362: 2.25, 2548477: 3.857142857142857, 2548724: 3.0, 2549055: 3.75, 2549566: 4.0, 2549621: 3.4, 2549817: 4.0, 2549955: 5.0, 2550221: 5.0, 2551103: 4.6, 2551640: 4.083333333333333, 2551673: 3.3333333333333335, 2551891: 3.7142857142857144, 2552381: 3.0, 2552862: 3.0, 2553188: 1.0, 2553974: 3.0, 2554192: 3.8181818181818183, 2554261: 1.5, 2554401: 2.3333333333333335, 2554768: 3.857142857142857, 2555095: 1.0, 2555451: 3.75, 2556504: 4.333333333333333, 2556552: 3.0, 2557008: 3.0, 2557244: 3.0, 2557325: 5.0, 2557549: 2.8333333333333335, 2559498: 3.6451612903225805, 2559671: 3.7, 2559742: 5.0, 2561451: 3.3333333333333335, 2562020: 3.25, 2562574: 2.75, 2563898: 3.5, 2563957: 5.0, 2564126: 4.833333333333333, 2564257: 3.25, 2564581: 3.2, 2565182: 3.0, 2566355: 4.142857142857143, 2566668: 4.12, 2566795: 3.6666666666666665, 2567021: 2.9, 2567549: 4.6, 2567555: 3.861111111111111, 2567719: 4.0, 2569044: 4.75, 2569078: 5.0, 2569109: 3.8, 2569222: 2.8333333333333335, 2570079: 4.0, 2570323: 3.0, 2570388: 3.7, 2570733: 4.0, 2571662: 3.5, 2573432: 3.5, 2574075: 3.466666666666667, 2574107: 3.0, 2574528: 2.0, 2574944: 4.230769230769231, 2575012: 4.0, 2575392: 3.111111111111111, 2575488: 3.0, 2576693: 5.0, 2577201: 5.0, 2577464: 3.5, 2577867: 2.2, 2578689: 3.625, 2578752: 3.7142857142857144, 2579306: 3.0, 2580059: 1.5, 2580244: 4.0, 2581084: 3.0, 2581715: 2.0, 2582621: 4.0, 2582773: 3.0, 2583113: 3.3333333333333335, 2584151: 3.6666666666666665, 2584323: 5.0, 2584505: 3.5, 2584600: 4.0, 2585167: 3.6666666666666665, 2585405: 5.0, 2586475: 1.0, 2587366: 4.212121212121212, 2588006: 3.5, 2589402: 3.3333333333333335, 2589660: 3.75, 2589712: 5.0, 2590731: 4.0, 2591081: 5.0, 2591763: 3.0, 2592399: 2.5, 2592452: 5.0, 2593365: 1.5, 2593371: 3.68, 2593576: 3.75, 2593639: 2.3333333333333335, 2596007: 3.8181818181818183, 2596403: 2.0, 2596537: 2.5, 2596679: 3.217391304347826, 2596730: 3.5, 2597609: 5.0, 2598098: 4.333333333333333, 2598660: 4.6, 2598811: 1.0, 2599107: 3.0, 2599430: 4.0, 2599634: 4.0, 2599940: 4.0, 2600777: 3.5, 2600964: 3.5, 2601599: 1.5, 2601857: 2.5, 2602054: 3.8, 2602807: 4.0, 2603105: 4.25, 2604265: 2.3333333333333335, 2604339: 3.75, 2604992: 3.1666666666666665, 2605612: 3.0, 2606458: 3.55, 2606726: 3.3333333333333335, 2608195: 3.6666666666666665, 2608350: 2.0, 2608790: 3.0, 2608855: 3.5, 2609043: 5.0, 2609068: 4.0, 2609234: 3.4, 2609447: 4.0, 2609851: 3.7142857142857144, 2610243: 3.0833333333333335, 2610308: 3.5, 2610732: 4.0, 2610879: 2.0, 2611685: 2.0, 2612295: 3.0, 2612630: 2.5, 2613020: 3.75, 2613819: 4.0, 2613898: 3.010869565217391, 2614431: 2.0, 2614473: 3.27027027027027, 2615981: 3.272727272727273, 2616643: 5.0, 2616677: 5.0, 2616793: 3.2, 2617557: 5.0, 2618139: 4.5, 2619756: 3.0, 2619865: 4.0, 2619963: 4.083333333333333, 2620395: 4.0, 2620829: 4.0, 2621458: 2.5, 2621635: 5.0, 2621770: 1.0, 2622014: 1.0, 2622688: 3.0, 2623012: 3.75, 2623125: 4.285714285714286, 2623331: 3.1666666666666665, 2623346: 5.0, 2623797: 3.4285714285714284, 2623844: 4.428571428571429, 2624020: 3.0, 2624431: 5.0, 2624519: 3.5714285714285716, 2624944: 4.333333333333333, 2625058: 3.6666666666666665, 2626195: 3.5, 2626223: 3.5789473684210527, 2626266: 4.142857142857143, 2626880: 3.0, 2626993: 4.333333333333333, 2627095: 3.4615384615384617, 2627243: 3.875, 2627280: 3.0, 2628175: 3.6, 2628250: 4.5, 2628428: 4.5, 2629146: 2.5, 2629216: 3.6666666666666665, 2629684: 4.0, 2630038: 5.0, 2630046: 4.181818181818182, 2630793: 3.0, 2631129: 3.75, 2631192: 3.2222222222222223, 2631277: 4.25, 2631281: 4.1, 2631367: 3.6666666666666665, 2631439: 3.25, 2631565: 3.4, 2631687: 3.5, 2632253: 4.0, 2632361: 2.5, 2632622: 5.0, 2633384: 5.0, 2633899: 3.75, 2634187: 4.0, 2634328: 4.666666666666667, 2634386: 2.806451612903226, 2634418: 4.333333333333333, 2634570: 4.0, 2635348: 3.0, 2635434: 3.3333333333333335, 2635781: 3.5, 2635967: 3.5, 2636478: 3.5, 2638174: 4.142857142857143, 2638327: 3.5, 2638562: 4.0, 2638637: 2.0, 2638828: 4.666666666666667, 2639380: 5.0, 2639411: 2.0, 2639939: 4.0, 2640165: 5.0, 2640651: 4.0, 2640816: 3.25, 2642205: 5.0, 2642341: 5.0, 2642548: 4.0, 2643382: 4.0, 2643570: 3.7, 2644062: 2.7142857142857144, 2644338: 4.166666666666667, 2645676: 3.0, 2646574: 3.0, 2647334: 3.0, 2647929: 3.7777777777777777, 2648081: 4.0, 2648398: 4.666666666666667, 2649240: 2.0, 2649404: 3.6666666666666665}\n"
     ]
    }
   ],
   "source": [
    "sample_train_averages['user'] = get_average_ratings(sample_train_sparse_matrix, of_users=True)\n",
    "print('\\nAverage rating of user  :',sample_train_averages['user'])"
   ]
  },
  {
   "cell_type": "markdown",
   "metadata": {
    "colab_type": "text",
    "id": "qiVaPz6AxrqV"
   },
   "source": [
    "<h3>4.2.3 Finding Average rating per Movie</h3>"
   ]
  },
  {
   "cell_type": "code",
   "execution_count": 99,
   "metadata": {
    "colab": {},
    "colab_type": "code",
    "id": "q8QD09k4xrqV",
    "outputId": "2b01a6e0-6a5e-4c90-d7f3-98c75cf14c3b",
    "scrolled": true
   },
   "outputs": [
    {
     "name": "stdout",
     "output_type": "stream",
     "text": [
      "\n",
      " AVerage rating of movie : {71: 3.2857142857142856, 90: 4.5, 111: 3.247311827956989, 155: 3.0, 188: 2.875, 208: 3.7, 251: 3.75, 262: 3.6486486486486487, 280: 3.0, 293: 4.75, 308: 2.5, 309: 4.0, 348: 3.7755102040816326, 394: 3.4, 420: 3.7916666666666665, 425: 3.75, 466: 3.375, 468: 3.707818930041152, 482: 3.7577319587628866, 587: 3.5, 595: 3.5, 603: 4.5, 607: 3.5389473684210526, 608: 2.0, 614: 3.0, 644: 2.0, 658: 3.693227091633466, 666: 3.3333333333333335, 677: 3.7777777777777777, 678: 5.0, 681: 3.4444444444444446, 690: 4.090909090909091, 695: 3.0, 705: 3.4473684210526314, 746: 3.5660377358490565, 750: 3.617021276595745, 752: 4.0508474576271185, 755: 4.0, 766: 2.0, 775: 4.0, 780: 5.0, 793: 2.5, 808: 3.6, 811: 3.1875, 823: 3.0, 838: 3.0, 859: 3.357142857142857, 890: 2.5, 943: 3.8, 957: 3.6, 962: 3.3620689655172415, 985: 3.9483282674772036, 997: 5.0, 1020: 4.327102803738318, 1033: 3.0, 1103: 3.75, 1114: 2.75, 1134: 3.493150684931507, 1140: 3.111111111111111, 1163: 3.6363636363636362, 1164: 2.6666666666666665, 1189: 2.0, 1201: 3.8461538461538463, 1209: 3.6666666666666665, 1241: 3.0, 1247: 3.0, 1318: 3.0, 1326: 3.0, 1381: 3.0, 1391: 2.5, 1399: 3.7142857142857144, 1426: 2.6666666666666665, 1429: 3.0, 1435: 4.213793103448276, 1445: 3.5, 1471: 3.1, 1506: 4.363636363636363, 1551: 3.0, 1593: 3.6666666666666665, 1620: 2.0, 1625: 4.206008583690987, 1648: 3.8, 1691: 4.75, 1699: 3.2222222222222223, 1727: 3.0, 1740: 5.0, 1828: 3.0, 1830: 3.75, 1861: 3.4050632911392404, 1866: 2.8, 1879: 3.0, 1892: 4.416666666666667, 1922: 2.75, 1928: 3.0, 1962: 3.6690871369294604, 1990: 2.5, 2012: 3.6835443037974684, 2020: 3.7058823529411766, 2075: 2.25, 2111: 4.5, 2129: 4.368421052631579, 2130: 3.7222222222222223, 2147: 4.5, 2185: 1.0, 2199: 3.875, 2212: 4.02803738317757, 2229: 3.0, 2252: 3.596330275229358, 2265: 4.0, 2321: 5.0, 2357: 3.5454545454545454, 2384: 3.3333333333333335, 2415: 3.5, 2489: 5.0, 2521: 3.066666666666667, 2533: 3.3333333333333335, 2554: 3.6796875, 2570: 3.25, 2596: 4.0, 2605: 3.0, 2630: 3.6666666666666665, 2649: 4.0, 2668: 3.25, 2699: 3.2745098039215685, 2724: 3.3076923076923075, 2745: 2.5, 2778: 3.4375, 2787: 3.909090909090909, 2791: 3.642857142857143, 2799: 3.0, 2804: 3.7857142857142856, 2843: 2.1914893617021276, 2851: 3.436893203883495, 2859: 4.0, 2889: 4.181818181818182, 2895: 3.588235294117647, 2949: 3.625, 3006: 3.0, 3023: 3.9411764705882355, 3061: 4.0, 3127: 3.0, 3128: 3.481132075471698, 3174: 3.3125, 3214: 2.5, 3237: 4.0, 3247: 4.357142857142857, 3267: 3.6538461538461537, 3291: 3.8, 3299: 3.875, 3309: 3.380952380952381, 3326: 3.452830188679245, 3331: 3.5217391304347827, 3341: 2.3333333333333335, 3342: 3.55, 3348: 3.76, 3373: 4.0, 3381: 3.6666666666666665, 3389: 3.923076923076923, 3393: 3.0, 3418: 3.3608247422680413, 3425: 2.0, 3434: 3.8333333333333335, 3441: 3.1963636363636363, 3489: 3.6296296296296298, 3504: 5.0, 3513: 4.0588235294117645, 3526: 3.610169491525424, 3527: 4.333333333333333, 3554: 3.7142857142857144, 3555: 2.0, 3556: 1.3333333333333333, 3565: 3.413793103448276, 3654: 3.3333333333333335, 3720: 2.3333333333333335, 3757: 4.0, 3760: 3.25, 3784: 3.4444444444444446, 3820: 3.0, 3827: 4.285714285714286, 3879: 3.9740259740259742, 3887: 3.789473684210526, 3913: 3.2857142857142856, 3934: 3.75, 3950: 3.6666666666666665, 3976: 3.1666666666666665, 3984: 3.5714285714285716, 3990: 3.8, 4005: 3.9166666666666665, 4011: 3.5714285714285716, 4038: 3.5, 4046: 4.2, 4063: 3.888888888888889, 4068: 3.0, 4072: 3.761904761904762, 4105: 4.0, 4119: 3.7142857142857144, 4124: 3.357142857142857, 4148: 4.0, 4161: 3.5, 4179: 4.4, 4186: 1.5, 4238: 4.454545454545454, 4240: 3.3333333333333335, 4244: 3.5555555555555554, 4266: 3.693832599118943, 4274: 3.5, 4377: 3.142857142857143, 4420: 3.142857142857143, 4441: 3.473684210526316, 4459: 3.5, 4461: 3.2857142857142856, 4470: 4.5, 4504: 3.0, 4522: 3.8461538461538463, 4549: 5.0, 4559: 4.222222222222222, 4604: 4.0, 4649: 3.4615384615384617, 4663: 3.8684210526315788, 4669: 3.8333333333333335, 4703: 5.0, 4766: 4.333333333333333, 4801: 3.163265306122449, 4821: 4.0, 4845: 3.5, 4865: 4.275, 4886: 3.2857142857142856, 4901: 5.0, 4931: 2.7864583333333335, 4937: 3.5, 4971: 3.7142857142857144, 4972: 3.222018348623853, 4977: 3.49800796812749, 5053: 4.5, 5060: 4.0, 5071: 3.6715542521994133, 5112: 3.5409356725146197, 5113: 2.6666666666666665, 5120: 3.0, 5170: 3.0, 5188: 3.75, 5209: 4.0, 5226: 3.8756218905472637, 5231: 4.12, 5233: 1.75, 5265: 1.5, 5292: 4.434343434343434, 5313: 2.5, 5345: 3.43127147766323, 5389: 4.333333333333333, 5472: 3.608961303462322, 5521: 2.7142857142857144, 5523: 2.727272727272727, 5542: 4.0, 5543: 3.6666666666666665, 5576: 3.125, 5578: 3.0, 5601: 3.657142857142857, 5619: 4.0, 5632: 4.0, 5635: 5.0, 5638: 3.7142857142857144, 5707: 4.285714285714286, 5719: 4.5, 5727: 3.6473429951690823, 5747: 4.25, 5768: 3.0, 5778: 3.7586206896551726, 5816: 4.3076923076923075, 5821: 3.8095238095238093, 5840: 4.242424242424242, 5868: 3.0, 5882: 3.4901960784313726, 5965: 2.3333333333333335, 5972: 3.8333333333333335, 6002: 2.6666666666666665, 6021: 3.264705882352941, 6030: 3.941666666666667, 6088: 4.75, 6098: 3.789473684210526, 6131: 3.0, 6274: 4.115009746588694, 6276: 2.5, 6280: 3.5, 6315: 3.2142857142857144, 6321: 3.5, 6387: 1.8, 6396: 3.8378378378378377, 6412: 5.0, 6419: 3.0, 6442: 2.1, 6480: 4.0, 6501: 2.0, 6512: 4.0, 6514: 3.25, 6520: 3.25, 6550: 2.0, 6597: 1.5, 6607: 3.3333333333333335, 6612: 3.642857142857143, 6619: 3.0, 6648: 3.125, 6666: 3.857142857142857, 6669: 3.5, 6682: 2.0, 6685: 3.0, 6686: 4.153846153846154, 6693: 3.9, 6715: 4.0, 6729: 3.35, 6749: 3.0, 6750: 4.666666666666667, 6768: 2.8333333333333335, 6791: 3.6, 6797: 4.078231292517007, 6799: 4.0, 6836: 3.772727272727273, 6844: 3.152295632698768, 6848: 2.5, 6849: 3.7, 6856: 4.666666666666667, 6859: 3.490018148820327, 6866: 4.25, 6906: 3.4, 6907: 5.0, 6912: 3.4166666666666665, 6927: 3.6956521739130435, 6932: 5.0, 6948: 3.4166666666666665, 6965: 3.7142857142857144, 6981: 1.0, 6992: 3.0, 7000: 3.8333333333333335, 7051: 5.0, 7060: 4.092307692307692, 7083: 2.4074074074074074, 7144: 3.25, 7162: 2.0, 7181: 2.3333333333333335, 7197: 3.6666666666666665, 7221: 3.0357142857142856, 7329: 3.0, 7344: 3.0, 7362: 3.1666666666666665, 7397: 3.6744186046511627, 7402: 3.142857142857143, 7516: 3.9285714285714284, 7530: 3.0, 7536: 2.0, 7559: 4.0, 7644: 3.8333333333333335, 7704: 2.923076923076923, 7714: 3.5, 7739: 2.980392156862745, 7758: 3.0, 7765: 3.586206896551724, 7788: 4.0, 7864: 3.5185185185185186, 7895: 3.5, 7913: 2.6666666666666665, 7927: 3.0, 7947: 3.4, 7962: 4.5, 7970: 3.6470588235294117, 7990: 2.7777777777777777, 8010: 4.5, 8015: 4.0, 8029: 4.066666666666666, 8033: 3.638888888888889, 8034: 3.769230769230769, 8051: 2.9705882352941178, 8078: 3.5822784810126582, 8081: 4.5, 8088: 3.0, 8098: 3.3125, 8127: 2.5, 8160: 2.945945945945946, 8174: 3.2962962962962963, 8179: 3.0, 8192: 3.375, 8316: 3.5, 8346: 3.6666666666666665, 8358: 2.5, 8376: 3.4039408866995076, 8392: 3.0, 8398: 3.3333333333333335, 8415: 4.2, 8437: 3.272727272727273, 8470: 2.9705882352941178, 8473: 4.3, 8498: 2.7777777777777777, 8518: 3.823529411764706, 8544: 3.45, 8549: 3.769230769230769, 8563: 3.566666666666667, 8572: 4.238095238095238, 8603: 3.1956521739130435, 8604: 4.0, 8623: 3.375, 8651: 3.4047619047619047, 8664: 4.095238095238095, 8677: 4.0227272727272725, 8680: 2.5, 8693: 3.0, 8714: 1.0, 8746: 2.3333333333333335, 8865: 3.0, 8866: 3.0, 8867: 3.769230769230769, 8872: 3.4, 8879: 3.0, 8885: 3.6666666666666665, 8912: 2.75, 8923: 5.0, 8963: 3.4, 8997: 4.25, 9009: 3.3333333333333335, 9025: 3.5, 9039: 1.0, 9055: 3.0, 9072: 3.85, 9092: 3.8, 9175: 3.5, 9197: 2.42, 9244: 2.0, 9246: 3.1818181818181817, 9248: 3.1666666666666665, 9260: 3.9411764705882355, 9261: 3.0, 9363: 4.25, 9380: 5.0, 9383: 3.4, 9387: 3.375, 9388: 3.0, 9392: 3.4, 9450: 3.0, 9506: 5.0, 9546: 2.8, 9557: 3.142857142857143, 9587: 5.0, 9592: 3.875, 9608: 3.0, 9622: 3.875, 9673: 2.789473684210526, 9717: 3.5416666666666665, 9756: 3.3553553553553552, 9758: 2.5, 9783: 1.0, 9792: 4.333333333333333, 9818: 3.8350515463917527, 9848: 4.0588235294117645, 9862: 3.857142857142857, 9863: 3.253731343283582, 10018: 4.076923076923077, 10042: 4.484924623115578, 10063: 3.6, 10085: 4.0, 10136: 4.75, 10151: 3.5, 10236: 3.489130434782609, 10240: 3.3653846153846154, 10273: 3.4545454545454546, 10284: 4.0, 10296: 4.0, 10306: 4.333333333333333, 10317: 4.0, 10345: 3.4210526315789473, 10354: 3.3333333333333335, 10359: 3.495590828924162, 10372: 4.063291139240507, 10380: 3.6, 10408: 3.3333333333333335, 10433: 4.0754716981132075, 10520: 2.5, 10564: 3.1333333333333333, 10663: 5.0, 10725: 4.25, 10734: 3.6285714285714286, 10759: 2.591764705882353, 10787: 2.75, 10849: 5.0, 10853: 2.6666666666666665, 10876: 5.0, 10909: 3.0, 10966: 2.5, 11034: 2.6, 11057: 4.75, 11068: 4.0588235294117645, 11098: 4.0, 11149: 3.1989860583016476, 11158: 3.5, 11165: 3.828767123287671, 11174: 3.0, 11210: 4.125, 11214: 3.638888888888889, 11256: 3.04, 11259: 3.0, 11263: 2.6666666666666665, 11268: 3.1, 11292: 3.7857142857142856, 11298: 3.0, 11302: 3.3, 11350: 3.159090909090909, 11369: 3.625, 11372: 3.090909090909091, 11416: 4.428571428571429, 11443: 4.244399185336049, 11452: 4.5, 11464: 3.411764705882353, 11471: 4.0, 11480: 3.772727272727273, 11491: 4.0, 11503: 3.7419354838709675, 11508: 3.25, 11538: 1.0, 11563: 4.25, 11598: 4.0, 11632: 3.8, 11666: 2.6666666666666665, 11740: 3.5, 11751: 3.7777777777777777, 11776: 2.0, 11834: 2.0, 11876: 4.0, 11912: 4.0, 11923: 1.5, 11955: 3.933333333333333, 11958: 4.368421052631579, 11970: 2.5, 11991: 1.0, 11998: 3.5416666666666665, 12017: 4.5, 12054: 2.988372093023256, 12090: 3.4761904761904763, 12091: 3.875, 12111: 4.333333333333333, 12135: 3.6818181818181817, 12155: 3.8746355685131197, 12165: 2.25, 12181: 3.3043478260869565, 12253: 3.5, 12303: 3.6666666666666665, 12311: 3.5, 12367: 3.6615384615384614, 12385: 3.6666666666666665, 12387: 3.3333333333333335, 12389: 4.0, 12429: 3.0, 12434: 3.6, 12437: 2.0, 12446: 3.2, 12450: 3.875, 12452: 3.75, 12489: 3.111111111111111, 12494: 3.588235294117647, 12497: 3.3391304347826085, 12507: 3.0, 12577: 3.0, 12582: 3.8521739130434782, 12589: 3.0, 12601: 3.5, 12608: 3.6666666666666665, 12609: 2.0, 12657: 1.0, 12675: 3.806451612903226, 12704: 3.638888888888889, 12714: 3.5384615384615383, 12727: 3.590909090909091, 12728: 3.0, 12800: 3.727272727272727, 12807: 3.8333333333333335, 12846: 3.3529411764705883, 12865: 2.5, 12885: 3.25, 12890: 3.65, 12904: 3.863157894736842, 12925: 3.7083333333333335, 12928: 3.0, 12950: 4.0, 12984: 4.0, 13029: 3.16, 13038: 2.0, 13072: 3.6875, 13073: 4.25, 13074: 3.6338028169014085, 13076: 3.2222222222222223, 13082: 3.9294478527607364, 13115: 3.5128205128205128, 13123: 4.104166666666667, 13131: 3.4, 13141: 2.6666666666666665, 13157: 3.0, 13210: 4.5, 13213: 2.75, 13216: 3.511904761904762, 13222: 3.3333333333333335, 13256: 2.5, 13298: 3.308411214953271, 13324: 2.5, 13357: 2.5, 13384: 3.709090909090909, 13402: 3.935185185185185, 13442: 3.9130434782608696, 13505: 4.0, 13520: 1.0, 13576: 2.6666666666666665, 13577: 3.0, 13584: 3.6964285714285716, 13592: 4.25, 13612: 3.65, 13619: 3.7142857142857144, 13626: 2.6, 13639: 4.0, 13644: 3.0833333333333335, 13649: 3.3, 13679: 3.0, 13687: 3.5, 13695: 3.1641791044776117, 13757: 3.5, 13770: 2.5, 13787: 3.6444444444444444, 13793: 2.5, 13814: 3.1666666666666665, 13831: 3.3333333333333335, 13840: 3.5586206896551724, 13858: 2.75, 13866: 3.2222222222222223, 13870: 3.25, 13876: 2.0, 13879: 1.0, 13953: 1.0, 13999: 4.0, 14080: 3.142857142857143, 14137: 3.017543859649123, 14175: 3.4642857142857144, 14188: 3.230769230769231, 14196: 3.0, 14201: 5.0, 14233: 3.664, 14310: 2.5, 14314: 3.0, 14320: 4.288461538461538, 14334: 3.775, 14349: 4.25, 14379: 3.5, 14387: 3.8, 14435: 3.5555555555555554, 14437: 3.9411764705882355, 14482: 3.764018691588785, 14484: 3.400943396226415, 14493: 2.3333333333333335, 14503: 4.2, 14512: 3.2857142857142856, 14522: 3.0, 14524: 4.285714285714286, 14543: 3.0, 14565: 3.0, 14570: 3.6666666666666665, 14583: 4.125, 14593: 3.619718309859155, 14606: 3.408536585365854, 14685: 3.4285714285714284, 14747: 3.75, 14757: 3.119047619047619, 14766: 2.875, 14817: 2.6666666666666665, 14832: 3.8333333333333335, 14836: 4.0, 14857: 3.0, 14922: 3.5, 14938: 3.6, 14943: 2.7142857142857144, 14996: 1.0, 15000: 4.0, 15010: 3.5555555555555554, 15026: 3.857142857142857, 15079: 3.0, 15087: 4.5, 15126: 2.6666666666666665, 15151: 3.5166666666666666, 15178: 4.0, 15248: 2.6666666666666665, 15264: 3.3333333333333335, 15286: 3.0, 15324: 3.3333333333333335, 15344: 3.6666666666666665, 15351: 3.8, 15355: 2.5, 15365: 3.3125, 15392: 3.857142857142857, 15410: 3.0, 15482: 3.6296296296296298, 15497: 3.3333333333333335, 15520: 2.5, 15564: 3.3333333333333335, 15614: 2.0, 15633: 3.0, 15647: 3.1666666666666665, 15649: 3.5, 15663: 3.857142857142857, 15664: 3.3333333333333335, 15665: 3.0, 15706: 2.0, 15725: 3.0, 15738: 3.0, 15743: 2.6666666666666665, 15744: 4.0, 15764: 3.327272727272727, 15786: 3.7037037037037037, 15805: 3.6666666666666665, 15810: 3.5, 15851: 3.6, 15861: 4.631578947368421, 15924: 4.0, 15981: 3.5, 15989: 3.1666666666666665, 16037: 3.4, 16042: 2.5, 16075: 3.688, 16094: 2.8333333333333335, 16096: 3.0, 16107: 4.2727272727272725, 16113: 3.089385474860335, 16140: 3.0, 16151: 1.0, 16153: 3.4210526315789473, 16155: 5.0, 16183: 3.8333333333333335, 16195: 3.5, 16233: 3.6233766233766236, 16264: 4.1, 16267: 3.25, 16268: 2.0, 16297: 3.8, 16299: 3.0, 16338: 3.0, 16352: 3.4, 16371: 2.9, 16391: 2.6666666666666665, 16401: 3.375, 16414: 2.0, 16420: 4.166666666666667, 16435: 3.625, 16440: 3.0, 16443: 3.0, 16459: 3.36231884057971, 16478: 2.0, 16492: 4.666666666666667, 16499: 4.0, 16524: 4.044776119402985, 16538: 3.1973684210526314, 16548: 3.676470588235294, 16562: 2.6666666666666665, 16584: 1.6666666666666667, 16608: 3.0, 16611: 5.0, 16613: 1.0, 16643: 3.6666666666666665, 16710: 3.3333333333333335, 16715: 3.0, 16727: 3.0, 16755: 4.142857142857143, 16765: 3.6924643584521384, 16767: 3.8364779874213837, 16786: 2.0, 16789: 2.3333333333333335, 16858: 2.9285714285714284, 16905: 3.75, 16906: 4.0, 16920: 4.105263157894737, 16932: 2.3333333333333335, 16937: 3.8518518518518516, 16940: 3.6666666666666665, 16979: 3.3333333333333335, 16986: 3.857142857142857, 16987: 2.0, 17051: 4.0, 17054: 2.3333333333333335, 17058: 2.4, 17079: 2.9411764705882355, 17085: 4.550335570469799, 17119: 4.666666666666667, 17148: 3.090909090909091, 17202: 5.0, 17239: 4.142857142857143, 17251: 3.074074074074074, 17274: 3.3333333333333335, 17328: 4.137254901960785, 17357: 3.764705882352941, 17372: 2.857142857142857, 17451: 2.0, 17469: 3.3636363636363638, 17498: 2.9411764705882355, 17510: 1.0, 17550: 3.0, 17600: 4.0, 17637: 4.0, 17642: 3.9285714285714284, 17655: 2.875, 17670: 4.166666666666667, 17716: 3.7586206896551726, 17740: 4.0, 17759: 2.0}\n"
     ]
    }
   ],
   "source": [
    "sample_train_averages['movie'] =  get_average_ratings(sample_train_sparse_matrix, of_users=False)\n",
    "print('\\n AVerage rating of movie :',sample_train_averages['movie'])"
   ]
  },
  {
   "cell_type": "markdown",
   "metadata": {
    "colab_type": "text",
    "id": "JLZervrkxrqZ"
   },
   "source": [
    " "
   ]
  },
  {
   "cell_type": "markdown",
   "metadata": {
    "colab_type": "text",
    "id": "xVwLprg-xrqZ"
   },
   "source": [
    "<h2> 4.3 Featurizing data </h2>"
   ]
  },
  {
   "cell_type": "code",
   "execution_count": 101,
   "metadata": {
    "colab": {},
    "colab_type": "code",
    "id": "E85auQgixrqZ",
    "outputId": "c4644c9c-1397-46ea-ddea-59641694ca9e"
   },
   "outputs": [
    {
     "name": "stdout",
     "output_type": "stream",
     "text": [
      "\n",
      " No of ratings in Our Sampled train matrix is : 36017\n",
      "\n",
      "\n",
      " No of ratings in Our Sampled test  matrix is : 7333\n",
      "\n"
     ]
    }
   ],
   "source": [
    "print('\\n No of ratings in Our Sampled train matrix is : {}\\n'.format(sample_train_sparse_matrix.count_nonzero()))\n",
    "print('\\n No of ratings in Our Sampled test  matrix is : {}\\n'.format(sample_test_sparse_matrix.count_nonzero()))"
   ]
  },
  {
   "cell_type": "markdown",
   "metadata": {
    "colab_type": "text",
    "id": "GZ7FYSibxrqc"
   },
   "source": [
    "<h3> 4.3.1 Featurizing data for regression problem </h3>"
   ]
  },
  {
   "cell_type": "markdown",
   "metadata": {
    "colab_type": "text",
    "id": "7ZMRQApaxrqc"
   },
   "source": [
    "<h4> 4.3.1.1 Featurizing train data </h4>"
   ]
  },
  {
   "cell_type": "code",
   "execution_count": 102,
   "metadata": {
    "colab": {},
    "colab_type": "code",
    "id": "jMTXqVR3xrqd"
   },
   "outputs": [],
   "source": [
    "# get users, movies and ratings from our samples train sparse matrix\n",
    "sample_train_users, sample_train_movies, sample_train_ratings = sparse.find(sample_train_sparse_matrix)"
   ]
  },
  {
   "cell_type": "code",
   "execution_count": 104,
   "metadata": {
    "colab": {},
    "colab_type": "code",
    "id": "Hr_gXr0ixrqh",
    "outputId": "51abb095-433c-4404-be97-bbe8311b02f4",
    "scrolled": true
   },
   "outputs": [
    {
     "name": "stdout",
     "output_type": "stream",
     "text": [
      "preparing 36017 tuples for the dataset..\n",
      "\n",
      "Done for 10000 rows----- 0:38:07.607409\n",
      "Done for 20000 rows----- 1:16:15.428604\n",
      "Done for 30000 rows----- 1:54:17.930351\n",
      "2:17:09.837003\n"
     ]
    }
   ],
   "source": [
    "############################################################\n",
    "# It took me almost 10 hours to prepare this train dataset.#\n",
    "############################################################\n",
    "start = datetime.now()\n",
    "if os.path.isfile('reg_train.csv'):\n",
    "    print(\"File already exists you don't have to prepare again...\" )\n",
    "else:\n",
    "    print('preparing {} tuples for the dataset..\\n'.format(len(sample_train_ratings)))\n",
    "    with open('reg_train.csv', mode='w') as reg_data_file:\n",
    "        count = 0\n",
    "        for (user, movie, rating)  in zip(sample_train_users, sample_train_movies, sample_train_ratings):\n",
    "            st = datetime.now()\n",
    "        #     print(user, movie)    \n",
    "            #--------------------- Ratings of \"movie\" by similar users of \"user\" ---------------------\n",
    "            # compute the similar Users of the \"user\"        \n",
    "            user_sim = cosine_similarity(sample_train_sparse_matrix[user], sample_train_sparse_matrix).ravel()\n",
    "            top_sim_users = user_sim.argsort()[::-1][1:] # we are ignoring 'The User' from its similar users.\n",
    "            # get the ratings of most similar users for this movie\n",
    "            top_ratings = sample_train_sparse_matrix[top_sim_users, movie].toarray().ravel()\n",
    "            # we will make it's length \"5\" by adding movie averages to .\n",
    "            top_sim_users_ratings = list(top_ratings[top_ratings != 0][:5])\n",
    "            top_sim_users_ratings.extend([sample_train_averages['movie'][movie]]*(5 - len(top_sim_users_ratings)))\n",
    "        #     print(top_sim_users_ratings, end=\" \")    \n",
    "\n",
    "\n",
    "            #--------------------- Ratings by \"user\"  to similar movies of \"movie\" ---------------------\n",
    "            # compute the similar movies of the \"movie\"        \n",
    "            movie_sim = cosine_similarity(sample_train_sparse_matrix[:,movie].T, sample_train_sparse_matrix.T).ravel()\n",
    "            top_sim_movies = movie_sim.argsort()[::-1][1:] # we are ignoring 'The User' from its similar users.\n",
    "            # get the ratings of most similar movie rated by this user..\n",
    "            top_ratings = sample_train_sparse_matrix[user, top_sim_movies].toarray().ravel()\n",
    "            # we will make it's length \"5\" by adding user averages to.\n",
    "            top_sim_movies_ratings = list(top_ratings[top_ratings != 0][:5])\n",
    "            top_sim_movies_ratings.extend([sample_train_averages['user'][user]]*(5-len(top_sim_movies_ratings))) \n",
    "        #     print(top_sim_movies_ratings, end=\" : -- \")\n",
    "\n",
    "            #-----------------prepare the row to be stores in a file-----------------#\n",
    "            row = list()\n",
    "            row.append(user)\n",
    "            row.append(movie)\n",
    "            # Now add the other features to this data...\n",
    "            row.append(sample_train_averages['global']) # first feature\n",
    "            # next 5 features are similar_users \"movie\" ratings\n",
    "            row.extend(top_sim_users_ratings)\n",
    "            # next 5 features are \"user\" ratings for similar_movies\n",
    "            row.extend(top_sim_movies_ratings)\n",
    "            # Avg_user rating\n",
    "            row.append(sample_train_averages['user'][user])\n",
    "            # Avg_movie rating\n",
    "            row.append(sample_train_averages['movie'][movie])\n",
    "\n",
    "            # finalley, The actual Rating of this user-movie pair...\n",
    "            row.append(rating)\n",
    "            count = count + 1\n",
    "\n",
    "            # add rows to the file opened..\n",
    "            reg_data_file.write(','.join(map(str, row)))\n",
    "            reg_data_file.write('\\n')        \n",
    "            if (count)%10000 == 0:\n",
    "                # print(','.join(map(str, row)))\n",
    "                print(\"Done for {} rows----- {}\".format(count, datetime.now() - start))\n",
    "\n",
    "\n",
    "print(datetime.now() - start)"
   ]
  },
  {
   "cell_type": "markdown",
   "metadata": {
    "colab_type": "text",
    "id": "k3xJ8aWyxrqj"
   },
   "source": [
    "__Reading from the file to make a Train_dataframe__"
   ]
  },
  {
   "cell_type": "code",
   "execution_count": 106,
   "metadata": {
    "colab": {},
    "colab_type": "code",
    "id": "oUs6s6AZxrqj",
    "outputId": "b19997be-2750-4ab7-bd92-8cd23ea2a64e"
   },
   "outputs": [
    {
     "data": {
      "text/html": [
       "<div>\n",
       "<style scoped>\n",
       "    .dataframe tbody tr th:only-of-type {\n",
       "        vertical-align: middle;\n",
       "    }\n",
       "\n",
       "    .dataframe tbody tr th {\n",
       "        vertical-align: top;\n",
       "    }\n",
       "\n",
       "    .dataframe thead th {\n",
       "        text-align: right;\n",
       "    }\n",
       "</style>\n",
       "<table border=\"1\" class=\"dataframe\">\n",
       "  <thead>\n",
       "    <tr style=\"text-align: right;\">\n",
       "      <th></th>\n",
       "      <th>user</th>\n",
       "      <th>movie</th>\n",
       "      <th>GAvg</th>\n",
       "      <th>sur1</th>\n",
       "      <th>sur2</th>\n",
       "      <th>sur3</th>\n",
       "      <th>sur4</th>\n",
       "      <th>sur5</th>\n",
       "      <th>smr1</th>\n",
       "      <th>smr2</th>\n",
       "      <th>smr3</th>\n",
       "      <th>smr4</th>\n",
       "      <th>smr5</th>\n",
       "      <th>UAvg</th>\n",
       "      <th>MAvg</th>\n",
       "      <th>rating</th>\n",
       "    </tr>\n",
       "  </thead>\n",
       "  <tbody>\n",
       "    <tr>\n",
       "      <th>0</th>\n",
       "      <td>808635</td>\n",
       "      <td>71</td>\n",
       "      <td>3.607185</td>\n",
       "      <td>3.0</td>\n",
       "      <td>4.0</td>\n",
       "      <td>4.0</td>\n",
       "      <td>3.0</td>\n",
       "      <td>3.0</td>\n",
       "      <td>3.0</td>\n",
       "      <td>4.0</td>\n",
       "      <td>3.0</td>\n",
       "      <td>3.75</td>\n",
       "      <td>3.75</td>\n",
       "      <td>3.750000</td>\n",
       "      <td>3.285714</td>\n",
       "      <td>5</td>\n",
       "    </tr>\n",
       "    <tr>\n",
       "      <th>1</th>\n",
       "      <td>898730</td>\n",
       "      <td>71</td>\n",
       "      <td>3.607185</td>\n",
       "      <td>3.0</td>\n",
       "      <td>4.0</td>\n",
       "      <td>4.0</td>\n",
       "      <td>3.0</td>\n",
       "      <td>5.0</td>\n",
       "      <td>1.0</td>\n",
       "      <td>4.0</td>\n",
       "      <td>4.0</td>\n",
       "      <td>3.00</td>\n",
       "      <td>4.00</td>\n",
       "      <td>3.133333</td>\n",
       "      <td>3.285714</td>\n",
       "      <td>3</td>\n",
       "    </tr>\n",
       "    <tr>\n",
       "      <th>2</th>\n",
       "      <td>941866</td>\n",
       "      <td>71</td>\n",
       "      <td>3.607185</td>\n",
       "      <td>3.0</td>\n",
       "      <td>4.0</td>\n",
       "      <td>5.0</td>\n",
       "      <td>3.0</td>\n",
       "      <td>3.0</td>\n",
       "      <td>5.0</td>\n",
       "      <td>4.5</td>\n",
       "      <td>4.5</td>\n",
       "      <td>4.50</td>\n",
       "      <td>4.50</td>\n",
       "      <td>4.500000</td>\n",
       "      <td>3.285714</td>\n",
       "      <td>4</td>\n",
       "    </tr>\n",
       "    <tr>\n",
       "      <th>3</th>\n",
       "      <td>1280761</td>\n",
       "      <td>71</td>\n",
       "      <td>3.607185</td>\n",
       "      <td>4.0</td>\n",
       "      <td>3.0</td>\n",
       "      <td>5.0</td>\n",
       "      <td>4.0</td>\n",
       "      <td>3.0</td>\n",
       "      <td>5.0</td>\n",
       "      <td>5.0</td>\n",
       "      <td>5.0</td>\n",
       "      <td>5.00</td>\n",
       "      <td>4.00</td>\n",
       "      <td>3.090909</td>\n",
       "      <td>3.285714</td>\n",
       "      <td>1</td>\n",
       "    </tr>\n",
       "    <tr>\n",
       "      <th>4</th>\n",
       "      <td>1386925</td>\n",
       "      <td>71</td>\n",
       "      <td>3.607185</td>\n",
       "      <td>3.0</td>\n",
       "      <td>4.0</td>\n",
       "      <td>4.0</td>\n",
       "      <td>3.0</td>\n",
       "      <td>5.0</td>\n",
       "      <td>4.0</td>\n",
       "      <td>4.0</td>\n",
       "      <td>4.0</td>\n",
       "      <td>4.00</td>\n",
       "      <td>3.00</td>\n",
       "      <td>3.187500</td>\n",
       "      <td>3.285714</td>\n",
       "      <td>3</td>\n",
       "    </tr>\n",
       "  </tbody>\n",
       "</table>\n",
       "</div>"
      ],
      "text/plain": [
       "      user  movie      GAvg  sur1  sur2  sur3  sur4  sur5  smr1  smr2  smr3  \\\n",
       "0   808635     71  3.607185   3.0   4.0   4.0   3.0   3.0   3.0   4.0   3.0   \n",
       "1   898730     71  3.607185   3.0   4.0   4.0   3.0   5.0   1.0   4.0   4.0   \n",
       "2   941866     71  3.607185   3.0   4.0   5.0   3.0   3.0   5.0   4.5   4.5   \n",
       "3  1280761     71  3.607185   4.0   3.0   5.0   4.0   3.0   5.0   5.0   5.0   \n",
       "4  1386925     71  3.607185   3.0   4.0   4.0   3.0   5.0   4.0   4.0   4.0   \n",
       "\n",
       "   smr4  smr5      UAvg      MAvg  rating  \n",
       "0  3.75  3.75  3.750000  3.285714       5  \n",
       "1  3.00  4.00  3.133333  3.285714       3  \n",
       "2  4.50  4.50  4.500000  3.285714       4  \n",
       "3  5.00  4.00  3.090909  3.285714       1  \n",
       "4  4.00  3.00  3.187500  3.285714       3  "
      ]
     },
     "execution_count": 106,
     "metadata": {},
     "output_type": "execute_result"
    }
   ],
   "source": [
    "reg_train = pd.read_csv('reg_train.csv', names = ['user', 'movie', 'GAvg', 'sur1', 'sur2', 'sur3', 'sur4', 'sur5','smr1', 'smr2', 'smr3', 'smr4', 'smr5', 'UAvg', 'MAvg', 'rating'], header=None)\n",
    "reg_train.head()"
   ]
  },
  {
   "cell_type": "markdown",
   "metadata": {
    "colab_type": "text",
    "id": "e90d1zMCxrql"
   },
   "source": [
    "-----------------------\n",
    "\n",
    "- __GAvg__ : Average rating of all the ratings \n",
    "\n",
    "\n",
    "- __Similar users rating of this movie__:\n",
    "    - sur1, sur2, sur3, sur4, sur5 ( top 5 similar users who rated that movie.. )\n",
    "    \n",
    "\n",
    "\n",
    "- __Similar movies rated by this user__:\n",
    "    - smr1, smr2, smr3, smr4, smr5 ( top 5 similar movies rated by this movie.. )\n",
    "\n",
    "\n",
    "- __UAvg__ : User's Average rating\n",
    "\n",
    "\n",
    "- __MAvg__ : Average rating of this movie\n",
    "\n",
    "\n",
    "- __rating__ : Rating of this movie by this user.\n",
    "\n",
    "-----------------------"
   ]
  },
  {
   "cell_type": "markdown",
   "metadata": {
    "colab_type": "text",
    "id": "kW-WflXTxrqm"
   },
   "source": [
    " "
   ]
  },
  {
   "cell_type": "markdown",
   "metadata": {
    "colab_type": "text",
    "id": "r9vMR-Edxrqm"
   },
   "source": [
    "<h4> 4.3.1.2 Featurizing test data </h4>"
   ]
  },
  {
   "cell_type": "code",
   "execution_count": 107,
   "metadata": {
    "colab": {},
    "colab_type": "code",
    "id": "M2QBhCcMxrqm"
   },
   "outputs": [],
   "source": [
    "# get users, movies and ratings from the Sampled Test \n",
    "sample_test_users, sample_test_movies, sample_test_ratings = sparse.find(sample_test_sparse_matrix)"
   ]
  },
  {
   "cell_type": "code",
   "execution_count": 108,
   "metadata": {
    "colab": {},
    "colab_type": "code",
    "id": "nDL4-uKcxrqo",
    "outputId": "bcb3bc92-eaee-4d85-a547-56a6de5ae9fd",
    "scrolled": true
   },
   "outputs": [
    {
     "data": {
      "text/plain": [
       "3.6071854957381237"
      ]
     },
     "execution_count": 108,
     "metadata": {},
     "output_type": "execute_result"
    }
   ],
   "source": [
    "sample_train_averages['global']"
   ]
  },
  {
   "cell_type": "code",
   "execution_count": 165,
   "metadata": {
    "colab": {},
    "colab_type": "code",
    "id": "CLVejZA3xrqs",
    "outputId": "767f43c5-ad21-43db-c636-4bc220000fa2"
   },
   "outputs": [
    {
     "name": "stdout",
     "output_type": "stream",
     "text": [
      "preparing 7333 tuples for the dataset..\n",
      "\n",
      "Done for 1000 rows----- 0:03:49.224918\n",
      "Done for 2000 rows----- 0:07:39.443069\n",
      "Done for 3000 rows----- 0:11:29.176915\n",
      "Done for 4000 rows----- 0:15:19.558227\n",
      "Done for 5000 rows----- 0:19:09.032166\n",
      "Done for 6000 rows----- 0:22:58.872801\n",
      "Done for 7000 rows----- 0:26:48.450619\n",
      " 0:28:04.704096\n"
     ]
    }
   ],
   "source": [
    "start = datetime.now()\n",
    "\n",
    "if os.path.isfile('reg_test.csv'):\n",
    "    print(\"It is already created...\")\n",
    "else:\n",
    "\n",
    "    print('preparing {} tuples for the dataset..\\n'.format(len(sample_test_ratings)))\n",
    "    with open('reg_test.csv', mode='w') as reg_data_file:\n",
    "        count = 0 \n",
    "        for (user, movie, rating)  in zip(sample_test_users, sample_test_movies, sample_test_ratings):\n",
    "            st = datetime.now()\n",
    "\n",
    "        #--------------------- Ratings of \"movie\" by similar users of \"user\" ---------------------\n",
    "            #print(user, movie)\n",
    "            try:\n",
    "                # compute the similar Users of the \"user\"        \n",
    "                user_sim = cosine_similarity(sample_train_sparse_matrix[user], sample_train_sparse_matrix).ravel()\n",
    "                top_sim_users = user_sim.argsort()[::-1][1:] # we are ignoring 'The User' from its similar users.\n",
    "                # get the ratings of most similar users for this movie\n",
    "                top_ratings = sample_train_sparse_matrix[top_sim_users, movie].toarray().ravel()\n",
    "                # we will make it's length \"5\" by adding movie averages to .\n",
    "                top_sim_users_ratings = list(top_ratings[top_ratings != 0][:5])\n",
    "                top_sim_users_ratings.extend([sample_train_averages['movie'][movie]]*(5 - len(top_sim_users_ratings)))\n",
    "                # print(top_sim_users_ratings, end=\"--\")\n",
    "\n",
    "            except (IndexError, KeyError):\n",
    "                # It is a new User or new Movie or there are no ratings for given user for top similar movies...\n",
    "                ########## Cold STart Problem ##########\n",
    "                top_sim_users_ratings.extend([sample_train_averages['global']]*(5 - len(top_sim_users_ratings)))\n",
    "                #print(top_sim_users_ratings)\n",
    "            except:\n",
    "                print(user, movie)\n",
    "                # we just want KeyErrors to be resolved. Not every Exception...\n",
    "                raise\n",
    "\n",
    "\n",
    "\n",
    "            #--------------------- Ratings by \"user\"  to similar movies of \"movie\" ---------------------\n",
    "            try:\n",
    "                # compute the similar movies of the \"movie\"        \n",
    "                movie_sim = cosine_similarity(sample_train_sparse_matrix[:,movie].T, sample_train_sparse_matrix.T).ravel()\n",
    "                top_sim_movies = movie_sim.argsort()[::-1][1:] # we are ignoring 'The User' from its similar users.\n",
    "                # get the ratings of most similar movie rated by this user..\n",
    "                top_ratings = sample_train_sparse_matrix[user, top_sim_movies].toarray().ravel()\n",
    "                # we will make it's length \"5\" by adding user averages to.\n",
    "                top_sim_movies_ratings = list(top_ratings[top_ratings != 0][:5])\n",
    "                top_sim_movies_ratings.extend([sample_train_averages['user'][user]]*(5-len(top_sim_movies_ratings))) \n",
    "                #print(top_sim_movies_ratings)\n",
    "            except (IndexError, KeyError):\n",
    "                #print(top_sim_movies_ratings, end=\" : -- \")\n",
    "                top_sim_movies_ratings.extend([sample_train_averages['global']]*(5-len(top_sim_movies_ratings)))\n",
    "                #print(top_sim_movies_ratings)\n",
    "            except :\n",
    "                raise\n",
    "\n",
    "            #-----------------prepare the row to be stores in a file-----------------#\n",
    "            row = list()\n",
    "            # add usser and movie name first\n",
    "            row.append(user)\n",
    "            row.append(movie)\n",
    "            row.append(sample_train_averages['global']) # first feature\n",
    "            #print(row)\n",
    "            # next 5 features are similar_users \"movie\" ratings\n",
    "            row.extend(top_sim_users_ratings)\n",
    "            #print(row)\n",
    "            # next 5 features are \"user\" ratings for similar_movies\n",
    "            row.extend(top_sim_movies_ratings)\n",
    "            #print(row)\n",
    "            # Avg_user rating\n",
    "            try:\n",
    "                row.append(sample_train_averages['user'][user])\n",
    "            except KeyError:\n",
    "                row.append(sample_train_averages['global'])\n",
    "            except:\n",
    "                raise\n",
    "            #print(row)\n",
    "            # Avg_movie rating\n",
    "            try:\n",
    "                row.append(sample_train_averages['movie'][movie])\n",
    "            except KeyError:\n",
    "                row.append(sample_train_averages['global'])\n",
    "            except:\n",
    "                raise\n",
    "            #print(row)\n",
    "            # finalley, The actual Rating of this user-movie pair...\n",
    "            row.append(rating)\n",
    "            #print(row)\n",
    "            count = count + 1\n",
    "\n",
    "            # add rows to the file opened..\n",
    "            reg_data_file.write(','.join(map(str, row)))\n",
    "            #print(','.join(map(str, row)))\n",
    "            reg_data_file.write('\\n')        \n",
    "            if (count)%1000 == 0:\n",
    "                #print(','.join(map(str, row)))\n",
    "                print(\"Done for {} rows----- {}\".format(count, datetime.now() - start))\n",
    "    print(\"\",datetime.now() - start)  "
   ]
  },
  {
   "cell_type": "markdown",
   "metadata": {
    "colab_type": "text",
    "id": "RgiFyKukxrqu"
   },
   "source": [
    "__Reading from the file to make a test dataframe __"
   ]
  },
  {
   "cell_type": "code",
   "execution_count": 169,
   "metadata": {
    "colab": {},
    "colab_type": "code",
    "id": "7mhv5Rztxrqv",
    "outputId": "21381d8c-b5da-499d-a1b2-9052b78f2549"
   },
   "outputs": [
    {
     "data": {
      "text/html": [
       "<div>\n",
       "<style scoped>\n",
       "    .dataframe tbody tr th:only-of-type {\n",
       "        vertical-align: middle;\n",
       "    }\n",
       "\n",
       "    .dataframe tbody tr th {\n",
       "        vertical-align: top;\n",
       "    }\n",
       "\n",
       "    .dataframe thead th {\n",
       "        text-align: right;\n",
       "    }\n",
       "</style>\n",
       "<table border=\"1\" class=\"dataframe\">\n",
       "  <thead>\n",
       "    <tr style=\"text-align: right;\">\n",
       "      <th></th>\n",
       "      <th>user</th>\n",
       "      <th>movie</th>\n",
       "      <th>GAvg</th>\n",
       "      <th>sur1</th>\n",
       "      <th>sur2</th>\n",
       "      <th>sur3</th>\n",
       "      <th>sur4</th>\n",
       "      <th>sur5</th>\n",
       "      <th>smr1</th>\n",
       "      <th>smr2</th>\n",
       "      <th>smr3</th>\n",
       "      <th>smr4</th>\n",
       "      <th>smr5</th>\n",
       "      <th>UAvg</th>\n",
       "      <th>MAvg</th>\n",
       "      <th>rating</th>\n",
       "    </tr>\n",
       "  </thead>\n",
       "  <tbody>\n",
       "    <tr>\n",
       "      <th>0</th>\n",
       "      <td>808635</td>\n",
       "      <td>71</td>\n",
       "      <td>3.607185</td>\n",
       "      <td>3.0</td>\n",
       "      <td>4.0</td>\n",
       "      <td>4.0</td>\n",
       "      <td>3.0</td>\n",
       "      <td>3.0</td>\n",
       "      <td>3.0</td>\n",
       "      <td>4.0</td>\n",
       "      <td>3.0</td>\n",
       "      <td>3.75</td>\n",
       "      <td>3.75</td>\n",
       "      <td>3.75</td>\n",
       "      <td>3.285714</td>\n",
       "      <td>5</td>\n",
       "    </tr>\n",
       "    <tr>\n",
       "      <th>1</th>\n",
       "      <td>941866</td>\n",
       "      <td>71</td>\n",
       "      <td>3.607185</td>\n",
       "      <td>3.0</td>\n",
       "      <td>4.0</td>\n",
       "      <td>5.0</td>\n",
       "      <td>3.0</td>\n",
       "      <td>3.0</td>\n",
       "      <td>5.0</td>\n",
       "      <td>4.5</td>\n",
       "      <td>4.5</td>\n",
       "      <td>4.50</td>\n",
       "      <td>4.50</td>\n",
       "      <td>4.50</td>\n",
       "      <td>3.285714</td>\n",
       "      <td>4</td>\n",
       "    </tr>\n",
       "    <tr>\n",
       "      <th>2</th>\n",
       "      <td>1737912</td>\n",
       "      <td>71</td>\n",
       "      <td>3.607185</td>\n",
       "      <td>3.0</td>\n",
       "      <td>5.0</td>\n",
       "      <td>4.0</td>\n",
       "      <td>3.0</td>\n",
       "      <td>3.0</td>\n",
       "      <td>3.0</td>\n",
       "      <td>3.0</td>\n",
       "      <td>3.0</td>\n",
       "      <td>3.00</td>\n",
       "      <td>3.00</td>\n",
       "      <td>3.00</td>\n",
       "      <td>3.285714</td>\n",
       "      <td>3</td>\n",
       "    </tr>\n",
       "    <tr>\n",
       "      <th>3</th>\n",
       "      <td>1849204</td>\n",
       "      <td>71</td>\n",
       "      <td>3.607185</td>\n",
       "      <td>3.0</td>\n",
       "      <td>5.0</td>\n",
       "      <td>4.0</td>\n",
       "      <td>3.0</td>\n",
       "      <td>3.0</td>\n",
       "      <td>4.0</td>\n",
       "      <td>4.0</td>\n",
       "      <td>4.0</td>\n",
       "      <td>4.00</td>\n",
       "      <td>4.00</td>\n",
       "      <td>4.00</td>\n",
       "      <td>3.285714</td>\n",
       "      <td>4</td>\n",
       "    </tr>\n",
       "  </tbody>\n",
       "</table>\n",
       "</div>"
      ],
      "text/plain": [
       "      user  movie      GAvg  sur1  sur2  sur3  sur4  sur5  smr1  smr2  smr3  \\\n",
       "0   808635     71  3.607185   3.0   4.0   4.0   3.0   3.0   3.0   4.0   3.0   \n",
       "1   941866     71  3.607185   3.0   4.0   5.0   3.0   3.0   5.0   4.5   4.5   \n",
       "2  1737912     71  3.607185   3.0   5.0   4.0   3.0   3.0   3.0   3.0   3.0   \n",
       "3  1849204     71  3.607185   3.0   5.0   4.0   3.0   3.0   4.0   4.0   4.0   \n",
       "\n",
       "   smr4  smr5  UAvg      MAvg  rating  \n",
       "0  3.75  3.75  3.75  3.285714       5  \n",
       "1  4.50  4.50  4.50  3.285714       4  \n",
       "2  3.00  3.00  3.00  3.285714       3  \n",
       "3  4.00  4.00  4.00  3.285714       4  "
      ]
     },
     "execution_count": 169,
     "metadata": {},
     "output_type": "execute_result"
    }
   ],
   "source": [
    "reg_test_df = pd.read_csv('reg_test.csv', names = ['user', 'movie', 'GAvg', 'sur1', 'sur2', 'sur3', 'sur4', 'sur5',\n",
    "                                                          'smr1', 'smr2', 'smr3', 'smr4', 'smr5',\n",
    "                                                          'UAvg', 'MAvg', 'rating'], header=None)\n",
    "reg_test_df.head(4)"
   ]
  },
  {
   "cell_type": "markdown",
   "metadata": {
    "colab_type": "text",
    "id": "_vWmzUruxrqx"
   },
   "source": [
    "-----------------------\n",
    "\n",
    "- __GAvg__ : Average rating of all the ratings \n",
    "\n",
    "\n",
    "- __Similar users rating of this movie__:\n",
    "    - sur1, sur2, sur3, sur4, sur5 ( top 5 simiular users who rated that movie.. )\n",
    "    \n",
    "\n",
    "\n",
    "- __Similar movies rated by this user__:\n",
    "    - smr1, smr2, smr3, smr4, smr5 ( top 5 simiular movies rated by this movie.. )\n",
    "\n",
    "\n",
    "- __UAvg__ : User AVerage rating\n",
    "\n",
    "\n",
    "- __MAvg__ : Average rating of this movie\n",
    "\n",
    "\n",
    "- __rating__ : Rating of this movie by this user.\n",
    "\n",
    "-----------------------"
   ]
  },
  {
   "cell_type": "markdown",
   "metadata": {
    "colab_type": "text",
    "id": "QM1iX_xyxrqx"
   },
   "source": [
    " "
   ]
  },
  {
   "cell_type": "markdown",
   "metadata": {
    "colab_type": "text",
    "id": "tLaiV_tZxrqy"
   },
   "source": [
    "<h3> 4.3.2 Transforming data for Surprise models</h3>"
   ]
  },
  {
   "cell_type": "code",
   "execution_count": 113,
   "metadata": {
    "colab": {},
    "colab_type": "code",
    "id": "2d2vQJ5lxrqy"
   },
   "outputs": [],
   "source": [
    "from surprise import Reader, Dataset"
   ]
  },
  {
   "cell_type": "markdown",
   "metadata": {
    "colab_type": "text",
    "id": "YzeK0zA9xrq0"
   },
   "source": [
    "<h4> 4.3.2.1 Transforming train data </h4>"
   ]
  },
  {
   "cell_type": "markdown",
   "metadata": {
    "colab_type": "text",
    "id": "0l0rgL1qxrq1"
   },
   "source": [
    "- We can't give raw data (movie, user, rating) to train the model in Surprise library.\n",
    "\n",
    "\n",
    "- They have a saperate format for TRAIN and TEST data, which will be useful for training the models like SVD, KNNBaseLineOnly....etc..,in Surprise.\n",
    "\n",
    "\n",
    "- We can form the trainset from a file, or from a Pandas  DataFrame. \n",
    "http://surprise.readthedocs.io/en/stable/getting_started.html#load-dom-dataframe-py "
   ]
  },
  {
   "cell_type": "code",
   "execution_count": 114,
   "metadata": {
    "colab": {},
    "colab_type": "code",
    "id": "z9TA98dwxrq1"
   },
   "outputs": [],
   "source": [
    "# It is to specify how to read the dataframe.\n",
    "# for our dataframe, we don't have to specify anything extra..\n",
    "reader = Reader(rating_scale=(1,5))\n",
    "\n",
    "# create the traindata from the dataframe...\n",
    "train_data = Dataset.load_from_df(reg_train[['user', 'movie', 'rating']], reader)\n",
    "\n",
    "# build the trainset from traindata.., It is of dataset format from surprise library..\n",
    "trainset = train_data.build_full_trainset() "
   ]
  },
  {
   "cell_type": "markdown",
   "metadata": {
    "colab_type": "text",
    "id": "6OTXxLz-xrq2"
   },
   "source": [
    "<h4> 4.3.2.2 Transforming test data </h4>"
   ]
  },
  {
   "cell_type": "markdown",
   "metadata": {
    "colab_type": "text",
    "id": "iwKbEi_uxrq2"
   },
   "source": [
    "- Testset is just a list of (user, movie, rating) tuples. (Order in the tuple is impotant) "
   ]
  },
  {
   "cell_type": "code",
   "execution_count": 192,
   "metadata": {
    "colab": {},
    "colab_type": "code",
    "id": "v3jqrt6lxrq2",
    "outputId": "49c6a44b-919e-4463-fd98-51d67647da44"
   },
   "outputs": [
    {
     "data": {
      "text/plain": [
       "[(808635, 71, 5), (941866, 71, 4), (1737912, 71, 3)]"
      ]
     },
     "execution_count": 192,
     "metadata": {},
     "output_type": "execute_result"
    }
   ],
   "source": [
    "testset = list(zip(reg_test_df.user.values, reg_test_df.movie.values, reg_test_df.rating.values))\n",
    "testset[:3]"
   ]
  },
  {
   "cell_type": "markdown",
   "metadata": {
    "colab_type": "text",
    "id": "ZzgDaBL_xrq8"
   },
   "source": [
    "<h2> 4.4 Applying Machine Learning models </h2>"
   ]
  },
  {
   "cell_type": "markdown",
   "metadata": {
    "colab_type": "text",
    "id": "gbgKluZ8xrq9"
   },
   "source": [
    " "
   ]
  },
  {
   "cell_type": "markdown",
   "metadata": {
    "colab_type": "text",
    "id": "YRL_TP7axrq9"
   },
   "source": [
    "-  Global dictionary that stores rmse and mape for all the models....\n",
    "\n",
    "    - It stores the metrics in a dictionary of dictionaries\n",
    "\n",
    "    > __keys__ : model names(string)\n",
    "\n",
    "    > __value__: dict(__key__ : metric, __value__ : value ) "
   ]
  },
  {
   "cell_type": "code",
   "execution_count": 116,
   "metadata": {
    "colab": {},
    "colab_type": "code",
    "id": "9sKjPQMExrq9",
    "outputId": "4813287c-b810-4f5e-87b2-8917d75c28ca"
   },
   "outputs": [
    {
     "data": {
      "text/plain": [
       "({}, {})"
      ]
     },
     "execution_count": 116,
     "metadata": {},
     "output_type": "execute_result"
    }
   ],
   "source": [
    "models_evaluation_train = dict()\n",
    "models_evaluation_test = dict()\n",
    "\n",
    "models_evaluation_train, models_evaluation_test"
   ]
  },
  {
   "cell_type": "markdown",
   "metadata": {
    "colab_type": "text",
    "id": "Ca6rt6ZixrrA"
   },
   "source": [
    " "
   ]
  },
  {
   "cell_type": "markdown",
   "metadata": {
    "colab_type": "text",
    "id": "Cg4ii0eRxrrB"
   },
   "source": [
    " > __Utility functions for running regression models__"
   ]
  },
  {
   "cell_type": "code",
   "execution_count": 149,
   "metadata": {},
   "outputs": [],
   "source": [
    "def tune(x_train,y_train,model):\n",
    "    '''Performing hyperparameter tuning and predicting using best estimators'''\n",
    "    parameters = {'max_depth':[2,3,5,6,8],'n_estimators':[50,100,200,300,500,1000]}\n",
    "    clf = GridSearchCV(model, parameters,scoring='neg_root_mean_squared_error',cv=2,n_jobs=10)\n",
    "    clf.fit(x_train,y_train)\n",
    "    \n",
    "    print(abs(clf.best_score_)) # returning absolute value of neg_rmse best score \n",
    "    print(clf.best_estimator_)  #printing the best estimators for the model\n"
   ]
  },
  {
   "cell_type": "code",
   "execution_count": 118,
   "metadata": {
    "colab": {},
    "colab_type": "code",
    "id": "6h_z36v6xrrE"
   },
   "outputs": [],
   "source": [
    "# to get rmse and mape given actual and predicted ratings..\n",
    "def get_error_metrics(y_true, y_pred):\n",
    "    rmse = np.sqrt(np.mean([ (y_true[i] - y_pred[i])**2 for i in range(len(y_pred)) ]))\n",
    "    mape = np.mean(np.abs( (y_true - y_pred)/y_true )) * 100\n",
    "    return rmse, mape\n",
    "\n",
    "###################################################################\n",
    "###################################################################\n",
    "def run_xgboost(algo,  x_train, y_train, x_test, y_test, verbose=True):\n",
    "    \"\"\"\n",
    "    It will return train_results and test_results\n",
    "    \"\"\"\n",
    "    \n",
    "    # dictionaries for storing train and test results\n",
    "    train_results = dict()\n",
    "    test_results = dict()\n",
    "    \n",
    "    \n",
    "    # fit the model\n",
    "    print('Training the model..')\n",
    "    start =datetime.now()\n",
    "    algo.fit(x_train, y_train, eval_metric = 'rmse')\n",
    "    print('Done. Time taken : {}\\n'.format(datetime.now()-start))\n",
    "    print('Done \\n')\n",
    "\n",
    "    # from the trained model, get the predictions....\n",
    "    print('Evaluating the model with TRAIN data...')\n",
    "    start =datetime.now()\n",
    "    y_train_pred = algo.predict(x_train)\n",
    "    # get the rmse and mape of train data...\n",
    "    rmse_train, mape_train = get_error_metrics(y_train.values, y_train_pred)\n",
    "    \n",
    "    # store the results in train_results dictionary..\n",
    "    train_results = {'rmse': rmse_train,\n",
    "                    'mape' : mape_train,\n",
    "                    'predictions' : y_train_pred}\n",
    "    \n",
    "    #######################################\n",
    "    # get the test data predictions and compute rmse and mape\n",
    "    print('Evaluating Test data')\n",
    "    y_test_pred = algo.predict(x_test) \n",
    "    rmse_test, mape_test = get_error_metrics(y_true=y_test.values, y_pred=y_test_pred)\n",
    "    # store them in our test results dictionary.\n",
    "    test_results = {'rmse': rmse_test,\n",
    "                    'mape' : mape_test,\n",
    "                    'predictions':y_test_pred}\n",
    "    if verbose:\n",
    "        print('\\nTEST DATA')\n",
    "        print('-'*30)\n",
    "        print('RMSE : ', rmse_test)\n",
    "        print('MAPE : ', mape_test)\n",
    "        \n",
    "    # return these train and test results...\n",
    "    return train_results, test_results\n",
    "    "
   ]
  },
  {
   "cell_type": "markdown",
   "metadata": {
    "colab_type": "text",
    "id": "eABdBWP_xrrF"
   },
   "source": [
    "> __Utility functions for Surprise modes__"
   ]
  },
  {
   "cell_type": "code",
   "execution_count": 119,
   "metadata": {
    "colab": {},
    "colab_type": "code",
    "id": "b9B1gLPvxrrG"
   },
   "outputs": [],
   "source": [
    "# it is just to makesure that all of our algorithms should produce same results\n",
    "# everytime they run...\n",
    "\n",
    "my_seed = 15\n",
    "random.seed(my_seed)\n",
    "np.random.seed(my_seed)\n",
    "\n",
    "##########################################################\n",
    "# get  (actual_list , predicted_list) ratings given list \n",
    "# of predictions (prediction is a class in Surprise).    \n",
    "##########################################################\n",
    "def get_ratings(predictions):\n",
    "    actual = np.array([pred.r_ui for pred in predictions])\n",
    "    pred = np.array([pred.est for pred in predictions])\n",
    "    \n",
    "    return actual, pred\n",
    "\n",
    "################################################################\n",
    "# get ''rmse'' and ''mape'' , given list of prediction objecs \n",
    "################################################################\n",
    "def get_errors(predictions, print_them=False):\n",
    "\n",
    "    actual, pred = get_ratings(predictions)\n",
    "    rmse = np.sqrt(np.mean((pred - actual)**2))\n",
    "    mape = np.mean(np.abs(pred - actual)/actual)\n",
    "\n",
    "    return rmse, mape*100\n",
    "\n",
    "##################################################################################\n",
    "# It will return predicted ratings, rmse and mape of both train and test data   #\n",
    "##################################################################################\n",
    "def run_surprise(algo, trainset, testset, verbose=True): \n",
    "    '''\n",
    "        return train_dict, test_dict\n",
    "    \n",
    "        It returns two dictionaries, one for train and the other is for test\n",
    "        Each of them have 3 key-value pairs, which specify ''rmse'', ''mape'', and ''predicted ratings''.\n",
    "    '''\n",
    "    start = datetime.now()\n",
    "    # dictionaries that stores metrics for train and test..\n",
    "    train = dict()\n",
    "    test = dict()\n",
    "    \n",
    "    # train the algorithm with the trainset\n",
    "    st = datetime.now()\n",
    "    print('Training the model...')\n",
    "    algo.fit(trainset)\n",
    "    print('Done. time taken : {} \\n'.format(datetime.now()-st))\n",
    "    \n",
    "    # ---------------- Evaluating train data--------------------#\n",
    "    st = datetime.now()\n",
    "    print('Evaluating the model with train data..')\n",
    "    # get the train predictions (list of prediction class inside Surprise)\n",
    "    train_preds = algo.test(trainset.build_testset())\n",
    "    # get predicted ratings from the train predictions..\n",
    "    train_actual_ratings, train_pred_ratings = get_ratings(train_preds)\n",
    "    # get ''rmse'' and ''mape'' from the train predictions.\n",
    "    train_rmse, train_mape = get_errors(train_preds)\n",
    "    print('time taken : {}'.format(datetime.now()-st))\n",
    "    \n",
    "    if verbose:\n",
    "        print('-'*15)\n",
    "        print('Train Data')\n",
    "        print('-'*15)\n",
    "        print(\"RMSE : {}\\n\\nMAPE : {}\\n\".format(train_rmse, train_mape))\n",
    "    \n",
    "    #store them in the train dictionary\n",
    "    if verbose:\n",
    "        print('adding train results in the dictionary..')\n",
    "    train['rmse'] = train_rmse\n",
    "    train['mape'] = train_mape\n",
    "    train['predictions'] = train_pred_ratings\n",
    "    \n",
    "    #------------ Evaluating Test data---------------#\n",
    "    st = datetime.now()\n",
    "    print('\\nEvaluating for test data...')\n",
    "    # get the predictions( list of prediction classes) of test data\n",
    "    test_preds = algo.test(testset)\n",
    "    # get the predicted ratings from the list of predictions\n",
    "    test_actual_ratings, test_pred_ratings = get_ratings(test_preds)\n",
    "    # get error metrics from the predicted and actual ratings\n",
    "    test_rmse, test_mape = get_errors(test_preds)\n",
    "    print('time taken : {}'.format(datetime.now()-st))\n",
    "    \n",
    "    if verbose:\n",
    "        print('-'*15)\n",
    "        print('Test Data')\n",
    "        print('-'*15)\n",
    "        print(\"RMSE : {}\\n\\nMAPE : {}\\n\".format(test_rmse, test_mape))\n",
    "    # store them in test dictionary\n",
    "    if verbose:\n",
    "        print('storing the test results in test dictionary...')\n",
    "    test['rmse'] = test_rmse\n",
    "    test['mape'] = test_mape\n",
    "    test['predictions'] = test_pred_ratings\n",
    "    \n",
    "    print('\\n'+'-'*45)\n",
    "    print('Total time taken to run this algorithm :', datetime.now() - start)\n",
    "    \n",
    "    # return two dictionaries train and test\n",
    "    return train, test"
   ]
  },
  {
   "cell_type": "markdown",
   "metadata": {
    "colab_type": "text",
    "id": "vlx884YTxrrI"
   },
   "source": [
    " "
   ]
  },
  {
   "cell_type": "markdown",
   "metadata": {
    "colab_type": "text",
    "id": "Jh6CNDb1xrrI"
   },
   "source": [
    "<h3> 4.4.1 XGBoost with initial 13 features </h3>"
   ]
  },
  {
   "cell_type": "code",
   "execution_count": 123,
   "metadata": {
    "colab": {},
    "colab_type": "code",
    "id": "GDMZ35MNxrrJ"
   },
   "outputs": [],
   "source": [
    "import xgboost as xgb\n",
    "import lightgbm as lgbm"
   ]
  },
  {
   "cell_type": "code",
   "execution_count": 170,
   "metadata": {
    "colab": {},
    "colab_type": "code",
    "id": "DoxUdAnFxrrK",
    "outputId": "e2dc745d-84d8-4468-cba2-6417fc5e6277"
   },
   "outputs": [
    {
     "name": "stdout",
     "output_type": "stream",
     "text": [
      "0.7889161775793031\n",
      "LGBMRegressor(boosting_type='gbdt', class_weight=None, colsample_bytree=1.0,\n",
      "              importance_type='split', learning_rate=0.1, max_depth=8,\n",
      "              min_child_samples=20, min_child_weight=0.001, min_split_gain=0.0,\n",
      "              n_estimators=200, n_jobs=-1, num_leaves=31, objective=None,\n",
      "              random_state=15, reg_alpha=0.0, reg_lambda=0.0, silent=True,\n",
      "              subsample=1.0, subsample_for_bin=200000, subsample_freq=0)\n",
      "CPU times: user 3.83 s, sys: 3.72 s, total: 7.55 s\n",
      "Wall time: 15.1 s\n"
     ]
    }
   ],
   "source": [
    "%%time\n",
    "import sklearn\n",
    "from sklearn.model_selection import GridSearchCV\n",
    "# prepare Train data\n",
    "x_train = reg_train.drop(['user','movie','rating'], axis=1)\n",
    "y_train = reg_train['rating']\n",
    "\n",
    "# Prepare Test data\n",
    "x_test = reg_test_df.drop(['user','movie','rating'], axis=1)\n",
    "y_test = reg_test_df['rating']\n",
    "\n",
    "y_train.shape\n",
    "# initialize Our first XGBoost model...\n",
    "first_xgb = lgbm.LGBMRegressor(silent=True,learning_rate=0.1,random_state=15)\n",
    "tune(x_train,y_train,first_xgb)"
   ]
  },
  {
   "cell_type": "code",
   "execution_count": 180,
   "metadata": {
    "scrolled": false
   },
   "outputs": [
    {
     "name": "stdout",
     "output_type": "stream",
     "text": [
      "Training the model..\n",
      "Done. Time taken : 0:00:01.728635\n",
      "\n",
      "Done \n",
      "\n",
      "Evaluating the model with TRAIN data...\n",
      "Evaluating Test data\n",
      "\n",
      "TEST DATA\n",
      "------------------------------\n",
      "RMSE :  0.5706884793878281\n",
      "MAPE :  14.803759938452682\n"
     ]
    },
    {
     "data": {
      "image/png": "[encoded data removed]",
      "text/plain": [
       "<Figure size 432x288 with 1 Axes>"
      ]
     },
     "metadata": {
      "needs_background": "light"
     },
     "output_type": "display_data"
    },
    {
     "name": "stdout",
     "output_type": "stream",
     "text": [
      "CPU times: user 22.9 s, sys: 72 ms, total: 22.9 s\n",
      "Wall time: 2.67 s\n"
     ]
    }
   ],
   "source": [
    "%%time\n",
    "tuned_algo = lgbm.LGBMRegressor(boosting_type='gbdt', class_weight=None, colsample_bytree=1.0,\n",
    "              importance_type='split', learning_rate=0.1, max_depth=6,\n",
    "              min_child_samples=20, min_child_weight=0.001, min_split_gain=0.0,\n",
    "              n_estimators=1000, n_jobs=10, num_leaves=31, objective=None,\n",
    "              random_state=15, reg_alpha=0.0, reg_lambda=0.0, silent=True,\n",
    "              subsample=1.0, subsample_for_bin=200000, subsample_freq=0)\n",
    "train_results, test_results = run_xgboost(tuned_algo, x_train, y_train, x_test, y_test)\n",
    "\n",
    "# store the results in models_evaluations dictionaries\n",
    "models_evaluation_train['first_algo'] = train_results\n",
    "models_evaluation_test['first_algo'] = test_results\n",
    "\n",
    "lgbm.plot_importance(tuned_algo._Booster)\n",
    "plt.show()"
   ]
  },
  {
   "cell_type": "markdown",
   "metadata": {
    "colab_type": "text",
    "id": "DWm7knFrxrrO"
   },
   "source": [
    " "
   ]
  },
  {
   "cell_type": "markdown",
   "metadata": {
    "colab_type": "text",
    "id": "FUG-CnKpxrrP"
   },
   "source": [
    "<h3> 4.4.2 Suprise BaselineModel </h3>\n",
    "    \n"
   ]
  },
  {
   "cell_type": "code",
   "execution_count": 129,
   "metadata": {
    "colab": {},
    "colab_type": "code",
    "id": "UpX853XsxrrQ"
   },
   "outputs": [],
   "source": [
    "from surprise import BaselineOnly "
   ]
  },
  {
   "cell_type": "markdown",
   "metadata": {
    "colab_type": "text",
    "id": "B9FkmEuTxrrR"
   },
   "source": [
    "__Predicted_rating : ( baseline prediction ) __\n",
    "\n",
    "    -  http://surprise.readthedocs.io/en/stable/basic_algorithms.html#surprise.prediction_algorithms.baseline_only.BaselineOnly \n",
    " >$   \\large {\\hat{r}_{ui} = b_{ui} =\\mu + b_u + b_i} $\n",
    "\n",
    "\n",
    "- $\\pmb \\mu $ : Average of all trainings in training data.\n",
    "- $\\pmb b_u$ : User bias\n",
    "- $\\pmb b_i$ : Item bias (movie biases) "
   ]
  },
  {
   "cell_type": "markdown",
   "metadata": {
    "colab_type": "text",
    "id": "ITW64wCDxrrR"
   },
   "source": [
    "__Optimization function ( Least Squares Problem ) __\n",
    "\n",
    "    - http://surprise.readthedocs.io/en/stable/prediction_algorithms.html#baselines-estimates-configuration \n",
    "\n",
    "> $ \\large \\sum_{r_{ui} \\in R_{train}} \\left(r_{ui} - (\\mu + b_u + b_i)\\right)^2 +\n",
    "\\lambda \\left(b_u^2 + b_i^2 \\right).\\text {        [mimimize } {b_u, b_i]}$ "
   ]
  },
  {
   "cell_type": "code",
   "execution_count": 193,
   "metadata": {
    "colab": {},
    "colab_type": "code",
    "id": "Hxg5585nxrrS",
    "outputId": "118c4d00-a202-460b-dd78-a89e664d5570"
   },
   "outputs": [
    {
     "name": "stdout",
     "output_type": "stream",
     "text": [
      "Training the model...\n",
      "Estimating biases using sgd...\n",
      "Done. time taken : 0:00:00.255997 \n",
      "\n",
      "Evaluating the model with train data..\n",
      "time taken : 0:00:00.213714\n",
      "---------------\n",
      "Train Data\n",
      "---------------\n",
      "RMSE : 0.9849554257056824\n",
      "\n",
      "MAPE : 31.59424416203202\n",
      "\n",
      "adding train results in the dictionary..\n",
      "\n",
      "Evaluating for test data...\n",
      "time taken : 0:00:00.041136\n",
      "---------------\n",
      "Test Data\n",
      "---------------\n",
      "RMSE : 0.9724521102442415\n",
      "\n",
      "MAPE : 30.787204629897452\n",
      "\n",
      "storing the test results in test dictionary...\n",
      "\n",
      "---------------------------------------------\n",
      "Total time taken to run this algorithm : 0:00:00.512986\n"
     ]
    }
   ],
   "source": [
    "\n",
    "# options are to specify.., how to compute those user and item biases\n",
    "bsl_options = {'method': 'sgd',\n",
    "               'learning_rate': .001\n",
    "               }\n",
    "bsl_algo = BaselineOnly(bsl_options=bsl_options)\n",
    "# run this algorithm.., It will return the train and test results..\n",
    "bsl_train_results, bsl_test_results = run_surprise(bsl_algo, trainset, testset, verbose=True)\n",
    "\n",
    "\n",
    "# Just store these error metrics in our models_evaluation datastructure\n",
    "models_evaluation_train['bsl_algo'] = bsl_train_results \n",
    "models_evaluation_test['bsl_algo'] = bsl_test_results"
   ]
  },
  {
   "cell_type": "markdown",
   "metadata": {
    "colab_type": "text",
    "id": "64PX9U4FxrrT"
   },
   "source": [
    " "
   ]
  },
  {
   "cell_type": "markdown",
   "metadata": {
    "colab_type": "text",
    "id": "AX3Zrio7xrrU"
   },
   "source": [
    "<h3> 4.4.3 XGBoost with initial 13 features + Surprise Baseline predictor </h3>"
   ]
  },
  {
   "cell_type": "markdown",
   "metadata": {
    "colab_type": "text",
    "id": "ab0DLIymxrrV"
   },
   "source": [
    "__Updating Train Data__"
   ]
  },
  {
   "cell_type": "code",
   "execution_count": 194,
   "metadata": {
    "colab": {},
    "colab_type": "code",
    "id": "eU92pNacxrrV",
    "outputId": "ad5d0309-054c-406d-dc87-c8384a5fbf12"
   },
   "outputs": [
    {
     "data": {
      "text/html": [
       "<div>\n",
       "<style scoped>\n",
       "    .dataframe tbody tr th:only-of-type {\n",
       "        vertical-align: middle;\n",
       "    }\n",
       "\n",
       "    .dataframe tbody tr th {\n",
       "        vertical-align: top;\n",
       "    }\n",
       "\n",
       "    .dataframe thead th {\n",
       "        text-align: right;\n",
       "    }\n",
       "</style>\n",
       "<table border=\"1\" class=\"dataframe\">\n",
       "  <thead>\n",
       "    <tr style=\"text-align: right;\">\n",
       "      <th></th>\n",
       "      <th>user</th>\n",
       "      <th>movie</th>\n",
       "      <th>GAvg</th>\n",
       "      <th>sur1</th>\n",
       "      <th>sur2</th>\n",
       "      <th>sur3</th>\n",
       "      <th>sur4</th>\n",
       "      <th>sur5</th>\n",
       "      <th>smr1</th>\n",
       "      <th>smr2</th>\n",
       "      <th>smr3</th>\n",
       "      <th>smr4</th>\n",
       "      <th>smr5</th>\n",
       "      <th>UAvg</th>\n",
       "      <th>MAvg</th>\n",
       "      <th>rating</th>\n",
       "      <th>bslpr</th>\n",
       "    </tr>\n",
       "  </thead>\n",
       "  <tbody>\n",
       "    <tr>\n",
       "      <th>0</th>\n",
       "      <td>808635</td>\n",
       "      <td>71</td>\n",
       "      <td>3.607185</td>\n",
       "      <td>3.0</td>\n",
       "      <td>4.0</td>\n",
       "      <td>4.0</td>\n",
       "      <td>3.0</td>\n",
       "      <td>3.0</td>\n",
       "      <td>3.0</td>\n",
       "      <td>4.0</td>\n",
       "      <td>3.0</td>\n",
       "      <td>3.75</td>\n",
       "      <td>3.75</td>\n",
       "      <td>3.750000</td>\n",
       "      <td>3.285714</td>\n",
       "      <td>5</td>\n",
       "      <td>3.56758</td>\n",
       "    </tr>\n",
       "    <tr>\n",
       "      <th>1</th>\n",
       "      <td>898730</td>\n",
       "      <td>71</td>\n",
       "      <td>3.607185</td>\n",
       "      <td>3.0</td>\n",
       "      <td>4.0</td>\n",
       "      <td>4.0</td>\n",
       "      <td>3.0</td>\n",
       "      <td>5.0</td>\n",
       "      <td>1.0</td>\n",
       "      <td>4.0</td>\n",
       "      <td>4.0</td>\n",
       "      <td>3.00</td>\n",
       "      <td>4.00</td>\n",
       "      <td>3.133333</td>\n",
       "      <td>3.285714</td>\n",
       "      <td>3</td>\n",
       "      <td>4.18737</td>\n",
       "    </tr>\n",
       "  </tbody>\n",
       "</table>\n",
       "</div>"
      ],
      "text/plain": [
       "     user  movie      GAvg  sur1  sur2  sur3  sur4  sur5  smr1  smr2  smr3  \\\n",
       "0  808635     71  3.607185   3.0   4.0   4.0   3.0   3.0   3.0   4.0   3.0   \n",
       "1  898730     71  3.607185   3.0   4.0   4.0   3.0   5.0   1.0   4.0   4.0   \n",
       "\n",
       "   smr4  smr5      UAvg      MAvg  rating    bslpr  \n",
       "0  3.75  3.75  3.750000  3.285714       5  3.56758  \n",
       "1  3.00  4.00  3.133333  3.285714       3  4.18737  "
      ]
     },
     "execution_count": 194,
     "metadata": {},
     "output_type": "execute_result"
    }
   ],
   "source": [
    "# add our baseline_predicted value as our feature..\n",
    "reg_train['bslpr'] = models_evaluation_train['bsl_algo']['predictions']\n",
    "reg_train.head(2) "
   ]
  },
  {
   "cell_type": "markdown",
   "metadata": {
    "colab_type": "text",
    "id": "ZhhIJM6ExrrW"
   },
   "source": [
    "__Updating Test Data__"
   ]
  },
  {
   "cell_type": "code",
   "execution_count": 196,
   "metadata": {
    "colab": {},
    "colab_type": "code",
    "id": "yKTq0QZrxrrW",
    "outputId": "194d8d7f-a65a-4b67-f2a8-fd80daf2c5f4"
   },
   "outputs": [
    {
     "data": {
      "text/html": [
       "<div>\n",
       "<style scoped>\n",
       "    .dataframe tbody tr th:only-of-type {\n",
       "        vertical-align: middle;\n",
       "    }\n",
       "\n",
       "    .dataframe tbody tr th {\n",
       "        vertical-align: top;\n",
       "    }\n",
       "\n",
       "    .dataframe thead th {\n",
       "        text-align: right;\n",
       "    }\n",
       "</style>\n",
       "<table border=\"1\" class=\"dataframe\">\n",
       "  <thead>\n",
       "    <tr style=\"text-align: right;\">\n",
       "      <th></th>\n",
       "      <th>user</th>\n",
       "      <th>movie</th>\n",
       "      <th>GAvg</th>\n",
       "      <th>sur1</th>\n",
       "      <th>sur2</th>\n",
       "      <th>sur3</th>\n",
       "      <th>sur4</th>\n",
       "      <th>sur5</th>\n",
       "      <th>smr1</th>\n",
       "      <th>smr2</th>\n",
       "      <th>smr3</th>\n",
       "      <th>smr4</th>\n",
       "      <th>smr5</th>\n",
       "      <th>UAvg</th>\n",
       "      <th>MAvg</th>\n",
       "      <th>rating</th>\n",
       "      <th>bslpr</th>\n",
       "    </tr>\n",
       "  </thead>\n",
       "  <tbody>\n",
       "    <tr>\n",
       "      <th>0</th>\n",
       "      <td>808635</td>\n",
       "      <td>71</td>\n",
       "      <td>3.607185</td>\n",
       "      <td>3.0</td>\n",
       "      <td>4.0</td>\n",
       "      <td>4.0</td>\n",
       "      <td>3.0</td>\n",
       "      <td>3.0</td>\n",
       "      <td>3.0</td>\n",
       "      <td>4.0</td>\n",
       "      <td>3.0</td>\n",
       "      <td>3.75</td>\n",
       "      <td>3.75</td>\n",
       "      <td>3.75</td>\n",
       "      <td>3.285714</td>\n",
       "      <td>5</td>\n",
       "      <td>3.567580</td>\n",
       "    </tr>\n",
       "    <tr>\n",
       "      <th>1</th>\n",
       "      <td>941866</td>\n",
       "      <td>71</td>\n",
       "      <td>3.607185</td>\n",
       "      <td>3.0</td>\n",
       "      <td>4.0</td>\n",
       "      <td>5.0</td>\n",
       "      <td>3.0</td>\n",
       "      <td>3.0</td>\n",
       "      <td>5.0</td>\n",
       "      <td>4.5</td>\n",
       "      <td>4.5</td>\n",
       "      <td>4.50</td>\n",
       "      <td>4.50</td>\n",
       "      <td>4.50</td>\n",
       "      <td>3.285714</td>\n",
       "      <td>4</td>\n",
       "      <td>3.603257</td>\n",
       "    </tr>\n",
       "  </tbody>\n",
       "</table>\n",
       "</div>"
      ],
      "text/plain": [
       "     user  movie      GAvg  sur1  sur2  sur3  sur4  sur5  smr1  smr2  smr3  \\\n",
       "0  808635     71  3.607185   3.0   4.0   4.0   3.0   3.0   3.0   4.0   3.0   \n",
       "1  941866     71  3.607185   3.0   4.0   5.0   3.0   3.0   5.0   4.5   4.5   \n",
       "\n",
       "   smr4  smr5  UAvg      MAvg  rating     bslpr  \n",
       "0  3.75  3.75  3.75  3.285714       5  3.567580  \n",
       "1  4.50  4.50  4.50  3.285714       4  3.603257  "
      ]
     },
     "execution_count": 196,
     "metadata": {},
     "output_type": "execute_result"
    }
   ],
   "source": [
    "# add that baseline predicted ratings with Surprise to the test data as well\n",
    "reg_test_df['bslpr']  = models_evaluation_test['bsl_algo']['predictions']\n",
    "\n",
    "reg_test_df.head(2)"
   ]
  },
  {
   "cell_type": "code",
   "execution_count": 197,
   "metadata": {
    "colab": {},
    "colab_type": "code",
    "id": "0z23w_HHxrra",
    "outputId": "e51e11b3-f92e-4af9-dc65-f981eabab9c7",
    "scrolled": false
   },
   "outputs": [
    {
     "name": "stdout",
     "output_type": "stream",
     "text": [
      "0.7942986454701231\n",
      "LGBMRegressor(boosting_type='gbdt', class_weight=None, colsample_bytree=1.0,\n",
      "              importance_type='split', learning_rate=0.1, max_depth=8,\n",
      "              min_child_samples=20, min_child_weight=0.001, min_split_gain=0.0,\n",
      "              n_estimators=200, n_jobs=-1, num_leaves=31, objective=None,\n",
      "              random_state=15, reg_alpha=0.0, reg_lambda=0.0, silent=True,\n",
      "              subsample=1.0, subsample_for_bin=200000, subsample_freq=0)\n",
      "CPU times: user 4.14 s, sys: 3.34 s, total: 7.48 s\n",
      "Wall time: 15.3 s\n"
     ]
    }
   ],
   "source": [
    "%%time\n",
    "# prepare train data\n",
    "x_train = reg_train.drop(['user', 'movie','rating'], axis=1)\n",
    "y_train = reg_train['rating']\n",
    "\n",
    "# Prepare Test data\n",
    "x_test = reg_test_df.drop(['user','movie','rating'], axis=1)\n",
    "y_test = reg_test_df['rating']\n",
    "#hyperparameter tuning \n",
    "tune(x_train,y_train,first_xgb)"
   ]
  },
  {
   "cell_type": "code",
   "execution_count": 200,
   "metadata": {},
   "outputs": [
    {
     "name": "stdout",
     "output_type": "stream",
     "text": [
      "Training the model..\n",
      "Done. Time taken : 0:00:00.396355\n",
      "\n",
      "Done \n",
      "\n",
      "Evaluating the model with TRAIN data...\n",
      "Evaluating Test data\n",
      "\n",
      "TEST DATA\n",
      "------------------------------\n",
      "RMSE :  0.7075379497247428\n",
      "MAPE :  19.564318061457247\n"
     ]
    },
    {
     "data": {
      "image/png": "[encoded data removed]",
      "text/plain": [
       "<Figure size 432x288 with 1 Axes>"
      ]
     },
     "metadata": {
      "needs_background": "light"
     },
     "output_type": "display_data"
    },
    {
     "name": "stdout",
     "output_type": "stream",
     "text": [
      "CPU times: user 5.28 s, sys: 24 ms, total: 5.31 s\n",
      "Wall time: 905 ms\n"
     ]
    }
   ],
   "source": [
    "%%time\n",
    "#predicting the model with tuned parameters\n",
    "algo_new = lgbm.LGBMRegressor(boosting_type='gbdt', class_weight=None, colsample_bytree=1.0,\n",
    "              importance_type='split', learning_rate=0.1, max_depth=8,\n",
    "              min_child_samples=20, min_child_weight=0.001, min_split_gain=0.0,\n",
    "              n_estimators=200, n_jobs=-1, num_leaves=31, objective=None,\n",
    "              random_state=15, reg_alpha=0.0, reg_lambda=0.0, silent=True,\n",
    "              subsample=1.0, subsample_for_bin=200000, subsample_freq=0)\n",
    "\n",
    "train_results, test_results = run_xgboost(algo_new, x_train, y_train, x_test, y_test)\n",
    "\n",
    "# store the results in models_evaluations dictionaries\n",
    "models_evaluation_train['algo_new'] = train_results\n",
    "models_evaluation_test['algo_new'] = test_results\n",
    "\n",
    "lgbm.plot_importance(algo_new._Booster)\n",
    "plt.show()\n"
   ]
  },
  {
   "cell_type": "markdown",
   "metadata": {
    "colab_type": "text",
    "id": "xiJEJeiyxrrc"
   },
   "source": [
    " "
   ]
  },
  {
   "cell_type": "markdown",
   "metadata": {
    "colab_type": "text",
    "id": "1g0yVadzxrrh"
   },
   "source": [
    " "
   ]
  },
  {
   "cell_type": "markdown",
   "metadata": {
    "colab_type": "text",
    "id": "2w39xJPlxrrh"
   },
   "source": [
    "<h3> 4.4.4 Surprise KNNBaseline predictor </h3>"
   ]
  },
  {
   "cell_type": "code",
   "execution_count": 131,
   "metadata": {
    "colab": {},
    "colab_type": "code",
    "id": "QaJlXYiKxrrh"
   },
   "outputs": [],
   "source": [
    "from surprise import KNNBaseline"
   ]
  },
  {
   "cell_type": "markdown",
   "metadata": {
    "colab_type": "text",
    "id": "6cdn8nTgxrrj"
   },
   "source": [
    "- KNN BASELINE\n",
    "    - http://surprise.readthedocs.io/en/stable/knn_inspired.html#surprise.prediction_algorithms.knns.KNNBaseline "
   ]
  },
  {
   "cell_type": "markdown",
   "metadata": {
    "colab_type": "text",
    "id": "2PpzK19dxrrj"
   },
   "source": [
    "- PEARSON_BASELINE SIMILARITY\n",
    "    - http://surprise.readthedocs.io/en/stable/similarities.html#surprise.similarities.pearson_baseline "
   ]
  },
  {
   "cell_type": "markdown",
   "metadata": {
    "colab_type": "text",
    "id": "s7uOgHb7xrrk"
   },
   "source": [
    "- SHRINKAGE\n",
    "    - _2.2 Neighborhood Models_ in http://courses.ischool.berkeley.edu/i290-dm/s11/SECURE/a1-koren.pdf "
   ]
  },
  {
   "cell_type": "markdown",
   "metadata": {
    "colab_type": "text",
    "id": "QFn0o57Lxrrk"
   },
   "source": [
    "- __predicted Rating__ : ( ___ based on User-User similarity ___ )\n",
    "\n",
    "\\begin{align} \\hat{r}_{ui} = b_{ui} + \\frac{ \\sum\\limits_{v \\in N^k_i(u)}\n",
    "\\text{sim}(u, v) \\cdot (r_{vi} - b_{vi})} {\\sum\\limits_{v \\in\n",
    "N^k_i(u)} \\text{sim}(u, v)} \\end{align}\n",
    "\n",
    "- $\\pmb{b_{ui}}$ -  _Baseline prediction_ of (user,movie) rating\n",
    "\n",
    "- $ \\pmb {N_i^k (u)}$ - Set of __K similar__ users (neighbours) of __user (u)__ who rated __movie(i)__  \n",
    "\n",
    "- _sim (u, v)_ - __Similarity__ between users __u and v__  \n",
    "    - Generally, it will be cosine similarity or Pearson correlation coefficient. \n",
    "    - But we use __shrunk Pearson-baseline correlation coefficient__, which is based on the pearsonBaseline similarity ( we take base line predictions instead of mean rating of user/item)\n",
    "       "
   ]
  },
  {
   "cell_type": "markdown",
   "metadata": {
    "colab_type": "text",
    "id": "G1o_o66Cxrrk"
   },
   "source": [
    " "
   ]
  },
  {
   "cell_type": "markdown",
   "metadata": {
    "colab_type": "text",
    "id": "1QCM5rlkxrrl"
   },
   "source": [
    "- __ Predicted rating __ ( based on Item Item similarity ):\n",
    " \\begin{align} \\hat{r}_{ui} = b_{ui} + \\frac{ \\sum\\limits_{j \\in N^k_u(i)}\\text{sim}(i, j) \\cdot (r_{uj} - b_{uj})} {\\sum\\limits_{j \\in N^k_u(j)} \\text{sim}(i, j)} \\end{align}\n",
    "\n",
    "    -  ___Notations follows same as above (user user based predicted rating ) ___"
   ]
  },
  {
   "cell_type": "markdown",
   "metadata": {
    "colab_type": "text",
    "id": "VCI_ZO0uxrrm"
   },
   "source": [
    "  <h4> 4.4.4.1 Surprise KNNBaseline with user user similarities</h4>"
   ]
  },
  {
   "cell_type": "code",
   "execution_count": 201,
   "metadata": {
    "colab": {},
    "colab_type": "code",
    "id": "wzIDc0Z9xrrm",
    "outputId": "3b216a14-66a1-41be-ccdd-586d890a0efd",
    "scrolled": false
   },
   "outputs": [
    {
     "name": "stdout",
     "output_type": "stream",
     "text": [
      "Training the model...\n",
      "Estimating biases using sgd...\n",
      "Computing the pearson_baseline similarity matrix...\n",
      "Done computing similarity matrix.\n",
      "Done. time taken : 0:00:04.953336 \n",
      "\n",
      "Evaluating the model with train data..\n",
      "time taken : 0:00:10.573284\n",
      "---------------\n",
      "Train Data\n",
      "---------------\n",
      "RMSE : 0.1850277402650433\n",
      "\n",
      "MAPE : 4.411377364338394\n",
      "\n",
      "adding train results in the dictionary..\n",
      "\n",
      "Evaluating for test data...\n",
      "time taken : 0:00:01.659460\n",
      "---------------\n",
      "Test Data\n",
      "---------------\n",
      "RMSE : 0.16599875287025806\n",
      "\n",
      "MAPE : 3.877408095400662\n",
      "\n",
      "storing the test results in test dictionary...\n",
      "\n",
      "---------------------------------------------\n",
      "Total time taken to run this algorithm : 0:00:17.187078\n"
     ]
    }
   ],
   "source": [
    "# we specify , how to compute similarities and what to consider with sim_options to our algorithm\n",
    "sim_options = {'user_based' : True,\n",
    "               'name': 'pearson_baseline',\n",
    "               'shrinkage': 100,\n",
    "               'min_support': 2\n",
    "              } \n",
    "# we keep other parameters like regularization parameter and learning_rate as default values.\n",
    "bsl_options = {'method': 'sgd'} \n",
    "\n",
    "knn_bsl_u = KNNBaseline(k=40, sim_options = sim_options, bsl_options = bsl_options)\n",
    "knn_bsl_u_train_results, knn_bsl_u_test_results = run_surprise(knn_bsl_u, trainset, testset, verbose=True)\n",
    "\n",
    "# Just store these error metrics in our models_evaluation datastructure\n",
    "models_evaluation_train['knn_bsl_u'] = knn_bsl_u_train_results \n",
    "models_evaluation_test['knn_bsl_u'] = knn_bsl_u_test_results\n"
   ]
  },
  {
   "cell_type": "markdown",
   "metadata": {
    "colab_type": "text",
    "id": "Kd9yvmiLxrro"
   },
   "source": [
    "<h4> 4.4.4.2 Surprise KNNBaseline with movie movie similarities</h4>"
   ]
  },
  {
   "cell_type": "code",
   "execution_count": 202,
   "metadata": {
    "colab": {},
    "colab_type": "code",
    "id": "XGv1yjv9xrro",
    "outputId": "6e1164ed-6151-49d1-d55a-b6c8e109cf23"
   },
   "outputs": [
    {
     "name": "stdout",
     "output_type": "stream",
     "text": [
      "Training the model...\n",
      "Estimating biases using sgd...\n",
      "Computing the pearson_baseline similarity matrix...\n",
      "Done computing similarity matrix.\n",
      "Done. time taken : 0:00:00.355006 \n",
      "\n",
      "Evaluating the model with train data..\n",
      "time taken : 0:00:01.130263\n",
      "---------------\n",
      "Train Data\n",
      "---------------\n",
      "RMSE : 0.16596723179872885\n",
      "\n",
      "MAPE : 3.581838014223545\n",
      "\n",
      "adding train results in the dictionary..\n",
      "\n",
      "Evaluating for test data...\n",
      "time taken : 0:00:00.283125\n",
      "---------------\n",
      "Test Data\n",
      "---------------\n",
      "RMSE : 0.15643145224029043\n",
      "\n",
      "MAPE : 3.335072714648621\n",
      "\n",
      "storing the test results in test dictionary...\n",
      "\n",
      "---------------------------------------------\n",
      "Total time taken to run this algorithm : 0:00:01.769103\n"
     ]
    }
   ],
   "source": [
    "# we specify , how to compute similarities and what to consider with sim_options to our algorithm\n",
    "\n",
    "# 'user_based' : Fals => this considers the similarities of movies instead of users\n",
    "\n",
    "sim_options = {'user_based' : False,\n",
    "               'name': 'pearson_baseline',\n",
    "               'shrinkage': 100,\n",
    "               'min_support': 2\n",
    "              } \n",
    "# we keep other parameters like regularization parameter and learning_rate as default values.\n",
    "bsl_options = {'method': 'sgd'}\n",
    "\n",
    "\n",
    "knn_bsl_m = KNNBaseline(k=40, sim_options = sim_options, bsl_options = bsl_options)\n",
    "\n",
    "knn_bsl_m_train_results, knn_bsl_m_test_results = run_surprise(knn_bsl_m, trainset, testset, verbose=True)\n",
    "\n",
    "# Just store these error metrics in our models_evaluation datastructure\n",
    "models_evaluation_train['knn_bsl_m'] = knn_bsl_m_train_results \n",
    "models_evaluation_test['knn_bsl_m'] = knn_bsl_m_test_results\n"
   ]
  },
  {
   "cell_type": "markdown",
   "metadata": {
    "colab_type": "text",
    "id": "4fSwE4hxxrrr"
   },
   "source": [
    " "
   ]
  },
  {
   "cell_type": "markdown",
   "metadata": {
    "colab_type": "text",
    "id": "BFN8SP06xrrr"
   },
   "source": [
    "<h3> 4.4.5 XGBoost with initial 13 features + Surprise Baseline predictor + KNNBaseline predictor </h3>"
   ]
  },
  {
   "cell_type": "markdown",
   "metadata": {
    "colab_type": "text",
    "id": "9-S5MhTjxrrr"
   },
   "source": [
    "- - - First we will run XGBoost with predictions from both KNN's ( that uses User\\_User and Item\\_Item similarities along with our previous features.\n",
    "\n",
    " \n",
    "- - - Then we will run XGBoost with just predictions form both knn models and preditions from our baseline model. "
   ]
  },
  {
   "cell_type": "markdown",
   "metadata": {
    "colab_type": "text",
    "id": "DNs8hRmfxrrr"
   },
   "source": [
    "__Preparing Train data __"
   ]
  },
  {
   "cell_type": "code",
   "execution_count": 203,
   "metadata": {
    "colab": {},
    "colab_type": "code",
    "id": "fz7NsHUHxrrr",
    "outputId": "e3025e82-1136-4f0a-8b79-524498c5b46f"
   },
   "outputs": [
    {
     "data": {
      "text/html": [
       "<div>\n",
       "<style scoped>\n",
       "    .dataframe tbody tr th:only-of-type {\n",
       "        vertical-align: middle;\n",
       "    }\n",
       "\n",
       "    .dataframe tbody tr th {\n",
       "        vertical-align: top;\n",
       "    }\n",
       "\n",
       "    .dataframe thead th {\n",
       "        text-align: right;\n",
       "    }\n",
       "</style>\n",
       "<table border=\"1\" class=\"dataframe\">\n",
       "  <thead>\n",
       "    <tr style=\"text-align: right;\">\n",
       "      <th></th>\n",
       "      <th>user</th>\n",
       "      <th>movie</th>\n",
       "      <th>GAvg</th>\n",
       "      <th>sur1</th>\n",
       "      <th>sur2</th>\n",
       "      <th>sur3</th>\n",
       "      <th>sur4</th>\n",
       "      <th>sur5</th>\n",
       "      <th>smr1</th>\n",
       "      <th>smr2</th>\n",
       "      <th>smr3</th>\n",
       "      <th>smr4</th>\n",
       "      <th>smr5</th>\n",
       "      <th>UAvg</th>\n",
       "      <th>MAvg</th>\n",
       "      <th>rating</th>\n",
       "      <th>bslpr</th>\n",
       "      <th>knn_bsl_u</th>\n",
       "      <th>knn_bsl_m</th>\n",
       "    </tr>\n",
       "  </thead>\n",
       "  <tbody>\n",
       "    <tr>\n",
       "      <th>0</th>\n",
       "      <td>808635</td>\n",
       "      <td>71</td>\n",
       "      <td>3.607185</td>\n",
       "      <td>3.0</td>\n",
       "      <td>4.0</td>\n",
       "      <td>4.0</td>\n",
       "      <td>3.0</td>\n",
       "      <td>3.0</td>\n",
       "      <td>3.0</td>\n",
       "      <td>4.0</td>\n",
       "      <td>3.0</td>\n",
       "      <td>3.75</td>\n",
       "      <td>3.75</td>\n",
       "      <td>3.750000</td>\n",
       "      <td>3.285714</td>\n",
       "      <td>5</td>\n",
       "      <td>3.56758</td>\n",
       "      <td>5.000000</td>\n",
       "      <td>5.0</td>\n",
       "    </tr>\n",
       "    <tr>\n",
       "      <th>1</th>\n",
       "      <td>898730</td>\n",
       "      <td>71</td>\n",
       "      <td>3.607185</td>\n",
       "      <td>3.0</td>\n",
       "      <td>4.0</td>\n",
       "      <td>4.0</td>\n",
       "      <td>3.0</td>\n",
       "      <td>5.0</td>\n",
       "      <td>1.0</td>\n",
       "      <td>4.0</td>\n",
       "      <td>4.0</td>\n",
       "      <td>3.00</td>\n",
       "      <td>4.00</td>\n",
       "      <td>3.133333</td>\n",
       "      <td>3.285714</td>\n",
       "      <td>3</td>\n",
       "      <td>4.18737</td>\n",
       "      <td>4.022026</td>\n",
       "      <td>4.0</td>\n",
       "    </tr>\n",
       "  </tbody>\n",
       "</table>\n",
       "</div>"
      ],
      "text/plain": [
       "     user  movie      GAvg  sur1  sur2  sur3  sur4  sur5  smr1  smr2  smr3  \\\n",
       "0  808635     71  3.607185   3.0   4.0   4.0   3.0   3.0   3.0   4.0   3.0   \n",
       "1  898730     71  3.607185   3.0   4.0   4.0   3.0   5.0   1.0   4.0   4.0   \n",
       "\n",
       "   smr4  smr5      UAvg      MAvg  rating    bslpr  knn_bsl_u  knn_bsl_m  \n",
       "0  3.75  3.75  3.750000  3.285714       5  3.56758   5.000000        5.0  \n",
       "1  3.00  4.00  3.133333  3.285714       3  4.18737   4.022026        4.0  "
      ]
     },
     "execution_count": 203,
     "metadata": {},
     "output_type": "execute_result"
    }
   ],
   "source": [
    "# add the predicted values from both knns to this dataframe\n",
    "reg_train['knn_bsl_u'] = models_evaluation_train['knn_bsl_u']['predictions']\n",
    "reg_train['knn_bsl_m'] = models_evaluation_train['knn_bsl_m']['predictions']\n",
    "\n",
    "reg_train.head(2)"
   ]
  },
  {
   "cell_type": "markdown",
   "metadata": {
    "colab_type": "text",
    "id": "v_Hz6_buxrrw"
   },
   "source": [
    "__Preparing Test data  __"
   ]
  },
  {
   "cell_type": "code",
   "execution_count": 204,
   "metadata": {
    "colab": {},
    "colab_type": "code",
    "id": "BQCT1Vaexrrx",
    "outputId": "7137cabd-a1cb-46a6-b64f-937a1d7e407f"
   },
   "outputs": [
    {
     "data": {
      "text/html": [
       "<div>\n",
       "<style scoped>\n",
       "    .dataframe tbody tr th:only-of-type {\n",
       "        vertical-align: middle;\n",
       "    }\n",
       "\n",
       "    .dataframe tbody tr th {\n",
       "        vertical-align: top;\n",
       "    }\n",
       "\n",
       "    .dataframe thead th {\n",
       "        text-align: right;\n",
       "    }\n",
       "</style>\n",
       "<table border=\"1\" class=\"dataframe\">\n",
       "  <thead>\n",
       "    <tr style=\"text-align: right;\">\n",
       "      <th></th>\n",
       "      <th>user</th>\n",
       "      <th>movie</th>\n",
       "      <th>GAvg</th>\n",
       "      <th>sur1</th>\n",
       "      <th>sur2</th>\n",
       "      <th>sur3</th>\n",
       "      <th>sur4</th>\n",
       "      <th>sur5</th>\n",
       "      <th>smr1</th>\n",
       "      <th>smr2</th>\n",
       "      <th>smr3</th>\n",
       "      <th>smr4</th>\n",
       "      <th>smr5</th>\n",
       "      <th>UAvg</th>\n",
       "      <th>MAvg</th>\n",
       "      <th>rating</th>\n",
       "      <th>bslpr</th>\n",
       "      <th>knn_bsl_u</th>\n",
       "      <th>knn_bsl_m</th>\n",
       "    </tr>\n",
       "  </thead>\n",
       "  <tbody>\n",
       "    <tr>\n",
       "      <th>0</th>\n",
       "      <td>808635</td>\n",
       "      <td>71</td>\n",
       "      <td>3.607185</td>\n",
       "      <td>3.0</td>\n",
       "      <td>4.0</td>\n",
       "      <td>4.0</td>\n",
       "      <td>3.0</td>\n",
       "      <td>3.0</td>\n",
       "      <td>3.0</td>\n",
       "      <td>4.0</td>\n",
       "      <td>3.0</td>\n",
       "      <td>3.75</td>\n",
       "      <td>3.75</td>\n",
       "      <td>3.75</td>\n",
       "      <td>3.285714</td>\n",
       "      <td>5</td>\n",
       "      <td>3.567580</td>\n",
       "      <td>5.000000</td>\n",
       "      <td>5.000000</td>\n",
       "    </tr>\n",
       "    <tr>\n",
       "      <th>1</th>\n",
       "      <td>941866</td>\n",
       "      <td>71</td>\n",
       "      <td>3.607185</td>\n",
       "      <td>3.0</td>\n",
       "      <td>4.0</td>\n",
       "      <td>5.0</td>\n",
       "      <td>3.0</td>\n",
       "      <td>3.0</td>\n",
       "      <td>5.0</td>\n",
       "      <td>4.5</td>\n",
       "      <td>4.5</td>\n",
       "      <td>4.50</td>\n",
       "      <td>4.50</td>\n",
       "      <td>4.50</td>\n",
       "      <td>3.285714</td>\n",
       "      <td>4</td>\n",
       "      <td>3.603257</td>\n",
       "      <td>3.993153</td>\n",
       "      <td>4.007877</td>\n",
       "    </tr>\n",
       "  </tbody>\n",
       "</table>\n",
       "</div>"
      ],
      "text/plain": [
       "     user  movie      GAvg  sur1  sur2  sur3  sur4  sur5  smr1  smr2  smr3  \\\n",
       "0  808635     71  3.607185   3.0   4.0   4.0   3.0   3.0   3.0   4.0   3.0   \n",
       "1  941866     71  3.607185   3.0   4.0   5.0   3.0   3.0   5.0   4.5   4.5   \n",
       "\n",
       "   smr4  smr5  UAvg      MAvg  rating     bslpr  knn_bsl_u  knn_bsl_m  \n",
       "0  3.75  3.75  3.75  3.285714       5  3.567580   5.000000   5.000000  \n",
       "1  4.50  4.50  4.50  3.285714       4  3.603257   3.993153   4.007877  "
      ]
     },
     "execution_count": 204,
     "metadata": {},
     "output_type": "execute_result"
    }
   ],
   "source": [
    "reg_test_df['knn_bsl_u'] = models_evaluation_test['knn_bsl_u']['predictions']\n",
    "reg_test_df['knn_bsl_m'] = models_evaluation_test['knn_bsl_m']['predictions']\n",
    "\n",
    "reg_test_df.head(2)"
   ]
  },
  {
   "cell_type": "code",
   "execution_count": 206,
   "metadata": {
    "colab": {},
    "colab_type": "code",
    "id": "wZ2khR0Oxrrz",
    "outputId": "fc95b5f1-6eaf-4398-8015-729096e3629c"
   },
   "outputs": [
    {
     "name": "stdout",
     "output_type": "stream",
     "text": [
      "0.7996521861224373\n",
      "LGBMRegressor(boosting_type='gbdt', class_weight=None, colsample_bytree=1.0,\n",
      "              importance_type='split', learning_rate=0.1, max_depth=8,\n",
      "              min_child_samples=20, min_child_weight=0.001, min_split_gain=0.0,\n",
      "              n_estimators=200, n_jobs=-1, num_leaves=31, objective=None,\n",
      "              random_state=15, reg_alpha=0.0, reg_lambda=0.0, silent=True,\n",
      "              subsample=1.0, subsample_for_bin=200000, subsample_freq=0)\n",
      "CPU times: user 4.46 s, sys: 3.4 s, total: 7.86 s\n",
      "Wall time: 16.7 s\n"
     ]
    }
   ],
   "source": [
    "%%time\n",
    "# prepare the train data....\n",
    "x_train = reg_train.drop(['user', 'movie', 'rating'], axis=1)\n",
    "y_train = reg_train['rating']\n",
    "\n",
    "# prepare the train data....\n",
    "x_test = reg_test_df.drop(['user','movie','rating'], axis=1)\n",
    "y_test = reg_test_df['rating']\n",
    "\n",
    "# declare the model\n",
    "tune(x_train,y_train,first_xgb)"
   ]
  },
  {
   "cell_type": "code",
   "execution_count": 208,
   "metadata": {},
   "outputs": [
    {
     "name": "stdout",
     "output_type": "stream",
     "text": [
      "Training the model..\n",
      "Done. Time taken : 0:00:00.442997\n",
      "\n",
      "Done \n",
      "\n",
      "Evaluating the model with TRAIN data...\n",
      "Evaluating Test data\n",
      "\n",
      "TEST DATA\n",
      "------------------------------\n",
      "RMSE :  0.7166536850788104\n",
      "MAPE :  19.83676156128557\n"
     ]
    },
    {
     "data": {
      "image/png": "[encoded data removed]",
      "text/plain": [
       "<Figure size 432x288 with 1 Axes>"
      ]
     },
     "metadata": {
      "needs_background": "light"
     },
     "output_type": "display_data"
    },
    {
     "name": "stdout",
     "output_type": "stream",
     "text": [
      "CPU times: user 5.75 s, sys: 32 ms, total: 5.78 s\n",
      "Wall time: 953 ms\n"
     ]
    }
   ],
   "source": [
    "%%time\n",
    "algo_new1 = lgbm.LGBMRegressor(boosting_type='gbdt', class_weight=None, colsample_bytree=1.0,\n",
    "              importance_type='split', learning_rate=0.1, max_depth=8,\n",
    "              min_child_samples=20, min_child_weight=0.001, min_split_gain=0.0,\n",
    "              n_estimators=200, n_jobs=-1, num_leaves=31, objective=None,\n",
    "              random_state=15, reg_alpha=0.0, reg_lambda=0.0, silent=True,\n",
    "              subsample=1.0, subsample_for_bin=200000, subsample_freq=0)\n",
    "train_results, test_results = run_xgboost(algo_new1, x_train, y_train, x_test, y_test)\n",
    "\n",
    "# store the results in models_evaluations dictionaries\n",
    "models_evaluation_train['xgb_knn_bsl'] = train_results\n",
    "models_evaluation_test['xgb_knn_bsl'] = test_results\n",
    "\n",
    "\n",
    "lgbm.plot_importance(algo_new1._Booster)\n",
    "plt.show()"
   ]
  },
  {
   "cell_type": "markdown",
   "metadata": {
    "colab_type": "text",
    "id": "kOZ62nT7xrr0"
   },
   "source": [
    "<h3> 4.4.6 Matrix Factorization Techniques </h3>"
   ]
  },
  {
   "cell_type": "markdown",
   "metadata": {
    "colab_type": "text",
    "id": "l8TKj6Ggxrr1"
   },
   "source": [
    "<h4> 4.4.6.1 SVD Matrix Factorization User Movie intractions </h4>"
   ]
  },
  {
   "cell_type": "code",
   "execution_count": 209,
   "metadata": {
    "colab": {},
    "colab_type": "code",
    "id": "PVKeXrzLxrr1"
   },
   "outputs": [],
   "source": [
    "from surprise import SVD"
   ]
  },
  {
   "cell_type": "markdown",
   "metadata": {
    "colab_type": "text",
    "id": "yMjw1PJyxrr3"
   },
   "source": [
    "http://surprise.readthedocs.io/en/stable/matrix_factorization.html#surprise.prediction_algorithms.matrix_factorization.SVD "
   ]
  },
  {
   "cell_type": "markdown",
   "metadata": {
    "colab_type": "text",
    "id": "bQia_R3Lxrr3"
   },
   "source": [
    "- __ Predicted Rating : __\n",
    "    - \n",
    "    - $ \\large  \\hat r_{ui} = \\mu + b_u + b_i + q_i^Tp_u $\n",
    "    \n",
    "        - $\\pmb q_i$ - Representation of item(movie) in latent factor space\n",
    "        \n",
    "        - $\\pmb p_u$ - Representation of user in new latent factor space\n",
    "        \n"
   ]
  },
  {
   "cell_type": "markdown",
   "metadata": {
    "colab_type": "text",
    "id": "C9iP5Kvyxrr3"
   },
   "source": [
    "- A BASIC MATRIX FACTORIZATION MODEL in  https://datajobs.com/data-science-repo/Recommender-Systems-[Netflix].pdf"
   ]
  },
  {
   "cell_type": "markdown",
   "metadata": {
    "colab_type": "text",
    "id": "N4djzeu0xrr3"
   },
   "source": [
    "- __Optimization problem with user item interactions and regularization (to avoid overfitting)__\n",
    "    - \n",
    "    - $\\large \\sum_{r_{ui} \\in R_{train}} \\left(r_{ui} - \\hat{r}_{ui} \\right)^2 +\n",
    "\\lambda\\left(b_i^2 + b_u^2 + ||q_i||^2 + ||p_u||^2\\right) $"
   ]
  },
  {
   "cell_type": "code",
   "execution_count": 210,
   "metadata": {
    "colab": {},
    "colab_type": "code",
    "id": "SDCetsu-xrr3",
    "outputId": "26accf59-7e7b-4973-9e3f-6a47d2a7c32d",
    "scrolled": false
   },
   "outputs": [
    {
     "name": "stdout",
     "output_type": "stream",
     "text": [
      "Training the model...\n",
      "Processing epoch 0\n",
      "Processing epoch 1\n",
      "Processing epoch 2\n",
      "Processing epoch 3\n",
      "Processing epoch 4\n",
      "Processing epoch 5\n",
      "Processing epoch 6\n",
      "Processing epoch 7\n",
      "Processing epoch 8\n",
      "Processing epoch 9\n",
      "Processing epoch 10\n",
      "Processing epoch 11\n",
      "Processing epoch 12\n",
      "Processing epoch 13\n",
      "Processing epoch 14\n",
      "Processing epoch 15\n",
      "Processing epoch 16\n",
      "Processing epoch 17\n",
      "Processing epoch 18\n",
      "Processing epoch 19\n",
      "Done. time taken : 0:00:02.299400 \n",
      "\n",
      "Evaluating the model with train data..\n",
      "time taken : 0:00:00.303641\n",
      "---------------\n",
      "Train Data\n",
      "---------------\n",
      "RMSE : 0.6695653223056354\n",
      "\n",
      "MAPE : 20.622307740969447\n",
      "\n",
      "adding train results in the dictionary..\n",
      "\n",
      "Evaluating for test data...\n",
      "time taken : 0:00:00.073659\n",
      "---------------\n",
      "Test Data\n",
      "---------------\n",
      "RMSE : 0.6571881466926525\n",
      "\n",
      "MAPE : 20.02575606723048\n",
      "\n",
      "storing the test results in test dictionary...\n",
      "\n",
      "---------------------------------------------\n",
      "Total time taken to run this algorithm : 0:00:02.677490\n"
     ]
    }
   ],
   "source": [
    "# initiallize the model\n",
    "svd = SVD(n_factors=100, biased=True, random_state=15, verbose=True)\n",
    "svd_train_results, svd_test_results = run_surprise(svd, trainset, testset, verbose=True)\n",
    "\n",
    "# Just store these error metrics in our models_evaluation datastructure\n",
    "models_evaluation_train['svd'] = svd_train_results \n",
    "models_evaluation_test['svd'] = svd_test_results"
   ]
  },
  {
   "cell_type": "markdown",
   "metadata": {
    "colab_type": "text",
    "id": "ZUujRuPYxrr5"
   },
   "source": [
    " "
   ]
  },
  {
   "cell_type": "markdown",
   "metadata": {
    "colab_type": "text",
    "id": "jmi0We7exrr6"
   },
   "source": [
    "  <h4> 4.4.6.2 SVD Matrix Factorization with implicit feedback from user ( user rated movies ) </h4>"
   ]
  },
  {
   "cell_type": "code",
   "execution_count": 211,
   "metadata": {
    "colab": {},
    "colab_type": "code",
    "id": "-V4gpAlPxrr6"
   },
   "outputs": [],
   "source": [
    "from surprise import SVDpp"
   ]
  },
  {
   "cell_type": "markdown",
   "metadata": {
    "colab_type": "text",
    "id": "SJll_qYrxrr9"
   },
   "source": [
    "- ----->  2.5 Implicit Feedback in http://courses.ischool.berkeley.edu/i290-dm/s11/SECURE/a1-koren.pdf"
   ]
  },
  {
   "cell_type": "markdown",
   "metadata": {
    "colab_type": "text",
    "id": "mbgkdFWUxrr-"
   },
   "source": [
    "- __ Predicted Rating : __\n",
    "    - \n",
    "    - $ \\large \\hat{r}_{ui} = \\mu + b_u + b_i + q_i^T\\left(p_u +\n",
    "    |I_u|^{-\\frac{1}{2}} \\sum_{j \\in I_u}y_j\\right) $ "
   ]
  },
  {
   "cell_type": "markdown",
   "metadata": {
    "colab_type": "text",
    "id": "ACwlEGXixrr-"
   },
   "source": [
    " - $ \\pmb{I_u}$ --- the set of all items rated by user u\n",
    "\n",
    "- $\\pmb{y_j}$ --- Our new set of item factors that capture implicit ratings.  "
   ]
  },
  {
   "cell_type": "markdown",
   "metadata": {
    "colab_type": "text",
    "id": "FCAxmVdfxrr_"
   },
   "source": [
    "- __Optimization problem with user item interactions and regularization (to avoid overfitting)__\n",
    "    - \n",
    "    - $ \\large \\sum_{r_{ui} \\in R_{train}} \\left(r_{ui} - \\hat{r}_{ui} \\right)^2 +\n",
    "\\lambda\\left(b_i^2 + b_u^2 + ||q_i||^2 + ||p_u||^2 + ||y_j||^2\\right) $ "
   ]
  },
  {
   "cell_type": "code",
   "execution_count": 212,
   "metadata": {
    "colab": {},
    "colab_type": "code",
    "id": "Ajw3SQdZxrr_",
    "outputId": "d4a9169f-e5da-4c71-9394-2de56687bad3",
    "scrolled": false
   },
   "outputs": [
    {
     "name": "stdout",
     "output_type": "stream",
     "text": [
      "Training the model...\n",
      " processing epoch 0\n",
      " processing epoch 1\n",
      " processing epoch 2\n",
      " processing epoch 3\n",
      " processing epoch 4\n",
      " processing epoch 5\n",
      " processing epoch 6\n",
      " processing epoch 7\n",
      " processing epoch 8\n",
      " processing epoch 9\n",
      " processing epoch 10\n",
      " processing epoch 11\n",
      " processing epoch 12\n",
      " processing epoch 13\n",
      " processing epoch 14\n",
      " processing epoch 15\n",
      " processing epoch 16\n",
      " processing epoch 17\n",
      " processing epoch 18\n",
      " processing epoch 19\n",
      "Done. time taken : 0:00:18.795949 \n",
      "\n",
      "Evaluating the model with train data..\n",
      "time taken : 0:00:01.206654\n",
      "---------------\n",
      "Train Data\n",
      "---------------\n",
      "RMSE : 0.5812160491261983\n",
      "\n",
      "MAPE : 17.11058770582778\n",
      "\n",
      "adding train results in the dictionary..\n",
      "\n",
      "Evaluating for test data...\n",
      "time taken : 0:00:00.327483\n",
      "---------------\n",
      "Test Data\n",
      "---------------\n",
      "RMSE : 0.5818513515656963\n",
      "\n",
      "MAPE : 17.079536802945626\n",
      "\n",
      "storing the test results in test dictionary...\n",
      "\n",
      "---------------------------------------------\n",
      "Total time taken to run this algorithm : 0:00:20.331011\n"
     ]
    }
   ],
   "source": [
    "# initiallize the model\n",
    "svdpp = SVDpp(n_factors=50, random_state=15, verbose=True)\n",
    "svdpp_train_results, svdpp_test_results = run_surprise(svdpp, trainset, testset, verbose=True)\n",
    "\n",
    "# Just store these error metrics in our models_evaluation datastructure\n",
    "models_evaluation_train['svdpp'] = svdpp_train_results \n",
    "models_evaluation_test['svdpp'] = svdpp_test_results\n"
   ]
  },
  {
   "cell_type": "markdown",
   "metadata": {
    "colab_type": "text",
    "id": "olxsWgLNxrsB"
   },
   "source": [
    " "
   ]
  },
  {
   "cell_type": "markdown",
   "metadata": {
    "colab_type": "text",
    "id": "1Ho6vTM4xrsB"
   },
   "source": [
    " "
   ]
  },
  {
   "cell_type": "markdown",
   "metadata": {
    "colab_type": "text",
    "id": "zAlGZGj_xrsB"
   },
   "source": [
    "<h3> 4.4.7 XgBoost with 13 features + Surprise Baseline + Surprise KNNbaseline + MF Techniques </h3>"
   ]
  },
  {
   "cell_type": "markdown",
   "metadata": {
    "colab_type": "text",
    "id": "woIqb160xrsC"
   },
   "source": [
    "__Preparing Train data__"
   ]
  },
  {
   "cell_type": "code",
   "execution_count": 213,
   "metadata": {
    "colab": {},
    "colab_type": "code",
    "id": "JrQkQ3u3xrsD",
    "outputId": "c33595e6-d05e-4807-e813-1ecd42da5e38",
    "scrolled": false
   },
   "outputs": [
    {
     "data": {
      "text/html": [
       "<div>\n",
       "<style scoped>\n",
       "    .dataframe tbody tr th:only-of-type {\n",
       "        vertical-align: middle;\n",
       "    }\n",
       "\n",
       "    .dataframe tbody tr th {\n",
       "        vertical-align: top;\n",
       "    }\n",
       "\n",
       "    .dataframe thead th {\n",
       "        text-align: right;\n",
       "    }\n",
       "</style>\n",
       "<table border=\"1\" class=\"dataframe\">\n",
       "  <thead>\n",
       "    <tr style=\"text-align: right;\">\n",
       "      <th></th>\n",
       "      <th>user</th>\n",
       "      <th>movie</th>\n",
       "      <th>GAvg</th>\n",
       "      <th>sur1</th>\n",
       "      <th>sur2</th>\n",
       "      <th>sur3</th>\n",
       "      <th>sur4</th>\n",
       "      <th>sur5</th>\n",
       "      <th>smr1</th>\n",
       "      <th>smr2</th>\n",
       "      <th>...</th>\n",
       "      <th>smr4</th>\n",
       "      <th>smr5</th>\n",
       "      <th>UAvg</th>\n",
       "      <th>MAvg</th>\n",
       "      <th>rating</th>\n",
       "      <th>bslpr</th>\n",
       "      <th>knn_bsl_u</th>\n",
       "      <th>knn_bsl_m</th>\n",
       "      <th>svd</th>\n",
       "      <th>svdpp</th>\n",
       "    </tr>\n",
       "  </thead>\n",
       "  <tbody>\n",
       "    <tr>\n",
       "      <th>0</th>\n",
       "      <td>808635</td>\n",
       "      <td>71</td>\n",
       "      <td>3.607185</td>\n",
       "      <td>3.0</td>\n",
       "      <td>4.0</td>\n",
       "      <td>4.0</td>\n",
       "      <td>3.0</td>\n",
       "      <td>3.0</td>\n",
       "      <td>3.0</td>\n",
       "      <td>4.0</td>\n",
       "      <td>...</td>\n",
       "      <td>3.75</td>\n",
       "      <td>3.75</td>\n",
       "      <td>3.750000</td>\n",
       "      <td>3.285714</td>\n",
       "      <td>5</td>\n",
       "      <td>3.56758</td>\n",
       "      <td>5.000000</td>\n",
       "      <td>5.0</td>\n",
       "      <td>3.693581</td>\n",
       "      <td>3.749199</td>\n",
       "    </tr>\n",
       "    <tr>\n",
       "      <th>1</th>\n",
       "      <td>898730</td>\n",
       "      <td>71</td>\n",
       "      <td>3.607185</td>\n",
       "      <td>3.0</td>\n",
       "      <td>4.0</td>\n",
       "      <td>4.0</td>\n",
       "      <td>3.0</td>\n",
       "      <td>5.0</td>\n",
       "      <td>1.0</td>\n",
       "      <td>4.0</td>\n",
       "      <td>...</td>\n",
       "      <td>3.00</td>\n",
       "      <td>4.00</td>\n",
       "      <td>3.133333</td>\n",
       "      <td>3.285714</td>\n",
       "      <td>3</td>\n",
       "      <td>4.18737</td>\n",
       "      <td>4.022026</td>\n",
       "      <td>4.0</td>\n",
       "      <td>4.138753</td>\n",
       "      <td>3.683973</td>\n",
       "    </tr>\n",
       "  </tbody>\n",
       "</table>\n",
       "<p>2 rows × 21 columns</p>\n",
       "</div>"
      ],
      "text/plain": [
       "     user  movie      GAvg  sur1  sur2  sur3  sur4  sur5  smr1  smr2  ...  \\\n",
       "0  808635     71  3.607185   3.0   4.0   4.0   3.0   3.0   3.0   4.0  ...   \n",
       "1  898730     71  3.607185   3.0   4.0   4.0   3.0   5.0   1.0   4.0  ...   \n",
       "\n",
       "   smr4  smr5      UAvg      MAvg  rating    bslpr  knn_bsl_u  knn_bsl_m  \\\n",
       "0  3.75  3.75  3.750000  3.285714       5  3.56758   5.000000        5.0   \n",
       "1  3.00  4.00  3.133333  3.285714       3  4.18737   4.022026        4.0   \n",
       "\n",
       "        svd     svdpp  \n",
       "0  3.693581  3.749199  \n",
       "1  4.138753  3.683973  \n",
       "\n",
       "[2 rows x 21 columns]"
      ]
     },
     "execution_count": 213,
     "metadata": {},
     "output_type": "execute_result"
    }
   ],
   "source": [
    "# add the predicted values from both knns to this dataframe\n",
    "reg_train['svd'] = models_evaluation_train['svd']['predictions']\n",
    "reg_train['svdpp'] = models_evaluation_train['svdpp']['predictions']\n",
    "\n",
    "reg_train.head(2) "
   ]
  },
  {
   "cell_type": "markdown",
   "metadata": {
    "colab_type": "text",
    "id": "T87HaSHExrsE"
   },
   "source": [
    "__Preparing Test data  __"
   ]
  },
  {
   "cell_type": "code",
   "execution_count": 214,
   "metadata": {
    "colab": {},
    "colab_type": "code",
    "id": "5YFZJ6sqxrsE",
    "outputId": "39997a27-2a18-46b8-8b1f-f43f5b502151"
   },
   "outputs": [
    {
     "data": {
      "text/html": [
       "<div>\n",
       "<style scoped>\n",
       "    .dataframe tbody tr th:only-of-type {\n",
       "        vertical-align: middle;\n",
       "    }\n",
       "\n",
       "    .dataframe tbody tr th {\n",
       "        vertical-align: top;\n",
       "    }\n",
       "\n",
       "    .dataframe thead th {\n",
       "        text-align: right;\n",
       "    }\n",
       "</style>\n",
       "<table border=\"1\" class=\"dataframe\">\n",
       "  <thead>\n",
       "    <tr style=\"text-align: right;\">\n",
       "      <th></th>\n",
       "      <th>user</th>\n",
       "      <th>movie</th>\n",
       "      <th>GAvg</th>\n",
       "      <th>sur1</th>\n",
       "      <th>sur2</th>\n",
       "      <th>sur3</th>\n",
       "      <th>sur4</th>\n",
       "      <th>sur5</th>\n",
       "      <th>smr1</th>\n",
       "      <th>smr2</th>\n",
       "      <th>...</th>\n",
       "      <th>smr4</th>\n",
       "      <th>smr5</th>\n",
       "      <th>UAvg</th>\n",
       "      <th>MAvg</th>\n",
       "      <th>rating</th>\n",
       "      <th>bslpr</th>\n",
       "      <th>knn_bsl_u</th>\n",
       "      <th>knn_bsl_m</th>\n",
       "      <th>svd</th>\n",
       "      <th>svdpp</th>\n",
       "    </tr>\n",
       "  </thead>\n",
       "  <tbody>\n",
       "    <tr>\n",
       "      <th>0</th>\n",
       "      <td>808635</td>\n",
       "      <td>71</td>\n",
       "      <td>3.607185</td>\n",
       "      <td>3.0</td>\n",
       "      <td>4.0</td>\n",
       "      <td>4.0</td>\n",
       "      <td>3.0</td>\n",
       "      <td>3.0</td>\n",
       "      <td>3.0</td>\n",
       "      <td>4.0</td>\n",
       "      <td>...</td>\n",
       "      <td>3.75</td>\n",
       "      <td>3.75</td>\n",
       "      <td>3.75</td>\n",
       "      <td>3.285714</td>\n",
       "      <td>5</td>\n",
       "      <td>3.567580</td>\n",
       "      <td>5.000000</td>\n",
       "      <td>5.000000</td>\n",
       "      <td>3.693581</td>\n",
       "      <td>3.749199</td>\n",
       "    </tr>\n",
       "    <tr>\n",
       "      <th>1</th>\n",
       "      <td>941866</td>\n",
       "      <td>71</td>\n",
       "      <td>3.607185</td>\n",
       "      <td>3.0</td>\n",
       "      <td>4.0</td>\n",
       "      <td>5.0</td>\n",
       "      <td>3.0</td>\n",
       "      <td>3.0</td>\n",
       "      <td>5.0</td>\n",
       "      <td>4.5</td>\n",
       "      <td>...</td>\n",
       "      <td>4.50</td>\n",
       "      <td>4.50</td>\n",
       "      <td>4.50</td>\n",
       "      <td>3.285714</td>\n",
       "      <td>4</td>\n",
       "      <td>3.603257</td>\n",
       "      <td>3.993153</td>\n",
       "      <td>4.007877</td>\n",
       "      <td>3.684778</td>\n",
       "      <td>3.673705</td>\n",
       "    </tr>\n",
       "  </tbody>\n",
       "</table>\n",
       "<p>2 rows × 21 columns</p>\n",
       "</div>"
      ],
      "text/plain": [
       "     user  movie      GAvg  sur1  sur2  sur3  sur4  sur5  smr1  smr2  ...  \\\n",
       "0  808635     71  3.607185   3.0   4.0   4.0   3.0   3.0   3.0   4.0  ...   \n",
       "1  941866     71  3.607185   3.0   4.0   5.0   3.0   3.0   5.0   4.5  ...   \n",
       "\n",
       "   smr4  smr5  UAvg      MAvg  rating     bslpr  knn_bsl_u  knn_bsl_m  \\\n",
       "0  3.75  3.75  3.75  3.285714       5  3.567580   5.000000   5.000000   \n",
       "1  4.50  4.50  4.50  3.285714       4  3.603257   3.993153   4.007877   \n",
       "\n",
       "        svd     svdpp  \n",
       "0  3.693581  3.749199  \n",
       "1  3.684778  3.673705  \n",
       "\n",
       "[2 rows x 21 columns]"
      ]
     },
     "execution_count": 214,
     "metadata": {},
     "output_type": "execute_result"
    }
   ],
   "source": [
    "reg_test_df['svd'] = models_evaluation_test['svd']['predictions']\n",
    "reg_test_df['svdpp'] = models_evaluation_test['svdpp']['predictions']\n",
    "\n",
    "reg_test_df.head(2) "
   ]
  },
  {
   "cell_type": "markdown",
   "metadata": {
    "colab_type": "text",
    "id": "t7zUJRT3xrsG"
   },
   "source": [
    " "
   ]
  },
  {
   "cell_type": "code",
   "execution_count": 215,
   "metadata": {
    "colab": {},
    "colab_type": "code",
    "id": "8txfT1mCxrsG",
    "outputId": "83ccbda0-527a-4e09-c9cf-ae86ac1cd7c1",
    "scrolled": false
   },
   "outputs": [
    {
     "name": "stdout",
     "output_type": "stream",
     "text": [
      "0.7996921792139257\n",
      "LGBMRegressor(boosting_type='gbdt', class_weight=None, colsample_bytree=1.0,\n",
      "              importance_type='split', learning_rate=0.1, max_depth=8,\n",
      "              min_child_samples=20, min_child_weight=0.001, min_split_gain=0.0,\n",
      "              n_estimators=200, n_jobs=-1, num_leaves=31, objective=None,\n",
      "              random_state=15, reg_alpha=0.0, reg_lambda=0.0, silent=True,\n",
      "              subsample=1.0, subsample_for_bin=200000, subsample_freq=0)\n",
      "CPU times: user 4.48 s, sys: 36 ms, total: 4.52 s\n",
      "Wall time: 13.7 s\n"
     ]
    }
   ],
   "source": [
    "%%time\n",
    "# prepare x_train and y_train\n",
    "x_train = reg_train.drop(['user', 'movie', 'rating',], axis=1)\n",
    "y_train = reg_train['rating']\n",
    "\n",
    "# prepare test data\n",
    "x_test = reg_test_df.drop(['user', 'movie', 'rating'], axis=1)\n",
    "y_test = reg_test_df['rating']\n",
    "\n",
    "#hyper Parameter tuning\n",
    "tune(x_train,y_train,first_xgb)"
   ]
  },
  {
   "cell_type": "code",
   "execution_count": 216,
   "metadata": {},
   "outputs": [
    {
     "name": "stdout",
     "output_type": "stream",
     "text": [
      "Training the model..\n",
      "Done. Time taken : 0:00:00.470610\n",
      "\n",
      "Done \n",
      "\n",
      "Evaluating the model with TRAIN data...\n",
      "Evaluating Test data\n",
      "\n",
      "TEST DATA\n",
      "------------------------------\n",
      "RMSE :  0.7211012017316449\n",
      "MAPE :  19.970730962549222\n"
     ]
    },
    {
     "data": {
      "image/png": "[encoded data removed]",
      "text/plain": [
       "<Figure size 432x288 with 1 Axes>"
      ]
     },
     "metadata": {
      "needs_background": "light"
     },
     "output_type": "display_data"
    },
    {
     "name": "stdout",
     "output_type": "stream",
     "text": [
      "CPU times: user 6.06 s, sys: 40 ms, total: 6.1 s\n",
      "Wall time: 1.01 s\n"
     ]
    }
   ],
   "source": [
    "%%time\n",
    "#predicting the data using tuned parameters\n",
    "algo_final = lgbm.LGBMRegressor(boosting_type='gbdt', class_weight=None, colsample_bytree=1.0,\n",
    "              importance_type='split', learning_rate=0.1, max_depth=8,\n",
    "              min_child_samples=20, min_child_weight=0.001, min_split_gain=0.0,\n",
    "              n_estimators=200, n_jobs=-1, num_leaves=31, objective=None,\n",
    "              random_state=15, reg_alpha=0.0, reg_lambda=0.0, silent=True,\n",
    "              subsample=1.0, subsample_for_bin=200000, subsample_freq=0)\n",
    "train_results, test_results = run_xgboost(algo_final, x_train, y_train, x_test, y_test)\n",
    "\n",
    "# store the results in models_evaluations dictionaries\n",
    "models_evaluation_train['algo_final'] = train_results\n",
    "models_evaluation_test['algo_final'] = test_results\n",
    "\n",
    "\n",
    "lgbm.plot_importance(algo_final._Booster)\n",
    "plt.show()"
   ]
  },
  {
   "cell_type": "markdown",
   "metadata": {
    "colab_type": "text",
    "id": "NN-0BKnXxrsI"
   },
   "source": [
    "<h3> 4.4.8 XgBoost with Surprise Baseline + Surprise KNNbaseline + MF Techniques </h3>"
   ]
  },
  {
   "cell_type": "code",
   "execution_count": 217,
   "metadata": {
    "colab": {},
    "colab_type": "code",
    "id": "y0RFoUIvxrsI",
    "outputId": "99e75da3-58bf-4b1f-bd65-d8162ee50f20"
   },
   "outputs": [
    {
     "name": "stdout",
     "output_type": "stream",
     "text": [
      "1.1033412791481692\n",
      "LGBMRegressor(boosting_type='gbdt', class_weight=None, colsample_bytree=1.0,\n",
      "              importance_type='split', learning_rate=0.1, max_depth=2,\n",
      "              min_child_samples=20, min_child_weight=0.001, min_split_gain=0.0,\n",
      "              n_estimators=50, n_jobs=-1, num_leaves=31, objective=None,\n",
      "              random_state=15, reg_alpha=0.0, reg_lambda=0.0, silent=True,\n",
      "              subsample=1.0, subsample_for_bin=200000, subsample_freq=0)\n",
      "CPU times: user 592 ms, sys: 12 ms, total: 604 ms\n",
      "Wall time: 9.09 s\n"
     ]
    }
   ],
   "source": [
    "%%time\n",
    "# prepare train data\n",
    "x_train = reg_train[['knn_bsl_u', 'knn_bsl_m', 'svd', 'svdpp']]\n",
    "y_train = reg_train['rating']\n",
    "\n",
    "# test data\n",
    "x_test = reg_test_df[['knn_bsl_u', 'knn_bsl_m', 'svd', 'svdpp']]\n",
    "y_test = reg_test_df['rating']\n",
    "\n",
    "#tuning best model using hyperparameters\n",
    "tune(x_train,y_train,first_xgb)"
   ]
  },
  {
   "cell_type": "code",
   "execution_count": 219,
   "metadata": {},
   "outputs": [
    {
     "name": "stdout",
     "output_type": "stream",
     "text": [
      "Training the model..\n",
      "Done. Time taken : 0:00:00.042547\n",
      "\n",
      "Done \n",
      "\n",
      "Evaluating the model with TRAIN data...\n",
      "Evaluating Test data\n",
      "\n",
      "TEST DATA\n",
      "------------------------------\n",
      "RMSE :  1.0744947763752575\n",
      "MAPE :  35.29992553630213\n"
     ]
    },
    {
     "data": {
      "image/png": "[encoded data removed]",
      "text/plain": [
       "<Figure size 432x288 with 1 Axes>"
      ]
     },
     "metadata": {
      "needs_background": "light"
     },
     "output_type": "display_data"
    },
    {
     "name": "stdout",
     "output_type": "stream",
     "text": [
      "CPU times: user 1.16 s, sys: 0 ns, total: 1.16 s\n",
      "Wall time: 412 ms\n"
     ]
    }
   ],
   "source": [
    "%%time\n",
    "#predicting using tuned parameters\n",
    "algo_final1 = lgbm.LGBMRegressor(boosting_type='gbdt', class_weight=None, colsample_bytree=1.0,\n",
    "              importance_type='split', learning_rate=0.1, max_depth=2,\n",
    "              min_child_samples=20, min_child_weight=0.001, min_split_gain=0.0,\n",
    "              n_estimators=50, n_jobs=-1, num_leaves=31, objective=None,\n",
    "              random_state=15, reg_alpha=0.0, reg_lambda=0.0, silent=True,\n",
    "              subsample=1.0, subsample_for_bin=200000, subsample_freq=0)\n",
    "train_results, test_results = run_xgboost(algo_final1, x_train, y_train, x_test, y_test)\n",
    "\n",
    "# store the results in models_evaluations dictionaries\n",
    "models_evaluation_train['algo_final1'] = train_results\n",
    "models_evaluation_test['algo_final1'] = test_results\n",
    "\n",
    "lgbm.plot_importance(algo_final1._Booster)\n",
    "plt.show()"
   ]
  },
  {
   "cell_type": "markdown",
   "metadata": {
    "colab_type": "text",
    "id": "6aqrjuykxrsQ"
   },
   "source": [
    " "
   ]
  },
  {
   "cell_type": "markdown",
   "metadata": {
    "colab_type": "text",
    "id": "RI_N9U9ZxrsR"
   },
   "source": [
    " "
   ]
  },
  {
   "cell_type": "markdown",
   "metadata": {
    "colab_type": "text",
    "id": "Yd0ye7O1xrsR"
   },
   "source": [
    "<h2> 4.5 Comparision between all models </h2>"
   ]
  },
  {
   "cell_type": "code",
   "execution_count": 221,
   "metadata": {
    "colab": {},
    "colab_type": "code",
    "id": "DxsS3JKnxrsS",
    "outputId": "9124baa4-ff9f-4ab4-c9f4-4d4af70f46f7",
    "scrolled": false
   },
   "outputs": [
    {
     "data": {
      "text/plain": [
       "knn_bsl_m      0.15643145224029043\n",
       "knn_bsl_u      0.16599875287025806\n",
       "first_algo      0.5706884793878281\n",
       "svdpp           0.5818513515656963\n",
       "svd             0.6571881466926525\n",
       "algo_new        0.7075379497247428\n",
       "xgb_knn_bsl     0.7166536850788104\n",
       "algo_final      0.7211012017316449\n",
       "bsl_algo        0.9724521102442415\n",
       "algo_final1     1.0744947763752575\n",
       "Name: rmse, dtype: object"
      ]
     },
     "execution_count": 221,
     "metadata": {},
     "output_type": "execute_result"
    }
   ],
   "source": [
    "# Saving our TEST_RESULTS into a dataframe so that you don't have to run it again\n",
    "pd.DataFrame(models_evaluation_test).to_csv('small_sample_results.csv')\n",
    "models = pd.read_csv('small_sample_results.csv', index_col=0)\n",
    "models.loc['rmse'].sort_values()"
   ]
  },
  {
   "cell_type": "markdown",
   "metadata": {
    "colab_type": "text",
    "id": "NXNT_fUrxrsX"
   },
   "source": [
    " "
   ]
  },
  {
   "cell_type": "code",
   "execution_count": 224,
   "metadata": {
    "colab": {},
    "colab_type": "code",
    "id": "DgllQbkfxrsX",
    "outputId": "530dd853-d632-4187-b1f8-be58f60b5e28",
    "scrolled": true
   },
   "outputs": [
    {
     "name": "stdout",
     "output_type": "stream",
     "text": [
      "----------------------------------------------------------------------------------------------------\n",
      "Total time taken to run this entire notebook ( with saved files) is : 0:00:24.367784\n"
     ]
    }
   ],
   "source": [
    "print(\"-\"*100)\n",
    "print(\"Total time taken to run this entire notebook ( with saved files) is :\",datetime.now()-globalstart)"
   ]
  },
  {
   "cell_type": "markdown",
   "metadata": {},
   "source": [
    "NOTE :\n",
    "1. The globalstart was not uncommented thus the total time taken might not be correct\n",
    "2. The reason for consideration of lightgbm instead of xgboost was that lightgbm outperforms xgboost \n",
    "3. The quality of the metric for recommendation  can be noted in the below summarization section"
   ]
  },
  {
   "cell_type": "markdown",
   "metadata": {
    "colab_type": "text",
    "id": "Av5WS6n2xrsZ"
   },
   "source": [
    "<h1> 5. Assignment </h1>"
   ]
  },
  {
   "cell_type": "markdown",
   "metadata": {
    "colab_type": "text",
    "collapsed": true,
    "id": "JkK0HIzgxrsd"
   },
   "source": [
    "1.Instead of using 10K users and 1K movies to train the above models, use 25K users and 3K movies (or more) to train all of the above models. Report the RMSE and MAPE on the test data using larger amount of data and provide a comparison between various models as shown above.\n",
    "\n",
    "NOTE: Please be patient as some of the code snippets make take many hours to compelte execution.\n",
    "\n",
    "2.Tune hyperparamters of all the Xgboost models above to improve the RMSE."
   ]
  },
  {
   "cell_type": "markdown",
   "metadata": {},
   "source": [
    "# 6.Conclusion:"
   ]
  },
  {
   "cell_type": "code",
   "execution_count": 225,
   "metadata": {},
   "outputs": [
    {
     "name": "stdout",
     "output_type": "stream",
     "text": [
      "+-----------------------------------------------------------------------------------------+------+-------+\n",
      "|                                          Model                                          | RMSE |  MAPE |\n",
      "+-----------------------------------------------------------------------------------------+------+-------+\n",
      "|                            LIGHTGBM with initial 13 features                            | 0.57 |  14.8 |\n",
      "|             LIGHTGBM with initial 13 features + Surprise Baseline predictor             | 0.7  | 19.56 |\n",
      "| LIGHTGBM with initial 13 features + Surprise Baseline predictor + KNNBaseline predictor | 0.72 | 19.84 |\n",
      "|   LIGHTGBM with 13 features + Surprise Baseline + Surprise KNNbaseline + MF Techniques  | 0.72 | 19.97 |\n",
      "|          LIGHTGBM with Surprise Baseline + Surprise KNNbaseline + MF Techniques         | 1.07 | 35.29 |\n",
      "+-----------------------------------------------------------------------------------------+------+-------+\n"
     ]
    }
   ],
   "source": [
    "from prettytable import PrettyTable\n",
    "#summarizing metrics using pretytable\n",
    "pt = PrettyTable()\n",
    "pt.field_names = [\"Model\",\"RMSE\",\"MAPE\"]\n",
    "pt.add_row([\"LIGHTGBM with initial 13 features\",0.57,14.80])\n",
    "pt.add_row([\"LIGHTGBM with initial 13 features + Surprise Baseline predictor\",0.70,19.56])\n",
    "pt.add_row([\"LIGHTGBM with initial 13 features + Surprise Baseline predictor + KNNBaseline predictor\",0.72,19.84])\n",
    "pt.add_row([\"LIGHTGBM with 13 features + Surprise Baseline + Surprise KNNbaseline + MF Techniques\",0.72,19.97])\n",
    "pt.add_row([\"LIGHTGBM with Surprise Baseline + Surprise KNNbaseline + MF Techniques\",1.07,35.29])\n",
    "print(pt)"
   ]
  },
  {
   "cell_type": "code",
   "execution_count": 226,
   "metadata": {
    "colab": {},
    "colab_type": "code",
    "id": "C-s6Laykxrsd",
    "outputId": "83116885-7860-48e2-befd-8eca1bd66286"
   },
   "outputs": [
    {
     "data": {
      "application/javascript": [
       "// Converts integer to roman numeral\n",
       "// https://github.com/kmahelona/ipython_notebook_goodies\n",
       "// https://kmahelona.github.io/ipython_notebook_goodies/ipython_notebook_toc.js\n",
       "function romanize(num) {\n",
       "    var lookup = {M:1000,CM:900,D:500,CD:400,C:100,XC:90,L:50,XL:40,X:10,IX:9,V:5,IV:4,I:1},\n",
       "\troman = '',\n",
       "\t    i;\n",
       "\tfor ( i in lookup ) {\n",
       "\t    while ( num >= lookup[i] ) {\n",
       "\t\troman += i;\n",
       "\t\tnum -= lookup[i];\n",
       "\t    }\n",
       "\t}\n",
       "\treturn roman;\n",
       " }\n",
       "\n",
       "// Builds a <ul> Table of Contents from all <headers> in DOM\n",
       "function createTOC(){\n",
       "    var toc = \"\";\n",
       "    var level = 0;\n",
       "    var levels = {}\n",
       "    $('#toc').html('');\n",
       "\n",
       "    $(\":header\").each(function(i){\n",
       "\t    if (this.id=='tocheading'){return;}\n",
       "        \n",
       "\t    var titleText = this.innerHTML;\n",
       "\t    var openLevel = this.tagName[1];\n",
       "\n",
       "\t    if (levels[openLevel]){\n",
       "\t\tlevels[openLevel] += 1;\n",
       "\t    } else{\n",
       "\t\tlevels[openLevel] = 1;\n",
       "\t    }\n",
       "\n",
       "\t    if (openLevel > level) {\n",
       "\t\ttoc += (new Array(openLevel - level + 1)).join('<ul class=\"toc\">');\n",
       "\t    } else if (openLevel < level) {\n",
       "\t\ttoc += (new Array(level - openLevel + 1)).join(\"</ul>\");\n",
       "\t\tfor (i=level;i>openLevel;i--){levels[i]=0;}\n",
       "\t    }\n",
       "\n",
       "\t    level = parseInt(openLevel);\n",
       "\n",
       "\n",
       "\t    if (this.id==''){this.id = this.innerHTML.replace(/ /g,\"-\")}\n",
       "\t    var anchor = this.id;\n",
       "        \n",
       "\t    toc += '<li><a style=\"text-decoration:none\", href=\"#' + encodeURIComponent(anchor) + '\">' + titleText + '</a></li>';\n",
       "        \n",
       "\t});\n",
       "\n",
       "    \n",
       "    if (level) {\n",
       "\ttoc += (new Array(level + 1)).join(\"</ul>\");\n",
       "    }\n",
       "\n",
       " \n",
       "    $('#toc').append(toc);\n",
       "\n",
       "};\n",
       "\n",
       "// Executes the createToc function\n",
       "setTimeout(function(){createTOC();},100);\n",
       "\n",
       "// Rebuild to TOC every minute\n",
       "setInterval(function(){createTOC();},60000);\n"
      ],
      "text/plain": [
       "<IPython.core.display.Javascript object>"
      ]
     },
     "metadata": {},
     "output_type": "display_data"
    }
   ],
   "source": [
    "%%javascript\n",
    "// Converts integer to roman numeral\n",
    "// https://github.com/kmahelona/ipython_notebook_goodies\n",
    "// https://kmahelona.github.io/ipython_notebook_goodies/ipython_notebook_toc.js\n",
    "function romanize(num) {\n",
    "    var lookup = {M:1000,CM:900,D:500,CD:400,C:100,XC:90,L:50,XL:40,X:10,IX:9,V:5,IV:4,I:1},\n",
    "\troman = '',\n",
    "\t    i;\n",
    "\tfor ( i in lookup ) {\n",
    "\t    while ( num >= lookup[i] ) {\n",
    "\t\troman += i;\n",
    "\t\tnum -= lookup[i];\n",
    "\t    }\n",
    "\t}\n",
    "\treturn roman;\n",
    " }\n",
    "\n",
    "// Builds a <ul> Table of Contents from all <headers> in DOM\n",
    "function createTOC(){\n",
    "    var toc = \"\";\n",
    "    var level = 0;\n",
    "    var levels = {}\n",
    "    $('#toc').html('');\n",
    "\n",
    "    $(\":header\").each(function(i){\n",
    "\t    if (this.id=='tocheading'){return;}\n",
    "        \n",
    "\t    var titleText = this.innerHTML;\n",
    "\t    var openLevel = this.tagName[1];\n",
    "\n",
    "\t    if (levels[openLevel]){\n",
    "\t\tlevels[openLevel] += 1;\n",
    "\t    } else{\n",
    "\t\tlevels[openLevel] = 1;\n",
    "\t    }\n",
    "\n",
    "\t    if (openLevel > level) {\n",
    "\t\ttoc += (new Array(openLevel - level + 1)).join('<ul class=\"toc\">');\n",
    "\t    } else if (openLevel < level) {\n",
    "\t\ttoc += (new Array(level - openLevel + 1)).join(\"</ul>\");\n",
    "\t\tfor (i=level;i>openLevel;i--){levels[i]=0;}\n",
    "\t    }\n",
    "\n",
    "\t    level = parseInt(openLevel);\n",
    "\n",
    "\n",
    "\t    if (this.id==''){this.id = this.innerHTML.replace(/ /g,\"-\")}\n",
    "\t    var anchor = this.id;\n",
    "        \n",
    "\t    toc += '<li><a style=\"text-decoration:none\", href=\"#' + encodeURIComponent(anchor) + '\">' + titleText + '</a></li>';\n",
    "        \n",
    "\t});\n",
    "\n",
    "    \n",
    "    if (level) {\n",
    "\ttoc += (new Array(level + 1)).join(\"</ul>\");\n",
    "    }\n",
    "\n",
    " \n",
    "    $('#toc').append(toc);\n",
    "\n",
    "};\n",
    "\n",
    "// Executes the createToc function\n",
    "setTimeout(function(){createTOC();},100);\n",
    "\n",
    "// Rebuild to TOC every minute\n",
    "setInterval(function(){createTOC();},60000);"
   ]
  }
 ],
 "metadata": {
  "colab": {
   "name": "Copy of Netflix_Movie.ipynb",
   "provenance": [
    {
     "file_id": "1Y8nYlG54R_ofX4UIrMCrynjMh1G8Ofbr",
     "timestamp": 1579327415859
    }
   ]
  },
  "kernelspec": {
   "display_name": "Python 3",
   "language": "python",
   "name": "python3"
  },
  "language_info": {
   "codemirror_mode": {
    "name": "ipython",
    "version": 3
   },
   "file_extension": ".py",
   "mimetype": "text/x-python",
   "name": "python",
   "nbconvert_exporter": "python",
   "pygments_lexer": "ipython3",
   "version": "3.7.4"
  }
 },
 "nbformat": 4,
 "nbformat_minor": 1
}
